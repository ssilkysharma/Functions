{
  "nbformat": 4,
  "nbformat_minor": 0,
  "metadata": {
    "colab": {
      "provenance": []
    },
    "kernelspec": {
      "name": "python3",
      "display_name": "Python 3"
    },
    "language_info": {
      "name": "python"
    }
  },
  "cells": [
    {
      "cell_type": "code",
      "execution_count": null,
      "metadata": {
        "id": "GWP1n4FSU7WA"
      },
      "outputs": [],
      "source": []
    },
    {
      "cell_type": "markdown",
      "source": [
        "1.\tWhat is the difference between a function and a method in Python?\n",
        "Ans:A function is a block of code defined using the def keyword that performs a specific task. It operates independently and is not tied to any object or class.Usage: Functions can be called directly by their name, without the need for an object. They can accept parameters and return values.Example:"
      ],
      "metadata": {
        "id": "y-tmS6MVVEaX"
      }
    },
    {
      "cell_type": "markdown",
      "source": [
        "\n"
      ],
      "metadata": {
        "id": "c11tNoxrVK0y"
      }
    },
    {
      "cell_type": "code",
      "source": [],
      "metadata": {
        "id": "-io6XonVVZHE"
      },
      "execution_count": null,
      "outputs": []
    },
    {
      "cell_type": "code",
      "source": [
        "def add(a, b):\n",
        "    return a + b\n",
        "\n",
        "result = add(3, 5)\n",
        "print(result)"
      ],
      "metadata": {
        "colab": {
          "base_uri": "https://localhost:8080/"
        },
        "id": "GL94hTK0Ve1t",
        "outputId": "1b4ce585-77a5-4f85-d438-448fe73936e2"
      },
      "execution_count": 1,
      "outputs": [
        {
          "output_type": "stream",
          "name": "stdout",
          "text": [
            "8\n"
          ]
        }
      ]
    },
    {
      "cell_type": "markdown",
      "source": [
        "A method is a function that is associated with an object or class. It is defined within a class and operates on instances (objects) of that class.Usage: Methods are called on an object using dot notation (object.method()). They often have an implicit first parameter, typically named self, which refers to the instance of the class.Example"
      ],
      "metadata": {
        "id": "xRKZWYbbVoxL"
      }
    },
    {
      "cell_type": "code",
      "source": [
        "class Calculator:\n",
        "    def __init__(self):\n",
        "        self.result = 0\n",
        "\n",
        "    def add(self, a, b):\n",
        "        self.result = a + b\n",
        "        return self.result\n",
        "\n",
        "calc = Calculator()\n",
        "result = calc.add(3, 5)\n",
        "print(result)\n"
      ],
      "metadata": {
        "colab": {
          "base_uri": "https://localhost:8080/"
        },
        "id": "YGq_U_lNVohL",
        "outputId": "be14d408-dbfc-417e-8b02-6446e5868bac"
      },
      "execution_count": 2,
      "outputs": [
        {
          "output_type": "stream",
          "name": "stdout",
          "text": [
            "8\n"
          ]
        }
      ]
    },
    {
      "cell_type": "markdown",
      "source": [
        "2.\tExplain the concept of function arguments and parameters in Python.\n",
        "ANS:These are the fundamental concepts that define how data is passed into functions.Parameters are variables defined in a function's declaration. They act as placeholders for the values that will be passed to the function when it is called.E"
      ],
      "metadata": {
        "id": "4bhlgup2V7Gs"
      }
    },
    {
      "cell_type": "code",
      "source": [
        "def greet(name):  # 'name' is a parameter\n",
        "    print(f\"Hello, {name}!\")"
      ],
      "metadata": {
        "id": "yIsBsYFxVtx-"
      },
      "execution_count": 5,
      "outputs": []
    },
    {
      "cell_type": "markdown",
      "source": [
        "Arguments are the actual values or expressions passed to a function when it        is called. These values replace the parameters during the function's execution"
      ],
      "metadata": {
        "id": "QL_VacnjWYKe"
      }
    },
    {
      "cell_type": "code",
      "source": [
        "greet(\"Alice\")  # \"Alice\" is an argument"
      ],
      "metadata": {
        "colab": {
          "base_uri": "https://localhost:8080/"
        },
        "id": "2NzB8ZHeWGm5",
        "outputId": "18ef3e33-5aaa-499e-8fd4-84568d626cf7"
      },
      "execution_count": 6,
      "outputs": [
        {
          "output_type": "stream",
          "name": "stdout",
          "text": [
            "Hello, Alice!\n"
          ]
        }
      ]
    },
    {
      "cell_type": "code",
      "source": [],
      "metadata": {
        "id": "zQEZjqCFWcxb"
      },
      "execution_count": null,
      "outputs": []
    },
    {
      "cell_type": "markdown",
      "source": [
        "3.\tWhat are the different ways to define and call a function in Python?Ans: In Python, functions can be defined and called in several ways:\n",
        "1. Standard Function Definition\n",
        "Define a function, using the def keyword, followed by the function name, parentheses for arguments, and a colon. The function body is indented below\n"
      ],
      "metadata": {
        "id": "kqT1qQ4aWhcc"
      }
    },
    {
      "cell_type": "code",
      "source": [
        "def add(x, y):\n",
        "    return x + y\n",
        "\n",
        "result = add(5, 3) # Calling the function\n",
        "print(result)\n"
      ],
      "metadata": {
        "colab": {
          "base_uri": "https://localhost:8080/"
        },
        "id": "msARQBYXWwIW",
        "outputId": "ed21d49a-f8ec-48ea-dc70-489a1be78e1a"
      },
      "execution_count": 7,
      "outputs": [
        {
          "output_type": "stream",
          "name": "stdout",
          "text": [
            "8\n"
          ]
        }
      ]
    },
    {
      "cell_type": "markdown",
      "source": [],
      "metadata": {
        "id": "WjPrfBjOWVyn"
      }
    },
    {
      "cell_type": "markdown",
      "source": [
        "2. Lambda Functions (Anonymous Functions)\n",
        "Lambda functions are small, anonymous functions defined using the lambda keyword. They can take any number of arguments but can only have one expression."
      ],
      "metadata": {
        "id": "NdgDfs8hW5Tf"
      }
    },
    {
      "cell_type": "code",
      "source": [
        "multiply = lambda x, y: x * y\n",
        "\n",
        "result = multiply(4, 6) # Calling the lambda function\n",
        "print(result)"
      ],
      "metadata": {
        "colab": {
          "base_uri": "https://localhost:8080/"
        },
        "id": "6JjMGOrDW_7e",
        "outputId": "64a75cdd-f24f-4320-b2e5-5e82f28360b7"
      },
      "execution_count": 8,
      "outputs": [
        {
          "output_type": "stream",
          "name": "stdout",
          "text": [
            "24\n"
          ]
        }
      ]
    },
    {
      "cell_type": "markdown",
      "source": [
        "3. Nested Functions\n",
        "Functions can be defined inside other functions. The inner function has access to the outer function's variables."
      ],
      "metadata": {
        "id": "vwnYIV-JXLPs"
      }
    },
    {
      "cell_type": "code",
      "source": [
        "def outer_function(x):\n",
        "    def inner_function(y):\n",
        "        return x + y\n",
        "    return inner_function\n",
        "\n",
        "add_five = outer_function(5)\n",
        "result = add_five(3) # Calling the inner function through the returned closure\n",
        "print(result) #"
      ],
      "metadata": {
        "colab": {
          "base_uri": "https://localhost:8080/"
        },
        "id": "YJukJn6PXO_T",
        "outputId": "c6cd06f0-17c6-451b-9c03-8f5f32e0d02e"
      },
      "execution_count": 9,
      "outputs": [
        {
          "output_type": "stream",
          "name": "stdout",
          "text": [
            "8\n"
          ]
        }
      ]
    },
    {
      "cell_type": "markdown",
      "source": [
        "4. Recursive Functions\n",
        "A function can call itself, which is known as recursion. This is useful for solving problems that can be broken down into smaller, self-similar subproblems."
      ],
      "metadata": {
        "id": "htjeGEGQXU58"
      }
    },
    {
      "cell_type": "code",
      "source": [
        "def factorial(n):\n",
        "    if n == 0:\n",
        "        return 1\n",
        "    else:\n",
        "        return n * factorial(n - 1)\n",
        "\n",
        "result = factorial(5) # Calling the recursive function\n",
        "print(result)"
      ],
      "metadata": {
        "colab": {
          "base_uri": "https://localhost:8080/"
        },
        "id": "8sCurJhNXXtu",
        "outputId": "fc4164ac-dfa4-4656-802b-12516f54d9fa"
      },
      "execution_count": 10,
      "outputs": [
        {
          "output_type": "stream",
          "name": "stdout",
          "text": [
            "120\n"
          ]
        }
      ]
    },
    {
      "cell_type": "markdown",
      "source": [
        "5. Functions with Default Arguments\n",
        "You can provide default values for function arguments, which are used if the caller doesn't provide them."
      ],
      "metadata": {
        "id": "UagFkhMxXefa"
      }
    },
    {
      "cell_type": "code",
      "source": [
        "def greet(name=\"Guest\"):\n",
        "    return \"Hello, \" + name\n",
        "\n",
        "print(greet()) # Output: Hello, Guest\n",
        "print(greet(\"Alice\"))"
      ],
      "metadata": {
        "colab": {
          "base_uri": "https://localhost:8080/"
        },
        "id": "YWCHKgGrXh99",
        "outputId": "8ee7c2b8-5e23-41bf-826d-f743b5d807f6"
      },
      "execution_count": 11,
      "outputs": [
        {
          "output_type": "stream",
          "name": "stdout",
          "text": [
            "Hello, Guest\n",
            "Hello, Alice\n"
          ]
        }
      ]
    },
    {
      "cell_type": "markdown",
      "source": [],
      "metadata": {
        "id": "dtwU1y3CXstQ"
      }
    },
    {
      "cell_type": "markdown",
      "source": [
        "4.\tWhat is the purpose of the `return` statement in a Python function?\n",
        "Ans: Function Output: The return statement enables a function to produce a result that can be used in expressions or assigned to variables.\n"
      ],
      "metadata": {
        "id": "HFdQ0kbEXxCC"
      }
    },
    {
      "cell_type": "code",
      "source": [
        " def add(a, b):\n",
        "    return a + b\n",
        "result = add(3, 5)\n",
        "print(result)\n"
      ],
      "metadata": {
        "colab": {
          "base_uri": "https://localhost:8080/"
        },
        "id": "ePzJlsseX1Sa",
        "outputId": "d16c7d23-6aae-4d99-9c99-f5626330b410"
      },
      "execution_count": 12,
      "outputs": [
        {
          "output_type": "stream",
          "name": "stdout",
          "text": [
            "8\n"
          ]
        }
      ]
    },
    {
      "cell_type": "markdown",
      "source": [
        "Single Return: A function can have multiple return statements, but only one will be executed during a single function call.\n",
        "No Return: If a function does not have a return statement, it returns None by default."
      ],
      "metadata": {
        "id": "CuFGmkJ5X6Ky"
      }
    },
    {
      "cell_type": "code",
      "source": [
        "def add(a, b):\n",
        "    print(a + b)  # Displays output but doesn't return it\n",
        "\n",
        "result = add(3, 5)\n",
        "print(result)\n"
      ],
      "metadata": {
        "colab": {
          "base_uri": "https://localhost:8080/"
        },
        "id": "gqh2qzroX-KO",
        "outputId": "46dadb87-c6ff-42dd-fea6-4eb248ae55ef"
      },
      "execution_count": 13,
      "outputs": [
        {
          "output_type": "stream",
          "name": "stdout",
          "text": [
            "8\n",
            "None\n"
          ]
        }
      ]
    },
    {
      "cell_type": "markdown",
      "source": [
        "5.\tWhat are iterators in Python and how do they differ from iterables?\n",
        "Ans: An iterator is an object, which is used to iterate over an iterable object using the __next__()  method. Iterators have the __next__() method, which returns the next item of the object.\n",
        " Every iterator is also an iterable, but not every iterable is an iterator in Python.\n",
        "For example, a list is iterable but a list is not an iterator. An iterator can be created from an iterable by using the function iter(). To make this possible, the class of an object needs either a method __iter__, which returns an iterator, or a __getitem__method with sequential indexes starting with 0."
      ],
      "metadata": {
        "id": "GyqlsaXBYEGw"
      }
    },
    {
      "cell_type": "code",
      "source": [
        "print(next(s))\n",
        "print(next(s))\n",
        "print(next(s))\n",
        "print(next(s))\n",
        "print(next(s))"
      ],
      "metadata": {
        "colab": {
          "base_uri": "https://localhost:8080/"
        },
        "id": "rJmjL1tlYRNQ",
        "outputId": "4c650391-64cb-496d-fbf1-5ff11387fd26"
      },
      "execution_count": 15,
      "outputs": [
        {
          "output_type": "stream",
          "name": "stdout",
          "text": [
            "S\n",
            "I\n",
            "L\n",
            "K\n",
            "I\n"
          ]
        }
      ]
    },
    {
      "cell_type": "markdown",
      "source": [
        "6.\tExplain the concept of generators in Python and how they are defined.Ans: A generator function is a special type of function that returns an iterator object. Instead of using return to send back a single value, generator functions use yield to produce a series of results over time. This allows the function to generate values and pause its execution after each yield, maintaining its state between iterations."
      ],
      "metadata": {
        "id": "IJwCWmqgYcKG"
      }
    },
    {
      "cell_type": "code",
      "source": [
        "def fun(max):\n",
        "    cnt = 1\n",
        "    while cnt <= max:\n",
        "        yield cnt\n",
        "        cnt += 1\n",
        "\n",
        "ctr = fun(6)\n",
        "for n in ctr:\n",
        "    print(n)"
      ],
      "metadata": {
        "colab": {
          "base_uri": "https://localhost:8080/"
        },
        "id": "Q6oUy1qjYgtM",
        "outputId": "16ef239d-45f3-4504-90ff-4a2c597378bc"
      },
      "execution_count": 16,
      "outputs": [
        {
          "output_type": "stream",
          "name": "stdout",
          "text": [
            "1\n",
            "2\n",
            "3\n",
            "4\n",
            "5\n",
            "6\n"
          ]
        }
      ]
    },
    {
      "cell_type": "markdown",
      "source": [
        "7.\tWhat are the advantages of using generators over regular functions?\n",
        "Ans:Generators offer several advantages over regular functions, primarily related to memory efficiency and lazy evaluation. Unlike regular functions that return a complete result set, generators produce values one at a time, allowing for efficient handling of large datasets or infinite sequences without exhausting memory. This \"lazy evaluation\" means processing only the data needed at the moment, and resuming from where the generator left off when called again.\n"
      ],
      "metadata": {
        "id": "nAK50ZaWYlMF"
      }
    },
    {
      "cell_type": "markdown",
      "source": [
        "8.\tWhat is a lambda function in Python and when is it typically used?\n",
        " Ans: lambda arguments: expression\n",
        "a lambda function is a concise way to define small, anonymous functions using the lambda keyword. These functions are particularly useful for short-term operations where a full function definition might be unnecessary\n"
      ],
      "metadata": {
        "id": "6gpEE13KYq12"
      }
    },
    {
      "cell_type": "code",
      "source": [
        "square = lambda x: x ** 2\n",
        "print(square(35))"
      ],
      "metadata": {
        "colab": {
          "base_uri": "https://localhost:8080/"
        },
        "id": "hRbMBo6BYunA",
        "outputId": "ee0cf00a-37d7-4371-8800-87ca476a13a4"
      },
      "execution_count": 17,
      "outputs": [
        {
          "output_type": "stream",
          "name": "stdout",
          "text": [
            "1225\n"
          ]
        }
      ]
    },
    {
      "cell_type": "markdown",
      "source": [
        "9.\tExplain the purpose and usage of the `map()` function in Python.\n",
        "Ans: The map() function returns a map object, which is an iterator. To obtain a list or another collection, you can pass the map object to the list(), tuple(), or set() constructor.\n"
      ],
      "metadata": {
        "id": "4pQJcwBCYzcv"
      }
    },
    {
      "cell_type": "code",
      "source": [
        "numbers = [1, 2, 3, 4, 5]"
      ],
      "metadata": {
        "id": "U2CYZURwY2AO"
      },
      "execution_count": 20,
      "outputs": []
    },
    {
      "cell_type": "code",
      "source": [
        "squared = map(lambda x: x ** 2, numbers)"
      ],
      "metadata": {
        "id": "duNuUPJ-Zi9e"
      },
      "execution_count": 21,
      "outputs": []
    },
    {
      "cell_type": "code",
      "source": [
        "print(list(squared))"
      ],
      "metadata": {
        "colab": {
          "base_uri": "https://localhost:8080/"
        },
        "id": "KdigEz4UZmz6",
        "outputId": "c65c7f9f-4a81-4e33-adb9-c9acaafaa6cc"
      },
      "execution_count": 22,
      "outputs": [
        {
          "output_type": "stream",
          "name": "stdout",
          "text": [
            "[1, 4, 9, 16, 25]\n"
          ]
        }
      ]
    },
    {
      "cell_type": "markdown",
      "source": [
        "10.\tWhat is the difference between `map()`, `reduce()`, and `filter()` functions in Python Ans:       Syntax: map(fun, iter)\n",
        "Parameters:\n",
        "•\tfun: It is a function to which map passes each element of given iterable.\n",
        "•\titer: iterable object to be mapped.\n",
        "Syntax: filter(function, sequence)\n",
        "Parameters:\n",
        "function: function that tests if each element of a sequence is true or not.\n",
        "sequence: sequence which needs to be filtered, it can be sets, lists, tuples, or containers of any iterators.\n",
        "Syntax: reduce(func, iterable[, initial])\n",
        "Parameters:\n",
        "fun: It is a function to execute on each element of the iterable object.\n",
        "iter: It is iterable to be reduced"
      ],
      "metadata": {
        "id": "t3RmH3HcZq3E"
      }
    },
    {
      "cell_type": "markdown",
      "source": [],
      "metadata": {
        "id": "5FqKGTbmeZkp"
      }
    },
    {
      "cell_type": "markdown",
      "source": [
        ".\n",
        "11. Using pen & Paper write the internal mechanism for sum operation using  reduce function on this given\n",
        "list:[47,11,42,13];"
      ],
      "metadata": {
        "id": "SZziht5Jeo8e"
      }
    },
    {
      "cell_type": "markdown",
      "source": [
        "# New section![sol.jpg](data:image/jpeg;base64,/9j/4AAQSkZJRgABAQEAAAAAAAD/4TDKRXhpZgAATU0AKgAAAAgABAExAAIAAAALAAAQSodpAAQAAAABAAAQVoglAAQAAAABAAAgouocAAcAABAMAAAAPgAAAAAc6gAAABAAAAAAAAAAAAAAAAAAAAAAAAAAAAAAAAAAAAAAAAAAAAAAAAAAAAAAAAAAAAAAAAAAAAAAAAAAAAAAAAAAAAAAAAAAAAAAAAAAAAAAAAAAAAAAAAAAAAAAAAAAAAAAAAAAAAAAAAAAAAAAAAAAAAAAAAAAAAAAAAAAAAAAAAAAAAAAAAAAAAAAAAAAAAAAAAAAAAAAAAAAAAAAAAAAAAAAAAAAAAAAAAAAAAAAAAAAAAAAAAAAAAAAAAAAAAAAAAAAAAAAAAAAAAAAAAAAAAAAAAAAAAAAAAAAAAAAAAAAAAAAAAAAAAAAAAAAAAAAAAAAAAAAAAAAAAAAAAAAAAAAAAAAAAAAAAAAAAAAAAAAAAAAAAAAAAAAAAAAAAAAAAAAAAAAAAAAAAAAAAAAAAAAAAAAAAAAAAAAAAAAAAAAAAAAAAAAAAAAAAAAAAAAAAAAAAAAAAAAAAAAAAAAAAAAAAAAAAAAAAAAAAAAAAAAAAAAAAAAAAAAAAAAAAAAAAAAAAAAAAAAAAAAAAAAAAAAAAAAAAAAAAAAAAAAAAAAAAAAAAAAAAAAAAAAAAAAAAAAAAAAAAAAAAAAAAAAAAAAAAAAAAAAAAAAAAAAAAAAAAAAAAAAAAAAAAAAAAAAAAAAAAAAAAAAAAAAAAAAAAAAAAAAAAAAAAAAAAAAAAAAAAAAAAAAAAAAAAAAAAAAAAAAAAAAAAAAAAAAAAAAAAAAAAAAAAAAAAAAAAAAAAAAAAAAAAAAAAAAAAAAAAAAAAAAAAAAAAAAAAAAAAAAAAAAAAAAAAAAAAAAAAAAAAAAAAAAAAAAAAAAAAAAAAAAAAAAAAAAAAAAAAAAAAAAAAAAAAAAAAAAAAAAAAAAAAAAAAAAAAAAAAAAAAAAAAAAAAAAAAAAAAAAAAAAAAAAAAAAAAAAAAAAAAAAAAAAAAAAAAAAAAAAAAAAAAAAAAAAAAAAAAAAAAAAAAAAAAAAAAAAAAAAAAAAAAAAAAAAAAAAAAAAAAAAAAAAAAAAAAAAAAAAAAAAAAAAAAAAAAAAAAAAAAAAAAAAAAAAAAAAAAAAAAAAAAAAAAAAAAAAAAAAAAAAAAAAAAAAAAAAAAAAAAAAAAAAAAAAAAAAAAAAAAAAAAAAAAAAAAAAAAAAAAAAAAAAAAAAAAAAAAAAAAAAAAAAAAAAAAAAAAAAAAAAAAAAAAAAAAAAAAAAAAAAAAAAAAAAAAAAAAAAAAAAAAAAAAAAAAAAAAAAAAAAAAAAAAAAAAAAAAAAAAAAAAAAAAAAAAAAAAAAAAAAAAAAAAAAAAAAAAAAAAAAAAAAAAAAAAAAAAAAAAAAAAAAAAAAAAAAAAAAAAAAAAAAAAAAAAAAAAAAAAAAAAAAAAAAAAAAAAAAAAAAAAAAAAAAAAAAAAAAAAAAAAAAAAAAAAAAAAAAAAAAAAAAAAAAAAAAAAAAAAAAAAAAAAAAAAAAAAAAAAAAAAAAAAAAAAAAAAAAAAAAAAAAAAAAAAAAAAAAAAAAAAAAAAAAAAAAAAAAAAAAAAAAAAAAAAAAAAAAAAAAAAAAAAAAAAAAAAAAAAAAAAAAAAAAAAAAAAAAAAAAAAAAAAAAAAAAAAAAAAAAAAAAAAAAAAAAAAAAAAAAAAAAAAAAAAAAAAAAAAAAAAAAAAAAAAAAAAAAAAAAAAAAAAAAAAAAAAAAAAAAAAAAAAAAAAAAAAAAAAAAAAAAAAAAAAAAAAAAAAAAAAAAAAAAAAAAAAAAAAAAAAAAAAAAAAAAAAAAAAAAAAAAAAAAAAAAAAAAAAAAAAAAAAAAAAAAAAAAAAAAAAAAAAAAAAAAAAAAAAAAAAAAAAAAAAAAAAAAAAAAAAAAAAAAAAAAAAAAAAAAAAAAAAAAAAAAAAAAAAAAAAAAAAAAAAAAAAAAAAAAAAAAAAAAAAAAAAAAAAAAAAAAAAAAAAAAAAAAAAAAAAAAAAAAAAAAAAAAAAAAAAAAAAAAAAAAAAAAAAAAAAAAAAAAAAAAAAAAAAAAAAAAAAAAAAAAAAAAAAAAAAAAAAAAAAAAAAAAAAAAAAAAAAAAAAAAAAAAAAAAAAAAAAAAAAAAAAAAAAAAAAAAAAAAAAAAAAAAAAAAAAAAAAAAAAAAAAAAAAAAAAAAAAAAAAAAAAAAAAAAAAAAAAAAAAAAAAAAAAAAAAAAAAAAAAAAAAAAAAAAAAAAAAAAAAAAAAAAAAAAAAAAAAAAAAAAAAAAAAAAAAAAAAAAAAAAAAAAAAAAAAAAAAAAAAAAAAAAAAAAAAAAAAAAAAAAAAAAAAAAAAAAAAAAAAAAAAAAAAAAAAAAAAAAAAAAAAAAAAAAAAAAAAAAAAAAAAAAAAAAAAAAAAAAAAAAAAAAAAAAAAAAAAAAAAAAAAAAAAAAAAAAAAAAAAAAAAAAAAAAAAAAAAAAAAAAAAAAAAAAAAAAAAAAAAAAAAAAAAAAAAAAAAAAAAAAAAAAAAAAAAAAAAAAAAAAAAAAAAAAAAAAAAAAAAAAAAAAAAAAAAAAAAAAAAAAAAAAAAAAAAAAAAAAAAAAAAAAAAAAAAAAAAAAAAAAAAAAAAAAAAAAAAAAAAAAAAAAAAAAAAAAAAAAAAAAAAAAAAAAAAAAAAAAAAAAAAAAAAAAAAAAAAAAAAAAAAAAAAAAAAAAAAAAAAAAAAAAAAAAAAAAAAAAAAAAAAAAAAAAAAAAAAAAAAAAAAAAAAAAAAAAAAAAAAAAAAAAAAAAAAAAAAAAAAAAAAAAAAAAAAAAAAAAAAAAAAAAAAAAAAAAAAAAAAAAAAAAAAAAAAAAAAAAAAAAAAAAAAAAAAAAAAAAAAAAAAAAAAAAAAAAAAAAAAAAAAAAAAAAAAAAAAAAAAAAAAAAAAAAAAAAAAAAAAAAAAAAAAAAAAAAAAAAAAAAAAAAAAAAAAAAAAAAAAAAAAAAAAAAAAAAAAAAAAAAAAAAAAAAAAAAAAAAAAAAAAAAAAAAAAAAAAAAAAAAAAAAAAAAAAAAAAAAAAAAAAAAAAAAAAAAAAAAAAAAAAAAAAAAAAAAAAAAAAAAAAAAAAAAAAAAAAAAAAAAAAAAAAAAAAAAAAAAAAAAAAAAAAAAAAAAAAAAAAAAAAAAAAAAAAAAAAAAAAAAAAAAAAAAAAAAAAAAAAAAAAAAAAAAAAAAAAAAAAAAAAAAAAAAAAAAAAAAAAAAAAAAAAAAAAAAAAAAAAAAAAAAAAAAAAAAAAAAAAAAAAAAAAAAAAAAAAAAAAAAAAAAAAAAAAAAAAAAAAAAAAAAAAAAAAAAAAAAAAAAAAAAAAAAAAAAAAAAAAAAAAAAAAAAAAAAAAAAAAAAAAAAAAAAAAAAAAAAAAAAAAAAAAAAAAAAAAAAAAAAAAAAAAAAAAAAAAAAAAAAAAAAAAAAAAAAAAAAAAAAAAAAAAAAAAAAAAAAAAAAAAAAAAAAAAAAAAAAAAAAAAAAAAAAAAAAAAAAAAAAAAAAAAAAAAAAAAAAAAAAAAAAAAAAAAAAAAAAAAAAAAAAAAAAAAAAAAAAAAAAAAAAAAAAAAAAAAAAAAAAAAAAAAAAAAAAAAAAAAAAAAAAAAAAAAAAAAAAAAAAAAAAAAAAAAAAAAAAAAAAAAAAAAAAAAAAAAAAAAAAAAAAAAAAAAAAAAAAAAAAAAAAAAAAAAAAAAAAAAAAAAAAAAAAAAAAAAAAAAAAAAAAAAAAAAAAAAAAAAAAAAAAAAAAAAAAAAAAAAAAAAAAAAAAAAAAAAAAAAAAAAAAAAAAAAAAAAAAAAAAAAAAAAAAAAAAAAAAAAAAAAAAAAAAAAAAAAAAAAAAAAAAAAAAAAAAAAAAAAAAAAAAAAAAAAAAAAAAAAAAAAAAAAAAAAAAAAAAAAAAAAAAAAAAAAAAAAAAAAAAAAAAAAAAAAAAAAAAAAAAAAAAAAAAAAAAAAAAAAAAAAAAAAAAAAAAAAAAAAAAAAAAAAAAAAAAAAAAAAAAAAAAAAAAAAAAAAAAAAAAAAAAAAAAAAAAAAAAAAAAAAAAAAAAAAAAAAAAAAAAAAAAAAAAAAAAAAAAAAAAAAAAAAAAAAAAAAAAAAAAAAAAAAAAAAAAAAAAAAAAAAAAAAAAAAAAAAAAAAAAAAAAAAAAAAAAAAAAAAAAAAAAAAAAAAAAAAAAAAAAAAAAAAAAAAAAAAAAAAAAAAAAAAAAAAAAAAAAAAAAAAAAAAAAAAAAAAAAAAAAAAAAAAAAAAAAAAAAAAAAAAAAAAAAAAAAAAAAAAAAAAAAAAAAAAAAAAAAAAAAAAAAAAAAAAAAAAAAAAAAAAAAAAAAAAAAAAAAAAAAAAAAAAAAAAAAAAAAAAAAAAAAAAAAAAAAAAAAAAAAAAAAAAAAAAAAAAAAAAAAAAAAAAAAAAAAAAAAAAAAAAAAAAAAAAAAAAAAAAAAAAAAAAAAAAAAAAAAAAAAAAAAAAAAAAAAAAAAAAAAAAAAAAAAAAAAAAAAAAAAAAAAAAAAAAAAAAAAAAAAAAAAAAAAAAAAAAAAAAAAAAAAAAAAAAAAAAAAAAAAAAAAAAAAAAAAAAAAAAAAAAAAAAAAAAAAAAAAAAAAAAAAAAAAAAAAAAAAAAAAAAAAAAAAAAAAAAAAAAAAAAAAAAAAAAAAAAAAAAAAAAAAAAAAAAAAAAAAAAAAAAAAAAAAAAAAAAAAAAAAAAAAAAAAAAAAAAAAAAAAAAAAAAAAAAAAAAAAAAAAAAAAAAAAAAAAAAAAAAAAAAAAAAAAAAAAAAAAAAAAAAAAAAAAAAAAAAAAAAAAAAAAAAAAAAAAAAAAAAAAAAAAAAAAAAAAAAAAAAAAAAAAAAAAAAAAAAAAAAAAAAAAAAAAAAAAAAAAAAAAAAAAAAAAAAAAAAAAAAAAAAAAAAAAAAAAAAAAAAAAAAAAAAAAAAAAAAAAAAAAAAAAAAAAAAAAAAAAAAAAAAAAAAAAAAAAAAAAAAAAAAAAAAAAAAAAAAAAAAAAAAAAAAAAAAAAAAAAAAAAAAAAAAAAAAAAAAAAAAAAAAAAAAAAAAAAAAAAAAAAAAAAAAAAAAAAAAAAAAAAAAAAAAAAAAAAAAAAAAAAAAAAAAAAAAAAAAAAAAAAAAAAAAAAAAAAAAAAAAAAAAAAAAAAAAAAAAAAAAAAAAAAAAAAAAAAAAAAAAAAAAAAAAAAAAAAAAAAAAAAAAAAAAAAAAAAAAAAAAAAAAAAAAAAAAAAAAAAAAAAAAAAAAAAAAAAAAAAAAAAAAAAAAAAAAAAAAAAAAAAAAAAAAAAAAAAAAAAAAAAAAAAAAAAAAAAAAAAAAAAAAAAAAAAAAAAAAAAAAAAAAAAAAAAAAAAAAAAAAAAAAAAAAAAAAAAAAAAAAAAAAAAAAAAAAAAAAAAAAAAAAAAAAAAAAAAAAAAAAAAAAAAAAAAAAAAAAAAAAAAAAAAAAAAAAAAAAAAAAAAAAAAAAAAAAAAAAAAAAAAAAAAAAAAAAAAAAAAAAAAAAAAAAAAV2luZG93cyAxMQAAAAOQAwACAAAAFAAAIIySkQACAAAABDc1MQDqHAAHAAAQDAAAEIAAAAAAHOoAAAAQAAAAAAAAAAAAAAAAAAAAAAAAAAAAAAAAAAAAAAAAAAAAAAAAAAAAAAAAAAAAAAAAAAAAAAAAAAAAAAAAAAAAAAAAAAAAAAAAAAAAAAAAAAAAAAAAAAAAAAAAAAAAAAAAAAAAAAAAAAAAAAAAAAAAAAAAAAAAAAAAAAAAAAAAAAAAAAAAAAAAAAAAAAAAAAAAAAAAAAAAAAAAAAAAAAAAAAAAAAAAAAAAAAAAAAAAAAAAAAAAAAAAAAAAAAAAAAAAAAAAAAAAAAAAAAAAAAAAAAAAAAAAAAAAAAAAAAAAAAAAAAAAAAAAAAAAAAAAAAAAAAAAAAAAAAAAAAAAAAAAAAAAAAAAAAAAAAAAAAAAAAAAAAAAAAAAAAAAAAAAAAAAAAAAAAAAAAAAAAAAAAAAAAAAAAAAAAAAAAAAAAAAAAAAAAAAAAAAAAAAAAAAAAAAAAAAAAAAAAAAAAAAAAAAAAAAAAAAAAAAAAAAAAAAAAAAAAAAAAAAAAAAAAAAAAAAAAAAAAAAAAAAAAAAAAAAAAAAAAAAAAAAAAAAAAAAAAAAAAAAAAAAAAAAAAAAAAAAAAAAAAAAAAAAAAAAAAAAAAAAAAAAAAAAAAAAAAAAAAAAAAAAAAAAAAAAAAAAAAAAAAAAAAAAAAAAAAAAAAAAAAAAAAAAAAAAAAAAAAAAAAAAAAAAAAAAAAAAAAAAAAAAAAAAAAAAAAAAAAAAAAAAAAAAAAAAAAAAAAAAAAAAAAAAAAAAAAAAAAAAAAAAAAAAAAAAAAAAAAAAAAAAAAAAAAAAAAAAAAAAAAAAAAAAAAAAAAAAAAAAAAAAAAAAAAAAAAAAAAAAAAAAAAAAAAAAAAAAAAAAAAAAAAAAAAAAAAAAAAAAAAAAAAAAAAAAAAAAAAAAAAAAAAAAAAAAAAAAAAAAAAAAAAAAAAAAAAAAAAAAAAAAAAAAAAAAAAAAAAAAAAAAAAAAAAAAAAAAAAAAAAAAAAAAAAAAAAAAAAAAAAAAAAAAAAAAAAAAAAAAAAAAAAAAAAAAAAAAAAAAAAAAAAAAAAAAAAAAAAAAAAAAAAAAAAAAAAAAAAAAAAAAAAAAAAAAAAAAAAAAAAAAAAAAAAAAAAAAAAAAAAAAAAAAAAAAAAAAAAAAAAAAAAAAAAAAAAAAAAAAAAAAAAAAAAAAAAAAAAAAAAAAAAAAAAAAAAAAAAAAAAAAAAAAAAAAAAAAAAAAAAAAAAAAAAAAAAAAAAAAAAAAAAAAAAAAAAAAAAAAAAAAAAAAAAAAAAAAAAAAAAAAAAAAAAAAAAAAAAAAAAAAAAAAAAAAAAAAAAAAAAAAAAAAAAAAAAAAAAAAAAAAAAAAAAAAAAAAAAAAAAAAAAAAAAAAAAAAAAAAAAAAAAAAAAAAAAAAAAAAAAAAAAAAAAAAAAAAAAAAAAAAAAAAAAAAAAAAAAAAAAAAAAAAAAAAAAAAAAAAAAAAAAAAAAAAAAAAAAAAAAAAAAAAAAAAAAAAAAAAAAAAAAAAAAAAAAAAAAAAAAAAAAAAAAAAAAAAAAAAAAAAAAAAAAAAAAAAAAAAAAAAAAAAAAAAAAAAAAAAAAAAAAAAAAAAAAAAAAAAAAAAAAAAAAAAAAAAAAAAAAAAAAAAAAAAAAAAAAAAAAAAAAAAAAAAAAAAAAAAAAAAAAAAAAAAAAAAAAAAAAAAAAAAAAAAAAAAAAAAAAAAAAAAAAAAAAAAAAAAAAAAAAAAAAAAAAAAAAAAAAAAAAAAAAAAAAAAAAAAAAAAAAAAAAAAAAAAAAAAAAAAAAAAAAAAAAAAAAAAAAAAAAAAAAAAAAAAAAAAAAAAAAAAAAAAAAAAAAAAAAAAAAAAAAAAAAAAAAAAAAAAAAAAAAAAAAAAAAAAAAAAAAAAAAAAAAAAAAAAAAAAAAAAAAAAAAAAAAAAAAAAAAAAAAAAAAAAAAAAAAAAAAAAAAAAAAAAAAAAAAAAAAAAAAAAAAAAAAAAAAAAAAAAAAAAAAAAAAAAAAAAAAAAAAAAAAAAAAAAAAAAAAAAAAAAAAAAAAAAAAAAAAAAAAAAAAAAAAAAAAAAAAAAAAAAAAAAAAAAAAAAAAAAAAAAAAAAAAAAAAAAAAAAAAAAAAAAAAAAAAAAAAAAAAAAAAAAAAAAAAAAAAAAAAAAAAAAAAAAAAAAAAAAAAAAAAAAAAAAAAAAAAAAAAAAAAAAAAAAAAAAAAAAAAAAAAAAAAAAAAAAAAAAAAAAAAAAAAAAAAAAAAAAAAAAAAAAAAAAAAAAAAAAAAAAAAAAAAAAAAAAAAAAAAAAAAAAAAAAAAAAAAAAAAAAAAAAAAAAAAAAAAAAAAAAAAAAAAAAAAAAAAAAAAAAAAAAAAAAAAAAAAAAAAAAAAAAAAAAAAAAAAAAAAAAAAAAAAAAAAAAAAAAAAAAAAAAAAAAAAAAAAAAAAAAAAAAAAAAAAAAAAAAAAAAAAAAAAAAAAAAAAAAAAAAAAAAAAAAAAAAAAAAAAAAAAAAAAAAAAAAAAAAAAAAAAAAAAAAAAAAAAAAAAAAAAAAAAAAAAAAAAAAAAAAAAAAAAAAAAAAAAAAAAAAAAAAAAAAAAAAAAAAAAAAAAAAAAAAAAAAAAAAAAAAAAAAAAAAAAAAAAAAAAAAAAAAAAAAAAAAAAAAAAAAAAAAAAAAAAAAAAAAAAAAAAAAAAAAAAAAAAAAAAAAAAAAAAAAAAAAAAAAAAAAAAAAAAAAAAAAAAAAAAAAAAAAAAAAAAAAAAAAAAAAAAAAAAAAAAAAAAAAAAAAAAAAAAAAAAAAAAAAAAAAAAAAAAAAAAAAAAAAAAAAAAAAAAAAAAAAAAAAAAAAAAAAAAAAAAAAAAAAAAAAAAAAAAAAAAAAAAAAAAAAAAAAAAAAAAAAAAAAAAAAAAAAAAAAAAAAAAAAAAAAAAAAAAAAAAAAAAAAAAAAAAAAAAAAAAAAAAAAAAAAAAAAAAAAAAAAAAAAAAAAAAAAAAAAAAAAAAAAAAAAAAAAAAAAAAAAAAAAAAAAAAAAAAAAAAAAAAAAAAAAAAAAAAAAAAAAAAAAAAAAAAAAAAAAAAAAAAAAAAAAAAAAAAAAAAAAAAAAAAAAAAAAAAAAAAAAAAAAAAAAAAAAAAAAAAAAAAAAAAAAAAAAAAAAAAAAAAAAAAAAAAAAAAAAAAAAAAAAAAAAAAAAAAAAAAAAAAAAAAAAAAAAAAAAAAAAAAAAAAAAAAAAAAAAAAAAAAAAAAAAAAAAAAAAAAAAAAAAAAAAAAAAAAAAAAAAAAAAAAAAAAAAAAAAAAAAAAAAAAAAAAAAAAAAAAAAAAAAAAAAAAAAAAAAAAAAAAAAAAAAAAAAAAAAAAAAAAAAAAAAAAAAAAAAAAAAAAAAAAAAAAAAAAAAAAAAAAAAAAAAAAAAAAAAAAAAAAAAAAAAAAAAAAAAAAAAAAAAAAAAAAAAAAAAAAAAAAAAAAAAAAAAAAAAAAAAAAAAAAAAAAAAAAAAAAAAAAAAAAAAAAAAAAAAAAAAAAAAAAAAAAAAAAAAAAAAAAAAAAAAAAAAAAAAAAAAAAAAAAAAAAAAAAAAAAAAAAAAAAAAAAAAAAAAAAAAAAAAAAAAAAAAAAAAAAAAAAAAAAAAAAAAAAAAAAAAAAAAAAAAAAAAAAAAAAAAAAAAAAAAAAAAAAAAAAAAAAAAAAAAAAAAAAAAAAAAAAAAAAAAAAAAAAAAAAAAAAAAAAAAAAAAAAAAAAAAAAAAAAAAAAAAAAAAAAAAAAAAAAAAAAAAAAAAAAAAAAAAAAAAAAAAAAAAAAAAAAAAAAAAAAAAAAAAAAAAAAAAAAAAAAAAAAAAAAAAAAAAAAAAAAAAAAAAAAAAAAAAAAAAAAAAAAAAAAAAAAAAAAAAAAAAAAAAAAAAAAAAAAAAAAAAAAAAAAAAAAAAAAAAAAAAAAAAAAAAAAAAAAAAAAAAAAAAAAAAAAAAAAAAAAAAAAAAAAAAAAAAAAAAAAAAAAAAAAAAAAAAAAAAAAAAAAAAAAAAAAAAAAAAAAAAAAAAAAAAAAAAAAAAAAAAAAAAAAAAAAAAAAAAAAAAAAAAAAAAAAAAAAAAAAAAAAAAAAAAAAAAAAAAAAAAAAAAAAAAAAAAAAAAAAAAAAAAAAAAAAAAAAAAAAAAAAAAAAAAAAAAAAAAAAAAAAAAAAAAAAAAAAAAAAAAAAAAAAAAAAAAAAAAAAAAAAAAAAAAAAAAAAAAAAAAAAAAAAAAAAAAAAAAAAAAAAAAAAAAAAAAAAAAAAAAAAAAAAAAAAAAAAAAAAAAAAAAAAAAAAAAAAAAAAAAAAAAAAAAAAAAAAAAAAAAAAAAAAAAAAAAAAAAAAAAAAAAAAAAAAAAAAAAAAAAAAAAAAAAAAAAAAAAAAAAAAAAAAAAAAAAAAAAAAAAAAAAAAAAAAAAAAAAAAAAAAAAAAAAAAAAAAAAAAAAAAAAAAAAAAAAAAAAAAAAAAAAAAAAAAAAAAAAAAAAAAAAAAAAAAAAAAAAAAAAAAAAAAAAAAAAAAAAAAAAAAAAAAAAAAAAAAAAAAAAAAAAAAAAAAAAAAAAAAAAAAAAAAAAAAAAAAAAAAAAAAAAAAAAAAAAAAAAAAAAAAAAAAAAAAAAAAAAAAAAAAAAAAAAAAAAAAAAAAAAAAAAAAAAAAAAAAAAAAAAAAAAAAAAAAAAAAAAAAAAAAAAAAAAAAAAAAAAAAAAAAAAAAAAAAAAAAAAAAAAAAAAAAAAAAAAAAAAAAAAAAAAAAAAAAAAAAAAAAAAAAAAAAAAAAAAAAAAAAAAAAAAAAAAAAAAAAAAAAAAAAAAAAAAAAAAAAAAAAAAAAAAAAAAAAAAAAAAAAAAAAAAAAAAAAAAAAAAAAAAAAAAAAAAAAAAAAAAAAAAAAAAAAAAAAAAAAAAAAAAAAAAAAAAAAAAAAAAAAAAAAAAAAAAAAAAAAAAAAAAAAAAAAAAAAAAAAAAAAAAAAAAAAAAAAAAAAAAAAAAAAAAAAAAAAAAAAAAAAAAAAAAAAAAAAAAAAAAAAAAAAAAAAAAAAAAAAAAAAAAAAAAAAAAAAAAAAAAAAAAAAAAAAAAAAAAAAAAAAAAAAAAAAAAAAAAAAAAAAAAAAAAAAAAAAAAAAAAAAAAAAAAAAAAAAAAAAAAAAAAAAAAAAAAAAAAAAAAAAAAAAAAAAAAAAAAAAAAAAAAAAAAAAAAAAAAAAAAAAAAAAAAAAAAAAAAAAAAAAAAAAAAAAAAAAAAAAAAAAAAAAAAAAAAAAAAAAAAAAAAAAAAAAAAAAAAAAAAAAAAAAAAAAAAAAAAAAAAAAAAAAAAAAAAAAAAAAAAAAAAAAAAAAAAAAAAAAAAAAAAAAAAAAAAAAAAAAAAAAAAAAAAAAAAAAAAAAAAAAAAAAAAAAAAAAAAAAAAAAAAAAAAAAAAAAAAAAAAAAAAAAAAAAAAAAAAAAAAAAAAAAAAAAAAAAAAAAAAAAAAAAAAAAAAAAAAADIwMjU6MDU6MjIgMTU6Mzc6NDMAAAAAAeocAAcAABAMAAAgtAAAAAAc6gAAABAAAAAAAAAAAAAAAAAAAAAAAAAAAAAAAAAAAAAAAAAAAAAAAAAAAAAAAAAAAAAAAAAAAAAAAAAAAAAAAAAAAAAAAAAAAAAAAAAAAAAAAAAAAAAAAAAAAAAAAAAAAAAAAAAAAAAAAAAAAAAAAAAAAAAAAAAAAAAAAAAAAAAAAAAAAAAAAAAAAAAAAAAAAAAAAAAAAAAAAAAAAAAAAAAAAAAAAAAAAAAAAAAAAAAAAAAAAAAAAAAAAAAAAAAAAAAAAAAAAAAAAAAAAAAAAAAAAAAAAAAAAAAAAAAAAAAAAAAAAAAAAAAAAAAAAAAAAAAAAAAAAAAAAAAAAAAAAAAAAAAAAAAAAAAAAAAAAAAAAAAAAAAAAAAAAAAAAAAAAAAAAAAAAAAAAAAAAAAAAAAAAAAAAAAAAAAAAAAAAAAAAAAAAAAAAAAAAAAAAAAAAAAAAAAAAAAAAAAAAAAAAAAAAAAAAAAAAAAAAAAAAAAAAAAAAAAAAAAAAAAAAAAAAAAAAAAAAAAAAAAAAAAAAAAAAAAAAAAAAAAAAAAAAAAAAAAAAAAAAAAAAAAAAAAAAAAAAAAAAAAAAAAAAAAAAAAAAAAAAAAAAAAAAAAAAAAAAAAAAAAAAAAAAAAAAAAAAAAAAAAAAAAAAAAAAAAAAAAAAAAAAAAAAAAAAAAAAAAAAAAAAAAAAAAAAAAAAAAAAAAAAAAAAAAAAAAAAAAAAAAAAAAAAAAAAAAAAAAAAAAAAAAAAAAAAAAAAAAAAAAAAAAAAAAAAAAAAAAAAAAAAAAAAAAAAAAAAAAAAAAAAAAAAAAAAAAAAAAAAAAAAAAAAAAAAAAAAAAAAAAAAAAAAAAAAAAAAAAAAAAAAAAAAAAAAAAAAAAAAAAAAAAAAAAAAAAAAAAAAAAAAAAAAAAAAAAAAAAAAAAAAAAAAAAAAAAAAAAAAAAAAAAAAAAAAAAAAAAAAAAAAAAAAAAAAAAAAAAAAAAAAAAAAAAAAAAAAAAAAAAAAAAAAAAAAAAAAAAAAAAAAAAAAAAAAAAAAAAAAAAAAAAAAAAAAAAAAAAAAAAAAAAAAAAAAAAAAAAAAAAAAAAAAAAAAAAAAAAAAAAAAAAAAAAAAAAAAAAAAAAAAAAAAAAAAAAAAAAAAAAAAAAAAAAAAAAAAAAAAAAAAAAAAAAAAAAAAAAAAAAAAAAAAAAAAAAAAAAAAAAAAAAAAAAAAAAAAAAAAAAAAAAAAAAAAAAAAAAAAAAAAAAAAAAAAAAAAAAAAAAAAAAAAAAAAAAAAAAAAAAAAAAAAAAAAAAAAAAAAAAAAAAAAAAAAAAAAAAAAAAAAAAAAAAAAAAAAAAAAAAAAAAAAAAAAAAAAAAAAAAAAAAAAAAAAAAAAAAAAAAAAAAAAAAAAAAAAAAAAAAAAAAAAAAAAAAAAAAAAAAAAAAAAAAAAAAAAAAAAAAAAAAAAAAAAAAAAAAAAAAAAAAAAAAAAAAAAAAAAAAAAAAAAAAAAAAAAAAAAAAAAAAAAAAAAAAAAAAAAAAAAAAAAAAAAAAAAAAAAAAAAAAAAAAAAAAAAAAAAAAAAAAAAAAAAAAAAAAAAAAAAAAAAAAAAAAAAAAAAAAAAAAAAAAAAAAAAAAAAAAAAAAAAAAAAAAAAAAAAAAAAAAAAAAAAAAAAAAAAAAAAAAAAAAAAAAAAAAAAAAAAAAAAAAAAAAAAAAAAAAAAAAAAAAAAAAAAAAAAAAAAAAAAAAAAAAAAAAAAAAAAAAAAAAAAAAAAAAAAAAAAAAAAAAAAAAAAAAAAAAAAAAAAAAAAAAAAAAAAAAAAAAAAAAAAAAAAAAAAAAAAAAAAAAAAAAAAAAAAAAAAAAAAAAAAAAAAAAAAAAAAAAAAAAAAAAAAAAAAAAAAAAAAAAAAAAAAAAAAAAAAAAAAAAAAAAAAAAAAAAAAAAAAAAAAAAAAAAAAAAAAAAAAAAAAAAAAAAAAAAAAAAAAAAAAAAAAAAAAAAAAAAAAAAAAAAAAAAAAAAAAAAAAAAAAAAAAAAAAAAAAAAAAAAAAAAAAAAAAAAAAAAAAAAAAAAAAAAAAAAAAAAAAAAAAAAAAAAAAAAAAAAAAAAAAAAAAAAAAAAAAAAAAAAAAAAAAAAAAAAAAAAAAAAAAAAAAAAAAAAAAAAAAAAAAAAAAAAAAAAAAAAAAAAAAAAAAAAAAAAAAAAAAAAAAAAAAAAAAAAAAAAAAAAAAAAAAAAAAAAAAAAAAAAAAAAAAAAAAAAAAAAAAAAAAAAAAAAAAAAAAAAAAAAAAAAAAAAAAAAAAAAAAAAAAAAAAAAAAAAAAAAAAAAAAAAAAAAAAAAAAAAAAAAAAAAAAAAAAAAAAAAAAAAAAAAAAAAAAAAAAAAAAAAAAAAAAAAAAAAAAAAAAAAAAAAAAAAAAAAAAAAAAAAAAAAAAAAAAAAAAAAAAAAAAAAAAAAAAAAAAAAAAAAAAAAAAAAAAAAAAAAAAAAAAAAAAAAAAAAAAAAAAAAAAAAAAAAAAAAAAAAAAAAAAAAAAAAAAAAAAAAAAAAAAAAAAAAAAAAAAAAAAAAAAAAAAAAAAAAAAAAAAAAAAAAAAAAAAAAAAAAAAAAAAAAAAAAAAAAAAAAAAAAAAAAAAAAAAAAAAAAAAAAAAAAAAAAAAAAAAAAAAAAAAAAAAAAAAAAAAAAAAAAAAAAAAAAAAAAAAAAAAAAAAAAAAAAAAAAAAAAAAAAAAAAAAAAAAAAAAAAAAAAAAAAAAAAAAAAAAAAAAAAAAAAAAAAAAAAAAAAAAAAAAAAAAAAAAAAAAAAAAAAAAAAAAAAAAAAAAAAAAAAAAAAAAAAAAAAAAAAAAAAAAAAAAAAAAAAAAAAAAAAAAAAAAAAAAAAAAAAAAAAAAAAAAAAAAAAAAAAAAAAAAAAAAAAAAAAAAAAAAAAAAAAAAAAAAAAAAAAAAAAAAAAAAAAAAAAAAAAAAAAAAAAAAAAAAAAAAAAAAAAAAAAAAAAAAAAAAAAAAAAAAAAAAAAAAAAAAAAAAAAAAAAAAAAAAAAAAAAAAAAAAAAAAAAAAAAAAAAAAAAAAAAAAAAAAAAAAAAAAAAAAAAAAAAAAAAAAAAAAAAAAAAAAAAAAAAAAAAAAAAAAAAAAAAAAAAAAAAAAAAAAAAAAAAAAAAAAAAAAAAAAAAAAAAAAAAAAAAAAAAAAAAAAAAAAAAAAAAAAAAAAAAAAAAAAAAAAAAAAAAAAAAAAAAAAAAAAAAAAAAAAAAAAAAAAAAAAAAAAAAAAAAAAAAAAAAAAAAAAAAAAAAAAAAAAAAAAAAAAAAAAAAAAAAAAAAAAAAAAAAAAAAAAAAAAAAAAAAAAAAAAAAAAAAAAAAAAAAAAAAAAAAAAAAAAAAAAAAAAAAAAAAAAAAAAAAAAAAAAAAAAAAAAAAAAAAAAAAAAAAAAAAAAAAAAAAAAAAAAAAAAAAAAAAAAAAAAAAAAAAAAAAAAAAAAAAAAAAAAAAAAAAAAAAAAAAAAAAAAAAAAAAAAAAAAAAAAAAAAAAAAAAAAAAAAAAAAAAAAAAAAAAAAAAAAAAAAAAAAAAAAAAAAAAAAAAAAAAAAAAAAAAAAAAAAAAAAAAAAAAAAAAAAAAAAAAAAAAAAAAAAAAAAAAAAAAAAAAAAAAAAAAAAAAAAAAAAAAAAAAAAAAAAAAAAAAAAAAAAAAAAAAAAAAAAAAAAAAAAAAAAAAAAAAAAAAAAAAAAAAAAAAAAAAAAAAAAAAAAAAAAAAAAAAAAAAAAAAAAAAAAAAAAAAAAAAAAAAAAAAAAAAAAAAAAAAAAAAAAAAAAAAAAAAAAAAAAAAAAAAAAAAAAAAAAAAAAAAAAAAAAAAAAAAAAAAAAAAAAAAAAAAAAAAAAAAAAAAAAAAAAAAAAAAAAAAAAAAAAAAAAAAAAAAAAAAAAAAAAAAAAAAAAAAAAAAAAAAAAAAAAAAAAAAAAAAAAAAAAAAAAAAAAAAAAAAAAAAAAAAAAAAAAAAAAAAAAAAAAAAAAAAAAAAAAAAAAAAAAAAAAAAAAAAAAAAAAAAAAAAAAAAAAAAAAAAAAAAAAAAAAAAAAAAAAAAAAAAAAAAAAAAAAAAAAAAAAAAAAAAAAAAAAAAAAAAAAAAAAAAAAAAAAAAAAAAAAAAAAAAAAAAAAAAAAAAAAAAAAAAAAAAAAAAAAAAAAAAAAAAAAAAAAAAAAAAAAAAAAAAAAAAAAAAAAAAAAAAAAAAAAAAAAAAAAAAAAAAAAAAAAAAAAAAAAAAAAAAAAAAAAAAAAAAAAAAAAAAAAAAAAAAAAAAAAAAAAAAAAAAAAAAAAAAAAAAAAAAAAAAAAAAAAAAAAAAAAAAAAAAAAAAAAAAAAAAAAAAAAAAAAAAAAAAAAAAAAAAAAAAAAAAAAAAAAAAAAAAAAAAAAAAAAAAAAAAAAAAAAAAAAAAAAAAAAAAAAAAAAAAAAAAAAAAAAAAAAAAAAAAAAAAAAAAAAAAAAAAAAAAAAAAAAAAAAAAAAAAAAAAAAAAAAAAAAAAAAAAAAAAAAAAAAAAAAAAAAAAAAAAAAAAAAAAAAAAAAAAAAAAAAAAAAAAAAAAAAAAAAAAAAAAAAAAAAAAAAAAAAAAAAAAAAAAAAAAAAAAAAAAAAAAAAAAAAAAAAAAAAAAAAAAAAAAAAAAAAAAAAAAAAAAAAAAAAAAAAAAAAAAAAAAAAAAAAAAAAAAAAAAAAAAAAAAAAAAAAAAAAAAAAAAAAAAAAAAAAAAAAAAAAAAAAAAAAAAAAAAAAAAAAAAAAAAAAAAAAAAAAAAAAAAAAAAAAAAAAAAAAAAAAAAAAAAAAAAAAAAAAAAAAAAAAAAAAAAAAAAAAAAAAAAAAAAAAAAAAAAAAAAAAAAAAAAAAAAAAAAAAAAAAAAAAAAAAAAAAAAAAAAAAAAAAAAAAAAAAAAAAAAAAAAAAAAAAAAAAAAAAAAAAAAAAAAAAAAAAAAAAAAAAAAAAAAAAAAAAAAAAAAAAAAAAAAAAAAAAAAAAAAAAAAAAAAAAAAAAAAAAAAAAAAAAAAAAAAAAAAAAAAAAAAAAAAAAAAAAAAAAAAAAAAAAAAAAAAAAAAAAAAAAAAAAAAAAAAAAAAAAAAAAAAAAAAAAAAAAAAAAAAAAAAAAAAAAAAAAAAAAAAAAAAAAAAAAAAAAAAAAAAAAAAAAAAAAAAAAAAAAAAAAAAAAAAAAAAAAAAAAAAAAAAAAAAAAAAAAAAAAAAAAAAAAAAAAAAAAAAAAAAAAAAAAAAAAAAAAAAAAAAAAAAAAAAAAAAAAAAAAAAAAAAAAAAAAAAAAAAAAAAAAAAAAAAAAAAAAAAAAAAAAAAAAAAAAAAAAAAAAAAAAAAAAAAAAAAAAAAAAAAAAAAAAAAAAAAAAAAAAAAAAAAAAAAAAAAAAAAAAAAAAAAAAAAAAAAAAAAAAAAAAAAAAAAAAAAAAAAAAAAAAAAAAAAAAAAAAAAAAAAAAAAAAAAAAAAAAAAAAAAAAAD/2wBDAAMCAgMCAgMDAwMEAwMEBQgFBQQEBQoHBwYIDAoMDAsKCwsNDhIQDQ4RDgsLEBYQERMUFRUVDA8XGBYUGBIUFRT/2wBDAQMEBAUEBQkFBQkUDQsNFBQUFBQUFBQUFBQUFBQUFBQUFBQUFBQUFBQUFBQUFBQUFBQUFBQUFBQUFBQUFBQUFBT/wAARCALQBQADASIAAhEBAxEB/8QAHwAAAQUBAQEBAQEAAAAAAAAAAAECAwQFBgcICQoL/8QAtRAAAgEDAwIEAwUFBAQAAAF9AQIDAAQRBRIhMUEGE1FhByJxFDKBkaEII0KxwRVS0fAkM2JyggkKFhcYGRolJicoKSo0NTY3ODk6Q0RFRkdISUpTVFVWV1hZWmNkZWZnaGlqc3R1dnd4eXqDhIWGh4iJipKTlJWWl5iZmqKjpKWmp6ipqrKztLW2t7i5usLDxMXGx8jJytLT1NXW19jZ2uHi4+Tl5ufo6erx8vP09fb3+Pn6/8QAHwEAAwEBAQEBAQEBAQAAAAAAAAECAwQFBgcICQoL/8QAtREAAgECBAQDBAcFBAQAAQJ3AAECAxEEBSExBhJBUQdhcRMiMoEIFEKRobHBCSMzUvAVYnLRChYkNOEl8RcYGRomJygpKjU2Nzg5OkNERUZHSElKU1RVVldYWVpjZGVmZ2hpanN0dXZ3eHl6goOEhYaHiImKkpOUlZaXmJmaoqOkpaanqKmqsrO0tba3uLm6wsPExcbHyMnK0tPU1dbX2Nna4uPk5ebn6Onq8vP09fb3+Pn6/9oADAMBAAIRAxEAPwDwKaVOp5IrGb5jyMfjVqeQN16/WqxIOePxrgd+pjSgqexEQQcjoakjQyfWpFj3/wD16v29owAJBXPPPGal3NrN6ha2zFM8jHatOFBtGTnFMhXYMdacwI55qo2RA+TGf60RgEkkZHHNV/MOeSeKd9owOKTE0x94dqEiuM8SXqJGWxkk9AenHWunvLxFhO/eSTjKgHHB5OT0rz7xHNvVgOcHk00tQs2cRqTLNcM4GMn1otweODimzr8+D0HerVsRgf412N32ISJ15HpSr9Mj3pD8x4qNnMYIpIvmsyvqGO3BPWq1pYPMSwRmA67VJ/lV+z0+TV7tIkBY5ycdQK9N0LQktrfyo0CjgsRkZPv+dNT5dyHebOBs9KguH2ENH2G5SP51W1G0axdkBDIehFeoa34cguLPvFcBtyyDBP0+hrz25iM/mRSgrIhKnd2NbqrzHJKk4mVp48yYgnt1FbLjy1wtY1sGtJyGwCpwcfrU93dk4OevWspbnRTlZFi2wZiSM5PWti3GQcZrA0mXzLnk8D1710UZAXriuZ6Gq1GzRgj3qOOHk9u9PkfsMe5zTVY+vH1pFcvUsxwhjz271ajiGf51BCcnA571o29vnqRVXYKKRbs7fceOP1rotPhMSdetZ1halyoUjqCfz5reSHy167qzk7mqSTK8sxRwxOCO9ZV6+5iep71pXH3yc4zWbd/IGPXGT1rOxW6Oa8S3htNPcp95vl5PQnNeZsslxMcA5JzkV2viy98z90B82Qc54H0rG0XTvOuFLAHcR17c9a7IS5UYSlYl0zw4BDvlJy6gqMYx7mq2oaL9mjLhw3zYIJ5+tdjKiIgUdRnpWHdJ9puFj9TXTCrJO5nzO5gacj2lwso4IOema6kar9rQAnDdxV06DClpjZtcjKueOfX6Vzs0T2sxyQCCeAa1c+Z3Mm1Mu3MwjjIPesox7myB3qxJOZiAeg6+9WbW3EjjjGDzz1rKxtG6HQQ7YMscE9vWuj8JIDK3ODjgetZE8Y+VB+NW9Id7O4bnIYYwe3PUVMtEaRR3vmgKPQ9cmql1qWAQKzTdPIv3sEnnPeo2VpD161xvU6ExZXO4nIGeeaxrs/PxzzV+eJy3RioOA2Tg8A9fxqpIEU/MfzHWkF+5SLt0AxnNUriN9pMh2R9z1rV1DVLe2GIUDMM7h29q54w3eqXCnaefvY4XH0p2K32KuzzyFjySxwDyc5NX7Tw4JXLTnYqqTg5+c+mfxrb0rSodPVpX2zOOcMOh9vpTTmSQ4I5IAI756VtzGbMy6jEQ2qM7eoAqFIzkORx154xXULohaAuyMW9geT1xXWfDr4Ga38Qrq4a2ie3tbcBvtM0QMJOeAfX6DOauOhDOz/Zh0STbq2qMG2MBCq4/2gc/+OmvpCCEmMZrkfhr8OH+H+lPpsssc00shkkaINtySWGM/U16CgAXG3k1pfQiTKZUiomQt61faM9f50zywfTPequZ3M/yT6U5bfcT7daulNnP+TTcjOcYPpmm2MrfZIycn6Edc1N9kRsEcAAL+A6U84znP4UjsTwBU3AZ9hiJJIBJ6nJqvPpMEpOV69qmLMME9zTxL14/GmVzNGNc+GrGbIkjbPX5WI+lZdz4D0qbkwEsx6M7H+tdSVLnOKUxD0/OlsNSZwM/wl0Sd8vEysepVj/U1Tu/gb4cucgi6GTknzW5/I16SoUtz26jNPK5GBTuV7SSd7njlx+zx4e8wGJ7uEddqSHBrMuv2Z9NnOYb+5twezuGP16GvdPLHSjyU6/nzSavuWq81sfO037NBwwg1ogNyWkhDE/XkVmz/s0amu4RapFIxxhgrAfjwa+mvIU8/Kc0026jkgY6mkopGixMz5Xl/Zy8RRMER4Z/9tWUfoTmoJP2e/FMKHZHFMw7E4z+NfWBgjbG5R1znvS/Z4hztyBUukmV9YkfIrfBnxXaYL2UQU/7bDH/AI7Vab4b+JLXO/S5HHUNEQwP9f0r7CaKPA4JH1pFjiXog+pGSaxeHT6l/XJLofG3/CKajaSl3s7hVHALRMD+VSjRZsc28wPujf4V9iSRRshBVSD1ytUZdLtmBBgibPUMgOal0F3N1jL7o+Prq0NoWEq+WfRmGTn2zmqkkMcm47xnv81fYSeGtOBwLC1APXbCoz+OKr3fgLQb5SLjS7eZD1V1yp/Cl7BsPrCb2PjCeNM4Vh789azbqM7cevTn/PrX2k3we8H3A2tokC8fdXIUfSqrfs9eA5PvaQpfr80jBR+RqfZvuV9ZifEk0QQ4yu484zVZ+vXn2r7hb9nDwJcctocQAzyGbB/kaoS/sveApGJ/sq4gJ7R3DAD9a19m2ZutE+IiC+454U8n0/Gq7qCD84/KvuEfsqeBHx+4v2HoLokf+PZpF/Y/8ATS75Ir4DqVNyAD+S0lTI9rE+F/LBJy44p4tCe4555bFfd0P7I/w9Rg4s75gvRDdZU/pV6D9lfwEhz/AGfcrnriUD+lbRRDqRPgr+yiU3ZAB55NQGySJwWlQexIr9B7f9lL4cs/z6HJcMeczXTkk+mAcVuaX+zT8PLNh5fhq3Xb/Ed24/jmrsZ86Pzg/wBH6eapI7A1NaWBnmUQW9xO7dBFCzk/kK/T7T/gd4DsWBi8M2Tc5/eLuz9ck109h4G8O6cB9k0KxtivGYoEX+S0+W/UnmjuflfbeDdWuX2RaHqMrnjb9mYH9QK39K+BfjzVrjFt4Q1Nw3I82Exr+Z4r9SLaxhtsiKGKIdgiAfyq2m4E8qfYqD/SmkRzpdD82bL9jz4l6iVZ9Hiso27TupI+uGzXV6b+wb441Aqb2/0y0A7B2OPyzX315ZDEqSufTiniIA+pPvWiuS6t9j440L/gnqCc6n4qMa9WS2Vsj8SK9F0L9hn4d6csf2ufUtRkQgt5kxVWP0H9K+hlXngfrUuO22qTYKrJHmelfs0fDLSOYPClvM3drh3kz+bV2Gk+BfDmhkf2doWnWRHAaGBQ4/Hr+tdBS4PfiqcmzBtt3ZVTTYo/ljjVQDkAcVMExwamoxmlcVrjNmcc0eXnk54qUJj1/Ol2fjn1NFwIgOcZGKXy/fNSeXzinhfU4pFXI/L9acqn0p/A7/Wk3DPWmhqQ4A0vrntTPOXkd/rUZnGD0GOSSaYnIlwPpUToOajN73659Kge7bqAzEnooyTSsShJFx+HrVWQj1/+vRLLPKM7doJxj+tUpo3PUgEdaLFbEzMO5xVWa5jAPIyeKrSIxP3zg4yQaRLcEn5iffNINx/2hcZzmqtzcgnjoOvNWjbKMHJ/Oo5LdOT/AJNO9xXMqa529BwOevWsyS8LFjggdfrW1cQKB90ViXQAJAVR9Bile4tyhc3e3ovXvWFf3mMggnB+965rYugcHIU/UVyusaraWsyxySqshBYhuAAO5P51EtCrmbqF2OQenXrXN3c4Jz09jV/UdcsGRj5vIx2yD+NYd1dW0nPmgE+pxUjbKl2RITyAPaudvSMnFbE7rKuY3B/GsK9ZlkYEHg+nWsmU2S6b998EZ25PHbNaGOfasnTJcXRGBhlxu/Ef/XrY2+n51ytu5ohAMjvTM8596l8skgAH86Ps7deam5TepG2elNwetWRAe+fxp4iCnpk1na4ncqbWYHAo8pzxiruwDkCl2nOaLGdimtsfoaf9jGc1aIx7YpOT1xV2sO1yLyxjA6UqjbmpDx/XNJuqkFkM4pCtL39qWkKy6kW3Hp+FGWz1OM1IQSc5+tJt/wDr+9LluLqNOD3/APr03/Oal/H9aawx+FMq5HkjOO9NJNSbc80YHUCrTY9SPvzwcZxTh159aaVJPSnfUVO+pPO+gvt3phGf8adjjI/Wmcgev0pA5t7jCNx6ZoCc9Caf7kZpT2x1NVdg5XIz83FJ0JHanYOenH1o6/8A1qrmuNS1uxh5Pr+NJ34yfxqQrnOMUm3vTvbYHMb0P096XPPvTeSe1HPrn8Km5DYHk55/xobnrRx/kUh6jr1obb3B6je3+FNI/CnnNNPQVAKwzbu4JpSh9elB+tN37xgDHPc9aTEeedTnOQffrTtpzxUaxbAACTU8SlmHcU7Ftak8EZOPata3T5ee3bNVoLc9QOtXVRgBn+VRYaYu0huwo5bgmpNvGfT3ph9ehz2pWDmSIJoCM8471nySlCQeBWvvG0gnnsKxdTkUhv7xBqbCuZWr32OBzmuS1EtKre/p3rbuW3ZBGaybmLcTkj6GtYouTOSuEzk4qBZGjPGcdxWve2LQ/OuXBPRRVAhSeRj8K6lE5W2NS7KtnGc0SSG4ZAoyzNgD3JoMIzwM59q63wh4eMsy3MqfKo+UqeufWhxtuJSNzwX4e/suAeYczygM7eh9PpXbwW3lR544GcZqraWuzB6Yqe8vPKTbnk9vWuabvsdcdNyhqMrNkc49jXF+ItPLP58SlXJyxAzlR3z7V1M87O3ODntVC5QSIwJIyMH6UJ8rMZ+8ecapGSFkH3ujEVkyMWGCeldBq8DWckqEhxuJU9cg9M1z/lnnrj610p3OexZ0+VoG3dce9an9qfL3zWMrNECP0pDMcVLjcq7RsHVmwcL+OaqyalKTgyHGfu5rMMrue9O8p2GSDS5EW5tmtb3kh+5OyP8A3g2D+dbul+IZYJdtyhmUjHmKcsD6n1rj0Dxcgn+VaFldScfJvwehPWr5E0Y+0cWeq6J4n0vYC8rxOTy0qYUD61tTeJdLIBTUrOTPULcKSPqM5rzZdVhEKboFUhQDtHWqZ1CyLE+UFLdSFxUOiu41VfY9MlvIZPmSRXBOAVbINY+qagtrDNJIR5calmJbGAOvNcajQyqfIk2OOynBHvxUuri61OxFuCdpI3N0yMVjyHZGXMcfqGsveTu74ALErg5wDXWeHRFBa+YR87fxZ7e1chc6RLBJjBxntWhp1zLAgjZjtHIBPSuu0baGNRts6q7vflOB8x9+tXfCmlfale5m++rbVXHr/FzXLW8z3dwEDhQOctzmu/sLmGys0wVyFG7nvVRSRyyukLq48iMZHHb3rhNbuB5mRwMDJ9T61ua7qyySuUYkZ45rlrpvtD9eM/nRdNjgiCOclx8ucVrW87J0HJp2kaSJSSck4zwK2X0hQo9e/FS5pHoKm9ytZZuXy3Gf1rTEax5z19qitLUwP1zWl9hNygIyOfzrBy1OlRSRXt5d0gBI2k9SK2FgwuB83v61Uj08MpGMMoyfenw62IF8koDt5Dev41BOwXR+zIQ3O7rXO6heHayoML65rVvb83eScfhWbJAJTyOM0BuZ1nZtqc7ZBEanLMc4HPTNbJxbkoqAY6AHNTWkLFBGoCRg5PbPbJNd94F+EGp+NL1TZW5WKIZknLEonI5PYnB4HfNPldwuefxafc3DH5SNxxgH1/8A11vad4c8kCVgXdVLEOM8/TjjNe8Wn7NF7Bwb0NkkmRlGB+AORWxpH7Od2bsE30TRjl2XO7bkZA5rRRfUltGn4R/Zq0LUE0u5vZrpvNVJ2tgQUIZQxHTuDj1r3620Gy0myW2sLKGygUBQkA2IMew46UaHpq2UcMaD5I0VFx6AAf0rQ1DKW0x/uqxz0xgGuq1zCU2zznUSBqlxwOHIBX24/oaM4AxtJOPwqp5hkmkcnPmMX59+alBxjpj1p7GRIzDuenpTEPUHuaR8HmnLH37mkIrSzbCRjoetQ+duOSfxqzNEF6jr1zUHlxc570ARecC2c/hUqMu1iG59KqymJXIDqSOODSIc/cPXvmge5aHI6gVIpXbjqfWqTxcZBJ+poSOUZ+YjNMRe49cUnP4e9VfLlHOc5PepDvwcCmykPGN386kGBzWexmB9cnv6VNHK/GRmpGWc85/rQ3P9Krm6dcZQbj1Ck4/WomumJ53D6GnYotBucf5NLuB65P4VTF0MH+dIbkcZxj1zSEy0WGetKzYHByc9KrLOp7igyAnIYYoC5Luz6Uu4ce1RCQZ69Oopd4bq39aq4xxPJ9/ek2g0wuM8Uu/kYpWAkCgd8e1O7+tMVweDzUm3jj602VcVB36+5qdR/kmoUznkc+tSgnijYCwuPWjGT7e1Nj5yCfzqQYGc59aSBksQ9P1qZULN9KgT9DVyFfanYQ+PgY465zVhADUITB6GrMQ565p2EWrZeenP1q6iY5wORjmqttgknPetKL7gpisKijqeMdakHH/66THGO9J0J6mnYRKoOfWpo/c1XWQcZGD3qUSYP9aQr6kwGaAOai80Z6inJKOuadxlhVNSDIqATgHPFBmGM5x3oE9S1j/IpPvf/rqobrjIOfpjmoZbpxjAI555osLc0d+CfSlMgA4NZvmyOpADEj1Xr+NGy4I7KfbkUxXNDzxnJNOWUZJyMelVY7OaQAkhQRztJzn6VcisjtALseMYJ/Xp1oGNM3sDnnqKYbg+YFwcnsKuizVcZ5/rTsKtNMllFpHJwELHH5n0FH7zIyAueopNW1KKwhVsb2LBVUcZPPf8K5w+ILrULkxFVigJIDhSeenX60yWzpmtWPzFwF7jvVKa7tbZcySkAdSx/WsY6TPNcMRKyxlSQdzde3H0qGfQZLiIKSwIGDtPX1Joeg0X7rxVpVnGjeaX8wkL5algxGM8j6iqMfja0u7tIIUkBdsBmGADjPIrPPhhGfAySGywzjBq8NADOHOyNs5LBM0BYi1jxVJbsIIEWSRgCctjAJPT8jWS+r38gliIaMMpVgMBh+Pv9a1fsiGVCX3EzeQM8fN2/rV1dKj++67ySc57/lQI5Bn1GWBEa7kQruyF4yMcc9eP61twXTC3i3Eu4QbmGBk45qDWbO5MkkdtEB8y7CcgEcE8+3SrkFo8duN5UvtGQOcGgdivLr0cGFfcCemVIz+f1qxHfJcKSDjB796zNQ0mTUXLb1URgcFmGTn247mn6PaJZQFFlLru4OMAD0FK47lu6cFfcVyes6gtscAgE8fNwCetdVcYbIPQ/wAWa47xDDaSRiO5cwqzAsVbrjJAB9am5WxlXWqK0ZDFBxkMSQaxNV09L1GLqDuUqTk5HOeD2/CtK5trR9gDtKFJ2lmOenPIx601oolh2IxwGJAJzUS0E3c4bUdFWPeFVQm0EBc8YGAPTtXKarpLO58t3XAwEHPNekahCMNzznpXJXduRO7FlC8gKCST71ILc4a9tLi3ACsVC84Zjism51GUMQ/Iz+VdvqEAlUghc564rkby1yzxkHg9SMZ5qRvcn0WVLi8h+cgFhkAdcnmuwFuByOPVSK87sv8AQr6J3O2ON1bqeSDkZr0oZ/vbvUg5Fcs9zSLsM8tfT9KQDPpUpX35/Dmmn8qzNLkZQZ64/Ok2/wA+o5p5HvSc54pWJG8L170mf85p/wDnikwfp+tMBhXPfrTOmf8A61S0jY70BoNGO4/M0jUde9HfqcVSBjcflRtoJOc803J/OkIcf/r/AFptGD1NH86oL2E3UjYx1pfyo2+h/KpeghgBbODj+tN788j1p+Pw/rTWHqaLiFz9aQjJ4oAyT0oHfORnvTEIOv8A9egnnn+dA69qdtBPr3qb2KGep4/Om/rUjgDFN+lUJDKb0NKevfNH40tyb3DnPtSd/wD69HPSkxyP8aOom7iHOaO3+NLmkPtzStcpaCMD1BwKb39acWPTB/GmliffFOwr3An2P4jrTG5yOPzobJznFNwfWixIEenShUHrTh6nv3pDk9B+lCSe5W7PPigByMD2Iq5awtuB4/lUES7m5Hv9a1bZeOeMe/Ws1cOXUs2+ExmrL88jH0xUB+6ePxpol2jHrRcrUczHn+VQq4XJI69c1Izjbkde9U5pdhPb8etS9S7Ed3Lgls9K53ULsyswD5wfzq/qdydmR364NYEhLEnHXr70yuUYSWqnKpDknJFWiT+FQyHkHn8Kvdg1crNHvHI/Wq506LglBk85rRxuHQ06ODzJV6n261pztEciZBpuixXNyAU+QcttrvtOtRswAAowABxiqthpcdui7CCWwxOOpx/9et6CEJGuSM4GazlNyFyWIXPlpjH41lXrF88n16Vcv5ShIHPNZLOWJJ71mVqMwepboar3RAT0/Sp3f2HHWsTxBfeRZSE9TwMHvT6kt9zkvEV6txeOE/hOMg5Ge/NZA45qF5/mOSeueakN0CgGM+pruUbGXW4gXzZuTwTn61pRafGQD1+oqrbQg4bPXtWhG5AGBn2pPQSjcQQhOwq7b2glwNoqvuyRx16mtWwb5hxjms3I0sUrzRdq5Qc5yaisrPyycjJNdHM6bCODmqtpbb5lRSpZjxuOK1hO61OacVfQqPpsswACYDH7xzxVW48PTx4IMZGM/Kxyf0rtkVYkVGIDDr70x1QhuhpSq2LVPzON0bSLi81yys0G15XG5i2MKBlj+QNd9rmmR6ezwrsJU7RtXGQO9V9H8nT7iW9YDzAhVc4wAeSfrxVGfUTq2oFlJwTk57jPWuGdR3OmMUiFdDF1C29eXBwW4/H864rUbb7BO0TkbwSP1r0LU782kQ2nhRXnmoSfbr9n6gnrWtFuTCVugmmLK1wCATz1zW1ci5hQ7gyjpyOv41q+FrVbWANGi7s7tzKDTtVkd5dgO4A5IHf3r1fZ6XucvMm7HLPI5yGzz61LZwCWRRySTg4qe9hGQSME9ferekQx+cnGTnJz3rknodlKCN3TLMxxjAxxjPTNSzqRJjqAfWrIm8pMAc+1QTyfuyzda49z1bJIjt2V51Xjk9zit4IEjAXHPoa5jTY5JbpeoGc5rrkiyOeBnJGadjllIyryFmwV6k8iqE0GVBwQw610bKoOAOazNQtRHJlXySeRjGKoyWpjLExOPetvR/DNxrN5BaWkL3VxIxVYolJcnscAdPetHwn4TvPFmsWumacjy6jdN8iqPugHDMT/AJ/SvuH4W/ArS/hbofmyMt/rkqgS3cgzszwyqey/4ZrRRBtRPmnw9+zd4lmntppo7UKGVvK8zDPjqPmwPzr628P+E7TwjocVlZRLCoXfIVHViOf54rRs7dftK5AyrAk4z0q9qkixRDPQnk10qJzuVznvs43H5MfjV2wtxv4wOOvrS7P4quWUeSTV2RnfU17KEKM+1ZPi66+z6XdkHkxlR7k8Vu267Yx24rjfH93sghjHVpQSPUYb+uKezJONiHQd/wCdWAD+Xaol5+bPepucdTSa6lXHBcjsPrSndjtSAD/9R60mTnjIPoaRL1KOpX6WkRLPz6Dmublur3UJRLlUjB24z0Uc5+tWPGG5Y4DHn5mIbHr2/nWBp1zcLdQxEl4myJAR7cH2OabJ2NDV7O7gsJrqCffsXLK3XgdQKr+GPETPiK7x93CuByx7Z7Vp6jMLbTp3cjaIy3J68Vw+mu0rIE3ZAzx60Iex6gWPJOAAcHHf8aztQ12GzITzQ0pIHl5+bJ6cenvWd4i1eTT7ZYkYrNKobd3APes/wppn268W6uEd8sf3kpHzn0+tMS3NmbX76K3877E22NQx2hiDz9MVb0nxDFqURUnyro8iJupHrirrhCDESNg4IIyPyrkRoM8OqebE+P3hcODjAJPH4VJodtGcgEj61Ls2/wA+TVeIsqLlg7YG4r3NPZzgYJPuadxK4r47jJqI4z0FIz8jPTvSZOT6AZz60FWGSRAsOmPameQvr1qU560gyxxj8aXUoi+yg5HOPrStbDB568Va2+uaYck9OlWBV+zE4AYj1596XyGHAP61dhjLH0qUwhe1TYZlG3kU5zTdkg9T+NapAxg9KjeNc8dznrVBcz0M/PyDA6H+pqVZZ/lyoHAz1qxwD2qRce1Jj0K3ny85z69OtKt3LnJBOevHA/GryoPQZp6QAnkUrCsVY705HysD68VKLtn5Ck89+9TfZgD0HvjvU8NsjkDHXrTuIht7whiCgJx68/5/wq9He4GSvfpmnraxKBgDPXNKIEJ6YosKw77aSeEPHvUsN4M8g4745p0NojnkDj1OK0YLNAMbQeMHiqYWI4bghvunB55PWrqXx6bGJAyfzqSK1TjA/CrSQqM/KMGncl6FRLuRs4jPBweRTmuJsZMZA/OroXauCOAc4NNYClcErGetzcu5wufqKthblyPugZGd2cn6VKi/MCMcDqKuoo49qBXKYt5D1P1609LVuAXJ5yT6/Srm3mnqvsaoorpa4/iY8+vGKsJbAjB3fVmzUo4/+vT1HHBqbCSuMWzRQMKAB2FSBdp4Xbng471KASKdsIoQXsQrEOuB708L7Yx6VNtGM/nQFyadwbCP6cZqfnAwKbGB6fWpxH71YzKvL6OLdnk8ZHpWVNrAikVZXWKMglSzHJ+laOo6NDfzeY7mIRAFmDEA/Xt0qh9isrCQM8pdiSVaSX5fXgUtiLXLv2EXO0Odyk7iCSc/5zVuHSoVUIcsi9FY5A5z0xT1CiNcHcu0YJ5zUsb/AOTSJ3FW1jQYCBcY6Uk7mKNmJJ49anD5zz1qKZPkPcnoOmaoZhWkUCPPJFgvIfnG/ODuP5dKiuzsGR2569avpDGskpyBISSw3Zxk5qKZeuF3kc4zUi2Oa+1EsWMS5E20oVUkuO49+ODWmzkoRnA9SKy7m7eBZZxaqVWY7soGyw6kHPrgVpNuAD54xkqOOtUOxlaibudrhImCRmMBS0Z4bOTg9O4/Gp4IpEtYRKS0uwb2Pc4GaztRN1Jfske10VAyrtIyT79//rVoW/mNbL5xKyZO7cc5560thmHrmmtclQsiowO4FmYEg59O1GkW/wBjg8reJAGJG1mP1OT6nNO13TJ7p0ZJwkaMGc5OSPSjTrZNPhKK6yEsWZlb/PpUiTuTz9Djn1rlvEcMLRjz9oTcDzxzzzn15rqZRkEkdetYGqxhshjgcgMTjqD/AI0gOMnsLBiTHPK2chiXBBxjocUyDT4LUMISRuxuyeuKtXNjbxoY/tLKg4BBz9cEVWjeKMiIPkqo6nrx1qdxlLUI+vPfn3ri9StgbrzAwAVdpHOeuc12V024tnpXJazahrxJAxymSck8k9TWd7DTMi7h+Xr+PWuWvAVuGBwT2bHJrrbpTgjPbIrkr0sshBHfr60rF7GHqKkMzZPqV9fxr0SwlM1tHJx86huK891FiFY4OfQd673RJTJp0ROTgYBPtXNURUdC8ff+dMJPse9Oyev86Z83+TWWxQ7jv1pvbPvS+3X8aaQT/wDXpAJjmm7sHtin/l+FMz83tTRIZyf60YB/pS7f8ikxz14/nTBDcH149aTB74p3+eaN1DYxpHXnFMIINSEYpvHQ85oJE/rTW9fXvTixPajgigYyijn8BSN0FBDuhOc5o68UbvpQT/nNO4DTxwMUmCW56UvPGfyoyT0osUNI5z6H1xS7vpRz6U0/mKEK4px3PFNbrx0/nTu3+NN/iPPX3pE7geehpCvvS8fX6mmEn1NBIpHTnOaTZ6Gjn3NIXzzz170x2Bo885o200Mx6fzoJ9aBgQe/FNpSSe5pmT17UDtcXHGab3/pQzZ4/rTOQ3FIlqw45z/hSdM56+9BycD88ikIxySOKVjQ5KGJCcdPqKtonlnqfqaZHbnOecfnVkr8vqc9KRpK3RgrAjBIwKR16kevBpnQ8ipFfgA85NRYztcpSO8bjuPpVTUZMoCDg9+etW9SJgY5AIIyCDkfnWDd3W8HnnOcetK2paZVnm4OTn61QaQA055Mnk9/WoCQWPT86qxrcGbcc571EeTjkmnOCKjVWznt65q7EvUkUHHU8+9a+iWT+aJSWKlSu3PXPWqdhZvcy9yAeetddp9jsCgZ3DqfWpuRYvWduNgYdfQ0tzOFHGRj3605wYlxnH41m3Vz1BINZh5ENxMXY84x696qHnJxSlhJKATtUnliegz1/WkZwm4Aggd/Wm0Vcgm+UHk881xXia4LymLnb1z2rr7qT5GPArnL+zF0Dnr61tDRkSRw8lr82ep60zyiO361vXOiyw8j5lqk9u6Z3ISD1IH9a6+a5yu6Ksd0Y+K07R1ZCzEcms824YnB59OlPS2l6AnHsalxuNM1FmQtz0FX4ruNE45IrEitJnYZ4A681v2Gm23l7yZJHzj5RkfkBSVPXcTmQi5LE5JHtSfaTuyGI56jtW4lpprqqNFLAy5LSSAjI/z7Vkaxo8ljieKTzrZifmOMjnv7e9W42OZyu9Tati8qBmdn3DO4nrRcMMYBIOeay9Iv2KeWTlRyOal1TU4LSFnJ3MflCjtnvXK1qdkHoQanq42G25Azhs962fD8C2tgbiULvlPUjB2+n6ZrzQ3UtzM7knrkirqaleLtAmkEa/w54xUOi2WmdD4ovwGZEfk9fb2rG02MPKvygjPI6ZqjMz3VwHJOT1NdDo0UfGeGBz9a7KVOysOT6nTQYt7RcABiOQO1Z04JZn/HGanMu4hSeDVS+l8odepz1rtbsc6RSm+duantU8ht4zmoYR5r7s1rxxo0HK/MB1rlkdsPdJIrsSkDOPxqS4k5RB3IrK2tC+eTzV+0P2qdOp5HSuRxOrndjf07TjGu84rTwT7Y6mo7UHZjkVaWF2OFGSajcxT1IV+QH5dx+vWpLDRJNUuFjgie4LNs2xAlySccfTNdT4A+HV/498WQaNbEIrL5skjEjEYIDkEcgjP48etfXfhf4W6F4VgS2ttOicwBQk7jLsR/Fx0Oea3UbicuU8l/Zz+EOtaL4/tdV1GykgsYLWZAzgfMWXaCSO+f5Cvp/Uv9X168kVHpEHlRyEHAZhnHeodZuNqgd++TXVGJhUk5Mq2Sjex6ik1HBODg+ueamsAPJZuAWbjHU9OTVa7Yb/bGKtamRAi7vw9a0LSPGCPXpVAMM961LQfdxQ0KxodI6878YzCXU0i4bYmSPqxr0K4YpC3bjHNeWa9cGfWrmTqTgZ+gqL2HsVPK47fTNLnb2/WlXOMHJ/rTuO+QKVx2EQk59qdweufrTCy5wMUM+xD3HemTYgvbeGdHRwrbuOR/KuRvbix0V3B2k7ioUNzn/Io1TXXlv5bWKUxxoD5ku7H4AimW32Odm3FLhs8ljnJz1+tLYTRlX17c6xEYFibyweBjk1P4f8MvaOZJ22kkMqk9B7VrXcMyWjG2T5zypPc+tU7O+vJfOtbyIx3cabtwxhgehOPp2prQE7GJrU5uL2STBYJ8qluvFamhS3N1axCEGOHcf3hyAT35/Kude7yDIGaQctz3r0TT7NILOOJMKEUAKOPxpPUqWpjasL3S4ndZTLGpDMwPQVc0PUv7RX50KSKPmGcg/Spdej26Td7hu/cs35DNc/4duTHqFuV/eeYyq3uD3/rT6gkdyPlAPr60xmyeKjLEt6fU0F/Sgsdkmm7vrSbqeuT+FBSQ/Jx/hQoJPJp6Jx71PHFkj8/rQAix7hzx604W/PPOatCMYHHbnHekZghPf60x2I0h296a+ASDz65pzSHnHX2qB3J96oRG5wf600ndTCxBJ9TShse9QAeVyOePrU6L9fxpqnd2qeNcsM8e1OwEkcJz2x35qz5PTr/OnRpxn071McbfT3p2HYqsuM8cmkSTyzyKZO5BGD9aYrlj/wDXouOxeSQueAKtRISR9aq22Mg4961bdRnI5J7UiC1DCAFzjPWraoByB1qJEJwasIDx/KqKsSwrzzVpACpHv69agRcEVYUYGf60CGtgc8/nULnPQ/U1KzdagYgZ9KBMlgOSRmrqIcAdaz4F5yO361qW/QH8xQABSOP50ZFSuvGO1RFD/wDWoGKDUyZPtUCdfrVhOefzp7EkyDoKn4xjFRoCcVMB6j86oBu33pMH8KkwKAlKwrBEhznOKtheP8aZHEeD71Zx/wDXqtwjoc5r+j2WpTRGe5kibBVUjcjd1JP5VBa2Gn2tzHFwzSfcEjZ3EcmtTVdMiv2A85oWUhiVLA/oRWH5dppM6s8/nvG24GZxgHrSJd0dCqAKAANo4AHGKbs+amW90l1CJYiHRujDkHtUvJ68d80A2Gcev0pHl24PHHr3qNyc9c1HuJOCM+3SqEiG3gjSe4dZGfzGLeWWztyxP/1qZdco2Bz9aljEQndh9/GGBOcd/wBeKWchVLnpUjtc5fUZxbF5kgMmJTuAC/O2M5OT2xVxlJiznBIyfxqDVNUFnG8sdsZMth9u0ZJxySavyKdnTOQOlA0c7LHKt24QMIwu77pOO2M/U1KpZoY2Y4dlDMMEYzzjFVdaE4vhtVgm0sMKTg5xjIP0NM05pjZjzSfM3E8qRxxjg1RJX1mzluokAnZGDbsqCM/XmqujaW2nyTO8vnNK2/kng5PPWn6xb3N0kccchX5wzAYGQAeevYkUzQbOezmuTcO7BlUIrNnBycnOT9Ky6iNK4U+WeMVzOtw+Yjxyt+6Yc46j3z+NdRNnbnqCM1z+tRgxuSAVHB5x1p7lpnntzoED7kjv5MHGWkYbj9OKlh06O1Y7CGJUAsGznHvV2bT4WzskaPb8oKtnPP09vaq5tzb7svvyeCCcY+napuKLXYoXUf3+c/jXL6vb8oUOWLAkEkZAz6V09xnLHPfOPWuY12EyEMm5Sp3HDEZ+UjFZ7lWMW5VsH19Qa5a9JM7gpkr1bgZ/zmuqnBVSOvHOTXN6i5WYqV425zxzzSGYN6mW9FrsPC7K2l4zyJCOT2IBrkb07+Rx7Vv+FLkzLKgGNpDZ45zkY/QVhNdSoux0jf5xRn/9eaPy/KjAPB/Suc0vcQ54pvPtT9vWgjFAbER4pmTn2+tTFf8AJqEj24+tAh3OKTjHXmjFGCeaoBP1pueuacevp6gUhBPpQJjOppMf5zTuff6U3BB6/rQAdD9KQtk9KGz/AI0ZPpQQw4P+etIeP696d0HTrRQMjIz/APXpoYgkYp/Pp0pvPemA05PPGKUHrnrQPfNIxHcVPMFwz/8ArGaYQT2/SndR0pCx9OvWmTyhnv3puR1756UufXH50w/55pN63BATzx+dIf8AIpcf5FIRhs+vNImwh46dTTfyp+6mnrVBsH4mmNgnjIxTz25z+NIcehNO4hCoHcmm9Mj+dK3tSckZ4/CkPYaeef50mAOc9KdkdOc/Wkx64p3BO404z6e4qNlOfUU9iQ3tn600sR26gHmgRgKzLxyQOxNWQNw6ZNRqQRggD1pkjlemce1Z2GlYRup4xz1zVeWbyiRnPPUHNT+dlTkY9yetZl9MRnpjtzUmisQX98GQqx57A1gytuPqKmu7neTzz6VVY9TjiixXMNb2+99KrNnPX86nJ+lRNz2AqrFDdx+vvUkUZd8cnPWmpFk1saVZZIc8+1Mov6VaiEDGVJ6g85ro4MBc4wfeqtjahuvbJ4FWrjEaYB9agkiu5QQecEZ71iSnljzySfWrE85JOcn8aoyy7sY/WgGQknd9aicsD+tSNn0qOVtiEnPNAMz7qQtlQcc1Xij/AL35+tPc7nOMgfWp4kBXmrDcrSKuMbc5qtLaqykN0btWm0I//XUXkAkYwau5LRg/2CjyZBK+uKsw+H8HmQkH0FbK2+D9etXre1LYHX1Bp+0sTa7ING8KWskqmQPLnBIZsj8q77S9Ltrb5ookhbHVVwcfWqWi6bhAc8mttYyh54+nNYyqNsappEOpaRaX0RWaFJVPLA9T+Neba/oj6HdMQS+nysdqnnZn+EjqR25r0yWbdkHisfVbWO9t54ZVDI64JxyPQg+tJSaJnBHkF7/oEwEYCIRuUZ7VmzzNcuuTntya3dZgTyRGynfC33m4ZuMc1V8PWS3F8ZHB8uLnB7nqK6+bS5FKLcrGhZ6NAlogeFdxAJYjk8VjavZxW+RGDu7KK66dgqk+gzmsQW51C63Dpkcn+dZqbPZdGLWhm6VoM12+MfOTxzWhqGmz6GiG4Qor/dYEEHk9x0PtXpfhPwoYtOmvdp4+UyFhgKeuB/Os3xVCk0MkTKHGCOe3uK0VfWyMHh7K6OGsrvzJDk478nrTLqQyztnjtgU9Yvsw4HXoeuabHgzjI5J5rsU+Y4fZWZb0+1Z8YXj1q9Mjwjbgc1dsiqxjCAYHUVBduW/OkzoUe5mM27qPwrQ8PRE3wA4Hoe9LYWJuZfuZHcgdB7mu++HHwrv/AIi+JNP07Sk35mDSzsPkRRyT71g9dCWO03SLnUb6Czs7eS7upmCpFEOW/H8a+gfBX7LR8ia48Uyyea2PKtLSUBFUgE7iVyWB/D0r3D4W/A3Q/hnbK6RLdaqykPcuCdgJ6Lzx9etdRegbjn16040+UynNrY4r4dfDHRPBFxcXGnROJmTYZJm3OFOMgHsOAfrXUlQXJwevNWIVMcbEd6hiBdufX061u1YxcrmlZgLDz35rF1Y+bN04BNbvypDwMYFc/Md9wR79KLg9Ce2G236YFZ88h8184644rXddsB6dOxrFf/WEn1pvQl6ofbnc3I471u2S7TnrWPaKC2ffmty1XpzipZUVYNTk8u0kbjgHr9K8qusSTO4JYMzNlj6nNejeLLwWmkzk9ShUfU8f1rzVFO0Anp71LVh7ChTxStyBnr61IucdQTTX96kLkGOOv1NV72Qi1mKkAhSeT1qvrOqRaRFJcTt5cKjLEn0/rzXP/wDCwtCudqnUIQQeAX5H17VYmzJTSX1KCS6jKq5YqVY4Jxjv+P6Vg3cE1ld/vEaKYAH5j054P5129nr2lPvENxbqrNuO1sA+/pT7p9Nvxh3jljByXRsrwMdRQCaMax8XS4EUgVyMkZPTnpz+NXdOWW9v3vipK7dq88HrwB+NSwaDpvnAgiRT8w5zk1rLFHANiAYXgbcY9O1SJ+R5tJbtY3kkMwyFfcB/eGc/r0r0a3vopVEifdYbgemc1S1TRrfVFRZOGUkqw6j2PtVCDQ7vTkeCG53pncFYDg/5/nQxkvi3WfL0sxptLytsIJ5KkHoPxrM8JWLTXQmYEQopYHsSOMZ/EVbHhkzT+dcuXIABi6g4561vWdssACoqoq8BVBqrAkTkEUDP+e9SYyecVIqDr+hoLIHIjALcfQ1NbXEbcArzzkms3xJceTps2D8+xjkenU8/SsdWe28NNKjFbkIzgg5UkZIwaSHsdsuOOamiwG65xXF6f42SewXfCfPCK7qoHHYkZPA9jzV628VRSK0iZ8oKCxbAIHPJGaYXOqeUAdfzqs0oJ+tc63i6ykAInTr3b/61J/wldlvBE6sM7cg9T6fWgbaN9m/vcgHcMHvTC/vWJfeIYV065uIJFd4V3tHu+br7j0zU2n6xDewiVSQWAbaeoB6ZoJbNFm5+vrQDzVE30bk7WDc44YGprW4SXOx9xB57UFJ6l+PGatRcHJ79aghAPJ/WrIIHT8aCrltMBOCR3qOSTt/XrUavSsCfai9hWGMu49f1pqwtu45/GplQ55/WrMUe44IzTC5LbR4wTnt1rRtxgk89qrRDbVyMj9fzpDZcibOKtoBjNUY88fyq3ESMg4x61W42WB707f71EG9x74oJz6+9MgV2znAz3qPr+FSD6/nTgMn+tTcB1tgNzzWmnTtzWfCh3A1eQjGDTuBMeeaZtHejOfT86XHqaY7jQvX+tSJn/wDVSY9zT1Hv09aBFhGNWFOe/NVV61Zj5NAiTBp6JnrzSqpxkmpF/wAmmFkORQO/FS/w4HNNXJxn86fxt61QzmPEumx6h5ebl7Y54KsRms+z0Swt2/fTmYMNreYy4xnP58Vt6rYR3UyB5GVAMkKzDJ59PrTdJ0C1tsOrs/zbiN3Ppz1oM7F2GFLaFY44wqKNoA7CoLli6lQMHHXGavSkDtVG5+YEbOvXmgRUgLvHICMYdlGVIyBj1+tPdAdoIJYZ5yeKjtHlkMmQNisUUhSM4Pr+P86sc89ye/TFIdzOsbOJLmW83AySkjG4klcjGc/TtV55F7nGPxrMtraKz1C4lE7YkG3yyxPJIIPPpg1cdgQSOT6ZouJq7My/1S2to3kbazBvmQqDlvXnrjFTsfMiVwQQQGH0OKrvIkjOTGjbBvZCFJIGccH6d6sq2+NGRdkbKCq4AwMccDpTHY5rUROLwISruy7slcnqR2PHT9Kq2fnNblmyPmOCVYZXIwSDz3rR1m8exvoEEasrljhickD0PbrVfS/tN5Zu9whikErKBtIyvBB5+pH4Urk3MPWYZ7mLEc5ikHOQO3f/AD71Hollc21xm4uWlj2nIZj97I5A+maueIbO6a2kW2Zt/GAqg5/OqOkRX8Ex+1liCg4J4B4yM/jS3GbjHI9/esbWYPtCyIRywKr25Ixmtjfg9j3ye9Ub5A4XJ4ByPapYI4p9Ijt4QsbyrjOA0pKZxjJA645496qzJgYznb3zUt9oN9GzNFKUUk4O9iAe+PWoYrKa2jZJWaQ5zuJosCRi3mVJyRn0Fc3rsEjRGWNxuXkqR1FdRfxDLHkYOMGuc1SJpAQrFeo6VmaJWMBy3lgsAHwCcc4PpWBqrBSuVyTxkficn+VdLJGyjDYJ9Rnn8657Vxtk+YA89c4xSCxz91tZSRwT6ir/AIRlI1BosEZRm64BwfSqNyoVWxyScgZqXwrdJHrEETHD7mAOMgkA5FYz2JT1O5B45zmjGMnnPejb1JY9c5PekyfWuY3sGOppDyfbrjPWjr7UD6n86ABufrUf8Xensce/40wnjggVQCcU0nnB/Snfj+tNxz3zUk2Dr60H6mkbPakbPBzmgWobunH45xTd2T/9enH880gA9ffmnuTYbnPbp3NL/Ohj7de9MJGep/OmMUt65+tH8zSYOfWlJxSRVhN3tgUh5AOelO4ph56Zo2JGE+vr1pD19ad9RSHGRjrRuQ2M57/nTuMdqXj/AOvTWzxim9QWgY5+tH8NAzR25oLGZJPNGP8APSkPHBpf0pInQjOM0uM9aUjDd6QZyf5UxNDO/FB4PTp60uOvFHPSgWpGcknHQ+nWl5Bxn8KeyY6UmB1xQDbGY/yab3I5pTyfT15pcDjvUiGHnv8AX3phB96e3y9RjvTc5GeoouBzxkPIPWmPJ6nHuari75+YZzSzS8AjkfyqCuXsQ3E5XdWRd3Zc4P8AOrt1PkEk9KxZ3JNIrlfUimHOfX9aYSMEZ696VpOMdfxqAnPpVXsaKI7vyaawJPHem7iPpUsYLMMdTVCsWLK2LSKD0zzXT21mEVQOh75qnp1r+6GcA8fjW9aQjaM+lTsXbzLCxrDDwecVn3E5YnJwfrVud9ikA44rHnclic1NxN2K0zneRmosZakYlnz1pxJVKY73IZPlNUbmbnGelWLiQ4JJyKy5iZHAH40DHc8HH41IGI7fnQinHtTjg+341W+gNA7sVxj8qkhjPU0AjjgVYiIIGPxpmVu4iIWYY9a2bG1ywG3OefpVG3T5+PWui023Y4JABB4xzmpLuatiCkSjFTyScDj8aIiFXpyKjdw2RxxUuIirPKGPv61n3tysKHd/+urVwMNx0rjPHGsGwsXI3NIWCqoOM5ByaUVd2RRzXim+gm1EIg+Ytl2jXg9uT3qawaGytFRWDOeWOMZNcJa6i6T5fGSxJI781sNqSrFuBz7etdTpyWhvBpmzq2o4URoRvf3rZ8KWX2u7gtwV82VgBkdT3rz2O+ea5yxz3r0Xwb4qs9GUyzAGfOEIySB+VRyM9BTPTby+/sjS3tshA6hCG7cfeB+tec65rKOZFBJ3H75OSfc1H4g8cRapdDy5HKhfmDjGGz2/D6Vzk919qnypyOtKEHe9jKc+xNtBXOQc89Kfb2wkIYDknpVVpjIdg6mtzSNNN5vVX2HYWVvcdB+ddkVZnntnoPhr4R+JPEOkwXunWUMttKMq0k6x5GfQ81o/8M9eN3YD+yI5ATy8MwfH4V9X+EPCH9keFvD8AQBlsoie2Syhj+rGvR9D8G+VKstyvzfMQoGBjsTzzWm5LqWPkv4Xfsp6zqWoK/iHNhpG7Miq4Dyjj5RjkD1r6+8A+B9I8C6c9vo9t9njYhSTgkADgA+nJ962JLRYwAANoHQVbgXbEoxRymUp3EmIVDz2rCuyWbjke1bdxwpz6Y61huf3hHXmqsYPckzst+cc1FAN8gIx1yeKdcHbGAePSiyGZMgA+9UG5buCVh/SsKNhJdE+jEc962NTkKwnnGBWJZofO3HnB/Ogs0Lr5YsZOcVknknP51qXbDy+RnPasrHJyaWxCdi5Yj5/UfnW1EvHFZmnRfu88Y3dM/rW1CuI8/5NSxrU4vx27CCOInO5g3pnBBrkFOBXRePLkPqEcR42jd19QB/jXNg57ZpMZKvOaJSPLyA2Qef8fpQOnSopydpwDnt70hHm/wAZtTNv4dFsB880wHJ69/6V4zaAXEhR9qn6cfhXtPxT8MX/AIigs/skQZ45CzZOATjA5z2ya81/4QLXYZfmsiR/sMT/AEoFbUxJLXMsaEMF7HsKnltpbK88oO0fAYNGxGR+FXJdB1VX2mzmcrwQFJxVaVLnzY3kilVlIU7oiP6U7lEv2y9yypf3PyjJJnYgD86W317V/NAiv7gjPCl2OfxzVb7T5csqnAL5zgYPPt+FQR3IhlVwOAwORx0ppiRtL4t1uyP7u5Usxwd6lj6YzmrcXxF1mJd7/ZpmHXMJH45BrAe9R33Z4Y5bHrmoo5EUzggkSKQpz0J702Fjr4fivfp/rrNJGPTy2xk/iP61dg+M7qSsmlS8HJKMvf8AGuI3R+SYx/rVGdx5xUN2P3KSDGSSpHXnrmjcZ6da/GG3uGVDZTxknBJKnHpXewXbzxRuEYBkDgnA6gH+tfOGnYkuk3EgA8Y9a+mYohHGkY+7GoUD2AxS3GitcxLeQPFLGWV1ZThsdRiq0WmxRW3kyO4iChdoPJGMdfXFazFE7gmmb0JYHHXnJ60F2Obn8N2y6gbmFiqNGqtHwFOOhGKhj0Y2d9cPC6vDcbdyuuCu0EdRXTSiL1rnbzVPs99JF5bsARt29xjr/OhMZTt/DrQSTiR1kjllMilf4QT0qrLod0lrMI0UTG43o4bICkj/AOv1rcGpRNbtIQybSRz1J7fnmoF1qIkAqwGASWPApXIsjK1DR7qKS/EULuGtQsSpzliSDx681k6loeoGGCWyjcyxRYaNj8xJxkD06dDXV+KbibSrBJkkO9iAvY84PX6Vxw8ZXtu7hih5IJK8kdetWx2NGC1um03e7t5whIkC56+mfqK6fwnFINOikdyTIu7aWJx+feuPj8bzggZjbPqMZ/Sut8Oa0dStXcqEKMFIRcDvj9KQHWRPwOeamDH6/jVK1bcBnnPNXouSP15pGiLEanH1qwkRb0/GkiiyV461dVMY4oEQpGdwH45qzGhRgRjmlVfYVKoxyetMoeFx296nXjiogAe/XvT1J55696e4rFmM8jGeBnNWF78/Wqit7/XmrKsMcUILku4e9PX65zUYXvmpQPU/nRcNhyryT2qdFNRKRx71Mpz3/WlcViRevWplxxzUCcsKnC59aodiVPl7mnn65qMZ9M1IOmehoEA60+m4+uPrT0Az1PvmgRMi81bjTPOcVDGvpxVtFNAEg/Gn4OfSmgHtUi5zjvVWG0OGf/r4pjE//XqQZzj1pT+BpCOfutHinmVwWXbgYDMAeepFXNLEFsrKJvMdmzkvuJ/QY71U1rRJ9Qu45IJ/KAB3DLDJ6Z49qfpPhqOwKyvO8swbcPmbaPwJ9zVEmhLzggcCqcyFwVI3Bu3TpV+R1XPQ/Wqck4DHAzj3FK5L01KFh9pZpxLGFRW2rjvgn3+lWGRmB52n6U558cY6/TmoPOZiMI/zHH3aY7GS2hymQGeVjsclfLkYZB9eK0SFGcn69alKysSuOM8Hnmo3tHbuBj61KKsVmSEMzEA7upJ6UPPGB2AH+1U7WLD7znPoD1qAWSDg5IBzgmqFYrtcRswfajMMgMcEj1APas+6vRk4XOPRs4rWNjF82F4YkketRm1iXoi+vSpHY5a4nZnbEbMOoIGc/wCc1nSTSM/CNwcYCnP+ea665iGMYG0nOKzLm2BJOOc88daRPLYwBczHkBtoOGJGM0yUyy9snHp0rTkiCnoBVdjz7fWgasjDlWdxyrLnoGXrWRexS8gZGOp2/wD166uVlbqR+NY9+pyT6/rUAcffwudxO5j1OF71zd/vHQHJPpXb3SA7uM5rntSgB5Cgkdc85rNu5qkcfO5yQw+vNY+oIkinevQ5Bz3rqLmJNzZUZbOTjpWTeW6FGHOT3qBM4vULYYJTOPQnNUNJdF1SElijK4IOODgnOTW5q0DIDtPTOeawFg3zAklG3dR+v51lILHonNBx3ojYSRo+c7lDH2zSsB17ZrEpakZ4PtR1x6Upwfr6UnsRRe4XEPXvk03H+1n8ak49qafrQAwnP+etB5pD96lo3JaIznP/ANekOT604n/OKM96AGt25pB0oJOelN5z3oExWbP4e9M/SnfX86Dn1p3EIT/+um9+enpS+/em/N3osSB/IUmffNK3vj86bnAplCN/FRwOp/GmnJPtQ2fw9KkmwuaCe2cio+vc04cZ65poVrjs/gKM8U3PbGaOvPNFy9hp69Rign3oYZx1owex6UIzasNYEcfmaZyD7VJz0oB+n4UMoYW/Kkzx7+9L3I5/H/PvTWGOcnFFgTAsfb3o56k8UnHtTTnPXgUyBTznnmmlSehpcnk0mff9aVgGsD3NNwP8mlZjnnNJu/P1pdQ3Z5vYasl6CwcNzj8atm6U5GeP5VyGkTCzmKkcN3zWxLN3HT60nGzJjPmJbu4O9hnis0yEucnvRNcbmzjB+uahbPXFSbpjmYg9QQfU0mM98VCWJOKk+vSquXzMUZLADPvnNa+m2Bk+fPSqNnCZW46d66+zjiUKEGAcHBHPNA7j7KAlsHua1D+5UjjgU5I1VQ3Q4zVO6mJyM8nuDWYMguLjk8j86zXmLMeAOenrRMX3nnn3NVySDk96om5MW64HNVpHbJOQAO2etKXPqBVS5cAHJJyexpDW5Bdz545PNQImeenemb9zcmrMCZ6YxVLQcmIFOP8A69MOQe9TOeQBn8O9N4PWqAWEg/eHPvV63TqcY/GqkUQLjB/Ctm0g3461Fx2J7JBu6Zz711mnoscQ45NYlnbnK4BGO+OtbKb0XOPwFK4y07KfQetUpcc85+lDSHPOfeoJW2rnOakVileXBiRs15t4vKX0qJsd5DwWB4Arttbv4hbMdxDhuh4Fcdbx+dMzliRuzzzVRte5nJO5wmo6T9kwRnGOSaxzOysVySM+vWu18Z3cW0Jn96OMYPI65rkLWzNxcoAuSWGeelejTnzIly5S7pFs93cJEqlpGOFVRkmusfwxd2tujyRmIsT8rHnjvXR+DNIWxQuow5AyQP61e126VMIDvI6jJ4rVSOJYxubSRwP9mSbzuBHPX1qyqFE2gc1uW9obgMUUAdeW7VnTRsrMAoHP51k3c7o1GyOxiO8ggZY9a9Q8BeHRqN9p6BmLvcRrsxwdzAV57pVmZZlAOWJ6CvffgDoC6j8SPD8Em5UWQzMF5J8v5sfiQB+NKzRo5H3XomjiJ4Q+10hjVFUjI4x+ldHIAiZH86q6aMruH8VWJT1BNb2OVyuylK2SanjztHr9agkBLccjNWEyO+PxqhFS9J8s5IHPSsQcTZ65Na+qn5Rj8eax4v8AWg4/GlYQl6fmUHPrVrT179Peq1z87g5xxzWhZrtiA9OpJ60WNFqU9VYgdvxqhZIS55q5qhzwT9ajsExk9h3pbmZHd9uThTng+1UTyat3z/ORjjPWq6IWYdKCkraGlaYCLx9a1XbbbkDpjNZUGS6rjgnFX75jHZuSMYHOe/NQNPqea+JJRda1M5+bCquPpmqKqOwxj1qa4Pm3tw+7IeV2U5zxnim4x1x+dDKsMxio3Gfc1K1M6GnYexnTWJd8g446e/rmq8ttOSAXyv8AdyeK1eN2TkmmuAc5HU9aT1B6mMbMgqSoOOxGc/Wobi08zIaCMqRjG0YNbbISP8aiaI89KBLU5qTQ7Obh7GI49VGDVC58IaVPkPZjaeNgc4rrWjPpmmCEZxigZwFx8N9BdsLavEPvECRjzn61D/wq7TZM4lliHUAH+tejm0U/wqT7jNQm1UZHT6UFHmcnwntVORflGYdSDx9TzVab4UyYyl8JEHRmWvSNQMVvGWPQDnnFc/Fp1/folwk4EUg+U8jP4VVhHKWHwvubLU7WeW5jMCyAyMOpHoK9Y89SxI43HpXKnQtS2sVulLqchWyP61ka8niPTrF50lUpEpaQYG4D+9yO31pqIWO41CL7Tbug+Y9gD1Nc5/ZepIxTYSQNysG6fXmqfn+IrTR7W/DW88MkYkJCjjPIyD6A/nW3bTavPDHO6W4VwGVk5BB/GqcbBYpxx36HBXJI+ZgcZNLcw3kaJO8Qb5SXIwQuOTya0Hk1GM/6hph3CR1DFqk18ZbdI3iu4l3NFIoORnt09vzpbDej1MkyypIweIqAgk5Xrnkcfhmm6ffxyXvkygM0iblO3g9iAfXvVp73WEcB7Lp12qCalk1swkifSpnZedy4/lRYLWKfjSXbYWuScGboTnA2n+uK821C5WGT5sgscDAJ/lXeax4g0rVdlpczNbzFgY92Bg56Ac5pZfCunBlZrlQw4DOwOfyotbcLI88Xc7qNrMdw2+3ua9O8A25TTpc8s0xy2PRRj+dUl8KWO5mW8jVj3VGOfzNdboFnb6fYxwJKr/MWZ8YBbjvUNWFobFmjIMZ6np61tWlvnBI6mqVsqdMhgDzj/Gti1KADof0pIpE8UGBUv3etI0yIByM56Zzmo2lBOcjj1qhok5zx61ID7daqCcA9c/jUnnA+n50DLYI4/rTwT/k1SWcZ7CrCTDjvTYFlM1YTPGO1VPPGQe/86nScZznH9aBF1G4607dn/wDXVUXCk98Z60r3KBtoIyO9FxMsA5NWUPck1QjnXdgke/NXBcIB14J607BctxjNTr1qgLxFIG4HNTfb0wMFWweobNILl1feng1Qa9AAPUeoNRnUgpU4PPOKoLmsAO5/OpExk1knUlBH8s9alS4dyDgjPt1oJubUT/kKnWUY6/nWMk05BG3P1GKsIk78dM89aAuay3Kr6c9eaQ3gXnj8TVOO0l4y55q5Dp453uzHqADVXGH2w9eM/UU37Q0jY6Z5xViOyRe2ec5JzVuO3RcEAZ+lSBQAkbhQfyqRbeQjk9f0rQCAY4FB78c/SquKxnfYj3Y/TJoNmmc8n6nNXHPNRnBPakxlYwKvAUAfSojCo7CrbEdCagkI9aLDItoz0prDH40POqDk5HpVaS8Trxge9NhdIHU85qvIBnikkv0GSCPcswH86oSX43DsT2HOaQupbbAzzVeX64qpLfv/AApITnGNhz+tUp7ucndskA9l6/hSFcuS4yec5NUJ8Zx+NVrk3e8BVLBuDjgj3quyXbEAIDj+JmIpN2AklRW3DOMAnOax7qQRnHYmrVza3eFKbMN1LE8flWXd2E743yJnHVd3H8qadxJ2ZC8wycHHNU7yUt3/AFqC4tbgMMkgA8gdCfr/AJ61Umjl55XaBxknJqGO9yC6wAQTyaxL3a/APTn61elS62sWEWewyxwfesK7juAzHkkHkAcfhWbfQrqZ15GDnI6HPFYlyQM4Fat1567twI78jrWHcyMM8HAPcYzUWDVGTqMYYMSOvauauoD5rBDsPrjNdJdXQJOR9RnrWJcsDIzdSTk81MmG51NhITZwcAEIqkepAFWsH6Z96paKRLYrk5IYqfqKvc+9cz0KWg3oecH8aCeuKCc/4k0Y/wDr80rFNXGY47AU38frzUhwOuaa3f3pkjDn6/jRz3z+FL/WmHPPce9ACH1xTT/nmnfhSYPP/wCukSB6E1Efr19ak2+2Kbt9s1SHYZg8/wAhSZ/L3p+w/wD66YRz0NDJFHPTmmMDTvwpfypAMwT/AJ60hXH+NSDHak46E/rQA0qD0/HNN2fT8qceOh/XrTO//wBensAh69x+NLtBwc0mz2pW475zSAaw5/oDRj8KWk9cVRLsxD1pp+U0dfal256+uaCBmO+aTg57U88dT196TaM59fepKehHtwaaTUpxu4qI9cEU7kvyGPn1BB54PSl3Y/8A10m3B+vrQB+NMQpx270h7+v1pMgE8YpAee+Cee9KwrtiHk8n8TTCce/409mHpn2NN4wCQOtIo8CS5AkVzjr3Nav2vzoxtJ4rlElJHUn8a1NMlL7hkj9a1aIUbGwqk5yfwpcds/rTUbbjPPrSyNnkVmzoQzhT0zQp6knj61EzkZyfzNRPfRQYDY564NAHQ6NeWruyB18zGdu7OeccetdbaRjkleR615ZHZG9lzauqvk8hsY+hHSunsPE2o6NCLa8RLkK2BJIxLqoGAuR1Hucn8KqUG0RzrqdtK21eDWbOxOcmsmLxlaXR2FjEx7OuB+dObWYJSAs8UhH9xwf61ja2hopE0mWbIqFwc/8A16a11uIxwDz9aa028c+vrSsOw18d+lZ1zJyRnIFXJ3wnrnqM9KypGJc5OcmmaLQcmN/1q6nC8d/eqkMR6ngdatj09KZLGlTnkH8aBCSc4NSbxU0TZ96rqTsS21sTgnnJ+lb1jbjIGQay7cZI4rotPti+OoqGhqVzTsoMDnn61PPhRgU6KHYhORwM4J61UuJc5GMfjSLdyGR+ee9ULycRrljgdzmnyTepPHfNc/4j1OK1ti8rhY9wUnPJJ9qSVxMwtbm+0TMASyljtJ788HFR74rC1LOcYUsxY4AArHj1+189mlkwo5U7Sc1R8Ua9FdWqxxPuXGcDjJz3/CtFC7sRoc/rupnULwuCSgztyScZOePatLwtpr3U4K4Vs9WrnFy75wTzk16L4Aa1FwokPltncFcDa+PQ+vTrXoRjyqyOOq7LQ722jjtbQfw/KFY+vXmuQ1JvOumweCenWuh1m+4ZEwF6AjjI9f1rAtrYklzkj370rHnwjrcryzNZIAD17VQu9RPykLknrVi+IMjZPI6CqcUQmdeOh/OqPRgy1aXEiuHRmRwcgjjFfUv7FMM+s+M9V1G5c3BsbUqrkY+ZgoP4kH9K+e7TTIp4Y9sYjbbhmyTk+pr67/Ya8O/YPDfiS/IJE98sKn1AXOf1Fbx0TNlK7PrG1Ro1C4xtGCKJ8lqkth8p55prt8xz+tSZPUrA5kA4PNWPu1HGBvJxzipRjHr9aBmRq0u18deOtZkLfMeMk96t6o4N0ynOFxzUUcY2FsZxzmpYmyuwLT892rWhBEVZS5ebII65rU5SDPoPzp2LMfU3Lygeh5NPts+Vmq12583oenJ7daux/urcABWyOSwJz7/WhEmfcsHcjpj9aSFfnGD/APXom5kJxjJzUlvH82fSkwRo2S751GCcc9KXxPceRpU7DIIXOOn61Y06MbiQBnHWsPx5OY9McHnd8pGevFTfUq5wUchwuecAZz34pzPuqJNzcjvz161Lg0iwGD1x+NI+FGc+/Wk6H2psoEiYJODQOxF5yFsB1JxuwGHHPeneaORkc+pqv9hjXIyBnqPWm/Yl4Cuy4zwD1qgsTlxkjOe59qDtODnmqsljISMSleeT6j6UC2lTP7zd+GMVIErdT0IPrSADd2zUPlzZ4+vPFLtmXBxz9KBlnYeKikQc8dKQtIMZByf1qCa5IHQnnBAqgOe8UyFPs+CQxJ+UdWGOee2KvX2nXIs44LN41LKobzAdowuCQRznIHSsbxRdv9psN4IhW4UOeuVbrwOfWr2o66/2R3tQol2sybiDk9gRVgV4TeaDc28dzOLiCUn94ufkb05PStXxJbr/AGRcGUYHlMMDnIIwefxrgnj1PV75Lm6vIPKjdWaBUZd/Ppz2/CuqfUp76zlRmjACBOPlH6+1VyWJNPRbT7Z4ZtYpwdr25hOD0HK9foRWLFpw8PX8FvC9w0Rdd5uGBAUnBPGPXsPX0ra8PRSS+GrL7POhCswO4MM/M35dqtS2t7KroVik/hzIPlPXoaB3NaZkMfmwspDZbIOeK5HT8T+PbyaP7selZY56t5wH9RXTWVoNK0pbZ2DBWL5GTjOOBnsMVzfhiBL3xhrtyPmC2saIemQWUn+RpBYk1DxEi3kdvA+bliFPy5wDnGfY1o2unzIrfaljZmORtXj361y95oElrf3qXGT5kJaCbdjJz0wOAQR0Hpmuv8I2t+fDVs2pA/bMn7x+Ypn5S3vj1puOhSRwninwnb+JPGGj2+PKjj8wy7flLjaCufTke/Wtr/hCdK0yAgtKsKZYtI+MD1q/5Yfx9YlAAfmLA9htOP5VseINAl1K0eKGQQzH5QW3cDv0pCe5x91Bomm7RLeXFsGJAcNuUkeh5rTn8IKtkt2l9KAVDqCTyDgqTj1z9ayvF+hTSwaTpo8uKae8igVo+oypBbt2r0jXDDaadJ5aiOGOMoqD+EAYAFN+RVjL8KWUl5oUM8zkXBdkbODnax5/lW8th9zDEDb8yk9/XNUvCVv5Hhu0GP4nYj6sf8K3kAPb86y6isUH04Fsh26cc96Z9hZckuxz71ot1prHIOfzFAGX9iHOXP50n2Ukgb8L1PPJq6yjOCM4OQDSDBPGc0FFVbVh34HTmrEdu5XqWJ7HtVhU/Wp4MA5P/wCugLXIF0+RmBLHPpk1ZFg3d2J6ncxNWY5VY4Hb1qyF3UFaGc1iV+7ITnseP6037A24ck855Nanlj6/WlAGcY4oJsU49PI4DsRnPJqwumjOS7E981bTAHBqRWGaaFYgXSgxyXfntu4q3FpqKw4JA7EmpY8etWFIyOcmgLDEtI0/hBJ4yTmnfZIjyUBI6Eipgw6cfnS5H/1qNwGwwhT8vH+7VxLcY5HIqGFgpz6mrQlHqCPrTsLQekQHGMVZjjGQfWq6zDtj86kW5XpxRYZdRPbNTBRxVD7VjHPH1pwu/QdffrVCuaIwO9L5vp/Os7znbPBx9KUCV+gHXvmiwXLzTL1JqM3Qxxj86rC1lbqxGTzgmporHapyzOT/AHm4oQWI3uh1GDg9iDVd7lycAc9cDmr62kfcZI9ak8lR0AAoCxkqJnxgHn2pDaT8ghMH0JyK19mM4AzTGz60E2MdtOfu569BxUJ00HJLuc9Bu4Fa7DqKruP1oG0Z/wBgixgqGwerc01rWNOgGRz6VdYdarSnGe2aLjuUZhuOTzj15qpKBz059qtTMBk5qlI+84zSDcgdRjiqkwIByf1q1IwRSSQAOTmqk8yYBLAZOKQaFJm74qlcDIJIxVieUDOCOKpTTg9cYHU+lQx7Gbcgc8Vk3QHbAHete4kUnHA/HrWVdyKshBIPPUVLYXMm5JGenJ4rJuMHPHWtC7fkngDPrWZcSD1A9RU3EZN7F16/jWDexA546H8q6G8lBHNYd7zkDoKmTHrc5a+th855BPAwelc1fK0ch7gGuxvEDK3qe9czqEfPI5zyRUSdi2jc8PSie0fbjKynoeo2r/8AXrXrA8LHy/tCkcEZ9SWyP6Vu8nORXNLckCeD9etM6H1Bp2056/maQj/Oakqw0/NSbeOgp+2jHtQtBkW05NAXH/66c3tx+NHXqOnvVCsMI/P60g4yev407A/H0pP4qZAjZJxg0mP1pzc88fnTcEde3vSB6jDnPfr60088GpGGQTTMHB9/U0DG/jSMQf8A9dB4PJyPrTc57cUXJsGDRnr607+dMbn6UWAb3z/Wjgc9TTyPfNMPXPSiwgznrxSEe9HJ4xSeuecVWxLGkd+1LSjkZ9fWm55xgfgaQC8Htikbr1oH3jzgeuaD6Zqh7EffnmhmxTieKjfk5HPrQSwLnHeo9x/D2pSx7ikpbkrQa31+opuTyOcHrzTtvv1pp7GmG4hTPr+dJ0P1p+eOf0FNPr+dK47IQ8c1E2T7fjUm/wCv41GfbP1oYk9dT5eS5KSDBP51u6TKZXIPHv61zUAIbJOTW3YTiF+TgHGc9q6WZxlrqdIc8Y5+lG7C89QKZE+QDkEH3pHPvnmsGdd0VrmYhScHP1rn7mRpJDnIyemc1vXA80gKfrio20sIgcqD361pCCOepKxS097ixAmR8AEEkHGf84rRfxK15L+/HPt3qldYRAB61R8sseB+ldyR57dzcMtm3zb1BPUVW8iFmJifHfqKxpIXDcilCyR4Iyo+tZShc0i7G7BqV3Yyf61pYjwVZs8e3pXU2lyJYVcc5AI5ribW48+Mo4PH8Xc11Gn/AC2qAk8KBzXLONjrpyd9S1cTnpnjNVR879+veldtxOacinPFc+x1K7J0Y8DnFSqR/dPNRj34PrUo+oouDuKF3d8c1atYN5I/GooUDY9zzWrYQAmhiVy5ZWpyMDPc+9dJYwlVXI6VRsLfa2MVuIwjQAgcUiriM/yEYNZd1nOfTPSrNzc4OBwKoSThge/vQK5Qu5fLViSOnQ15X44v3vrxbdFcovJJHc9cV32u332S3mkJBwpIB7nHFcFbubmZ5pP9Yx3E9ea3pRu7sz3OVe2kgB3oy9/mUiqL5Z8Hua6zVpQQQeg4NYaWfmMT716FjN6CWWnvKwCDJ71thHsUw6lT6EVteFtNBjOSAuMsCetWfFBtLmNUwN0Ywrgc+4J9K0SMHK7sZen6+11JHDIWLZ2qSevtXRT3P2OxZAAHcY5HSuCt4Ss6upIKtuXHXIrqp7h7u3VjwT83+NYyaM3G7Mi7mZ5CWPQ8mtHQ4PtMoAJIHJ9qzzp5lkyTkk967Hw1p6QsWIBLLgtis7lyjZGzbRLHD0JCjnFfc37KejjSfhDprlSJL2WS4Yn0ztX9BXw7dDcnlx/ekIUADkknH9RX6RfDTSBo/gfQbMDAt7GFcEY52jP45zWqJo3TdzqbG4E4fhhsbacinznrj6U8JsGR396ilJx+Oeao3I4CSzGpyaitxwTg8ntT5TiNuucd6AOf1Bh9obPXP50q/LbMQRyKjnOZjuxnNPlbEAGOtKw9yGD7+e+egPWtKTiD6jpWdbAtKMdjWjdf6nrSuM564BeYg+uK1CuIh274qmqEyjnqetXZ+VHb2ouIzZF+fJHH1qaAc8Ux1yetT2yk47c07AlbQ1rNcRnHXNcV8QLwNJBbD5vm3N/Ku6jG2AHpxXmfiyUzaz03DYGB9OTUGpkw4A55NSfl+NIgA6gg08Lk/wD16Q1qQlP/ANXWoboERMUHPpVl0wc5/DNVXuNpwV7ZxntQ0I5a7utTt59yqrxhugHPXrk1Yl1OdGzFuwF3MrL3x0rfLo55VWA9eR1poe2G4bEOeoZQf6UA9SppV293uJH8Ibj3rS57A4qGFohnYqrnkhRj+VTiQY4IH41RXUUKD7mnrFzyOfShWXg85qZXDYIOPXNKwEbwZxkEkfpUUlorDkdKu7vx+lNbBz/jTAyLjTIZQd8aOD2Za5fxJ9m8PxxXI0z7RbeYEmEf8Oeh57ZrtZsYOetZWpaamo2s0E43xTLscKcZB9D61UQ5bmT/AGXpB8udLVRHIqurIGUkMARwPqKD4d0rUXC4Ycfwu2R19axbCz+0w3Xhq6leO6hOYJ0dkLoecg9Mgdv8K0PCXhSTTrZ7q7vZ1kWYgqGwCFOAWGTyR+WatMb0C48OzaKryW05+yLzyef5/wAqt2Fv4gv4FltZYjCehbBPBI9eKtu03iPVUsLViljFzdTgjBGei/412IVVCqMKAAAoGOgxUsFqcnL4e1SdB5t6oyMEbicevSq0fhu+0p5J7Jo3nkUK7FscD2NdztJFVpeAfbqaLsZx09tq5RfOCEjhcbSPwwaqyTeJZIVFjbJcomVZgvyk8e/WtPWrl767TS4XLSyjDY42qc8kj6ZrrLKySztIoAdwjULuIAyR34qk7BY870fTNXg1f+09TtmNyqlY416DcOSOeOv610D+IL2MEyadPx1IX9a6tkBxnkdcE0xztxz+BNRcRxM/iJJJbZruwb903mLkjIP+PNVNZ8bQXWmXUYjkM7KNidCTkcZrsppFBI4OeTnnFY2j6vBrHiGawGnW7LDGZDMIxzyABgj1NNsdjS0W+Eek2KFckwqxGMckAnj8a0xe8H5D69al8teMjoMfSlaKM9s5qBWKz33Jwhx25qJtQGWODxycmrEkSDsBmoTbKSeBQOxGb4Ecqfx60JdqzYHB64JqeKzRuCKeNPjyDgcdSevWgoVLyMKN3U1KLpMjkYz2PSniyjPJAGfakNjCMhUHPXknP50BYU3saHIIwenNXYdQi28nn1FUlsosAFQR6HmpUtYwCNuB6A0CLn9oRsCR/PrUTahFuxu5z/nmiO1iwNq7cdgf8ak+wxvyQGHX5qL2HYaNUiHHPHUnvUw1AMT/AFp8dnHuHyDA7dhVuOzT+79KCWQrf+XjCsxPJxUn9rgEEoV+oqytsnTC8e3WrMMQXOOM9fehahuUV1JiQNrHJ6heKm3zMDgEn6dau7M9SD9anjQY7Zp7DtczYlunOSBgHucf1q3HBPn5doz1LMeavxRDoee9Wlj9B+JqgKEdrNnmT8MHirsVi3OXJPU1YSPnHGKsomKBFeHTYg+/nd3yetXUtowchApPfFPVAP8ACnZH/wBequKwgh9hipAmOgFMEwzjv607zcDjHrSHYfsHXOKB71C1wATyPzqNrsDJ4x7mi4NFk9KazY/+vVVrk+h/CoHmlY8RNjuTxmkVYvFgO4/xqIyAdTzVUxTH/wDXQLd/45Mknp6UriWoTXSAnkLg+tU5b1R1PH1pL9baCGSSeVAqEMzs/A/L61xup/E3wppe4NqH2iRTgpBGx/XGP1rL2iW50KlKT0R09zqK4IXLkDOE5P6Vny3skqkCKUMDkkpwB9a4K++PllAzCz0adwfutI6px+G6ua1D46axKD5NjbwKT/ExYgfXisniIo1hg6snseqM9zI5wvTrkgfzNVp47hF+ZxGGBI4OTj68V4xJ8WvFDtgNaKD3EZJ/U1RuviV4pmzjUUiyfupAg/XGaj6xE2WDn1PagJ5cgyKAT1IxkVSuoZIn+adAu0854HPUmvEZvF3iG7z9o1Wdge6gLj8hVB7y7kf95e3Mqk/MskzEH8CaxliUtjZYBvdnqWqa/p2luzXGsxAA/MEUufp8ua5W8+JmkCVlW+kmBPAiiYEjtkECuIvMykZJRQchVOAfrWe0KDoB9a5ni5HSsuh1Z1Fz8RZZZH+yLIwB/jBBrm7/AOLGpjcjwjg4OW68/SqyzGAvtxhuufrWFq9uJWyCSSvTHfNYvEyNY4CmjYt/ivksl0ohUgnKqzN+eauW/jyx1aX/AI/4o5DhQsv7skfSvNrm2f5hjJ9fWs9rUtnAz9a0jiWZVcDB6o9reafYD99W5VhyCPWqE8sm07gfSvKbLU9R0vb5V1MFQgohbKpj0ByBW/B8Qp/lF0gmGcblAB+p/wDrV0qupbnm1MJLodDdygBga5+9ky5Pb61cfxJp12iFJUZ3JHln7wNZd3MhyQRkHoDWqmmcsqbi9TU8NzE3rgn5WU/jXT1xPhu5/wCJkuTyTt+nWu0VhtzUTeuhltoOpuOp7U7n8DSDNZlCMMjjg0zkGntnqM03GfWgVhjD/OaQenX8ak7fr6VE33uv/wBegQbaacjsad3H86U/SgV7jSpxnP5Gm4Pck0/k+tIBj/69VYeww8HFG0npjmnH+fej/PXrSsZkLAd6jKipZB6UznnPTvVDuNP1zSHpSn/9dM5yT1+tAXAKcdaQ4yKlPTnv71FnnHaqJYuBjgHJ681H/FUmRjpUbdaQgY+n44NNxzmnYHTJpuTnuRT3YtxGznuaCfbNBP1BpMnP9fWpKuMYnPPSkB56U5vf9TSc9OKdybhiom/zmpCT7VGc0xXGH72Ooz3pMHrxg0/Hf9KZzmgQhyDjHFNJyeoH1pxJyajZuR29c96kQcd8UjAYznn0pGPIyc0jfd/+vVCsfLxhMeCfzqxEcgAfnT7gcYKj6g1VDFOef8a6jK1jTjvpIu+fU1YS+e4OO1Y4uSe3Gea07J1Xk9+tS4opSaNOBGODipLq5Ypsxx35oic7cjp71VvHO7pWkVYxqS5tCo+WcZGRn0rUiiiMYwACOtJYYaPkDpycdcinSkKflHB9BVSnYiMbkX2dGc8ZPv3qG7tAqEkYHOMVcjJxkg+vpTb5wYCCecZGPXFYJts6eUx9OTdc9OOuM9a6iFyEx0xXNWc62828jIz61tQXYlHynOfeomaRRbL8+pq3GRxuFVokJIP61bQZ4PFYs3LEagmpxBkZzg+lQxgKRzVhPmOOnvU7F3LFrbg5zW1p9sCOOOc5xVGygJbqDnv+NdHZWo+UDr3pPQaaLlpHjng8d6lmfsDTuEjI4+tUJicn+dBLGzsCeTWddS+UjY69hVp3GCSGOATxXM+IdUW3gkO8jCngDOTjiqUbsTVjlfF2pteTLaxsw/icgcZzgAY71mQZihxjJ65NP02ZLi9kmmwQ2SAOzHHr+NP1a4iAbYcD2r0qaSVkc0nrcxL+XzZto557VdsLQPtx+tZqDzJi2RyeldZoNgbmZCBlRyT6CupRuZSkaljAmmWZJVd7HBJOCTyRxXP6xKJpWZRt6k4rqNciEUa7OoXvXF3rnLZP15olpoYx1dytbjzZlUdAa3nYRxhR9axdOYKzMOxqxNeneckYrnep0LctQOWmAz+Fddpp8i3DE7CeoP8AOuDsbiQXIcDJByO9bVxqd06hS7AHqKIxuYzvsj0P4dRt4h8f6FYBf9fdKq59dw5r9NNKh8mFIwcooCjtwAK/On9kXR5Nf+Nmks7Fo7ENdN7lVJA/E4r9H7GL5BjoTmra1Nox5S4y8Y/HrVWZguc9BzkmrLkj61UuDyP1pF7kifdGB25NMvGCwt0HByc1LHjaB7c1X1H/AFOPX3ob1EYMih5lbrg96kukIRRj3pkIJnx1Aqxc9UGOAO1Sx3G6fH8+ep96saj930wKSxX7xxUepSHpj6nNDQylapumJznAxzUlyxHH+TRYqQrE+tRXLZY8809w2IhyxxV+1TOPU1nwKTIMHrnvWpaglwOfUmi4It3Enl2+B2FeY6vMbnU53PO1tv5d/wBTXo2qOqW5L8AenOea8zJEskr8/M7N+ZNSXa7I9hpQpGf8KkC9P504px1pWLKzfNkc/WmLCnJZQ+R3qx5eTjp/Wlxjv+VIW5XNrGOi45zgVA+noclQQS27g1o7S3/16btIPamw0M8WG05JIycnmj7E5PDcA5Oe9aW3jnBpCoHY/gaNyrIzfskgbhsr345/nSiGUdCTV3qfWl2ex59qYupQPnlgAMinbJyTyT7AVopFntz9Kf5YxgDnvQFjDlEwyTu4/wBnrVWSZxzg8cnAroHXccYyfWq1xGNhB4Gc1S0A898WXoikt7iPZFfREtGWYfP6Ljqe9WJvED66ltaxBhLPgyKD/qlPX8yK0vFnhKDxXpDWgnayuFYSQ3KjhWXOAw4yp7457jpWJ8OfCes2+rXD6vEqGFSrPuB809AVPce/FWncLWPQNNEGmWKQwgbhjc3ALn1NZOu+NbTSt5Z/nQ5OFPIBweeg/wDrGukj05JG3FBnt7VHq3hOy1qzaG5i4Yj514bGRxn0qLrqBHpGsxalDHIEeMOobMmMH8abrOpRWFtJM4AQKfmHOe1aUlvBFHtAVNo4zxgCuMjs/wDhK9YZoy39n2jhjMzEZb0Hrn+X4Ux2NLwnaSxwzajcn95KCqnbghSRyfrxW6t7Hk4APvVG5gXOF3AA4xniofsm0dcA1A9TUN0GzjFV5Z8+4z1zVP7I/H70jnPBJFZWrvLp0TSicrGuS2WxnPFMEO8QaumlWbyGRvOc7UjXlmPt7e9XPBuj/wBiWklxOhj1C7IaZSc7BklVz685P1x2rE8L6Ffak0Osai6tIR/o6EYUKOjEfy9etdbJHOp6qwPfJzTeg2rFt5e/580zzhwSaoS+eoPC5PTHOPrUIM5PP8utSBqeYGPc07cPSsxWnzwPf609WlHYjv0oHY1E4/GriMMZxWMss+FwhbJ6BSSKljuZckbGOBnhc0r6juaxYdajZh15ql58o6xsc+i0z7XKDwjcdSVxRcLF3fyO2KnhYHOaxpL2TPMbYx26n6VKl+QikpIm45yy/wA/SmmFzdiwe/FXIx+FYSXjxlflJyfSrqX0gHCtzyTine5N9TXGCeOtSp1649s1jfb5dxOxuOwGSaBqc+cCJwexZeKRVjok75qYDAye/XFYiXdw4yIiCxyue9Sie+ZR+6YgcZI6fjmncLGwMf8A1qljkHTv9axI/trH5l256Y//AF1bit7g5B257Hk/nTsK5srMBjj9anF2q47+9ZcFnM7DMhA7gd6uJp795D+FUG5cF0Bz+fNOF+ARkqPqwFRwWAGMuTnqauJp0Y25RTjuwzn86QIhN71I6DnjmgTyyZARserLitBbZBwFUc54AqQQj0py0HsZ8cU7dh+PerSWbnktj1AzVpV+lPLAVGwisLUDIJP4mgW6AnKKTjGSoOPzqVph05Oew71zXifx1pPhaFmvrtY2HSNfmcn6DmlKSjubQhKbtE6Aqq9OvsKzNc16y0G282+uo7WPGQznr9K8N8XfHfV78vFo0X9m2zHaJ3CvIy/3sHhfpya8vYvcXDz3M0lxO7bmllYsxNcFTGJaI9Ojl8pq83Y951X4/abEGXTLS4vXyRvfaifnnP6VxesfGjxFqB2wSxWMbD7sIyfzIP6V55HICSBkHrirGw/KTx39yK8+eLkz1IYGnHzLV7qt5qrs15cSXWTnEjZ59cVRKheigfQVPgDJz+FQSnvnp+tckqspHcqSjsQNGd3J60eUMZ/rSO5VgSRgjPWmibfn1z1rO/UpxGmMA8Uxou/r6U+SQCmrKOp4p8xPKG0FcYqCSMjOOvpVndnnNRls5+vfvUuRojOuEbb0IIOaz5EYnGD71uSYZWH49ayZ/vY6cDOO5pc1wsUXjO08/XrVW4iDxkHjC4z3NaDkbcVnTsWyM4x+tNMDClth5jZGcetVZbYDsK2JIzznr161SkX5iCPzqk7GElcyJrUHPHNZ0tkdzZOfoa6CeM9ffmqssXHA5960Tsc8omDJbHt1/nVXc6k4JHuCa2pUPORj3qhNb4yeetbKoc0qSkVrfU5rK5inT78TBgD0JHY+1dxpPjW0uFXzT9mlIBKswwWI5AJxXByxc9Bz61TuEK59D2zWiqM5Z4ZT3Pb4L5JFUjPIznt+dS7wTwc5rxDTddu9KnR4jlVIyhJwR/8AqrtNI+IUErKs/wC5cfM25gEA78/jW6l3PPqYeUXpqjviMU3344qKG8S5Tcjh1Pccg/jTs5//AF1fMcb0FPIqIg555qQjPem454OKaFYTk0nf+tKTj/8AXS/rTsA3p6kU2lOaAue9MLjMn8PrSY/L1p9Ify/GggjYGo2yuCT1qQnr7d6glnAA5+6MH3oHoOwPWmMCKgOoKoJPA9c09btJIwwyQecmgLEh59femevX8aUSD8PrSb+Dx+tNiE6nmkz/AJzSEkn29qTOSP5mgWgjHn/JpM/gKU9aMGjQGg7Y/nTc/NyOtGeeTxQe3t360ybgcH/OaTA//XSHAPH60hzSsK4mO9N/P86U5OMH60nf0oRLQn5e9No5BPTkYpM4B4zn3oRWgjD6GompzZ64FRk8/wCeaEIMBvrSEhe2aU4x/Sm5X0od+gI+brhCwOcZ9iaz2zuxj8PWrV5OfXBNQWyNPIBnJJ/Ou2xzSH21o87gIpJJxgDNdhoPhdpiTLtAB4DDrS6JpqWkgcN85XDEDHFdlYRAKQvJHzDHf/OazlUtsCiZj+HRGnIOAc4BNc7qOncttPTIz71213cnA/hKjketc7qNysrMxAHtn+tZqoxONzlRcvafIcnHuatW85nOccdaq6ku+YkcA1b0/wDdxD1x1py11LS1J3l2cYA9azdSmATOc1YuZfmYmsPULkucDoKFG5rcSK7ViQR361dtZPJmQhsIxG41iY5zV+1lyNjHgdK1cSU7HbWtwskYxgn1zVuJvX+fWuQtr2SzfIy6dxnrW1a6xBJk7mU/3SK52ram6kby5OP5datQREtnnr0rHh1aCNxls5GcDk1PF4kzP5UNu0rEZBORn2HNZ27Fqa6nYaZAchiw9MV0NvHtQElck5wDnivO49T1aRgIBHbsckZOSPrkEVPD4r13SmY3ZjvYAMsIlCkDvnaoo5WxOomd9OSMYORVB5jk+1V9H8QW2u2zTW0qkoAXiZvnXPt6e9LcSBQTjBNQ9AuinqFyVVxnBxxjjNeY+M9bdrhbHgKQHdh1J7D8q6rxFq4t4XK4L4JXPPP0rya6Z57h5pCxdjuYsTnNddGHNqzOZsrOIYMg9fSs64vDI2CTjOap/am27cnHvTDlzXfymDZo29yARnn1Ga6nT9YayTKAA4I5J4JGM8Gud0DQ7zV71be3iUu2CGkJCjnnnHXvXbap4Kk0eIRPMjybsEKO3c/nxWiVjGTRiXuvzXLHJ+93yazmczNg96tvpTFsAZI7VU3CKUr12nGBSbLhboWY1jgjJz17VUZxI5HXJouJsrgj8abZqGlXOeTisDoOi0XSvNjEmfunoO9aU9sm4IMA9ya2dHsvsemhfKUM2dzHknnrnNUbiHa7Ect6etTzNByn05+wz4XiTX/EOqkBpIYlWNh0BIwee+efyr7Qt327QPuj9a+b/wBi/QG074b3F+yBZLq6Ks3qFUf1Zq+ko1GAeK0k+ZlzXQWVsnNV3P7xQe5qy+O3HrzVbrKB70GFywoP096q35xHgmrqn6/nWbqb4B6njOPWjZjM6Fcyf1p84O/PpSW2SSafJy3I6n1pWHuTWnCE8ZJ6g1SvXzJz9K0kAWLpjvWPdyBpunQZJPai4IlhOIielUpSS7Hrk1cYhbf3AyeazySxz2+tBe5PbfeNa1mOc8jFZVqMk4ratVwuT0zQ9BdTM8TziCz3Z4UFjn26V53Dk8ZPHUGu08XXP+hTIR/rCFHrzXIwxAdPqT61KRrck7dP/r0wn2qf9cd6o3M/l9Tj8aAuJLLsBIUt3woyTUAvc87COMkkVmyeLtNhmEVxdLGCxXec7cj3FbPnQyKpBUqeQRyD6HP40WsSmNW7GCeAM4yWpTeqOuP++qG8o5yq+uaTyInA+QEjkHP60WHcT7ap5/XNONyuOvX60n2GMnOWU+xoFgmCDLKc9gcfTtRaw7irKCeD1/WrcOxlGcZ96pnTwq585wueuKltY2kB8t/NUMV3A9x2oAu5Ve/NI5Xnnk+1Mayl4OahktpgwGRt79eaYBkbqrXfzjGcH1oeGVRjIBHtnNVZEnL4bJwcfdJz9KodzktT1e/Gu/Yo3SGNoRKu7v8AMw/p6Vo+G3urbUFa5vbcRsRmIZzgZ4y317VpXtozKshtkmmj4VmQeYBnOAT2PpXDfEDxKsOhXSLYTNMAyBhtBRiPlYc9O9X5AtD2WEdAQQOuc9vrU08gji35AAODXkfwq+MJ17S4LDVY3Gp28QUzg5WUA8N7HHX1PNdPrHiCXWQ1hp6ksTtklIO1QT1qXFiTH6jey+Jr19MsGCwKQ08+Mgrnke39a3ra1i0+zjtLdBHDHwoHc9yT6mqmmxxaLaCCBWZj80srDBkb1NEuoZzwRzjNJ6FWJnAyT1qJjVY36kn/ABpn2tOTn9agNiw0+Mg/nmuW1GOTxP4kttKhObaA+bNIDkbRyc/oPqRVvxF4gTTLTeh/et8qjrknpmtfwrpI0PTQ02Pt11+9mZjyM9F/CqRVzXlITAUBUUYCjjA7VE8o78Ae9MlnWViFOcAknPSuQ8XeJJ9Kkjgsykl3Jhih5whB5/z6UrCvqdgMN3zS+WMZB4H61n6RJJNo1lcyMTLLErsPQkCpf7RRHVGYF2PC55P4Utyi0ZAuMCp7ZlfPAJI9M4rOnuBsOePb1rE0DxQLjxhdaIpyYrYTEAdPmHf6MPzp8ttSWdsMen5U+M7ScAj1561XjmGNpxnOT604SA8jn3zTsVYsZBJyPc5owDyOD6jiqy3QLFc8jnGaVpuVHOWPA9aVgehLwSAQp98U9YwCGAHFYOsaibGez2k+ZI5jTaAfmIPqf85ro4wQi7jyVBPtkUAtSOS9i0+Fp5W8uNRlj6D14q9Y3EOoRpLA6yxSZIZWzmsnVbdLuxuIXHySqVJB6ZGKd8OiP+EfkQNuWC6kiBOeRwe/1oWwtjo0txxwBjqPWpREOmMgU9ce9PUj1pFCxIAw4q4qjp/PvVVTyD+tWhIuOuaYEgQVMg5xiqwnHep47kdyKBW1L0QzirIUe/8AjVNbpAB0/OpPtS8Yxz71Q7XLqKOtW4+mfzzWWt2F7A8+tWUuT2A/PrSuBoDB/Clqg93LjCofxPWq8lzchGkIEaLyxYgAdyc1JSTbsjW3Ac/p61n6vrllolq1xe3MdvGDjdIwGT7V5J4t+NT2ksltpMkErj5TOMkA5Gdp6GvIvEM2o+KtRhuL7VLm4jjHEbuSASe3YZ+lclTERitD1KWBqT1loj1fxn8ZJrstBpANvAcqbgcOR6qe3sa8muriW8lEkkjSHBy0jEknPXmpljI4JyoHBBp2zivFqVpVHqfSUsNCivdRSKcc9arTYUZz+FTXc4jOMjOMnnpWJd3uGwGBHeuNs61EvJKM9RmnreEEgkHtk1hNfjHBwfXNILzNFzSyOh+07u/1xUU0/pj1zWRHfbAQTmkfURnrj8aZny6l2SfsetQm4285FZs97xkHGPeqkl+QDk//AF6lsOU1Zb3GSSBnrUX27HII96wZr/PfH1NVv7QO7GelRcXIdauohUHODn1oN+NpJbv+lcsNS7Z/OhtUz6dadxcpvtqHJIY4PPJqlLc5Y8/j61lm93dxyfWpUkMmABxnk+lSKxb8/kjPvk1VmPvz1qUIR/nOajcHn1OO9bWsSU3BznJ+g71E3rip5D1BwcehzVYt15FMzauQyqOePeqcq81cc9/1qvJyc9PqaZk1YpvCW/n1qpLEKvvnmq0yng/nz2q0zFoypoQM45rOmgyTnoK2pV9+TWfLGSTjtknPp3qgauZUkIweKoyw7eo79a15cVWljDjnnvjNaxlYxkrDtI8TXugSkxSl4n4eNjkc4GefQV6P4Z8Xw618gIEucFC2Tnr/AFryiSMHr2NR/MpBR3Uqc5RiD+YroUjzKuHjPY+ghIGHTBPandTXlHhz4g3Ng8cN4DdQljtO4BlyP1HWvStO1KPUbJJ4H82FhkMMjnuCOxHvWylc8ypTlTepbK56ml+n480gbOfQ+9O744HuKq5gxDx2BpuOe3PXipXHPBz/ALXrUe0jn+dUSJ3+nvUbHBz2p7uEDE+hPJrKvbwtwMDHXmluFia6uwoIHX1rDvtSS0BaRwpP3Rnknmqmra7HYISzq0h4VSe+OvWuLvNQfUJd+8tg8EnP5U1qI1r/AFp7llJcqVHAB47Vs6JqbtaxxnkDuT05rjlgdwCSfeuk0KF2IGw7OzEcE+xpibOviPHJNSEetRQA7Rk5PXrVjr1/SkSpDR9KNvtjHNO4/GmnP/16T1KuBHGf50gP40cn1xRjPfHemBGwOfb8aTByTk/jTz9MUlNGXUZ+RpMEnrgelKck8H86Mc5pgMYAZJI45JJpD1pzDjJ/xpuep7dOtKwyPnIJ5GeaXP8Ak0uQaYc5PI/Ohi3Gv6ioj61L+NRtnPHb8aQCd6a/HIxSFjjpnNQtISDt/SmB8xlmk+8a0rC2bcG59iKz4VUuOc8+tdRo8YkdUxvOcADkmu2Ukc6jdm1piE43ZyetdDDKYhnlceneobbT0hUEkEinarcJb2u8kKuduc98VyX1NmihqWpDcwHB7msOWbzMjJ/LrT57lZySBn9apTNhSRxj0qbXZPUgvo9qAk8E461WgvPKJyfzqC5uXlJUnIzwc1UeN+vSupQZHNroaN3dCROGHvWasJldiSP51Ed+cZ4+tWIZCmOO3UGhJIvcYbY545zQbd0yeeOta9oA6nKAkHO49almgBQgDr1quYm1zGS8KEBhkfWrKz27c8A57CqN1AYnPcZplvA08oCgsepAGfxq1ZmezN+KeFFBWIsT3HNadrqE9um+FArdQwHNTad4b32KMxbf1zjr9K6fTvDsSxRiQDcVBKt2+tTzpEtNnISanqczGU3Mox8ow2Bxk4xj3NS2niu6gZ47oiWIjlsfOOOgPQg+9dneaElvaugRSrHcwX1rh9R8PzwtK3VQeCeKpTizP2bLkc5sbiDU9PnCuCQyqPlI7qw/H+tdedbh1DTldXUb1HzA52t3B9weK800m9Nrc7SQYieRnIPvVu4vBZzERE+W/wA+eo3Hj+lYTidkLsdrV2890Y9xIU8isrULRBbB8gMOvvU9k3nNJI5UYGfmPWsvW73cxRTwO9VTujtsramWcF+BVzTrYy3C9wT79apJz7123gvQDdTo5IaLg89Ac8V2p3OKo0lc7jwPZJpNpNdvGSoXcDKxXGByc96w9e1d7y+dySdxySTyTxXS6nN/Z1r5C8qyleDng1yC2bTOSTkZ/i71pynlqfO7sRX8uPzDwR09zXO3GwyMTwWOT9a1dWm8pQoboOmetc7LKXYn86lo7YIlfnjNXtKtHuLqOKIbnJ4785rDklZe+a1NBuZbeYTqxRlbIIrKSOnoeoSGS2tki3Fgq4BNV9NBub+JCCdzcke5x/WspvE735JlCqw4AUYGP8mtzwfDJf8AiDT4owGaSdN2OoUHLH8hWKi1uXCR+hn7P2j/ANh/CvRbfaQZd0xGMclj/wDWr1CHhT+dYPhKzGn+HNKt1G0R2ybh77Rn9a6CLp9a16lSfMxrDOarlSsoI57mrTE88dvWoY/nZv61RkTD1NZWpH5+fyrU245/lWPfvmU/XHFDFexDB8kbnHTnim53uPc06Rgtt2yTiobY7pFHuM1Nhl522xHPYVi8yXBHORyfpn/69al/uUZzhRycDrWTbuXnbjA3EY6cZ4/SkPct3WBFwcis9EOevWrl98qLn8qqRnJ7/jVDNC0AXrwT3Naig+V1681lwqTjj8a1H4g49Kgq5xvi9i8kac8yA8em0/1rFhiO3nmr+uS+bqWzONqAkf8AAj/hUMSk57H3709w6kDAqp/lWFrtob+2mgVtjspCnGcHqK6Uwk+9ZeoaHJO5eKUxsexBI/nxTQbHFOmlX2m/2ZfW4stQKlGLnksBw6np1P8AnNZlnZX9rfJZW0svkW8QZnZtwCgkD8//ANVdZf8Ag976Yfa8OpUAlBhsD0OeDmnSaC/22O7tJjbFYvJaM5IZRyPx5PNa6CuczJr8+oW9zLFK0ZgUlmIyuR71heFfitcypK99ZyG0VlVpEbIQ98k/Udq60eDJbVb0RyBorwESq2QwJBBwR9asH4f6RH4ftdGRTFZxSLNLg8zNnJye2Sf04q7JlctyTTfFE+oeIIbB7NoI5c7JN+Q2FLcce3r3FaGs39wdRtdO07a94x3MGB2hfc9qrS2UMWuaPcQQLHb2gaPEfIQFcD8Kn8L3KT+NNYdwFZYVETM2Cc7QahxQaHRTRfLgjAPr3rE0Z30rxSbLO+3u0AUZxtlPOfxAI79a6G5nj27iQAMnJNYenmK/162vd2Psp3EZ43ZIxn05qLAdJIm0nOOO1QPg8U2bU4j0kVs9wc5qA3Ifjjn3pALJHUfkgnp+NTCReM4o3j8KCiP7MG685qnd+HrDUPLFzAk6o28I6gqT6le9Xt3amO5GenAJJNBZyt38O9GudRjvrNRpN3uAfyFARh6kDjOP/r11VpBa6TaNBbRhEb7zNyzk92P+cVyHi3xMdM+zrFuVy4DP2wf/ANVb93ddupHU+vvVXFe5NKyE8c+wqFo0POOep4zWHPr8Vlq9rZuw33LhAuckHOB0963FBwcnqeazBFV7aPduAA9T61BPErKwGFOCck9e9WZjtyR/PrXL+Jrpr2S30azHm3d2wVhnAQdc+vqT6ULcuxF4W0k+L/ED30sbf2XpzZjUtgSS9h/tAdSPp616Bc2qbmJyW7kHFSaRpkGi6VBYQ8pFkljjLseSxx6nNOkGfpQ2S0c7K0K7yWCAcsC3XNcRr+gPr0ofTZZvtartPltgKu45G7tmvR73RLTUJVeZCWUAAhsd6sQ2cFtEY4kWNW5PqT6k96tOw4qx5lpuo6udZ/sm9cWvlIpUcrkY6KQSCT7+h71h6TaXeq+NFMsrpcwXLMxkZtgjQ5AHQYPH+c16/qGiWupbPPjDGP7rDIYfQjmqjeE7RmMgDRykY81D8x/E/QVXOkVozmvEuq3kV1b6ZZzp9ouWOXZcoi5+96nGD/8AXrhvhvDqehfEHXp9VuTczmExLdlcRy/MpG08DoF4HcV6tN4Csby4We4kuJJVAUNuAOB24rVXw7pwtxD9ihKr/Ey5b8zSUkibHnXhTxxqV+3i6SZyZLR3SEbsquN3A/IfnW74H1u+m8DWt1NK1wyiRnkK5OQ5HJ9OB1roG8F6Q+/EMiNJ9/a+AfqO9LpXheDR7aWwhJ/s9iT5OMYznPfvRdC0ZgaEbvUbdtWkclWdtig4wAcE/pXPaRf+IfEevJdR6jstkvWiaySMDCg9c49D69R2rtl8DtGphi1GWO0P/LAc4BOeCTjr7Ve0LwRbaBetc2Uku+TPmCRgc56njvSukWkjE8dLfQx2t2kRlW0ukmCLxnBwefbqfauwgvbi7tYp4gsiyLkELyccdKnu7OK6t5IpBuR1KkZwOe9UdB0u60jzrUsJLUHdEw7Z6j2odgaKet6rd2kASOIySynagUZOTnGB35ra8OadeaTZhJo8SysZZApBwxAzz07fnVyz0iJLz7W+WlC4QE8L1ycevNa0XT2qGFrlQG8POFX0pD9rYgIQD3B4H51pDk96l2Z5x+tNq49zNjjuyVOY8H72SSav21pcufm27e3XNWYIuc9MVoQjHbFLcXUyzpk5yRKBz0OatQaY/R5WbnO70rT8vJqdIcYP60FFKHTMkb5pW5zwwGf0q7HpqY5LEfXmrEYqdTRcpRGRWUacEbv97mrQRE6KOPwqrLepAMuQMdycVyeuePViHlWg3s3LStyn0A61jOrGG500MNOvK0UdRq+r22mW/m3HToqj7zH2rxf4keNLrVrc25fybIklrdDgsB/ePcH0pur61d6jPvmlLOGIU+i+1cf4jZ58KcsCu0+3XPevOrYhvRH0WHy+FOzbu0ctG7zzMcKqliQF6AVqiPZGO5qpDbeSc4x04qw8gjXk15Tlc9kbJN5fU1SuNVCAgng+39aq6hqAyfpXMX+pHOAfwz0qGXFFvUtYBZzk4z2rCk1JuSxHJPT0zxVC9v8AkjP51jS6h8xB7d89azejKsbMuotk4PB6ZNTQ35C9c+9c39s3sADnmrcEuOvQUhm+uocYY/ie9I14Tg/j1rK+0D6n3pv2rHOelMhmnJd5HJ/Oqc91lTzyPSqb3eT1qpNcjnnp1p2EWHuCWHJ/Go2nx0P1qi04J+9mozcEde/vU8oy8bkjvzT1kZiMngn1rM+0AsOfyNX7RhIeuQD0q1Axk7GzY2zXDKAc4rZSAWq7cde2TVLTJo7RQ+QGHf1qPxJ4ot7a1JRsFCdzNyDnpir2MleWxqNsUZdgPlDEZzgds1jXuoxFtqSLtA6qa50avPeBwX3FmOABt+XoAat2FoJyN4wikZCnBxntUbmrXcvI5m5U/Ke/r2p5XaCScmrHlADAB445Gf5VBIhOc8UtjNlZ+/BAzk4HWoioJyCQM9KnZDzTdpHYD8OtMxlqQFPc/SoJVyCB2qy+QT9cVWlbB7UdTFozp4yeD35zVCVAM561p3D45rKu5RWiJsU5gueo55NVJlxzn9asuwJPXrUDc5549q2uRYqN3H61A0JznPB7VdKkngfiaQof8mqTuZWM/ZtOQDkHrVuy1m80+QS28pjkByN3Kn2IPWnGMelRugzwD+VXcwqQUlZnoOg/EmG62JqKrbSggGRBiMrjJZifu88d67SCU3Cb0O+M9x0PfINeBsjc46dxVzTdc1DRJQ9tcSKoGPKZ2KenA6Djit4yueTUocr90943fKMEcc81BNcBRycGuD034nRTRgXkQt5mAG4NlDx1zj1rVn162+zm6adHUAEhWyT6VomcLg47mheXbEMScKK47XPE+G8qADgAmRs8k9QP/r1R1PxBNqO8B18pm3KoXGBnIznrWbDbGRiX6DpnitbW1ItYhkV78nfnGc9etXLezSFVHfoBjvVqC0eRvLijMjAbjjsPXNdNpnh4QKrTIHO7eN3OOBgZqthXMzTtBafJlAC8EBT1z6+9dPbWixABRgfWnpCU7Z96sIDjJH4VmZsRevene+aNvXt60tMXUB1oPPpScc0tNhYb7n16U3mlk4BOOnoM0mCOvGefSluVcTb7/hSYOetKBmkoJtcTb1IJ5pp4704n9aQjPfBNUOw3gjmmHHXr60/tz6daZk//AKzQQNYDsf1pn170/wBeAab9f5UtmVcZ1HfJppz9TS8jNMb1/rTvYloY30qLbgk4/WpC3rTSxHTFCYHzCoO7PI+ta2k30lvLkAnHOQcfrWk+gxXONh2/SnS+G5bWMshVyRx25rvsjicmmayeKCifOck9cknvWJq2ty3pKk5QNlVHQVSezuGPKnnnJFVpLaYZ+RseuCaz9mlqHPcljv3j6HA9KJLsy56jPWqLqUPORj2pyZ4PanyJFczJVyzZ68+tTvyuO9Ot0wCfxqKTlz1xS2LiU5eH9amgQuRUTZ8w89/StKygGwMSPXmpubFmLMeBip3bCZboPeo4JEYkEgU28uFRCOp+tLdhsZV/N5hOBj39av8AhvT7hphOE/dhtu496xpGLMSBwTXe+EYy8Kq7BcAEgHvjJrToRzanUoGVE3LjA5OOtaEUy7Om4j3pkLw7ApIcn+Gq17K1j+9RgsZypAPI75ribu7msUK96QpTA65z3rO1BvOiOSeBgAnPH+c1VnvhuypJyTyTzUQvt+Q+MD360IGcfqUEdnMUTAHLdaz2vWnCp1APr71b8VzRJMfLBLHAYng1h28+0k9TXYldCjbqbb3AtbYcfMRXPzyeZISTU9zemXA6gVVCGQ9P1qoI0lMs2SqZFBOMH869c8HWyRacZQxKORtA6DA9fxryi0s339CO+a6TS9YuNF4SU+Ux+aMsdp9/Y13U1bU86r7ysjqdc1BjMQfU8ZzUFqw8h5CeQM8e1ZAuzqMisM7nIHAzmneIbwadZeRG3zMvOBwPWrkzmhG3uoxtXvPPunY4U57dKx2mNP8ANMh56U0jOfc1i3c9JKyHw/O6nB5OK77/AIRPGixT25MlwWy8R7joNo9a5jw3p4ur6JCWA3Bjgc4+tem6hMLayCHIfHBHsaqKTMqk2mkjzaZpEJ2ZUg88ele2fs5Wi+IfGujRGMfaEuwrHGcgqc/59q8luYGupycck9q+kf2FvDhl+Il7dyJuS2hkZiR0PyBT+rUpLS5rSdz76sowq424CgKBVxFwO+PeoLc7gDjqc1cdcJjjisVqaMglbC//AF6rwgnJ9T+dSTcKccmlgQiNDnnqaBbD24jOSAAO5rnbpi05PvXQXGBA/wBK5tyXm/4FTAfPgRoCec5x/X9aNPUm4PHFRXUm2ZUxzt3EHg9TVrThjLepqbD2F1PiMjPJHesu0jKvnv0z61d1VsA84zzVezBZD69j60kXYjvssQD2PaoYFJPNPmkLSEYwFqSCP5ueM07kl63TOBjPtmr10RHbsfQCo7ZBuHHvUetzCK0lJ/hG4j1xzQXc4KZTLfztnozDn2YirKRH/wDXUNvEfMkJ5LOW9epJrQSLp/OkyLkITvzmkcbc881aKgAZqs65J/OncbKxyT/Wl8tc5IyxOST3qXbSY+lMRAYVZs4HNBs0bqgY9eVzip8ewzTjjHXGfWgdih/Z8QLAoAG+9jisi+8LKdTh1GwdIJlIWSJgSHX1yO/Suj496TK8jn8qdyiIWkUsQ3oQSuGUsTz35qsNMgt8+Uuwk5bnrV8vULuOfrQUZz6eG6ZBHoaQaf5bZ3E9+TVxm56dKjZ/pmpuIhNuc8HP4mmmF/7zcdsk1YVz09aRuD1osVYz5Y51IKSbSM9Rmsu+uLu0XeSJEUZcjgD+tdA2OuaqzwqwORuB4YGi4zynxj4ittSs2t0PmTNzx2wRjB7HrXaNezz2MEuGXfCrMAuMEjnNTf8ACJaMzknT4d2c7gMEH14rR8lYVKjhT2zn61b1HFWPKL6zmsvFen3905lc6lEyrz/qgdw+nTtXqM+o/M/ykfMeT3rPvfDtjcTLcSJI0qkMD5nyAjvjHpXmPxK+MupeG/Eg0bSdKj1J4Y1MxkRiAxwdqlfbGSadrhys9F1vxLFptqdwMtxJxFEpxk/WrngXShp6y6peIJNRu1KgnjyEz91c9z379B61gfDBb3xpcHV9XsTZw26gw28i4DPnqPUA9Pw9K9SYI2QUQ5OSSoP61HUoptfBecHn3qM3oOTnAHPpVh4lz0BH0qJ7dG6qCD696kLEZvEChsrycfeHOaab2MnO4fiakNpEq48tTznOKiaxjIIx06c0hCG9ixywx6inLeRY+8MH1qFtPi6jOc5+9nmmLpqB85bJ6nNF7l2Lwukx14+tBuVPQ8VU/s8r0dm56E0jac+3AlkUA5JDEZpiLQkA7gCpElHBB+tUPsJJx5mARznJyactpIvG7AznGTzRfoOxqBjxz/8AXqxFOOh/Wsc28vY9PUmnxxXGAMjGckkfSkNI2A4LcnIqzGw7HrzisZILnuVOW75HFWEt7vsRj1JNFyrGwj5xzirUcgPToOtYpt7sDKsM+9OSG9PR05PG4n9aLiubqSAHiravjqc/jXPR2l+cDzYs98Zq9HY3h+9NF9Ru/wAKANyN1xwR+dWo5F9ayLfT7k4LSIM/3ATn86txaZO3WcjpyF/+vVitc1lnXHYY9TUq3aDuMVRj0uTGPNYf7SnBNWYtKMYO6aSTP95qgdyY3sYIy45qG912C0hzuBY/dA5P5VSvSIlyDyTjBP4/0rAubd5MkAsO+ASa4K9fldonq4PC+3ld7FPVtZmvWYFyEJ4UHgVz9wrSNkk4rXvYVgHJHbJ/DNYF5qkcQIDZ+gznA9a8tzctWfZQpRpx5YITyQc5yec8msvW4FggUnBZyeAenA/xrZtvnjEzEbGPc/r+tc74l1BZGYqmNo4yMYHr/Ks5PuUo30OdnI5zwc54rIvr3CkZwRk8mn32oCOTn7pOTiuU1TVwxkKnau44Gfes7mvIGpX4y2W5zXM3l/ljz+NR6jqXU+pz1rntQ1L0OPcVI3CxPfXZZicgD0FYs1/hiSf161XvL1upOc+9Ys98quQx4+tFhXNldRMMyn5SvfJrRTWVPIPPuc5NcHc6oME5qC217EgGc++aOVmcmj0ddUzzvA9aP7SUcl8561xQ1rjOc0f2xuzzTsLRnWS6oCTg8Z/OqZ1Nv4iCe+DxXOSamT/+uo/tzOe9HKJs6T+0M9z+dI2obuAf1rnHv9nJJHue1OW5bqT973xTtYzbOjjuTu68etXra/EGCSMd+a5FryaPknaD0z3qvdX9yItwJK9S2OB+NXuYyZ3ep+MksNLZ8oSW27m5I4z0zXDnWrzXr1JJpsquNqj5Vx9O5rmp5JbuX5yzgNkc9T0zitqwgltxwhBHUHNPlEpW2O40zc20R8sfTHH513+nQIkCtkbu4BrzHw9fOZ1EgYE/KpUZy3bt9a9M012khUMNpHcd6ykricrsusAOo/lUDW/mMWHGTnHpUrHY2OCPXNHnjuMAeoqLCuVzb46/meKrzQ4xjAx1FWJrxVPUc1l3V+AxwR+NUDEnwmcn9ax55huJ3H86Lq+aQ4J79ay7iQ7uvX3o3IsSXE+7dznP61nv8xBy3XkU4sM47Gk4XPfNWjJqxEwypA65pu09MAg1K5Awf8mq7zndgEjHvVozHbduaZg5NJvJ5OT709H3cY/LimiRuz6UwxfrVgenajbx169/WmZtIpNCT0qGSE49fwrTKHAqJouvempGLj2Ml4fUZHoaasjRAgE4PJGa02t/aoJLX649K1UrnLOlzCWt4i8t1rodJhOrsPJKYBy2SRx3/GuWkgIJ9aZDPc2UgkglaJg27hjgn3HetYzOOdHl2PWtN09LYcDJIwT6/WtTBxjBxXn2lfENlI+2QE4XDPDgZb1x7812Nh4jsdQSPy5lZnGcZxg4yQc962U0zz5UZx3RoD36DvTuveoxKr4Kk4PcU9cdc0zJKwvWjvz9aDz0ph7c9aq4hS3t+NHVgc0HsT9aTj1/OkSLkHvz701scYPvwaQ9fSj8/wAqB6i8Y4qMtk4598GpcY56DNMOD9T+tPcYzjnk/jTT+lKR7kjr0ox6ii5FwPI+vPNRnPv06D1pxOaY24HIP60xWGHK9ce/NITweOPWl+vNNY+2OaBPQYR6Uhx7UE84PfqaQnqc9/WquBEwweaY3PrUrEGon6dRWdxHl9r4DvwhaG8SOQHjzcjt6gH+VMu9F1mDjzI7g5xiNyT0z3A4r0a42xLhQAT2rKucN3wTWntZPch0vM87mtNRhAL25GeoLZNU5Z5YxulgKr0ywIBrv5VU5BOT781Slt0YYYBh7jIrVVDN0uzOJxbXi42qG69OfzrFu0NtKVPHcfSum1vR0sZo54ioVhhlBwBz6Vz2r4d1fjJHJrbnT2MnHlZBFdsBjB5o3lsnP61DGw280F8dKl6miZGcmQsc4z9a1Ibg7MAcVnQoZH/Gt60tEdFGMHvTdit9Ct5MpwUHX+VKbCWU85PNbMduqcZzgVIg+YYAKg8j1pcwWM6DQhKvKnjuDzXQrp/2WKIxFgu0bsnJz0qXT4d0gOOOuK6C2tUlZdyq2OgZcj9an2hEkZuhXASabzPLYqAVDAE9eePrirGo3XnxnByo5JrnPE4fTr5wpVNwPEbYxz0BFZH9vzqmxnZuMZzyfxrNw5ndFQlyaM15ZBzg5qjd3vkocHDEcVRj1JiTvG4dqztQuDNIc9M8DPSnGLT1NXPsUr0m6uTjc5ZieSSST/8ArqJ7N4ly6sp961dLt1LeYxOQeATwadq84YBOML37nmuxPoZOWpz4TdJgd61dOsvNlUbeOtQWUHmSEkfQ16T8PPC/2y/SdgXih+eTI4I6AD3HvVWM5zsjQ0nwTBNZf6VmOUplcDBXKnGfpXC6/pMumzmIlpF6rIe//wBevY9dX7DbbYhnJJy3UjmvN9euBcI4kwBzz1waUZtS1OClUbldnPaDMttdEsRg85zjHFV9eujd3bcggHoKgYhCcGqwbfJkmtnI9OMdbjwu1egz9aZhifX6VM7AAAn+lTWhBcYGfcn3rFG81Y9E+FmhXOpSTN5Q2RLhpdpBBIztz0JIP6VpeKozb3ssG0hYzjGc5Nb/AMOPEEehaNIlzbSvE+6VfKxuLBQACCQMHHr6Vy2v6u2p311K6EB5CyhuCATwDiuqJwz1kZunRBpSSBjGScV9mfsNeHvs2geINYZBi9uBFE3qoUk4/HH5V8f2q7LWRwMMRjB4zX6Gfst+Hf7B+DOgRMpSWUNO4PU7mO0/98gVNTRHRSXc9jt1Plp+dWJDxnNRRj7ozjH60+RvfJrA0Ksh5A9anRcBeePTNV35kXPrmrMfvk0g6lfUJNsOB1PesBF/ecHPvWvq7HAHPc/yrMh4OeDz34pgVp2HnknlgNpNadnF+5JzxnGTWM25pWz/AHv61uW/FuOoB5PP60Mu5l6rlpFGeASTREmy3yOuOcVDqLE3fB98Zq0BiDnoRmpHaxSb5mP1q1ap83XODnrVVvvE+9WLZjn6+lJDWpr23cnAFZPiWUfZrjDZ+RgPxGP61r2wIjz2Ncz4qbynjBBwzYHPU4z/AEo3GkZNtwoJ5P51dDH2qnbk9eo+tWfMB470XEKTnj171RvBJgBDk9TmrRfpVS5mWMEnt3pFWKvmTLgbXc9wqjP86Y1xKASUOPTjNImqQM+BIpbOMBulLJqcERw7hSOoPNVcBv26QDmMg+pYfypv9oSHdvibC5PUc1NHcpKCyEEEkE5607avop+vNMRXbUwqbijAHs2M/wA6adQXPYdTksB0qx9nU9dtMa3RsggHPqKYDP7QTZncDjr8wNRNqCcfMOT1zmphZR8gopB9qZJp8fGBgDnHvSHYYbxWOSw49DTRdxk9QaT7HCrfcH4MeT69aY1gmPlL9P4jmoGP+1pnrih7hW5zVY6eAch2+m7imfYT0DkjPU96dy1qXPOBzyOaYzqRjj8KrfY2xjJzn36VH9mlXOG5pASP1J9/WqF/rFtp2Gup1t4ycKznqfQU+4huNpO4D865DxH4fTVb6C9vCXitcs8QyFbpg5zxg4PvVlNHV6dq1rrBIgmjkYDJUNk025lsdAWe9MSW+87pplXk/wC961yXh9W1DxLDqFpAfslseJYxtU7QVIwODnNa3jWRxpUiSwt5LACR8khRu9B65/WrJWu5eg+JmmGR0FyzGMAYCEAZ49K7W3/0qBJ0+eNwGVl5Bz6H8a8ykj0rS9ISGCzhaJoQASi7mJXOSSMk5Nd/4fne10CzjKNhY92McnJyOvtQOxomMUxiq8ep5FVZL8jO5GBbnkiqz3p3D5fxzWVwRe3ZPIP50wnnp9apm/wfu89+aX7coH940WKLOzP/AOujy+Ocdar/AG9BjkZPOAcmlF8uTnFIotBfXmgjtjj61B9sjPcU83CbQdwJzj60LQdx+36UoA74qIzAgEEc96cso5wenU0DZMoA+lTREE/jVRZBnkip45AKAsX0A9OBVqM5Bqiko9QasJKM5z9aLjLef8mnRj5s9jUKuGPXAq1DgNyfwoAu28Y4zzV+OEcf0qpARxg1oRuAOv60xWJYVAPrVtEGRVaNwD6+2asrKM9aQ0i0uMjj8KsKuf8ACqYkAAOcc+tSx3YXqevQ+tRctIh1LS/tXkkHaA2WHr1/xrH1zUdO8M2Z89xJdNjbEOp+vpXT/a0IwScHqcdK8L+IkNw2tTqJvPZmYj5uFBJI/nivGxbdk0fR5ck58stjG8SeL2uWCByoJ3bV+pIFQeHdGuNQaS7vWWC2LfLu++w9hVK3tLDT7jz72dWlC48tgML39cnNQa540icCG2lEjYwcKQBnkc4/lXnJ9z6mpKK92OyOi1jWLewtmij2lANo5I9jg+orzbXPERZtquzjcMgNjr/PvRK895ISSSpPck/Wp7bw1FLIr3IZgGyVVsEj61NyeaNNanGX+o3ErYBAU9jjj8axZba/vGGyB2Qd40JLc9SfxFetxaNa24O2CI85y65PX1NL5Cx7gABnjA4FFzL2/ZHi114M1m8YskDBCMDerA59enpWbdfDbWHQZRFIPUMefwwK9xlTGR09s1RkjO4k9B60XMnWkeHS/DjWZWCfuCfRnI/pVC5+EetzE82sZ7sZSQPyGa9xnQZ4GSetU5V56fWquZOpJnhEnwb8QTsQTZKn94TMf021CPgdq8fzm/tQe4Ck/rmvc5BVOZT2HWjmYuZs8ki+EeoyZDX1om303c/pVofCWdB82pox/wBm3JH5lhXpscXzEnrVyCPLcjgfrTbuTc8si+FBSM+ZfkkHJYQY/TdVm3+GdjAxM9zJKudxVV2ZPucmvSbm24+UAeuBjNY9zA5zjJx2pXKuc0vgjRomyLbzcd5WJ/Titm30nS7C3UJYW3TILQqW/EkZp4il8wZxtUZzzk80k2/IHPHXnrU8xLILmOGTGy2gX1KxL/hUkdpCbEM0ERBJGAgH+etWVgYx9OvcikkBjTb9TRzBa5lLbQRsRHBGi9MKg/wrRtdOtCMPBFIc5yUGfzqh8yv1wc9jWnYoc9ffmi5mkL/ZVtFIjLFGhU7shQOvc461eW0CAY4FLjJGecnpUnOMdgAMdMUcwyLyV5/mTUM9kCCQanaTBI/WkEuBjr9TRzCMueyLY3dueprLudL3555GcE8V0Erbs54FU5FBxgcZqU7iuc3PpbbcjAYfXmsu4sXTqcn2rrZVxVO5QP25x19atMls5GWNk69utVpJduPSt27hG4gj39M1RltlYEY6+9aEGRLdjb/9eqjXGWzmtC6004JB/CsuSyeInPIPPStLmehKbs8cjjqBT0vBkD1/Cs9wyckED3qMyEd8UwubIueeo/OrCyb1z6+9YcUx5JPf1q7DcE9qm5Jqqc0/yy3Tk+gqpExk6c+tXrSJy59RSExoi7Ec+tOa1+TNa6aczYyucmr0WjkgArnPWq2MnY5SSxIQ8E+1VTYE5JTj8q79dEBHT86r3GjDYygYz3qrmdkefzWJUZAwM1UbzYWyrMh/vKxBrtrrSNgAxn+tYt5p+ASBV3M3DW6I9L8cajpzKrstxDn5kbgn8a67SvHdnqDBZx9jfYG3FiyMTgFQcZ4PrXnE9sUbgfhULZQensa0577HNUw8ZM9vtrpbmISRnKE4yOn51Pjof1rxnQvE93oN2syN50OQJLeRjtYdCR6HHevU9G8UWOuxEwPiVQGaM9Rnv9PeuhM8mpRcWaZP0NNA70oIPTn8aQ5zgD681ZzCNjtnNMxzz/Onke/5U08etAmGR6/hTdx64xikJ+YdcUHI/wD10CGNnPWgkgdetKevakIJ/HrR1HuNPHPBzTadjt6Uw5Vjx1qhNEbNz1/OmnPXP6045yaZyM9wfWluID09TTGGRnp9KDk9OlNOckfnmmSJ0BqF25xn35qR8g1G6E80rAY8s2FIJzj1NZs8+7tipZMt7Z71VnwOc81kty3GxDK4Pb2qBiSCOx6077xwfXqaY+B6VdhWMrWYS1pN0O1S4Leo5ridQUfZ1PXHUjvmu8vD50bxkE5BGB3rjJlR1ZCRkHoT0raDMpxuYIcDjBpAS7Y5FWJ7Nt3AHFNhi2g5611pGNrE1nhZBwM10ECnAIJ/CsK1UeYMnjOa6O3aPYMEE9cVEti4j9x989zV+yhMgztPB9MZqO3hEx7Vv28aRQFiQiqDyeOcZrnbNdgsdPkIycKOvynP86v3SywWExifMgXqTjFZcfipCyhwGHQmNcdKzPEuvGRmFtIwiboM4/E0km2YuSOW1C5kmnLSMS3Q5PHr0ptpAJ257dqgOZHGTznk1p2cHk5fOe5Ga7NjJasW4t0gXgc4rFMZkm28kk1pahe7nI6elM05Q0m49BznrQtTTYtfZxZW+OjY5Oc5rCuH86c9xn861NXu/l2DnPXmsi3G6XJPf8605SDX0qzMrKMDJ75r3fwZp32DQrRJNxEqB+eCAcnH615N4P0/7bqMClC8SsHc5wAAR3r0nX/Ev9n2YEJIm/hZgeBnvW8GlucNeWvKih4r1VI5XXzO/wAo6gf415frV4XkZAcLnkDoTmr1/qBlZ3kbcx+Zsnqa5u8kyS2evOM1g1qaUKfKVZpiDjPWkjZR161VZyzZpwzV2PTi7F0uD2rU0VFknUEZBP0rBDHPt9a1NLkcPleAD1HaqirEzdz2i4xZaSjkiNFXlmYc8ZJ/WuEm1aIXecr1zgHp/nNYV9cyzhRI5fB43HOP88VXggeeUHpz1JrrbOJQsemWMB1W/tLC3Ku0rLgpySdwyMjrwa/UTwfpg0nQNOtAmPLgjjwO21Qv9K/Of9mnwwNW+Kvh+3nRvKidpzz2UbsY9yBX6TaZ0jGRkIAwHriuWo9bHpQVompEmabKcGnoxAJ9TUErFie3FZGZCrF58cYAzyetW161RgXMrnPQ4q4M4qrAZeryEOBmqUfCE9c81Nqp8ycgcAcfX3qIgpbE+mKRViADdIPUsD161quNlv26dazLcbpV6cHNaFy2ICTn86dhmG7FrvBBY9M+nPSrkrHyF7YqlB810ST6knOc81Zum2hRnqcdevFZod7kAALGr0EXQ4yOD1qjGuW+tatsNxUdCDQ9AvYvkbIMDA79K4nxRIJdQVBztIYk+u3H9a7a4yIsd+9cJqmZNUbt8ikjPU5PP6U7l2sQocDH6+tO8wj0OaQimketMEOJzjNV7qLz42XrnrSzZVSVrOa6uEzlGI3YwMUmNlJtCKFirsBzypx171nXvhye6YkSjeANsjckdMjB45rWOozZbMDgAZJbAFKt6WydjLjkk8UJ3JfmLp9o9rHsYll64I6HvV5eQecVnf2geuBg85LYp6ah1xjjrz3plGgWOM9qb7/rVI6ki/eIU9eTTlv0A3F1x/vdfpQSXt3GKQ9D71VGoRMDlwuOT81L9ui9RS3LWhIetREHrk/nSm7jGPm69PemNMh5x+OaY9BSPSk55pvnDnn9aXzk7nr70txhtzQIjj19zS71ycGn7+OB+ZosMgaAHr+NYWueCovEaCKeeeCL5gywsBvBx1PpxXQsw7kc9qPM9D9aLhc53T/h9BokMaWGpXNqqg/I2Hz16kYz171sQaNuglgu7k3sUo2srpgEdxg5q35mTyf1pwbHr9apu4jHtfBVhDcR73kmt4zkQuRggdB/KukZk9uOgxxVXzPr1pN/+TSepVh8ijr1z7VA9vG5BIBwc9Kk3cUjf596kZEbdOMAUpgT0Bxzin/U0LnPYikUVzaR7iduAfSk+wqfXnr2q7tpDn8KAKX2BB3b86Q6eo6M5J67mzj6cVcP0NGOaBlD+z+iiR1HUlTQ2mtk/v3IPUcr/WtAJ7U4deaVh2bKK6dIo4nZ/mzhv8c077BMcfvAP90Hj8zWhzxinAH1/ShjKCW1yh4cE+pFWorS63HLR4xxtLZ/HNXY4zwcdeanUfhQxozPs12ThNvHckg1ds4L/eN+3p1ViSTVxWAx0zV2G7C8Flx71n7RFqm5bDEsr7PymP33MefyrTgsbkgb3iGM8ruyaqT6/aWabnlUn/ZBP61mz/ESzts4RpT6AEUnVijrjhK09onUx2b4OZV3dgqnH6mm3FvJChke7SIAHrgYP41wGofFS4CkWlv9nJH3nIOD615h4t8Uanq8kgu7uR1fGYixCn3xXJUxMUddHL6reuh7BrHxJ0XSGaNtSF5Op2lLXDnPuRxXG6t8YyxAs7KWMf8APSWbB/Jc/wA68vt3Eh28KAOMd6kkiwDzn29a4ZYmctj04ZfTi7vU39S+IWr6iDvvJ4vRUlJX8jWA+p3c7EyXMspPXcxqFVGQOlVriTyxweh5wK5JzctWelCnGGkSO42AlyATkk556/WpNPi86diGBCj7vpWbNc78+p75rY0Ib85H3u/rWe5TOh0+AsuAARjqfrWvDBgVFplthV46nNay223Of51JNigY+uQfzqnNEc5BrWdDkjtmqcybT7ZzU3CxkTR8981XdRtI6GtG4TJz3qnKM5p3KZkzxjniqjxDB45rTnj/APr1TaP5j9asixmyxc5AHNV3gzn3rVePPQc+tR/Z/wAzxjHWmBmeThehJ9BzTkG3/Gr3lYyMHOetN8nJzgjFTcVim2WXpmqzWxYkn1JrUO0Dk5/GomK7Wz1B6fjRfoO1zMa33EAjGO/r/nNRS2yFgAM45OavH7/UZ64z0/zimeWTIWOTx0J/WkJopONuMHAFVZoy+R2rUa3JPANMa2J7H8aVhbGKtoQc4PNaEEPlrnvVhYDn7oI+tPMWOmR9aLCI8eh59T3puSCckCnnOKi3fMD19jzSJGvz0H61EAfm4wP51Y65ORn8qgbIP+FKxLdiGTvVGSQ88cVdcdep+tVZkx70WsSVXfd/+uq8nUY6g55qdh17VA+emOc8mmtdSSpLCGySAfYcVnSx7TyAee1bLKcDgGqstt1OD9K0M7mNLEWz0496h+zDcD6eorWaDqQOKgaEjpV3IuUvsEcmcqvPtUMnhyG46ZBHoa1FQ9xgetTRq2cc0xHNy+FzgiM45zyKdbeHZU6njtXXRpwSVByPypyoDnPX0pcwrmLp+gP5gD4VevPUmuksNMt4eSVJ43MPTPamKh6jNPGe5IH1o5hbnQw21oEHy5PVc/zqdY4jnK89c561zCO8RJV255I3E1PHdSk/ePHrSTsJxubbxIDngZqrNEh7g561U8yVu/HuOtRlpiTjOKL3I5SK5tgQTkHnAzzWJe2g571sv5vJIYDPTGap3atsyRtz2bvWlxpHJahp38Qzk9RWDeW5jJJ6jtXazWzzc4ODyOKw9R0yQ54I2+1NMzaucsSMnIqSy1WbTrgS27eXIvAYjI/Ed/pUl3atCckcn9KzJlbnAxXVF3OOcL6M9r8H+KovE1gzBdl9EwWeIDAyScMoyTtOOp78Vtnr0PPvXg3hzV5dH1OO8gZkkjzkBiN691b2P/1+1e6Wl4l7axTocpIoYHPQnqPwPFdMdTxa1Pke489en50w9R1NSZ3dKjOc8flWhzCMOfakOenvTqbnuKAsM2knr+vWl796Nxz1oyewH1pWAaT19aackc4/GnYOaQn3/WqAiP8Ak1G3GcH9akJ5PORUJxnr1pCYnI/xppznrTmyOnNMZvagkjbJbI5Hem8scevrUh4BwfrUOfb8c0AndnMefnjn8ar3BDd8H+dQyybejdOeT1qLzi3JP1qDolOL1Q3cV4OOuarzXBfjHQ+vWpZ3+XOc471RZ/mwaFoZcwkhznBIz3rndR0rMrunBJzjPWujYjrn8c1WfDZwcn65rRSFdSRxrRSxS4ZSR19quR2UVxHwSr88DrXRixWbhgOfWq13ozQK0sWAFUsRnt3reMk2csos5yW2e0f5xgNyOuTTPtBDA5wP51tJcx3Z8qYEbTxkdKadAju5diT+WTyCQDz9M+9dFkzBysMsNRlOAGwAa2ptVJg2EgAjp60238E3NvHxKhOcbicfpSR+HLcyb7m/IRCdyxMpBIOCARmj2SMpVWtDLeZFBIHPr6Vl3NwZGIz+tdVevo0cjqqsMA4VVJzz05NU3sbDUISkG1JwA67cBvfIPJFPlsJSVzmw+GGeOa0hdbLXqCSPWqF7A9nMEce+fWqM8/bPA7GlY6ouxK8hmmxyTntVxJ/ssWMYJHQ8Vk21wUl3dec5qS9ujPjqMdTnOaEi9xs85kc/WmxylWGOuarDJPHetrQvD9zq92kUQUb+rFsYx1ArojBzdkZysjZ0LWp7BJHiYoSCMqcEcdc1T1DXL+5lBlu5pWUYDSOTj6V0l94QbTESGWaNTg5MbBsc96wp9HUHHmknPcDmtnTUdTJOL1MlriSX7zliO5OapzPu4OcVsXemG0g35GCenf61hzP83TpWUo2NopNjduT/AImnYPPFIuevNOJI5/nWWzOgWEZbnP516l4A8B215o/9oX7maORsrFCxGQDggkdOhrzfR7NtQvY4l+87BR2+vP0FfQsdpJpGkxWyA4iQIQp647+nXmsKtRwVkd+GoKo25bI4PU/DtgkpW2tGHP3N7Pk/8CJNbHhPwtZTSlp7dJG6/vOQvpx9TUF15jzHhy7NzgksST1zXYeHLU6dpc17KAoRTnPORnt+NczxE7WPSWHgnoj1j9k7wyknxL1W5jH7nT7dipBzl5GCkZ9MA19oWadcf/rr5q/Y80kwaBq2pv8AO17fhfMxjcqJu/m2Pwr6Zs+5FdSblqediVZl5MiPkf8A16rTHGass2EPFULgna307Gtji0C2P3j6t6VaJ+Q49zVW3GIwTwTzzU5+6T6CnclGDdfvLk9QAwPBp1wwEQHq1I7B5SfeknPyp0/GkOwtkh83PTirGoviEj265p1mowTjr3qDVGzE6gDJUg57Z70bFszrNQWJ9DnNSzqOO4o0+LhsjFJNy59BQPl7jYl+cAVq2i/vAc9PWs2E4YYGTnr6Vs2Cg8kfgamTuUOuW2jJ7VwtxL5t3I5AGDt49v8A9ddnrbmG0lkzgBc59AOtcSh3Mx9Tkn1pCdh/X1qN/pUhOP8A61NJGfaqBEDe9ROqnnH596llqBm5pWGJ5a56D3ppiXrtH4inbqQt78UWFcaIwvKjB74qFrdBkkDk55qx070x/m9c565piehXezjfkqv1IBP50JYRZ+4vT0xj3qwsROeakRPxqbCWhVFgncbh7042EasDg9ORkjP1xV1R+lK2OMVRZlyWQJxkj6Eg/nSDTxjhmxjoT/Wr570h/wAmoKaTMx9OwuBK478moTYvgYkPA5Zhkn+VazdPSoCOSR+NVuK1jN+wtn75Bz1Yk8fnQttOuBvOPQ5Iq/1bvT1X1PSpHa5ntazn+JM59+lQutypABx3zjrWoVOfUUm3HLUyrGXm5HOSefSpFkn7hseuOK0CB6Z/GgD5eBxnOKdhmes0ykHymKnnng0/7ZKOsTDnnHNXce1AQE9BUgVDevyDExPU0w3pDAbeSM4zWgY+mPx5pn2YMexqtykVFvgc54x71KmpQj+LHrUwtEz0H1xTvsyAYIUj3FINiNb+I8lgO+TR9vjPIdSPUHNP+yxHkoM9z61BLZRbgUBU5yQGOD+FIod/aMZbhgfani7Rm6iq32RCx5YDPADYxTlswTwTjtk80C3LguE5JK5+tCyBjxz3xnrVb+zgTku3pjPFB04YOHZTnOQetBZfWcEds59akjkG7B59ayxYtkEOR6gE80otJ+QsvXsRUFG+k6njA496lyDz+PHesOOwmbGHUMTj5t2DW3o1jPJKFlKuuei5rnqVOWNzso0uaRVmkIyQeMcnNZF5fyq5wSQOldHr1uLWAnuMEAiuPlm8xj06kcDA614M6jnK7PtMHhacFzbkUs7yZBLHqSTzWfMrFsnJ56ir7OPaq789vxrRM7ZJIxrzMeT61yV6jT3DEk/eJx+JrsdSBEZJ6Dr9a5l1UysxPfv3rKW5zrcjgtAE3Yw/rUczMvUZHtV9WVV/+vWfeSqc44qBtdCnJICx5xjtVW4mWRXU8EA8k8E0sjjkZ/Wqu3L9ciokxWKwiLMODya6nwxC5IDjockGsm0gy+705NdDYy+Wcg4x2FBLOy05F2565FXDj3ArMsr0eWgAOSoySR1q4LgHmlclaiPyT0xVO5GR1/CrUkmckfzqjcvvGc8j9amwrGfOcA8+5qi7ck54PrVmd8k+361m3MuOlMYSHPQ1Xb5if5+tI02Vz+dVzL81UTYkKcj+tNKnBPSmGcHPK59M07zAy9aCbELgdeozUZPWpSM5+tL5Y6nr6UegzNdX3d8cmookYznOQCMA++c/0rVaNCc4pmxEYHj39aFoBV+yZcZyV74+tPNuAeD+dTlx7ilX5sLgnPOaDO5AIT0wPekNtzjuK0EG0cjkmo5cDmhoi5nyQ+X6H171XlG3nr7VduGBGe9VHG7np7GlbULlKQ/Kc5x1NVz0455qxODuwOnfFV2GOnf1NMQmcGmls5z+lJnHf9aifPr+dOxNyOQ8nHaoGOeSPxqZl9vyqLBpWJZAybulQPEd2R09KuY5x2oaPp/KqRDZR2EHpUUvJxjp39a0tnqBj3NV5IMMCAD3+tMzbKBtzyentULQFiMDFaoTJwR9aieAhvY9qskzPs5U5OGwc7SM5pcHecDbznpgYz0q28Jz0GOvUVEYz3GaB2IxIRxjrUgy3Of/AK9NC5/PGPWpFXHr+dQIfHMehHHrUrSL16CoAuPUfSlZTgdeagpFhXU8ZH51etVR1PTg1lRL6/mTV2CXyxgY5OSasLXNOO2DDjHB6VcS0G3HHNULe4K4xznk4NaltKD1OTnOM0KVw5SL+zge2TVmLSEIBIGeozVuPB4xVrIwB6eppcwmrmLNo0CjlVY5znGTz71z+oaVGA+IhntjjFdjMwXPUgisPUOQWNZ8+ocqZweoaHbz5UooPUsq85xWBc+FwoIyOnDDvXb3ONx4qlKm/qMYraMmiZQT3PNrrw+1ux53EckEV2Pw614xLNpl27feaWAsMjsCufTviptQslePOB0zXK3URhkBTKnOQRxiu2FU8uthlLZnsHXJ9OxprN7fnXn3h3x61iwt9QCvAAcXCglx6Z9frXoMcqSosiMJEkUMrjoQehFdkWjwqlOUHZibvf8AWkz6U5ue3WkOM5/yasxuMPXnpTqRsE8D8Kbz+fvQGwpOOmOveon9c8UrcjB+vpTT068UWE2N656YphwuW7DnFK2fpTGxgDPXrQShN2e3FR880p4o+poHvuNbp/TNQg8nNSOfr+VRnGPSmtydzgZwexzTRgLknkfrRL147e9RselS9xJDXfPHvUEie/U0rk78jpQxLCkaxViFsY29CajCknjn6mkYHd6DNTwLnqM0FEkEZOOQK0Io9x55/rTYYVZR1zntVyG35Ht+tDZO5n3Xhu31MlnXEhbcZASGP4/jSW3gJ5XUpqTghj8rRDA9Od1dFFCRjqc+la1lBtwRkn61UakloTKlFs55PAFzKhMmrTkd028Hntlj/KrA8DabajLo1wzfeaRiCe38JAxXXCQgfMMnrk1m3s+JOoBzzmpdWRl7KLObuPC2kbiP7NgweSSpJP45rm9d8JQ24NzpqFJozuMeflK9Tt98mu1km64//XWdO4+bOeRniiNSae4nSTPOLy5j1LTCHCxzRttJP3t3UnH+cVy7QvM+FBYnsBXT+JLcW+rTlD8jEEFTkH1qvo1qrs8hONrYGa71LS5kocrOeeIwrgjBHqTVckn1rU12aOS7cIpG0kE+prMUZ9a2TvqXYnsojM+3nn8K9S8JaW9paBiFVtu5sEnGB3NcT4Y037VKhwT3wB1/GvQruQ6ZaKgBHyg7mGMn0r08PCy5mcNd390zPEF4PtMpB5dixOc8msSImeUHPHWobi4aaTJHJPTNSIfJiLcgkduxxVSlciMehX12634iBwi5yCOc1zePUDPtVq5nLyuWZmLHcSxySe5qvnI7/jXDOV2d0dBVGBTWOfrSF/8A9WaVULyYHUmsTdNHefB7QV1HxEktwv8AokKlmYHGCVIXnqOa9p1yRdjlXViDjluT715P8MdWtvDySwXO+NrhwwkIyoO3HzHsOvPv9a6nVtXKyYRw+f4lOQRXl4lOUz6DDcqhdFuzi+0XgQBsHJJAySc8VsfEvUW8PeDrG1gZ0a4mbcejFV5P8wKyvBCS3upxuhcBZFVyq9VzzzWX8WdQk1jx4LJGDRWqJbBSOjFQ7fjyF/4DWFNXnYuvLkifdf7NGhS6H8KfD8DrmRo5bmQg4xvckH34xXtNmo2D0/nXIeC9IGlaJptspI+y2kMBBHUhBn9a7O3ztTjpXsWPCk7k0vCfUZrNu5Ni5x9avSt2zWdc5Ygc8nHHvWq0MS1GuVT3AJ/KluMpAxHHBHpTogNwx0HAHtTNVbbbZ9TipGjBi+eTHr71LOQpA54HNMth83vUM8v75u+1iM+tIa7GnaN8nSqOpvhhzyavWvMXFZeoZace1BVyaAHy2x6VAQSx61ajH7g9RkVDsJ7GmaND7WPfJ/k1tWsYReKz7JOPfPWteFcL25pBYwPFsvl6c6MPvoyrz1ziuTjOxAD+dbHjiXbJCNxVmfsevFYcTZUZ5NMS3Jzz9PrUTZpZJcDvULTcHjr3pFFe6uNpPB9SSeMVRk1JUbBK8dTkcfjV19uef15qJ0Q5OF+gUc0CsVl1mAnG+NmxnCtk07+04n/jUH0J60rrEGH7qIMO4RQfzxUTxxOCCAcg9+aAeop1VATlhgHBIOfarcdwDyMHIzkHNcl4jkSzsp51DfuhgKGxnI/+tVaw8KT6xp9vcyXkltHMoYIsjMRkA9Mj1qkSdyJxyO/enpOA3bB9652y0QaNC5e8kmjC8lxgDuTnJq1b20V3iRLhmj6b43ypx9DUjvqbhlG7imNL7/nWf9kJ4En3ejEk5pr2x3DEo+UYO4k5PrSuO5obhyWIqNpBms42spPyOOB0wef1qOSC5243DPfj+VFyrml5me+R7UuR7c1zVvqN0NTexcBZAvmBmU4Yfn/+vmtcx3YIBKE4zkH/ADzSsGxbxk5GKXjNZzregljhhntTd96HxgE5424/qaNCrmtkComO5sCs77Rck8RtnP8ACuf60G9lTlo5CTzwvWnfUo0SPU05evWs/wC2ORkRv9GXGaiXUJerRsMngHilcDVbJOQR9aB65rNOonqY2XvkmgakBxj8yKdwNNn+nvTPN9O1UTqabTngn1PWq41JN5+cc0blGyJOM9aDL/8ArrMW/jbOJASOuDTluwW6g++c0gLu859KRvmGec9c1WNyvrThdID98H2pDsSg9/epV9f0zVXzQTwevpUnmf7X50FE+/Hv7U4P+vvVTzdh5wc0/wAzrgipHYsbsdKkjBLA1Vjk575znNXLdlJGe1ZydjWK1NC1iLY+tb9rfxadaMZBjHOQM55/Ssu1Xbg4/Cl1WyF9Yywg/MVO324zXm15Pldj1sMle0inrWuJqO4AFEViRuPOPSuJu7hIixyPWnOsyTCFwRJ/d9B0/pUg8OXGpPkK4QfebbkD0rxIPXU+zpuNNWMc6j5pO0E/WpGuNiAsQM8nmtOTQrew5YN5g+bLHI9uCPrWDqskSxsB0B6k9a6OcpyUjJ1bVjIPLBwFYsfc4x/n61hmQsx/Xmn3cnzt9ev41QknEbZGeeTk96Tdw5Ei+JcA5B6+tZV3chZG54+tEuojBHTjORWHqF2ecH61D1I5bFia8G7Of161NBdBxycdvrXJm6beSSeuaswaiy9MAA5PvUDcDq0uQh4PBq/a3ZyAGzk9B3rko7wtgg9eo6VqWFyd+eSB71O+hm42O7s7zhPm6YB9614rwdSeK5Wxk4/XJrQExAznP40kY8puT3m1evJrNmvDnJzgnNUZrwjv+dU5LwnOaB2LU93945/Cs24uwep59aqy3mWPP4VQuLo+x49aegWLr3o5HX3qpLfehB555rKubzAIBIP1qk94wPXP40X7D5Gzoftg4ORmpFvPf865WTUDxyaYNVPY4P1xU84OB2C3YHcU/wC3Ade9clFqRzuz+vWrSXrPznr+lVcjkOhN2GPBAIHrjNMe8TBOR6nmsU3ByOeozmnRv3J6nk0uYXKzUF3k8At7CtKFwFyOvesmN1GMfme9WBdKo5wa0uZNGj5mMk9PrUEs2R+PHvVBrws3t7U2S5z34+tPmIaHSPljzkVAzYzzUbTY4A49qgklP5+9K5A6Z9xxnFQt9cfWo2kOT160wt65655pk2HMeT6iom+6efwzUbyYzyfxpgmIxnBxzTTEOzjrjg96YVPPI65phlDf40zzCOvNMixNt70p7f41GrjntTw+e9Ahdn+c0eWemB9ak9sU8AnGaZFiuYD1xUbRk8itER7gRmmtbHjA9asRmPDu4P61A1vg4rX+zHOfWk+yt6CkQ0YzW/GAOT3pvlHp+fNaslsefbkmoTAc4Oc+lLQZQ8k98cegpdhJIPQc9avLATuzgcZye9NFv1z+dMCosJLHnj61Js7ds96n8jinrblxvxjnHWpFYS3yhHp6VpW8gUg5+vtVaO1Oe44qaKMrwPr061NjRM1opCe/SrAmJ5PQdSKzYiwxzjHrUhkIxzx35pFsszSBs9z9axb4luei9MDvVyWU881nS/MSSePegTZlzwhn9Bjv3qrcQAKSD74rUlxnGBkc9aqSgYJbHXjNPcgwrkFkI9a5+9tn+b5d2e5rprpGTexBK9QBXN30zFeRjPUVpEhs5O5BVzkAY6jNdX4C8Urb3JsLmZhBIC0QLEgPkdvpmuV1KLc5Pr15qhbyvazhhnIP8J5H413QdjycRTU1Y+gkcPgjkZ6018lumBWV4Z15NY0uBzt88fK6bvnGOAT9cHkVsZz1612I8JqxG3QY496YAe5qQ8Z/xpp6ZPFMyaEYdxmo6cxOO/4Gmlv507kkbDuPWoyPfP41JnOe2c5xxTG9cYwfWkSyPHJyTTWGM9Pzp5BznoD0ppAI5/HmqsNEbHPSonJ5xn/Gn42/nSYGetFhXPP3wOn6monO7pk8/XNOeXPcfgajdsY7GsDrlEjb8jTS3p/OgnPfPfNMZicjqKDNp9RMb26fXircMRIGB+NQxIOCP/11p2qbsADHfNNO4iS0hIHI79a0Yo89AaltEQpgjrV+GHGMDjOOR1ouIjhiwBzn61r28flqvHLDO0kZH1x06UlrbDzFbYDg5wRkVcmwqE4xikU9CCZwMjOKy7jbIxJIOe9SXE5bOTx9azZpTu+XoD65pbi3ILkFScfWsm+m2RMcqMHGN3JrRubjC5JCgnbgnBOfT8q5nWrkAPtfjqNx600tQascxrMqXN1GOSwODg8E5qKeQWVoSDtJ+UAdScVHyJGlbnBzk+tZer3bTvg849DXYnfQye9zNlcyMWJ5J7ipbVPMlUccmq4Xce4/SrtlGd45Ix3Fd1NXZjJnoPhW0XToXklzjcQzMpAGB2P4/pTtavzcy4ByqjAOcjFMtvFsstiLO6RPlQBXQEbgDgAjOM4rMnnD9PXrXr7KyPLndyu0RrCZJsDk9SM1BrMuyLyTlCec5NatmuELk7QBk/lXK6zeefcudxIB4JOSa5ZnRTfNIzmyT1oHHX9BTOTmpFXPX1rj3OxABu9RmtPTdPlmmRY0Mjnoo5Jqio54xzXb+BYCs4lkC7VbGQM9qcVdlpXKtyzW0YifKuOqtwaNM1p4HETlTCTwrcY+ldx4ut7DX0MuwQXMeQso4yCe/tya8vliZJgj/L83fvz1rSpBT3LhJ03dH0H8NWijs2v5SqW6jzZCTjCruJJ/AVxHwptbv4h/GfT4izTPqF/9qdpOPl81WII9l4x7UyHWTpfwuuIxIiXMzm1KqwLiJySzEZyBglffNei/sT6KNY+KzX7rmLSLN2U4AxKxAA/Ik158KerZ6NaopKKP0LsyDG+0YUtkD1/zitiDfnbgcD1rGtz8sIA6heh/P+Zrcj7EV0dDz3uRXHDYqg7f6TGAOp+Y+lXbo5PvzVJcNcgZOQpb/P51ZBfTg5qpq7kwqOcBt2M98dasx9ev61Q1VuQpOMc80rFIo2q/MxrN35mlwc5c/n0rUjIS3lbsFJzn0FZVjEWdc8Yb161Fx9TfhzHbjPHGTWVKQ1yM5OTxWu+fJ/CsiPLz9jhjVFrU0MYjH0qLjPOKnk+6P1qCMB5B3wetIC9bJxV4n92fUVHaphelJcvtGMHHrSvYo4HxbdfaNXjAPCR5wOeSf/rVQjb05z3zUWrTebrE5ySFIT8s/wCNPjbt/Wi4D2zjqfrUR47nNTZ+tV7lgikk4A6k9qVwKWpF/LJQ5YZx71l+ZdIyZztK5Jxj/Jq+dQjckkgj1DZpj3sBHOCadwZzd3qeoRSq4BEZbaRt5xzz+lalldPJAfMBL7uo4BH+NWmmi6jGT7VXd404TAH06UxM5zxa7StBED1Y5Hr8prt7ZBaWkUSj5UQKM98DrXCa1/pGs2KRnLNdJG3sGBGa74/MT04OMVT7COT+I+ry6f4Uvnh3F9qpt3YB3MB19s5qTwRay6V4TtUnJFzL++ZT/DkDj0//AF0zxv4ZvNd0zyLCWNJfMDMsv3SBnv8AiKrWOl+J0tEivJ9PVVG0eXuJHNFg8zQ8KeIX1HVLzRrogSpE0sUgGM7WGcgexHeodSbxHaatcsiwXFoHLRqFGSp5Gecgisvwlpctn8UZ2nmF1I1izNIBgISVGPfgDmuv1+a9gbNjH58xJXbuAAODgk9xTa1KK/gfXJNcsrh7mPyp7eTa/HUEkdO3IromhHXvXk/w+t/Ed94h1kJ9nt4VZPORmIxnJXbjPH3sf/XFeuCEwxqsrh5BksyknJPualx1K2K7IQw4B78npT+xz1oZhk96aTzwaQbkTE5PQ1DHOJJmi4DDBIz69KWdyK5iO5eDxzbo+THN5cWOcAkkf1FSUdcUAH88HrVd2VG6datT9x6HHWsPXLw22m3Eo+8i7gfTFPcLmuFBHGMUw264yQMVH4YuDf6LFctnMjMBn2OOv1q5IvsKEO5TaNMkYH1qEqozwuPpVl0I71TnYrk/nS3GRMkbsMopGc4IyDThBE3RQP8Ad4rnNR8TRx6nb2UTjzGO5wynhef8D+VXJNSddZ021jBeK7cKrDqWyOM5x3p2LNZraAYBQDnkjgkfWiK1ilOPn4x0bHHaq/iCO5gs5Psg3zg7UG3OTyRwcccetctHZaz4cm0+6nu1E08g3WnO3HUqfcAn/Giwjs20qNj95+mOG/WmtoqckSzZ9Cwwf0rYkh2ueOM0hU8fX86ljRjDSQGyHYEejHmlfTn6+aw9e/8AWtfZwTwPaoZUO0mkizJ+wz84k/MdaT7JPHllcHn+Ik1NDqMf9oG0lKRzEgKhcbmyCeB36VdnjKhsD8aT0KMuNL12wfL57qTWnbWl+koBEb9sq2c/j0rkl8Ra1pd7NJc6UzWCuyhyMZQHG4fz9K9T0yMXEUcoB8uRVdS3XDAEZ/OhxsX1KdrDfA4AUk9Ov5cmhtektL8W13E6MxGCCpGO/eultoAHHHT9a0TZQSbHeCGV0ztaRASM9cHGa46kObc7KdTlORmt4GcO8YYn5jvHJ7gnvUN1qYhRiMDceVHGaveJYFsj5gwkecYzjHeuM1WZ4weDlf0r5yUOR6n1FCarK6Kmt6oWUklVJJJAJ49K4LVNXXLg5yThc/zrR12+d0bJABb+E8j2riNQmw5OeBU9T3adNF03oY8nnrWfdzAjOf161nteEEmqNxfndnPFWa8pZnuOM8isu5nL5wf/AK9Et5lT6HvVOaYEYB5PrTsTYqzMQ+MjFLE2W68e1RS5dsk8e1KMrjsO9JIzbsbNmh3jng+9dHpyRhRk/NmuKhu2Rgfz9627TUeAR+Iz0otY5ZXe529tMsQwD3qU3Wc81y9vq5JGD065q1/aO4ZJGfWpepNjWnuixznHPrVOW9Cgf7Rxn0qjLfDaec5HbtVKa+yp5APvS3KsWbm8Cg4I96zZrovk5P8AjVO4uyxPPQ1nz320cHnNKw+UtXF0d3XH41RnvSO+fWqs18M5rPubvL/Wiw7WL7XZbkHOf1pBMdw68mssTHOc4z+FWknBHWnyjbNiCQ46E/jWjEx4Az1rIhuk2Dp+dXUuxtznGe4NPlOe5ob8d849qcL0ZxyPrWZ/asUTZJBBBBLdj61kwapJe3BIIHAGB6+tTykXOvW+7Z3E+lTfaHbaeeDnHrWPZsIWzLyc9CatS3yIhAK5HcU+W3UguG4Oev51FJehed3NY8upD1zzVCa+JIxkj1FJqwHQtqA67hn1BqE35YnnP0rCF52OaYbznqRmmZPU3TehgefxqL7bz978c1hyahjGDz3zVc3wZse9WmLlN97zk9/x61ELktnJ9+Kx/taL/Fn8aT+0Bu9j6GmKxstdD1pouR1JrFN8CTjPrTTekkd8H1p2Jtc31uMkc9/XrVhJhjqCawILgnrx+PWr8MpYjngdRUkNGxDJkjoauB1bg1lxTY7dfSrUcg4yfw9apCsXlcfl1qxkMv196oCXnp17Vbik39sUEtDghz3qXZ/dNKnepUwO1UTylRoTnv8AnUZt/mJP1rQKsWAA60ht2Yjjk9qoVjN8jcTgYHrTRa84547nvWp9m29D9c0hhKnkEfhTJsZv2cD6VIsWO2frWj9lyQcUphx2FIixQZTgUzlWq68We3/16qujKxwM9qVgGM/U5NR/accE+9MdipboQR0Iqo5wDk4+pxmpNEy1JOvGGGSOgNU3my2PfrVWWTuCQDVU3W3k/XnikEtS9LLhuuao3EwY4OCOv1qtPfDGQfrWWdQyThW69SMZp6CkX9QuNy4B6DGK5bUDncB61pz3okTnO7NZt2428YJ755qzG5zN8c7snn0rHYkMe1a1/wDecnOc+tYruA/qM+uK6YI45q56B8K9SdNTngZFKSoWXocsCDz+ANemkk9hz2FeOfDm6WPxVZxEnEswQNn1Vh+FexIB79eOa7keFWXvDTnp6dc0pYf/AK6RiQee/vTSvPU81ZzNDW+9wDtxy349Kjb2qVu3P61G30Bz360GVhhHr3+tNwOfUcmnvyB1596iyemPzpgIefXFRHngdPY09vy9eetMJP8Ak0g6kbdQRjIOeuc03n8acVPbbj0phz9PoarYDzWQBM/TvUIY55zU0jbsEc+9QkH61i0aKTH8+1IBuPB/D1qMsenAqaFec8n1p3NL3J4IizY5B9q27W2+Uep74qjbxElSASfQCtq0iLdqkTLFpanGfetKCIlgOvoM9aZbQueADjvzV6KJ0IIXkc460E7EkQZc54xTLmb7wByQfrmpTKcfMCB06VmXj8nsKkLlWf5jknnHODWZMzKTg5B9+lT3DkZw2cnv3rNnlbJPv+dFgK9/cDyyAB7kjP41wviLUhHc+UWBO0NtzyK6PW7v7PbPJvIx0Crkk9gK81nlku52lcEuxLE9SfxrrpwUmTJl6fVVEIQDLdzWUFaZjgEj0psilmPXNael2b/eCsRjOdp/nXRZRMoQ5mSWuleYmThfVjW/ceBr/SbM3c8W2BcZYOpyCM7sA5x7+9dJ8PvDUusalxEGtrdlaZyOfUAA8c4616jrFrFbadJEYwwYHcpGQRjGKFX5HZHesMpLc+a7p/n46DoQc5qxp0zzSBDznvW14t8PpZzma3BEJOGT+4T6e1c/anyJ1l7qclT3r0o1lNXR5NWi6cuWR0WpP5FsI1xz1J9jXFTgiQkkE565ravtRe8mZyFVSeFXoB2rGmbc5rGU7kxQwDJqTaeMcHvihRjn+tSYJ6CpWpstR9rE0sqqoLEngDk16toejC20lZsFNy52uuCT61wPh6we5ukCRliOSckAY9a9KvPPj0lIAjBVGNwBI49TXRC1i1Y5W8vJA/PDZ5PrVL7EJxuIBK96nv43LbgCR7VJahvKUYwW45qpMi5mag7DZCTmNTX2D+wl4fI0PW9XA2mS6ECnH3gB97PXtXy1L4de4yRkvj7g4LfSvu39kbQ30D4SaMkqbGnLTFiMbgzHB/IDrWDlpoaptn0DbDbcqCvG0n6elbKDismwffcEnk45rXU5BNZLQncp3Qw+QccYOTVG1y15Ic9sYq3cglyckgmo7eMK7n1NMC2i++ayNTybgDPIUDH4n/GtlMgGse+ANyx4z0pD3ISv+iSLjAZSufrUVnDhwAOB1J6mp7iQJboOTucDgexp1iuST6UFWJrrKp1P0qjZxgSHjmr16flx6frUFsOvNIu/QdNkDHrTbRCXyOOaJW+brUsB557/AK0xmmoxznjrVHVJ/LtpGzjGME/Wre7EY+lYPiSfyrCV+uVb8KB2PPgWluZGPO52LH1OTV4D2/Wq1rgAZ9BznrxVoHuKi49B3Trx9aglXfwcH1BHWpWPXnmmDv70WGUJLND/AAAY6AADFU5dOi5OWDH0YithuO/5mqjoNxPXmqFYyH0sHPzycjHDkY+nvVafStq8Ft27PLE5roNvt+tRuoJNBOx5nrmn3+jeIdO1BIXurQOHkaJSShHPzdeuBXVaXqi6kreRPF5i4LI5bccjPA4zit8IOxwT6Gk8iIuHMUZcHIfaN3507gVTDdrubg9xxTJBe7ghjTnsCOPxzWr5vGSDTHk/yaCfQx4LCSyv3vBADOy+Xu3AnaeSOvtViW4llG0wuwz/AAjJP0NWvOEhIGDjrzSO4QZxxUt9Rpsp6LDJpd3eSwxM32oqXUkcAA4A/M1oS6vMrnNrJgdff6VWl1e0s9nnkRlzhd2cHn1xWssIlQEDKnp1FUtSjhvFPxM0/wALJvvY7o72CrHbxhnJPoWZR3H5j3rprfUlkhifaw8xFcK/DDOOD7jPNUtb8FWOv6lZy3cS7bdgxwDuI68HPfjNdG8YYnj5egB9KH5Baxialq0UcBY54BY45wAMknn26V50fGlrrXibR5YraeJoLhWaWUAZXcpJx9B0616xJDGeqqcdmXINRlk+bMUZA65Ref0oTsUgm1S1l+dZVIbLDn/PNcn4k8V6NbW09vc3ccczIwWIt85O09B3rqDBayts2RqG4G1QM+uMdOlRz+DdIvWD3GmW9weMmVdx/AmjqVYyPhjrcF54HsmedTMkkqyruyynecZHbjFdCdQhMhVTuJ9KS30HTtPhaKys4rRG5ZYhgE+tVrjSYCdxDD1IZuvrUCTuTG9jYnBB5wRu71XmdDjJGDXO+FPCN1pvijW7q5nmktZYwIY5GO8ksCTnpgdK6KTRo2cjzbhM/wB1x/UGqehoZd1odheXKTyCRZlXarRvjI568e9c9N4ch0rxloV9bNI5jmXKyNkKM4UdPUk5rsDoKbuLm4P1YHNMOgfvBK05MisGUlTwRnHf3o5gJ9TvYLGGW4uZVht1yzMe2M1yWlalZeMdbT53NlEwJZmwGI6AD8cZ7V1Enh+S6BSWYSxkYKsnBH51PbeGEh5iS3j2D5dsffrx+Q7000C1NlirZOe+agnmKj5V3nPTdjNUjaXYIw8YA4AIIOKhubK725R1D9Q3v9P8ajcOpNa6rFfSSRqQJI/vLuyRUsjcEe9c7pfha902/udRCR/abg4Yk5XH0z7D8q0LuLU2iYog3gdUIOTn3p2LvdmLqkRi8Z6Vcv8AKftKQrjuSAB/k12t1hI2zyAf61wa6J4p1bUbGa5tES2trlJ1IK7hg8jIbn16V2s812u3dbSkH72V6mnItHM+I/DNz4i8trC8SOML88aswZyCRjj24rt/BOsC6thp9zEbTULZRGYGIJcLgblPcdK5a40+7lkaazE1tPhsEKSpJzjIFP8ADel6ja61BqN8AzwfKBFCyls7hzu69f8A63NUUeoxYB9zVoTbetc6NUkXLmCQgYOAv/1qzb/xv/ZeDcWE4jwT5i4Cj8TXK43NEa/jv5vDU0ycPGy7WHY55/QGnS+E7TxF4ftblAY55YEYgNhTleeg6+9cN4m+Jem6rotxBbh2umGEjLcZPU+ldv4U1aVfDGlKbaUkQKpIXg8Z/rUVKKkveO2lWlSfNE8h8WeCb7Rpf30JeE8qyjjn8a86v7BhnvgkHHNfVt7ObmNopLR5kYYYBM9eOuPeuA8S/DiLUlY2tvcQHAwojbA/SvIlhLaxPoqGaXaVRWPnK6gIPQge/es64jJP869I134Z+IbV8LpU8yKeHQA5Hr1rjdS8L61bs+dLnRc8bsD+tYuk1oz1li4T2OckBU9cVTluBH34PvWlPoGrsSHtWTHZmUY/Wqh8GajcOS7hY8HdHkE/XrSVMl4pNlF71cjkHvkHrTTerxWzB4DkyubhynP3kHP45q/b+BY/mBaUjqQzdfYYFPkS3Zm8Rc5RrvghQPzohv5IiMA9efeu9tvh3FIq/wCjMvOQ3zHPfrnFadv8NkZgPLU+7gY/rUXic7qN9Dz+01YMxGGyOpxx+f41qx3pdcgn+Vdz/wAIEkAHyxcEDKgAD36U7/hC4NpLHc27J4HJ9ScVneJomzhBelgeT1xnNQvKW4Fd1L4SttoPBPXBFVP+EOt8nc83HYMOf0rNNdS1U7nDSknK81RnhY9859q9DfwTZkHaZUPqHJqpJ4Ktmb5riX8MD+lVohuqedSWrjPOBVRoeea9Jm8F2vaefjnPHP6VRfwLbOTiaRWPVgRz+FGgvbHn7gjjrTMspHYe9egDwBaKVLT3LjqRlR/7LVmHwdpkDbzE8hXn53z+mMVd0Z85wSF1GOee2aS5kuYAcBifQqSK9PgsLOH7lpBgdCY1NWC0XlhBEigHOQAD/KpI5jxG8mvJXCrHK/OchDW7oenzrgmBkbr8ynnBH+Nep26xo52IhODyFBwQev5U1plEpwFBPUqoFZ3Icjz+ZLsMVJY98BM8/WqxhuthLgoDnkkivS5JDt+8cHqM1WVUycDBPJwetA+ax5pOzRjlicHHrVM3L5IwVBPBYYz9K9WMKfNkDB61DNZW0y/v4EmXPCyLkfhRcTmeVyXLJks3ueaa87jByTmvTW0WyYnFrCqsc7QgCj8KZL4S06QZa2UHrlcDP6VQc55i9y3cH86hkuT7g+vrXo0vgiykkBAmTGckP/iKpXHgW2LrsaQA53ZIOPoMU7hznn7Xbjqc5PrSC+Knn867Gf4eJyUuJQevzjOfyrOufAN3t3K9u5BxgMwP6jmmLnRhfbt/c5709bsdic/Wll8M6nbo3+jMwz1VlOfyNZ72VzbyAPG8ZPZgRSE2btvdnA9a0orzHt+tcpHdPGwypOPetOG8jmhl3v5TqpZQRwfbNAjoob/ccZ5q3Df4brn8a4pLxw+cnGetaVre468596kLHaxXIODk9s5q/DOOuQfpXJW15ux834Vs2jM+3BOO9UiNzo4nB79atxdegx61RtIGk2fKWLNgd+a3LPTZHxkHBP51SIfukYi3/NwPYVMIWVThVJJyGI9q1bbSTvGQcda0V0tE7fnTuQc9DYluT1PYVL/Zp7nOD3Ga6BLMLyeM1IbdcY455ouScybTtgVC1sVyMc10r2g5zmqMsA69aVyTAa3zk+vrVae2POMc1vTQBFzkDHb1rOnAbkfjmi4mczdoVbOOhz9aybiQ9T1B7V0d/HwfbvXO3+FYjgk85zQJmdeXYCf3SP1rKlvepJzg5xU2oOozznB5rn7q+QSlRllXuBxmixS1J5dQJZsE9ary3ylenI6n1rLur35jyB9OKoG9JJ681SQm0jTe/wB7Zxg+maRrjPUE1lic7j9eak+0j6fjVqJlJop3xyxwTzknNYkvUn0ravnGOKxpWByMda6Io5pyLnhq4eLWrKVODDMsgJPUg19AM+XyBtyM4FfOmmsVvF2BSRzhuK+irZxLb27gDDQod3XPyjn8a7Is8LEfEDZPPNNYE49vepWHPXvyKO3I61fU4SHkDB5/Wmk/r70/72SKj24PaqENb/J9aiYfMeenXBqRs9ccUwnrkYzRuSMyM8g4qM4ySOlPP0NMYnHIJye1SAwnnNMJ7Y5+tOOAP/r0wjj3zRa4Hlu8KMMQATj608crx+dRORnHXBzk05SMEdqlxHbUkS28znPT0NXbeLPQdOpqvCDgAc5J71r2ilBxyScmlctE1qjYBxgjuARmtqyUsVIBODyTVa1BIAKDAOR2ya1LSJEbcwYZGDt/z71JRehJBG1GbjJ2gn2/rUvnMrk4xhduM+9QxnBwMimSyEHv+NJqwh1xOdvJJyecnOfese9n9Oat3cvA54HX3rGupsk4x1+tSDsRzS55zyetZN7cqu4Akj1YYqxNMApHII5znrWBqNwSrnuB06ZrSKCK1MvWLk3REQJ2k5IB4P1FZ1xAkNqMqCferMas8ruckA96z9Tud7kdAO1bJ9jqUEZot/MnGB3HFdZpennC/JkkdOlYulwebKCeefWvX/BOgpqcTea+EjGAAOTnPPt0NbSlbc3hSsdj8NrVH0sJFiOPZ5zFR8xPfr29BVLx5dtbXARCpBUMwznHPf8AKtq3SLw5a/6OMyEbTHj5QAfXJ7V574l1UzXEkj7WVssQAck5OST+X5VxuN3c6k+VnCeJ7/zI2UEM55GTjIziuVOeh6n0q5q9215evJu4BIVQcgDOeKqRyAZLnkdMjNelRjyRPExU3OdyGRsDjjjvVQgbifxqSd8u3pntUKt69PetLnISDj/69WbdfMYADjPWqwxnA4q/ZW5ldPvL8wPynGa1RSPQ/h/ocVwTcMDgfKeTy3bA9Md67HxbqUdvZCNBjepyA3X/ADk1F4Gha00RX+zsZAxxt/jAHB/WuX8Q3xurqSWWRVV+VQMMIBxj/PJrZnWkkkZPmhpQg5HqTWylujTRooVQo6Dv71j6b9mZ3LSDeOVBxgj6+tdBpG0MXK5YHIb29K5KkjNq5saapjchDulbCqT1BJxx+Yr9BvhxoY0nw9p1l0NpZwxbcYwVXB/Umvhv4caPHrnjbSoF/e4nRmj6bgGBwD+p+lffnhxT5M7njMhIPqP/ANZNcVKd2VayN/SkOZTgfexnHbA/xrW6IaztOOVYqOrc/XFaLZ2+ntXfcwZUf5s9eP1oiA5PqaLg7B0POaIslATxkA49Kdx2J+ik9c81jTHdIc9c1qyNsiY9gM1iZLvnHBpdRpEV23+qTPUbsf5+lXNOQ7SSTye9VZxumU9Qq7f1JrRgO2Lr+tBV7la8bcwHbuaSMBIm+metQ3LEz4z1OTUzgLH16+/WgZDu3MBz9auWq5aqC8sK0bYkZNA0i1J+Oa5TxpLiy2bgCzBT7g108j9M9BXE+MrhZZYk+6wbJ568UFnPwZLdKuKMfQ9ahgX0PBqyBx61NwsRuBkfrUJkAOKmfjNZlzb73LBiG/zilcGW5ZBsB9O9VWnGcE81nyx3CuAksZA5/eIf6GqkkdypOGQnryD/AI1ZPMbHnA96aZR0zWL/AKWerouP7oPP50nm3QPA3gdRkD+dA2zZJGOvWhSc46isj7ZcD/lixx1UYJp/26fH/HtOARnLpjP64pBY1/5fWo5PunBPNZi6med0TDB7kZNS/wBorwHATPQlgM/jTC5z0+ov4V8Wwy3DqmkaiVSWVwzeU4BCjPQDOD9M+ldpeactxG0UpOwjBKnBPuDXMa3Fa65ZS207rtYfKykHa3UMPpTfAHjB7qGXQtWnQaxYqNsrHH2iIHAbn+IDGfYg+tO3US3OD+Inwktlglu01TU2u8ELH53yDuAM9xntj+VezeEfDH/CMaJDbJqF3eoVDqLuTzGTPJwfQnnHaq979k1K3ZJSDlTtJ7H1q1FqKRW8MbT7hEixjJxwBj+lDfQpM0pGHqM9TVWSXBOOlVX1CIciQHPpVW51aGOJ3kkCIBkljgUi7Fqafg/rWXqmrpapK52g7SVBbGSBwKpC/vtflMWmwMyY5uHGEHqfwrY0jwVbW0iz6gy30ykMsZzsRu/U/N+PFWvMLHmGk2viuTUrO71e8Itbq6EMDQkKhDsSeDzgKCM9Ote7zlcnbjB5GKjnaOUFZI45FyCFZQQCOhHoR6015VUKAAoAHGcYHak7MCJhknNROMc05pQT/wDXqF5B61HUqwnqcdaCO+KaX5xn8jSbySOaAY1jjnn6ZqBtRhBBMgXAyc8k+9TuM9eQa5zX9CsJI5bq4M6IFyyxzAbsfh+FUoXBG7aa9aTXkdt9ojaWQ7VXIBz+Nb3kEDJ79RXm2jeFlt9V0CZkkRptQALStnEfBHGPb3r1i4wrEEDIJ6UONirma0Ixz1qMpzg4OPWrT9Sajxk4qGFhgjB9BTvJBPGKkwOlO6HsfxpNl2BVC4ABx1zUm1e+KiLY54qvPK3IAJz0xzUGqjcvgKOePqDis3UdftrJ1QfvXxuZVOSPQkGuZ07xJd6lc3UCKRFExXzQvXkj6D1/CpZ7fbyRlupY8k159eu47HtYTBqrJ83Q0f8AhOZIzlLbcrdmbBp0fjve2JdPR1PUMwI/UVzcineSeKBGOv8AOuVV5nuLAUl0Oqk8V6ExV5tEtxIDnItVOD9a1U+J2jqAksrQkAAK3GB9K80u1JBx1I6A9aw707FYkA46k9q0+tVETLLqPQ9c1D4yeH9NzuaWX2jQHJ9M5rm7j4+wsxNrpErDnBlmVc/gM/zrx2/uHmnI7DI/z+VFnFz8xI/E81zyxM7kxwFJHpGpfFfVdUi2/ZLWCMqQpG4kZ98iuSvtQvr+PM8oJDZ+UAVUGR7+9SK3Y9Sa53UbN1RUNinLAW5bknqT3qubP5ifT9a0JmXuetVXk6AHms+dlcqLFtbxhMucH2Nb2m6dBsBKqWJznOa5y1f7RKE54POOK7bS7RikffIzjPI61LbYWJ0tljjUYGB2NNcAAgY/CtJrUqgB9O3FULkGPoPxrJjsZk5OcHtVKXgcVZuWLSHg4HUmqj5ycjpRYClODwRxg8981WkkAHByfyq5LyGOKzLnOGPNUhMabg884+tQNN645qF3II7H3qOXJbt065zTsIfJP14J/GoI5vnPp70MDzTIsZP160rATM2RzxUEswVSB/EMH6GpnT0brVZozuYkcDn2PNG4rEL3Ajj+lVmv1YEkjHXkgUl9IfL2A9Oo6VUS23Ic9z60h6Gla3Yk3Ace5+tV73UVssPKSUB+bA7nOKLWLytx9T1pfsRvbqKPAZWb5t2eMc1ZNkjdktv3KMM7WUNk9+Kzihzxng9q6Bin2VIsYCqM59cc4rLeL5zj7vv361FxLUjA4Gc0FA3BHB5qwsYHHr6Umwbs0EWIljA7A4p3SpePTrUZbBoFYifnpx9B1qBlIPfJq0fm/wDr1A4xnOTQBWkHU/nVJxjORgVbnfbx+lVGbd2qkxFSYBjwMVn3FoshG5QwB3citgx5B7VWkQ/h6+tBmYc+mRuTmNcegHSqj+H7Z8gocMCPlbbit948jFQhSX9Bn86szWhzzeDlOdt0yDsCuT+JzSReEpo5DtuEdSerbgSPYV0yRknHWrSRY49Ke7LUmZemaCAVWQMEGckdT+NdZYadbRlcuBzkrnGfxqjEpGcfjVtPrS2Ym2zsdOXT9ql3RTns3NbkdxpwTZ58YHYs3J/EV57Fx6DJySOM1NnPYc9xTuZ2PRvt9igAE0RbHQNTJb6AjAdBkZ+ZgM1wMW7HBP4VON/qTz3qSkjrJ7xDghlPOCAwNQveBRkHtkZOc1giJ+cEjvxTTFIcDpii47Gy2reozzjIqvNfowBDDIPTJzWesEvJ5OOuKeLGSQfxYPpRuLlJJb0OO1UJZk+bBAJ6mrbaRKOpIDc49aryaY4yMk/XvUtgkYl3JuQBST7tXOamDhsYz2NdfPY8YIIOevrWNeaaOcYXnkkk/jQmK1zz++Hlhsn5jyfeubvCEDY9cnNeh3ulROJGYkE/rXG6xouwYD57ZJ5JxWsXczkjk5Jck5Ocmq4m+Yg8YPep7y1aF2HXntWbJIUauixlJ2Lhn29/zqGS4Jz0x/OqxnNV5bg9OxPrV8pg5kss5bNU5Lg5IxjHrTTMCw5qGSXJPatkYSlcmQF+r7dxzkDpzX0ZoaeXo9gFIx9nj56fwivm2CMtMoyT827pnpX0nobCTRdNdTkG2i69vlB/rWq0PGxMNUy3znnoe9Iw7dR35pW5PXNBb1P51qcqI8YHHT3NMYEmn00kfX64pkyInJ6EnFRH35qV+f61E68AgnigkaevT8M1G2eBjinFiCPekPIzT2AiPyn1+tMY/hTmyOmTSMDj0/GkDPJUY854qdBnoM+9RH5m56+1XLaPpgY9c96TsXqi1bR5+voa2bO3fIOSOR0PWqtrGFYDHHXIrYtgM5PbpUXKuXIIinOOKuI42j5SPXI7062TK5J/A1c8tdnQGpFcgDjGe9V5nxnnkc1LLGg6EqMkc9T71nXHBI3j1+9TuFrsiupAec/hWVM+Ce4HWp7hzuPPGeeazryUKuc800hMo6hcjqAAfeuZvZ2lk2gnBPTNX9WvQsbMCAR2z1rEtZDI7SnoK1sWn3LMxNvb9lOB0rmbiQySnnNaOqXxlYjIxnjFZaEb8nnFaKPU257HR+HY1EsecnLAEDPFe6eGWt9N0UIrs0rMSSy8kjP+I/WvB9E1MWVwrogcjs2cexra1Tx7ekbII1gVeQytknvznNbui5aI0jiYwWp6fqmtiAuPlJJIPU4+ledeK9WC20iq481s7SR8xHQ1yU3iG+lVw8rLnj5G28dulUTLLcctuYjuzEmnDD8juyJ4xSTUUNdwoOP/ANVU5JGY+1aEVh5qsc455HrTXtlTgc/WttEee02zP2t+FPC9asFRnApDETyadyLFfndnGK1LC5ddhGMjjPrWe69gK6Lwl4eu9Z1CO3t1V3ILPuzhFBALMfTkD3JqkJmlca9qMtpGj3Um2PlVycD8Kw5JGbHPOeRXpHiT4dRaLarM97JMXOFVYwoHU8nJ6f1rmtO0GOW6jQqzhmwVXrVupDe4KUnsZujQK8qGZgiswG4jOBnk16PbWSR4RRlM8cdRW3ongTSdM8P3l/LAk0sER8t5mIcMQduBnHesqGBvOjcSMSvXHcV5mIqqWiNKae57H+zj4eifxldX5G5bS13ID2Ynbj8iT+FfZGjwiLR4w33mZjn23Gvm79nvRRa6Nqd6EH+kTiFMeiqxIH/fQ/KvpePEcESjABC9ffrUUlfU6Jmppu2KMAdSd3FaEmev9ao28OGjc9QDgE+tWmbjGeM137s52VJyCcHnJqeP7o+lVXGZVGe+auIPy9ae4yK6O23OcAY/OspQN3HatHUvuAe9Z8QPNOwDCP3hxzk5PNXTGRDn2ziq0Ee6QgkYzmr9wSIcdMVJa1MjG+53Hr6+v+c0+5bAUdeeRSQEtO5OMDkH1ply2ZDjIx696bL6hHy4zWnb8Jnv3rMi5I9a1E+VOg6dc9aQdSOV854wB715/wCJZS2rKMbgEDED1JYZ/Su9kfAY44+teb6lcm51WZj1BCcH0/8Ar5pjkPiHHWrG2oYsBR1J9ePTvUp+vHpWZRHJznA/H1rGvAZZliJKEsDweSPSttqwr0vHcbzGWAIwy84rQm1ytc27BThyuB3JOK43V9eu9NuCkcsTJtB3NHyc/jXWXF7vGCNucj5j1Ned67BLd3Dk8YO0DIPQnH8hSsZvQux+NLu6baUgZlORtVhn68118E5dImP3mUMw7AkZrzC0tpIpWIAY9PvYJ/GvTbeP7o6BQPx4x/SgC9H17H2rQhiDYJGO+azl+XHtWhZuXJUZPGfWpZTJ/JGeefrTPs6E52gevAqfHNLxjA/SnYZnyWyE9Aa5DxrpaQXFvq8CrHdWhDM6p95FHRsdhn+frXduB9TWZqdolzaTQOvmRzKUZenB4P8AOmtx2LFlPZajYW13EoaGeIOu5e5HIx7GoZbaBuzdcjDGvO/CvjGLw5YXWiX4MV3ZXDmESPgsjAEAA+4Y5/2hXVWVjrPi+2RlU2GmyD/WsCMjPUHOWz7YFWOw25uILmSOGzD3E8owgjJ3ZPt+HXtWlofw1FsouNUuZpps7lt0kJSPOeMknJ5rp9G0Sy0CLZax5crteZuWf3z2+gq7JMenpQyjPOjqMBJZYVACgRMBjAx6fyqKTSuMG6uHA6K754rQMmc8imk5+nrUiMt9KfnZcuNx5BzyPzqM6c4HE5zj+7nn860nB57DP51CxwKCzOazuscTxgA55U5/MGo2tr0crKjHPRhgD09a1Bz3zzRwB06VL0KMbyL7c2ZI+OuCTk/lT4/7QJABVsnsAP5mrs9wsalnwkY+8xPSsVdSuteuZLTRo2lccNcKSEUHgnPp1+vamyWRX/iC5075ZIjNMDgRxkEn8v6VYsvD+pazeJdapbSJaKMpbxjBbPPzDOR+PNdV4e8FWmgJ58zC81BjlrhwSF9lHb69a2WbueT71TdhsxHu5SIM2bFbdsxBUUbTjAwAe1K+sTkfNbTFvZcn8q1Coz0qJsK2eh9aCYmTJq0inBtp1z6pmoZNSlUAmKTk8Dbitlu59Tn61GUDYJ5IP8VZs0MkauygFoyMnoaT+3BkfJkHjIYVqFUBPY+tVpfLPLYCj15zSNEyi/iS3iVi7Kir1Jaqgv28TzfZbCRfKP3pTnaBnH1qM2s3jK5+xWKBLWJsz3JHyY5/HI7DvXommeHbLQ7RIrWBQVIJkYZdj6k1jNdWdlPexzWp6RFoVjBHE+8F8s5XlmI+Zif5Vm3RX7PvyOTjHfpVr4halL9pgRFyEXk4ONxxiuVfU2aABiAcdq8KdVTm0fYYWm0rk8kw3YA5zUYky3PT1rMN9kkkjG7HJxmpYZzJgjOKcbHpyVjVMAlX1b1AzXNavDjevXnk+9ar3hUYywyMHBxWfdFJF+nqaico9Dnvc5SWy3OSB04pVtCoBrXliCnNRSbVU8jOM4zWAjNbI9seveoXl/zmn3LjJ5HXrmqUkpx369aiw3uLLdckHpVOW6OCQTkeneqd1dHfjGPxpI99yQiZLHoOucUyHpodN4RhN3dliSdzDv15OSa9RsLbgZ5YYycVx/hTQJLFIpZhumYZz6Zr0S0tCEy3Jz2780rXZjcgltuOSAaybyLBINb90PLAJGM9zWVchZCfpUtFXMC4te/rzVGSE1vSQqO5JNULuPGe39aSTJ2ZgXEfpWXcdwa2LrAB5wfSsqYZyetUkMyZ0Jb+lQnORkHr1Jq5KhJ5zxUEi4PTPOeaoljCARgnBqLy9p9abK5Df7NMFx82M8H1piuWxjj0AproDxUW7LZz+tODHPXoelSxsrT2alxj09frSfZAijvwDUt0/wB3Cs2W7DOPc1cMBSNckHjrmkJsyJAEIA75q9pkbpGZGJ3MuNrHpzmhdON1MR265OeK1orYogGOAMUrCK2Hbjt7GgwH8fcVqR2gVckdO9NeMfU9zT5bCuZXlnOO9JtI4wcmrzRjPHXqag+6SeKWxN7lX6jP41Gcl8ds4zVoqWYnp1Jpm0DtTFsQ49ep7U18AVIc8c/rUL9OaHqIozqHyR6+tVvLY9uKvMMtkYpjD2oFcqFDjmoWQk49KvkcYxiq7DqSO9Ble7KD253HB4pvkAdefar+3cTgA0nl5PFaIlsgihC/jzU6Q/NyOvvSpEdw68Vcji5GTyDTUbiuIkOzPQ59acIecgHirQQe2aliUBgew7ZqWMihiyfrUyx4Y981NgZGBx34qTyxnPrSKuRL8g7DGeOtWotrAZH1ppUDkgdKliVdoI5zSsMlX+dWoog3TGR1qsg5GMnPHrVqJ9nTrnB5pAW4bdcYIxk1OsKL0796r+fuwOh9QaGnK8D+VK4ExA5Bycdc1VuIwckckDpnrT4psqxbHpg1WmlA3EHmpBoz7xRvHCggcj+tZk9qpViegHPvWlO/mA56gY+v+c1Qd9oOamRNjltWtR17DmuVv4ldGVm4z1xXYas/UHIzkk/WuN1ZgnOeCea2itSbnFanabXYA5BJ5NczfQlWyPxIrs9UAcZU9a527g3cZ5P610LQ5Zq5zrSHODzz1qrdP83BOKvXcBQnrmsuUfOckk11LU4pMhLn1pu85POffNNYndSZzWpzyZctpj5oAI+dgufTJxmvo7w3cRzeHtNMTb08hBx3IUKT+lfN9qMtx1PSvoXwGqSeEtNdCFAjZcZzyGIPNaI86vubRzv49aCR6frT8hevPNM3exIHJrW5yXGHnjGPxpG6/jTjz7fXvTS2MggEZ6mqIuRkD60w49ufWn9WzmmP16896lCI3X6Cos54OPXGakbPOecetRnr09s4/rSF1Ebjt+dRM2TkfjTmYnA7Zz1prYA65zQB5VBmV84wT/jWpCAOuB6n0qnlII2IwcDOaxBfXN5K+HZFHZGI7VNrhzdzs21ODT0DS7iCeAoyTVmy8XaawIKXCcjBkhHP02sf1rjxJLcqEkTjIYFgQ3/6jmpr1ZIE4VYiwz8o4A9q0jTT3MXUa2PT7LUEuoleHAT/AGsA4HrikbxDaCcQNcwpK3AjaUBj9BXnWheIHjc2krnypFKhgM4b39jWFqS+XMykgqGypH86PYu9rh7bQ9flvlkxg9BjI71SmkRs/NyOteaP4tu41jSB1WOJFURbeML/AI13FlOtzYW83IaWJZGDfwlhnAPfr1qHBrc3jPm2HTNjcc5/Gue1S8w5Udh161q6hOI4uvU9q5DWL7ywz5AYHjIz+NEFcp6GXqVyXl2Hpn1qtLc+RDhSV9eetZ8d6fNLsC+7k5OMmq91cmZs9BnIFdqjYnnsJJO0hPX86IN7kAcsew7/AEpgBOAB1rs/CPhtbudHljWTyyHZZFyAM8H863irHPUqWV2U9J0S7mjEkdvIyngsVIAqe90e5RikgIIJP3ge9er37pZ2oUjDkZAQYBFcPqEwkkc+p7V0c1kcEcS5u9jj20uXcQBk471J/Z81ui7k3M54CnNdNY2gnkAPc5zjJ6VNqFoiy4DDbESM+prN1Drg7nOSQiKDBUblPJx1NZj9eOa1NQP7xucDPFZvR+vTvXO3d2PVjGxC0fI7+v50pHB55qU8n2qGf5eB0NUtSOUrHLNkdc969g+D3h8vbTXiktK2F6YwO4B+ozXksCM0qqNpLMByeua958E3CeGNJSF3MgSMYJIHzAHJJ9zzRUfLHQ5HqZXiSW7utSkguC+yFmVQ3PfrVextRbTRyJ83zAg88/5zUN74gOp6rJK4BUtkEHqvGK7XwXoqaxJGG+ZVfcpGeVGPyrjV5DVRR2Lutyvb6FBCcZmcSMM9QMjH5msG0g3zqAML1bjG0DqTXO/FXxnP/wAJhfaTp9yyWemf6IxiOC0mcsc9eCdvH92szw7qGr6nfW0UWozKvnRrIzSZ+VmAOfXgnrUvCN/aFTqX3R96fBHSRp/hLS0YES3Lecc99zMAfxUA/jXtBjLSRoANoYHJ7c1574D0caRa6Vp7MZGsYY4WP94quCc/WvSLb57heh9a6YR5VY1kbECDnrjjFRXL/MAD9fep4uh44+tU5yzSMOMCum4EUeTcDPGK0F7cVRtk3SO3XHHH1q+OBSsSzP1E84qvH8qHPaprwhpMdvaoDhU54yRjmi5SHQjMo+ual1CTbbt7jrTLX7x9u9Q6w37oIOrcZp76FJlW0y244+tNlPzscjGetOt8pCT69aZu3ZyDilYa1HwZ8xR1zWjISsQHtVS2T94ParNyPlX3pPUtK5Dc5W0d85xzg8d/WvMY8tcTkjlpWIP/AAI16Lrcn2bR7pzyViZh74Ga88jXdg8DPPFJsa0LseeOxqXBPtimQqcdeQalbkfjnrRcoqXUrRqSAWI6Ack1i3F/OWP+iTADuy4z6VtTkDIIJ+pqnO+cL2HUGluTcwpr5nzm3YE4JyOeaqy3sX3HRB7nAJrZnXc3pkcn86ga1U5yqnPfAqjN6mTG1ixJMMG4fNuCrkc9c1aW/i7MvHGAwqz/AGehPKjHuM0f2bAinEUYJ/iC4IqR2IRdp/eGfXdV+wvIYVPzAHpwaprpMTNlVP4HGfc1OdKQxgc+u7cc1SQLQ0ku0Y5yD6mniQFcj7vc1gz2CxLu3zKVHVZSM+uawZ/EFpaM8YnuZXQhWVQWAORnknmmXud1wTnPWl8oNxxWPptncX0ImjuZbeMnAjePr71YktL1M7btQF5+aP8A+vSJHt4T0aXWF1W50+K41FFCLNKdwAHQ7T8uffr09BW6Lot/F+XT8q8+1nxHqNtdwWNti5uZQWESqPzOOnFYWp/EfWPDF/BFrmmfZLKZtovolLIP94ZOOvTOcc4NacrY7Hr3nn2NN8zd9ax7MX9xZRTxSRSQuu5WDElgfwqUrqC5JHvg8Z/OouXsaZbgY5P1oDEdcCsk3N7HybSZv91Qf61H9tuzybWU46qFGf50twRssQe9QswPFZjalcp96wuh77Bz+tV5vEMdqhe4ingH+3GRnp/iKa1LRsl9v4e9Zmpa/bWSkYM8hIAiThmPXANZA8RT65drbaZbSFSwVppOAvrz2/nXR6FpthocgnljNxeA5WWX7qd+M/zPNG4Mq6d4TvNeuFu9S8yxtWO5IFJ3v9R2/Hmu2srW30+3WGCJIYl5VUGPz9fxqidfiPJ+VepYnj86j/t6DggjHdiwAptiuasj81Xds54qi2s23XzYiSO0gNRHWYOplQf8CFK6KL3mY4/pUMjepxzmqUmrW27/AFqEnsGGTUP9rQlj84B/OkPYv7s+pFBcY61nHU4gf9YB3yTiobvWI7eMO0qBO/zAmqsWi5c3qQqS7hQOpJxWXaaffeLCYw5t7ENiWUjBPsvqcU7QtOGpXUt7fOfKJ/dIvy5GecjnscV2UFxFEiRxBURRhVVcACpehSZY0jT7fSrdLa0iWKFTnA6sf7zHua1TnHzdKzIZ13g5/DNaKTrIvXrXFUV1Y66UuR3Rhav4aj1Xe+9QwIILZ9MVyWseEksguXduSflwM8djiu4v2a0PXgjcD61yWvavLMuCTgc8GvnJpRZ9hhpzns9DlJLKBOHBfHTJ/XpULukSAR4AAxxz9ajvb4s7btuP4Sp6/X9azbq+WJAT1JxQelyNks8uWyp571Wll9R/9eqv2xXfOeTTZ7hApOcY9e9TcFCzEln6nI4rMmmLk4GPxpZbsPkDNVC3fNMXKNlcnr9apTMeg6enrVpzuqPaCfX8aZjcy2tHuWwuSa7LRdNi05Y2K75AOGJzgH27GqNlaozjkrznPrz0rfiiLMqgj0oMnqddosIfDnlR1/8A1/jXSxXAXGMYGcg965Oyult41QHoeTVp9SC5IIJIpbszsWr+9LSEE/J1A96o+duBJ/nWfPcEsTnr1561Wa/xkA/rU3DlNGW4Xn/ZrMvrkMCT9BVO51IKCdxxjkmsu51IsMZ4psaJLqZWJwR1zWe5yevHf3qtNeEdyartdZGc4ovZ3CxZdh0GMe9VJTzgYFQm95pvnBs/rzTHYguEPJzVCQMGHp1rXHzsRxz61XurbI4657VL0JerKccx3KOx71pJCzLvI6dTUemWY+0BXOVJwRiuqsrNFjKKACckt3PrTJfkc2ts8nIBx1zW9FpJkQbwcsAee/vWybNGRASDgc4/GrAh2oDgcAc5+lFybmVDpSRZPIJpzWnzc9Bz0q20gbI7+marvIFzzk/Wi5NiCTsB0qpKPzzVmWZNvXkmqjOM9c0WCxC6gVEQDnvUsjAnnJxVaaQL0PWi4hjnB5H6VCzdemKR5ScjgfjUTyhRknNPRgNeTk+lQO5/+tSPLuY8jGOlRBuvX6UWJZIW/D3pp/Omh8k/40HB6UyBN2Tg0wge340uMnvx2FLjP9apXIY3aOwFHl7Scd6kC+n/AOupAvIOOnrTEQJHlhVuOEHk5/Cm4HPSp06AfnzQQ9BQPTpTlHOAc80Ivyk9hyTUqx/SgVgBGeT9akWQ9s4FKsBJzjr3p/lYY5FJooQHJ5H/ANepl49PcUw/QUqA4PNFh3JlbkYzz29ak8wn2/GqwByD6etSDnNQUpFhZCOQc0plOBnnJxUK8HsQeoNDn3qbFokYnscZ9DUTsMdTmm+Zj3FRyMOvb2qXEQ1iHFUbkbRkmrLtj1qlc3A5z+tOxJz+sp8uR1HJ964jVlLRuCecdRxXa6nOvzBicHPIrj9TOY5cDJHQDvTS6i6HJXpb8j3rHus9RzzW3eAlSeT/AErEucKpyetdMWZTMm75DHoc9Kwrj7+fet6bGSTzmsfUFVpSUG0cZGc11RPOl5Ga/r/Dnr60ZGPU0Mpz1/CmcrnNanJItW52yKcd698+F8wk8FwIfvR3Eq49i2f5k18/RMSe9e4fB+bd4emjIY7Zt2T2LD/AVojz60Op3LEH/E1G3GO9PkA7fU0wDIPerRxvQTdTWxg84pTwen51G3Lf4VRLIiDkcng0vUnI7ZJNLLwM89ajViSSccU9WKwjKfwqLb1JP4VLnnIzio5D35PNG4mREYJxzTHXv0Prg0/nrTeoPJ5NRYVjxK1vp87JnZmblQfQYq7buVlVUjA7k9/rVa2xcy9Aqr361ppOLbLCJfm4JHeuvkSORSuPigjmlYmbaw52k9vWmNqEAUwyI7gcDavb86QGGOZZJAf7xUddveob02V3lot6Nk/KwAzV2J5iiw+zzAxZkVWGSxGSPepbuMXPIz8y5wRg1HCp37fU/WtHaqIc7Q3llRkdB/kVd7EpXOdtLV7q7WNAvXLbjgYGM8+uK72CfyECDAVRtVcgYA6dOlcPLqRt8iBSpJyWHUcetNj1e53qSzOS3IYkk5NY1PeOuD5djsdQuA6E5rhNZd7hgBng54rfuL0yQYP3iOlZ4tUkieVzjC7gCOTn8KzgrGk9TlHBQ4P1pijLZJ6VauwHnbB4z0z0piKFbk5Fda1MLlqwtjPOgAJ57c5r2HwTpWy3e4fCqB0bIYkA4PuK4nwjoiTzJI5yCwOOnH+c16o6RabYoq4U7ccHr7n861Wx5WIn9lMwfEV8N3TJXjr0zXISMWJHPB5PrWjq1150zEgZB4wazYN3mcjIqbk0o8qsy/ab7eIuTyy4XcCOo60zULmNIAMDJIdioxlsYPPf8ai1C72oqAncBnPUZrm7q9lZjvJIHQelZtHrUVZi3Uu+QkHiq7AZH60wuW69Dz9aC3y9efyrJI9Pn6jiQv1qrI27p9eKHYt1PHtQilnHFdEI3OaUzc8F6cNS1uKN8hVVpjz94KVG0e5JFeoa0QgaJVAU9F9K8z0kvZOskbMjqchlOCDW2/iCa5bE8rOx/iJyTWsoHFUbbHlBDMOuAw3YPUV658PdQi0XR77VXG+CxiedsgjcFQtj8eP0ryazikvLuNcMULZY57fWu4+IGoP4S+H8FjCQkuqOqZGASigF8/8Ajq5965p6OxUYXR5fpGmX3jHxBJ9mQS6hfTPdSlzhU3NuZmPpz9TxX0R8D/gDLe+IIHvNRjkitmSa4iijYK+1gQoJ6mvN/g5oZkjjuNiLPdllj2g5Cgbufrivs/4K6GdL8LXepn93LK3lAspBIA5xz3qKldwlyo9ihhVycz3PSvDkIF3cyggh+x7HOT/OunsR+9J9uKwvDsI+ytLk/O2SGHTgcVv6cp3OTyc8VqnfU4pb2NdXxH/Oqbclsd6usP3foSOapleT35rSxA+2+XcemW6fhVpjwT7etRQL8vI5JzRckxxE5ouUzKmfLHnPPNVZpfmVfbNPyS5qjcOTc9ScDaV7dc5osUtTWsP4ie9VdVlBlVe4brn2NXLMYjHvyaydSbfehOdxOOPypBYs5Ag4/iFQqKfcfuooweATge/FNXOOP50WL6lyxyZSPapLxv3sYJ6nkVHYZAkJx97A47cU2VhJdKDyF+YD+v60i1czvFkoTRrgE8MhTrjqMVxcIHAA6Dn3rpfG9wBbpFyC8gHH+7XMI3T6VPUq5cU8HnH40Mx56HPeot2Bnn3qKS6CZzx75ouSNkfqTn61Ufk55p0t0D3z681C0wPt9T1qhBs3H1/rSbDS+bj8fel81cfrQO5GRnn07Uu32pMgsTnr2qeNckZoepL1EVPyqTBB5qWNQenPNTFAe3SgVjD1WCeS3YQjdIcbVyBn15Ncj4P1e50q3u7I6Xdz3CTEt5aZxkL1OOcEH6ZPTmvRJIsjA6Vz2p65LpN0kUsE0yOMgouRnp17f596tMLml4e17+2J5rOWGe0vIk3rFcAAuueSMdMZH1zVy9TCMSOnHWszwzYXdxrU2ryoba28ryY1dSGl5z39M9ePx5rdvFEgOOQabC9zySfVbvwv4jvDLayyWciDypUwfL4yVz7/ANKE1uLxlcW9pK6abYXG4SXN26jIHXGTweMDPciun8R6DKl5aX0UD3sKyr9ptgxBKjOT7jH5E+mah1mK58WRx2sNlMCDtLyx4Az0Jb2x9T+dWmkOJ6HaadFpVhb2sAIhgQIhJzkDvn3qneamlsfnKqucBmYAH86tkCDT7SAOG8iCOEsBjO1QufxxXmvxL0i/C22o2N0fJtCGeyYkB+TubdnnGR8pAGAec4rG12aWPQ9wcZHI9RzUEsoVW5AwO5qHSV8jS7eWWdXV1DKDxgEZA/AVly3t14kuWs9KQHJAe5cZRefX2/Wq5dR3Gal4gjsgyIfOuTgLEg5OTx/WrWkeBrrWJEu9alZIW+7aKSCRzy3p16V0Ph3wfaeH9suTd3uPmuJB0z1CjsK3i3ck56802Iit7OCyt47e2iEEEY2rGgwAKZJEu5SVUkHOCoP5+tTFhzzke9ROx5OfrUMoiZRx8oOOxAqI2yN8xVTznBFS7ssT+tL3xwO/WhD9CE2sLDmGM4PUqKabKAgjyIx/wBalLEnvSFsde9CBFGTTbcKT5MQOc7lQA/nis+WzgIZfLUcHnoa1pm4bBFcpretv5ws9NBnvWO1ioyE/x607DK2pNbW3yIC0xwoVCSxznH0qxpHgPM323Uy7zOdy2wbKoOxY+vsK1/D/AIdGlKktw3n3hyzMxyFz2X/GtzI9c/XvRcq1immjxkczSoM52q3B+v505dEGSRczjcc4DZH69KuZ/wA4qRXPHSsyrEEGjvFkfariQkYO9wcfpWlb6Occ3NwD6h8jH6VX+1CPLswVRySxwPzq9o+s2mo2aTW08dxEWKlo2zgismjZaEt7o4mhAVjuUY+Zic+ma878RWU8EpDqQR1GR+ea9WR89D0rL1rRINUiCOoRxysm3JB/wrzauH5leJ7WFxfJL3tjwPUVaMkru5POa5q9nkDkndjpz0/CvSfFWiSabMY5VC5PB7Edcj8q4TUoMk5xmvMlBxdmfW0qymroyI7k8c9PXipHmLDGaryQkYIoB29RyaHE6LgzZz1phP1xUUshUkmqz34Bwf50iHqXs8ZJ4z609XQHPH51jNqeCcc45IzVKfWwjc8ZPr3qbmThc7OK7RAuOCB19atRawI3UgqMH+LkV5//AMJAduScH2NQSeIXGCxJ9D61LZPsmz1IeIFI4cDJ6Yp39u9cvXkf/CXrHjJOSeVH+NRSeOV5CncR6Hr+NZ8xLos9ck1vcpO8Zz0FZ02tg5+bgd68x/4Tguy4TBHBBfr79KjbxW8hxkA57GpbH7Nrc9Fl1YY4b8KqyakDzu98V58+v3rH/j3kK9iFJB/GnS6nfAA/Zp8HqQhOKnmbE42Ozn1BT/FVR9QHHPTmuRXWLtycQStg9AjGj7denJNpLubO1SpGKabYuSx1YvAxznNSJdYPc/pXKrezJy0bqc4wykGpo9Qc+qkdjxVMlo6+G45+Xn1Bq6D5mDgge1cbb6qQ55xjruOM1sW2skJluh5BJqkzFo6S1QRyBwOR1PPTNa8F2u4E/KR3zXHRa/Fg5YDHcc0HxNEj43jJ/WlzCs2ei292i5YnOOcdvrVK71oySFBhVxwoOST71wkvi5GxhjgdiMZrKvPFCyMSGZcHkBsZqHIpQO+bVgmTnJz1z1qB9V3knkZrgT4kDD72MHrmgeJAMjcOe9TzMbgdm2okE45+tRNejrkDPWuSPiAcfNnIz1FRtriHIyM/Wq5yXA61r7375qCS/wA5GR/jXMDWF7sKDqw65DD61aZnynQtd5IOetQyXa4wTnFYJ1cHuBUUmpAnIPX3p3J5Tc+0g+9BucdKwP7S569fenC+Ock/nRcXKbX2n5uTxUomz0OaxkvSzdQamW5Axzjn1qkyGagk/wAinrJn8azVnz3FSLcHsAfUk07iaNLzPoT61KhOST09u9UUckjn61aGWxyevaquQWN1TJyM9MVAkZyD1q0iehx+NO4ONx8ORnPrVpFBB4/GolQVMmU4xkZzRczasSqD+RqRoe9NDYx7mpwu7POaVyeUrbCecUeWc1aCAZ4Bz+NLsHakMrkEdR+tN/LirBTP4VEy9jj86CiLzMZyASeMkZIqOSUMAOePfrUjR1XZTuPpSYwkbHrzUDS44yTmiSQgZPA96qTTcc8d8+tG5RLJcHBwecd6zLq57kgetRzzuuTkZ9QayLy6eTIyMDjI71BJV1O4LMRkbQOxrmNQuDhgD8w6VoXdyV5PSufvZS0juWLEnknvWqIbuZ8/mHeWJYfxH1rFvRznqDV+8ueoDEA9RnrWRNN8x7itloYORSuB1/lWRdMTnjj61rTEnPIwe+elZN6pXPpXVE4puzuZch59RTcn8KWUHdxTMkVukcspE0TYbPvXtPwauFfSLwblB3IQM567v1614pD97GM/jXr/AMF8LY364Al3R7hjt82DWkUebXldI9Lbtz+QpAdvuc08KTgmonyCc5oRyLQVifSomz096lU7ieG4z14/Go26nn9apE2IWDc4wR/dP86Z39D1PNT7uc+nWomOXJ5z1JpCGEduP8aZ1Bzj2wKkb0/WmMeMYNVYRC3PPvTW9KdkBuc496GySTxikB41p8L+RI4Q4HUdanhf7SmHBjdWAwo4Ix1qOzeeLURHKDEijLKykE9xx6Gl1DVEiuXEUQ2rjBGQK7meerRRNdRwzcAlJVPzFl4I9jVCSzRMnf8ApTX1eSVl3wg4ODtBzir9lavdkOyeWhPG4jp60lcNGVbaIxjzZDtjVtu49+M1k6lq73bnblI8421pa9eSW7ta7yFUkOFbKkg8H0NZFqLaWZUlYxq38QWmlctaEMc4C42Buc5PWrdjeReYcxrk8AnqKuSeGnRchiR74GapfYPszsCTu64JHBoZqr3LUrefLtBGAcHafeo9VuTYwxoCd7D7uc4Hqfzp0LiFGYrnHOemaw9VvTeXTORjoMDnpWSjzM0ZW4bJx1/WpLVA0wBPyk855zUC5POCM1atoy7gAcZrrhAwk7HrfgjTljgSZ4wcLlW6g9iAfar/AIkvl8vAOccHJ6d/8K4rw74iudCRkJ86MrtVWJwpznir02oLeb3+UbmJ2jpk1conkyjLnuyrKC7AnI3Y7datraJDbs5GMKxAAA5wcVHaIZZAP4R1zVrUonu/9Gi3LtXc23PQcEn86wudCXQ4fUr8yXDFTgL2Bz+tUzcmTgj8Sam1OweyuNoLbcdxjmqQBX3rW9z0ow5dCwWO0e1MBJJGevoKAGbpmpo4ecnjnnNSDkwity2M856Z710nhvw6mpXKxO4QMMsQwGB/nP1rKt03Oqj9K7vw1aKsJGMsTuyOoz2zWqXY5alXkV0U9c8K3GgW3mn9/b44eNSWA4wWAzgc9TXJSSk4YcZwRXqmo3Lm3ZCThgVIz1HpXnuqaaEfMShVH8K9B2rRSuY06nM7SOq+HFz9u1FLZym5nyuRn5QOTVz446iNQ8TafpVtLvTS7cQsccGWRtx59QoQcd81heAZE0rxBa3s2QkOWcDqRtNQ2MqeKfHsl5LKEE9w9yzTHHmHdnaufyHsOK5JwtLmPUpvmjY9l+E+jeTLpMRQ/ugFdhzhcYGfrmvtWeFNM0qysU2geWGKj6kfmcGvAPg54eS71q0tJEBLXGGwMdF3ZOPQCvfbqY3V5cuc+WsxRDx90ADg/XNeVN88rn0U3JU1FG/o0Rj02LqAVz83Wt7TBxnHXFZkEZS0RBwcdcVr6cOBjnua9RI8DzLx5U5qAjH/ANarDfyqMYJxjPNWhEkeFUe361X1J8Qg9iasbu351m6rNgKCOp6mqAoodzcD/wCvWFDK01ySccyFQ3rz1/KtZ3McTuMfKC3PtzWbpaZnXPI3Z49PSpZaOkjGyAH2zWIcz6oTzhWz04/P8a3ZPlt3HoucmsDTMy3jt1XcejZ6E02xrcn1d/8ASLeId8HPoxJFTooCHI696pXjefqSnuoA45xxVotkAUir6mhbp+5z6n86qRkNdsSckAjH41bZ/KtgcZOM9aoWn3nfqSfX3pFHM+OLgG/t4+rBdze2eKwUYj86ueIpzPrc2TnYqqPbBP8AhWfkjvx/Oge5O8xK4AxWRrt+llY3E87hFhjMhyegAyeavmQFSe31rkPHzvP4b1BEJB8l8KBnfgZxntTtqS3Yl8J+ILHxpbXM0BuUaDAfJ2ZJP4+tbJ0aPn5529jKT+lcf8MLu0tdEE0RWMv+5kjUDKkdz7nr9CPWuyi1eOSV0z8wG4A9SKct7E31IjpRQkhzjPAYk4pGsZWwBKvTqyn+hFMbXoN7DzFDKMkFgCfpWhHKkqh1ZXB7jFSTdmd9lu058yNvZVYf1qZYrxcAFOuT3/UVopgnBH51MAAuRwOtDQ7sz4vtaP8AMoIHIOetWfOu3x+6AHPI7/masW06TNhDkjrV9YiRyPzplbmQ11PHwYJSe5VVI6+uaYNSuImOLO4bB5dUBH55rYaEH3560wQhC3XkcjNIFoZb6wZEZJLS5VWzklDgcdeKS2vRHGFbe5BzlzknNaoTZjAI+lR/Z164H0wKZVzEu/FdlYxiW4uY7eMgkvLkKAOpJIwPxqfTvF1lqdktzb31vdW0h+SSKZWTIJBHXrTtX0W21Cze2nt0lhlBV1K9RXm62H/Cn9dE0MT3HhXUWWObcNz2kmMKw/2ee/YEDJC1e4JHpc2s2jjH2qIHPADjJ/Kuf8Wa3YXWk3NgbqOWS4jKCNSCRxnJ9qr3Wq22t3iadottFqFzMTtnKjYijq24du/+NdX4e+Hul6TEXuYkvbtiCWkX5E9lH9etCVgTscp4D0LUbjRLU6/cR2UByyxJkyyDtk9F4PpnHavSbSe1023jt7YRwwg4VYhwT9e5pJdNtG6wqT6nJ/rUH9l268BCq/7LEYpN3K5jR+3J/ez+FNOpR7jls+xrNbTYmPWUD2kYH86T+zI+0twvOciY5/M1Ow+Y1DdJ649qY9yDjBHHv1rMfRtzA/abke3mZpraOACTc3BP+9jFAcxqeaOgPX3phuADnOfxrGk0wqTieY98sw5P5VB/Zc5Bxcj3BUmnYo3mn4BIyPrUMlxnPIHfJNYUtrcx/wDLwpGRwUxg/nXP3M2savqS6Zp0tu7MGE0igjaoPLE5OMcdByaZRs6nqU+rT/2dp67nb5Xfd25y3HTFbul6PBosREf72Z1HmzMPmdu59h7VU0nQb7RYCkUkLO2GeVwSzn1yP5VYkh1Pdhpbcc/MQGPFTdk3LnnZJHYHvUnmDuax3j1BA2TGT2KnIP4U2Iaj1KBh3wygn8zS2LUrm95mQDmnI+OpzWF9pvVb/USEjqoCnP8A49Tze3irkWUueuCVGfp1ouVewvi2F7rw9qkCZYyWzqoBwSSOxrnvhhqWjaBcyCCVbSOWBRcxuxJMowC3PX6gD8atT+J5r65fT4rSdbjkN8ocfXg5qj4l8Ky3Wktc2dnP/aka+YzBW3SMSN31OCeAM5ArSMblXPSNY8X2ehKqMWnuZMFYouSQec5+hrodOuo9QsI7lAwVxwGGCCOorwLw58QbD/hIzb3cdwbxIFgthJHgo2fmGP4Tz/PmvWV8U21jpqoQ8mF3FQCQSevT3pezNOYwPiTq92bK7jsdJfUxANzGMruXj5iO/B7DJJPFeT6TbXPiHRbjUYow8kYJaMHBbkdOw4IrvfD/AIh1m4hnjgsbuS4mkZ3lNuSMNjgHHHfqaj8OeH9c8IWOraeNDubqG6d5YZYuzNnIYc4x0/WpnhqdVWqHbRxUqLvE8wuIOpRwydQScZx7VkidHyVk3mvYPCPhfX9H0yezufDk8nmMT5rYOVOOCPQYPX1PTmuPs/ATab4j1jS76xmQXY8238tW+UMS21cdNvT/AIDXm1cAt0z14Zi1ujiHnDAgHnPPNSeH/Dlz4u1+PToB8rKWkcZOxR3/AJVry+AtX8M3V1HcaXqF1aM5aG78lmyD2YgYXk8g/hXrnwT8MGy0291Ge3MLzkKrSLhio7fga4q1F03ds6o43mWiOb/4VJZWUYi8qObaAGkdfmJGeetZd18NbHLAQLgHGcZP17V7deJDvcOATnJHc1y8lsN/QE55rji7nfCrLe55d/wq6x5BhSRTzl1xj8qyLr4U2q7ikbYHON5GPxJ/pXtXkpt5HXrVLUYI1XPYjOPStmjVVJI+ftT+GKeXv/f7A2OHB/PjpVbTvhjYwybmifC/wl8g/hXr93a72IA+Y8/T/OaSLSiRkgA54rhkubY055HD2XgDTQo3WoP+9jH8q3LfwtaRoEWCPj/YX/Cuh+y44xjAxx2ApVi8sgmpdzFu5jP4ctEGfKT/AIDkVSbTILViUVU9cCuilZe44789ax7/AK4HQ+lFibFEwwhCSqHnJJWtKy8PxTRrK8KhjyAw7ev41RsoDeXSw443DKknkZrtobby4lUZ2qMAmqId0Y40pYwRgc9TiqFxpNvgg28IGfveWP8ACuleIgHpism+78nmk9Asc9PpNuVwYk259B/hWTd6NZsxH2dEA7gda37hiM4x9DWfLzyc0WsLY52fwtYOpwJEJ6hX4P4GsqfwZE3InKAHOApP65rqZGIyc8iqMk3zdc0rE3ZyU/gn7xS8J77WU4P05rOl8C3LDi8iVQcfMrZNdvJL36epqB5hzyKqyKcpHntz4O1BDtW5iZRzuG4VSn8L6rEMoySc9mxXpyOknPpSHy3zwMDrzS5USpM8s/sPW+MQPJz1jIIP6059I1uFfns5l98A8/gTXq0Ij4CnGTSy2aS8ED3Io5Suds8lFjrDcLaTOV5IC0GLVLZf31nLGo/vcYFetR2KsAiAAZzVldPCjkBvYjNOxPNc8Sk1CZOoIxyWzxTRq79ufoa9pn0iCcAGCH3xGoz+lZlx4Q0+bdutlXjjyvl598UnoNSPKRrBHJOOe/ep49YOAck5967yX4f6dKfmikU/7L/41Tn+G9rn9zNPDnrlgR/KnoK6Oci1MYJ3/UZqzHqZ9c4NWrj4dTwK4hu1LN93KkjPueP5VnSeCtYtQTs88f3oTkfrSUbC3NCLUtx6gd8Vft73nrk+ua5L7BqFqSZbeWM9RkZz+VXYJ5UxvVlJPRgRmq3M2dlb3I4yefar8V0OPXNcbFqDJyTn8auRav0zQLqdik/fH45q5HKvcn865SLWhgAnA65NXRrCbQc+9TzIdrnTpKvr9amRgSO1cymtRBAS4Hbk9akTW0LYBOeDyaOYlROsjCswBIAz1Jqb5QSFPA7g5rml1j5VI545x2rSs5prlRtRto5OOc0cxm43NXOcYzinYPNRRRylQRG5zyAFJP5CrSQkqN3fnnii9xtXK+Nue/b1qMoTkHoauGLHfNQOp5x/+ugRWYdR/Oq0wFW5FOcmqcr7TgjNAPQqyhdp3BWB7Gsq6wQQCflORn2rVmORn+ZrJuwcH86diGjLm3HIJ4NZV0WGQOWJ/OtaWTrgDpzmuf1ByGJ6Dr1qjO5k30q7Tv7dq5u9uecdP61q6hN15yBXOXkh3EgjGa0RLZTvm54PuazJm4PPfkGp7mY9TVCaUHj862Ssc0pEEs3z4GcVRuXOeT+FTMSshIPWqdyxL8j3reKOObKcp+bpmof4u/vk5qaWQs3JPHvUOcmtkcsmSxN8wwCMd/WvYvgoCYtWJ5P7pgfb5hj+dePRY3L9RmvbPgsFe21Aj7qoq46ZIbOf1q07HLVjeNz0AttpOvXrSuuTnPGecmmMTn+lWcXMNJ5PqaYwIB5OSc04kY/xqJyxPbBP507k3bGHr0HXk0hwmT1ped2Se+eaRzk9APpSKsMzzx0z601u55wOeKMEGgjjtTuRcgbHXBxQc4J6044yfT2pCPyHrQRc8outTubmRDNbbJAMgCNlJ+uap3MrTSZMQyTliR3ro00G/mZftE+FyCzK2SR+NYGqsllcSxI5kZWYMXHTniuyMubY8qMm90QjYPmlwo7Be49KspqGIiX2xxrwoXJJz3Oa5qW7kaXJJIz3olv5ZykZLPkhQAMk80PQ2vct6rcfbVSVzxk/jVGa02W6zKRgnp/n6VY1TNuqQ4xjk81Eh36eEIOc9aq1jTRmxp2oNJZIGJOB3OTWfeXavcbTwQeTnrUTu9pYsASrMuNynkfT3rCaV+uSfqahxcjdS0N7UL+JbZY0GOAGOep55rARTI+cd+tJuLkVegtsD8B+NbRViHKxLDaiX5AMVqWeizorSrEzoqlmKrnC9yfQUukWTyTRkoCu4E556e1dzHttbTbypPUDvXXFdTklOxwF4QAMHAqK0vGtpOuUPUZ6e9W9Yt1WXcmAmfug1kgFjgAj3JqpRuJJSR6DoeySGRxhSo3bSOT7D1rXsJo40mmdFbzB8pIxjIrjfDt3LcSQWEcQeRj/AHsZAOSfyrrNYkRGNvtEUAP3Vbjj615NfRm8NHc5jxK8XlZyGJOAorj8BmIx37Vs684+1uiyMwB5z0+lZsMQLZAzzWtNWibN2JIYyB/jUvB65NPC44xT1TceBg+/etepg3ctaXBvnUEHnjIFem6DYGG3TOCWUZI5571xPh3TpLm4U4BjGGJJx3r01FNnaK52liADt6Amt13OCs+hg6wAGYA9TkAVgraedMFblT1zWtfSF5Gzkk9z3qK2j+Vn6Ec5J9qVxU9DLv8AT/sllcvACQDhtvO0HqfoK5yz329wkkXMiHcpxnn1r1/TrL7Jo0bzIBJcZYK6jkHjGPy61w+o+H/7NuZXEYjjJYqgGeO2B6HPFZKqpOx6dNuOp9gfswXkup+HrjxPOVeSC3YEHjMxUgHj8vxr27Qkee107djO1GYEdycnp9a8h+FPh6fwv8CPDGluhW81a5+0GMDl48qOfQ5Cn6GvadGiJvlQYCru7/lWdSCpyuj13LRHQy/JA3Oe/P1q7oBZ7ZC/Vst+ZOKo6ifLtifQZP51raPHstYhjGEA69cCtEcTdti6+B2zn1qtuxJgGp5uAc85qpHlmZuvtTuHUsAnNYusy5u1XHA5J/KtlT8vp9aw78eZeE/5NAnoVbw7bJx2Ybc/X3+lV9HQvOoGOuOvX2FSaq4jt0Un7zYxjrVnw2m6Vj3GOanoXFdTT1NhBaMfQc+9YWijqcjg4P1rU8SnFuQD1x/MVnaaAlm7Zxk88/59Ka0KW5WR83UjYXknkdTz3q6uWdB157ms63JcseeWPX61qWqb5V9jnr1qh7li/BS3PPJU4B7ntVa3/d24J4yckDtUuquVVByck5Ud+Kq3Mnl2DkA8KWxnqahodjgtRYz6lcuB8pkI/I4pfLyMdz1pEVpZnPOS3Pvz1q6ISBz27incZg6m5s4GlYHy1+8euK4y8120vr0GSbdYx582QMMYzg888V6XPAsqspAYHPDDINcjc+E9O07SpbBLIyW9wxZ4wxbGf7p6jB6en4VonYUjkTY2GmeJ9NudKctDOwWS3Rsoy9N3HT9fbFbmn+Vqd5qEAdfPg2xsFJ2gHJB68Y5rk7fQNU8KXjrpkT3dsRhDOpEkXJPVuO56Dn2o0b+3vDd7fzvZrd/bcMw8wRsCCxGSQemfT8aqSv1JZt2VstxNLKrri2yrYY4I56+hHNdRZXUf2eN4mHlEcYbIHJ715b9o1+ysdUjjthHLeyBjIrZ2A8NjnHfr2rQsPCM3h7UdEihn82G4Qx3YjchGJHJxnPy9B6+lU4p9QvY9HvtRQaZJdwyCVIs7jGQ2TkDGc4zWppc51LTop9jRrKNwVxg4yccZ7jn8a8u8qLS9Ru7CJytkzDcobIDAdcfU9q9djlt7WCKJCAqRquAemAP8KyfujOR1CRvCOt2+o5llspCEnhXJwMdTz34/HHrXocTJcW8c8R3RSqJFbBGVIyK4LxxNDc28dpFteSdwqxjnPI7/AFrt4XgsrK2t1JCxQpGoIJztGKnlBaMcwx2pu3JGOneozeRluHGfek+1IehB9aktEm0cimMnt+tAnB470k0oQ4JBOecHNMorSdee3vWfftbTxTW1zCk0EylZI25DKeuavSSDBOeK5Xx0xi8P6lKrtFILd9jqxBJKkKQR05xTRJ0ug2Gm6BZeTp1rHbQNjIQE5x2yeeD71spciRcgmvLF1a58P+DtHE0jSXl1Crq8zFsM43HPOeMgVHoWv+K9Kt11O9itZ9LJY/Z2jKyuv94FcADnOT/Wq5bj2PVvNPrx61HJdbQAAc+uaGIe3imXKrIiyqD1CsMgfka858ajVfEHiC18P6be/YxJCZJ5VzvQbjyMfh3BPHNNK4HotndG6BIkyVzuUAjH6c1eRfxrwe0+FXiX4Xzt4h8PeIZtavIlxLZXpY+ahPzKoLNnjtkH0zivavDPiG18WaDbarbRm3EuVlgJz5UgxuXPpzkexFXKN+poy+4qu59/wqWVxz0GKpySjpnmsbCsMkfJyT071C0w+YZ2/wC1nrTZ5wuCfujkknGa5gXl34nuZLXTQEtw2HuGGRg+npj8zVIrYW9vL3xLqD6Tpah9p/fSn7qj1z/DtP59q7bRdDttBs1gtxuc8zTt9+Vu5J9PQVJpOkW+h2ot7YZDHdJIfvyN3YmrrN/+ukMacL61C4Bz2pzHrn+dR/zqCbDPLyTk8ZoMQ9M59KmRSe1HQ4x+NBdiLyOen15qeK1B/rTkTJ4q1EmePTtQOwllpcFrNJNDBFFNJy8irhn+p71qQQgcg4buaZBHxVqJMGgNyK60Sw1jaNQtIbzb91pEyy/Q9RVmz8Nada/6q0RMfdJZiR+JNWIVxzVxM4zVpsa1HqCgwCcUoTBz8w/GgfpUgxikyrEQjyT1FBso5MF0WQg5BZQSPxqbipI+fx/WpuUinLpyYJCDJ/xrnNdtDDBIFH7zdgqPrXaldyY9e9c/q9uYZFYglGPXFeZi1eB6WEnaZ5pcPNFO24Nkt1znNV2kY9uvWu7vYLedeVAx1xxWHLbQgtgdcrkgZxn1rwU7H0kal+hgAuTghuO/OBz/APXqvcDeCCenvW3Ps5G1QfYYxWZcwbjxnPp61rzHTHUymiAYnA65pvHtz60XLlWx+dQMwPcZqLmlgkQcnAqhcMNrcDIBxV9pV2Ee3PNYF9dFZDjOOetSy2rle4uPKA3nI+tZUlx5jMDyCeuar3EryOevuc/WiK3lfbsBJ7KKListzqPCNmLyec7vlVQCNo6knHPXtXY/ZwRj071i+FbRrKxUuRukwxUZGMZ7n61tNL97GM+posYSd2Z96m1SB+dc/eIea37uXgnqfU1iXcmecZweaZBgXeVUnk4/Osm4lKgjuea2bxz82QcZ5rnr1mD4wcdc0kVuVJpyciqryAk0+UktgfjVSRCxPX86Vh2I5pyu4H3xWXNcOp6/WtKSItnOffnOaja23ZyM+9FgSRBDekREkH1OKzJNQkR2wSR/Otg2B8o8HA6n1rHubQq54zTsNLUtaVqJecHfwSMg9+tdElxlQcZNcdZRul1kA44/DmtuK4lU45+pouS1qb2myE3CoQOTk+pHPT8cVsSxgZCjOD1IzXJrE008DDcX3Y+UkEZPNdlIF28MTk9T3pmfUoNHj3FMZKsuuGwcfgaXy+OamwrFLy+elDRA4yKt+X1Pb0qN19qLkMp+R16H696heEYPT6VdcfXmoHAX15pgUZ4Q42tyDnPvWdPpttIMGFG92HStabrVNwVcDtjPWpJMx/D9m4C+UFUdVQ7eR3qo/hOIuTG8sSkcjcD/AErc3EZGM03zGzQmJs52XwfK7DZcLwOj579qpXXgjXf+WMtu+D91JGB/UV2iSfMMdepq3HMOScZ9zTsmLmfU8om8L+JYZQjWkpYHuykH8jWzpHh3V0dGuFNso+XBLcD6fjXoiSDJzgg+9Trt4IFOxF7GVp1okIVSWJU53SYJY/lXU2MiRIFGVPTsKobgeSoPfJp/mg/hUNXGzaSdSRjHPXBqYlTjoQPXmsQzkbcE+/NTC5PTPXtmsyjQbABJIII4VTyPrVaSXbzjr68VEsxYnke1RyFiTz0P507mgsx8yMjJB45U+4rPl61aYHGfX3qo6nODnGaLkNFWV+xBrOvWGM4OD3zV+5YDjH41k3dxtDr1w2auLMpaGbdzBEIA2rnkkc4rldVu/wB1jPzk9cVuapc7cgkjPauQ1ac87SAQec10RM2jEv5yFIJ+8axLmc9Bk575q5qEpJyT1rJml7dz3raKMJOxXlfnnp6mqcvJz2HU1NI/UGqUpxkDoe1apWOSTuRSvg+p61SuZdx9CfwqSRjnv+VUpn+atEc7Yjf55qPPP496fuzj/Gm8MeR+NXYwZJBkSDn616/8G5N4vogzJIoR8jgEEkHP6V49E2G/xr1r4NXSHUL6Jc4NuGJI6kOBj/x6tbHJV0ierFSMBjnHBPrSEDGechqUEd+ajkPPQ/hQcViOQFm469800j1+uRT8Z55FRk5564NXYhkfPPGaaxJ7ipM43demcUw+pHJoaKvcY2fbr60wnsDUrD9aicen6GgVrEbDAzgc8k+tRtn1/WpCc5zxTOuefyNDItYzJmD5BAAznAzxXJ6p4YiuLqWZDsL8lQM5NdZuTeCTnHr3qOQLI27oQeMd6hTcNYjdKLVjyO/0qVZCEhlHOOVPH1rX8P8AhnymSeXBkBOAcHHbtXb3kILg8HPf1qmfkz049a2dWTVjB0lFnCa3pV7JqcqPGzgsWVlBK4J45+lSRaaIrYB8fLzgiukvLgiV+BjPBHHFc/q15sUgHr+NaRk9hcivcwNV8yW42pny1GAM8CsySIxkA9a2ASqmRwSDzn1rMlbzZj7npXYiWJY2pmck9Bz9a3BZuQNozgjiotPjVQBj9a6bS7T7Q6qBuB6n0Hqa0SMZzSLPhi2RdwlQsMcY4waf4huQGKIMAAnjvWzPCum22QYi2OhbrXGahdieRmznPQk44roehx255XMu9mLn2/nVCEbpR2HrUty5LEdeeuKS0VXkVSQm443N0GeMn6VB1RR6d8PvDQs9JOt3CIHmUxx7h8yrk5OfcgVk+KrokO4B4JLYbP8AnrWxrfjSws9LsrCzkllWJSrBVxnHCk84wc1wWq60byMqBhS24jPPHr2968uSc58x0pa3ZkTMZJGYnknOTU9uPl4GO5561XznmrVuflP17112Qpak3Yevrip7ePcwxyfQVEuHYDj3rb0mzEkq5BPzZ55qkjCbsdP4Tt/LiDEEZGfTJ9Pyrp726H2Zhlc7eAef/wBdUbOwWy08OOoHXHXrWZeXe4tk9P0qzy5PnlcqXBLP13HgketXYYGeW1RMOZHVWXaWJz6VQt8TXCoCuScZ9a7Pwfpn2nU0nwrxwMcMGBO70/nWUpWOqnDmdjudQ0GPU9HgNmEVoBtCyDgDOG561qeGfBVtrOnrYT2yyalPKixtGucYYeo5znv6cVdtYvKszEqDB+8Q2PrXu37PfhyCa21DV75EWDTYfOMjEnaCrFiR7KDXlxm1I9qC5pWsNgthN4003TEdjbaLYiJlLd4xgk9txyM49K7Xwz811K2NwCjGR3Oa4P4dyz3v9s6zcHNxcbtzAY5kbceO3JNejeGIsWhfruP3s9a9KUucprl0NK+t2uFWNckMykgd+a3YFIBxzz69az4F3yjuF5rTGVXI+vWrWhBBcEjOePxqC2H3iemaW5fIbPr1oh/1Yx3phaxM2NuR9a56eXfclwD3HXrW7cNshY+gzXOQfO7ZOec/WpsK1ypqkgkKIcDB3e/+ea2fD6+XCSBySWrnNWl/4mmARhUVcD6k5/Wup0kbLJDj+EcfgKLlXM/xROxaEA9ckj1wR/jTGHlaYQBjJJqDWz9ov0GcbenP41ZvcLaoDxn3ptjKFrHtVV546Z7VqWg2uT6dcmqMAyRWnartViMkk5+lIpOxWv28yRR6H1rP1pmSwfJIG05/rVudy96B6EH9KoeKHC2QTOGZWXOenTmkWc5Au0AnOcYPNWWOAM/rUEeeD/XrTpHPGfr1oDcRsdfX1qCQbuox704kk9uPekKk+lO4EG0DpwPrRs9QOual8sg9/wCeamSEt7fhQS7FP7MhOfLXPc7RzTf7NiLKTGpI6EqOK0fIP4jvinRRZzn1qiLWPOPGfh220yP7RCpRpJAzMoOR1yPfOR1r0U6ZbTbZtisrruVlY/MCODT7zSoL+1e3nQvFIuGUcfQ/Udag0PSm0W2NsZ3uIV/1Ybqg9M+n8qsdjKsvC0M2qzXNzCDGuFijDEYP94/Ttith9GhOcGUL6eY3+NX+B0xk9qTeSeorNstGTJoiFwVllUDtvJ/WmNoiDpeXbE9mkOK2Pxpp9aQzDfTJNwAlYKOuWzg57f8A1zTH0XuLmUnPzBlGD+I5rWfqaiPWmO5jT6dOuAkoORnJBIHsRmuS8crdWujFJ3ilhLLlU3AgDt19TXouzd7/AFrJ1/wtH4gtfJkm8tSylvlJyAc046MmxxXi6zvIdC0ue5RRZxKuXUE+XkADI6kk+lbXiDV55bVdOtlSWSdFRAnLOG6MB2zz+VdnfafbavZmzuYVe2K7WTkdBgEEcgjGQe1VfD3g7R/C7GSwtikpyPMkcyMAeoBPT8K0uVoRWw1Wz062tXslZII1jDCQZOB9a8+1LxBN4T+IqahqdjNFb3lr5Ecq4K79y7uc44A55zzmvXZQD3x3rPvdOtNUt3truKO5t2YM0Uq5XI6Eeh56iouGpy158RrdFQR28plZsKq4OSeg4Jz+FaGgTv4Q0e/a5spojd3JunUKQI8+laOk+G9H8PzCWwsIoZuzHc7D6FicfhVu9ujONrEEHqp5B9R+NVIafYzrXxNHqkPn28crxN91iAA305qld+J7a1jaWcvEqruZiucD3x9a42/07Uvhjqs+p6PZy6p4bvmAutOj5e1kz9+MH+EjPHTscfLWx4c0m8+IM6atqcZsNCVj9ntWG2S5AJGW54HqfqBSsUMtr+fxlN5BlkstIVgWZsb3IP8ACR9D9K7iyurLS7SO1txFDDHyo3AEn1PfNXhFBDEkUUccUaDCoigKAOwFRkoTyi/981myhqa5BnLSJgdSXGKG1+0Of38be4cU3yod5LRx8noVB/pT/sloW3G3hye4jAz+lK4ER1q3JB81ACf7wp6atbMf9fGP95gM0f2daN963ib/AGigJpy6RaHpBGPcJTG3Yf8A2lAAB5yt/utmpI76JzgyKB7nrTBosBwPKHPOckfqDT/+Eftu6MP91yKkaZaS9iU9R/jVmO9jZuXGD3qlFocAzzKAfSQg1Zh0OI8B7jn1mY1QXsasdzEuOe/vzVqO5Qt1x65rGHhxP4bm7Un+7MR/SrsHh1QOLm6bHdpc0biua8d0p6EH6VMLoccnn1FZK+H0HW6ujnsJSP8AGpBoajO2e45/vSk/rQPmNP7YvdhTvtsY53jjrVCPRokH+tuSe58408aTF3eRvXc5JoHcuC+Q87wR64qeK8QgneD9BWeujQ92l/ByKmj0eAc/vST6yt/jSLuaiahFx84/KmX6Q31s6l9rj7pHODUMWlxYxgkehYn+tX7fTYU6A8jB+Y1hUgpqzNoT5XzI88vQYWYE5wSCcdaxLm4KPjJz1r0HxN4dDRNcQL8yj5kUZJGOteeX0BRjzk+9fO1abhKzPrcLONSKaKk1wSc9Peqc18Y+dwPPemXspX5fbORWLcytu61m0evGKZPcXAfJHr0rPkf19abvcKcnJJzjPFQyTfLg+uak1tcgnnZe/BPY1QdvNdiTwTkDrUtzJxjP1zVbjsaSWplKISWSyEDufQVpWNqFQDq+7Ocevb9KoxzbG9cd6tRXGOcn1o2M7HRxy7QOeKlMh29cHP8ASsOG+7MecjrVo3wVcgg59e9Bm1Ysz4PU9OorE1GQKMDjnPXrVyS8BRsnJ/KsW9nWXHsaNxNWKcuWzkgAnn2rEu/mZs1qTzFFODmsubLkkcVRJmyId3XgHP1qMgfnVmT0qBx+FMGgRUIIx1qcWyGIYIz6GqpfjH9aatwyHj1yefSpegE8sJSNgRwR1BrGubbG7qSBW79pEi/N36gVUuVG07Tk4wAe5xUtdikZVnaF5Gzhdqluc8/NjGfxp7YgJYjI96uRIFXJwCevvUM0BuHCL1bjimHUuaJD5t2ZSwCRncAO5B6ZronlE0mcbMnkCsiwjNrCqjBOSTjuTjNXoS/mg8EZ6DrSM3uX/IyAc5NBG0YP6mrMYAHPU81HKqs3bjg0riIDnHUevXNQvggetWJNo4A4/Kqdw6RcZDFl3YBz+dTckhl+Xv8A/XqnNL0Hv+dOkk3nqagc8dOn60O4EZO9yPQ9c8VHIOucEg8nPWgE5zz/ACobqM8+tC7ESISeowKYRgnvmpiof6+lJsHqKZD0GBiOalDdDg/h2qLb0wR19akXt0HPIzQPlJ42Pf8AOrKvgAZ/WqqU7PI7fWlcdi15h9eKcJBkdOarZ4wenvTSwU5Bz7E1LfU0UTRWRe5yKmjHmMTWR9oPXNWrW7CnqeT61PUDU2EEEN3qdY9w5ySDnOetRRvuxx9Rmr9vGXHOBnvmmzMqGM5OQQB328H8aqSxj5uK2fJ+Ugk8HqaoSIMmouSznrpOPm4rFvVIy2K6bUQvYZ7kVzl/cAK6gFc8c0R0Bo5LVpihkk5cbSACPbj/ADmuHvbptzEng/w+9dfrlwqbgcAD1rh9QbeWPY9q6oO9zGWhl3c6k4IJPX61nysGOR0FSzuQ569apyt27d661qcc2mQTnHOcgmqE0u5zVmRs5GCfWqUuM98+1bpHFIikkHIPWqkjDJP50TyfNn1qDcc/WtLGLZJ75ox1J/lSDPc/1pfxzVozYqcMTXpnwbuAfEMqHCLJCyqGPU5B6/hXmi9ea7n4YSKNesUf+OZVz6c0XOOrotD3cA4GD+dMfO7t9PWnH5WAHJpWxnPJrQ4iF898imY6nI6+vWpHOTzUR4OPX0p7g2B2+/4Uw4o7nmmNnkcYo6kDWbsCMGom4wOTnuDT6jZyO3HvRuBG7HtjHvUbttXJp7EZ555pHcemfwoEzK4BGRxn86ikxzg4A7U9iOQTmqkhIYk9KzsW9BksvzHJJ5zyapXRUL1+lPuJQAQfr1rJvLjC8kn0GelUlchzZSvpxyc8DPSububgTy9OAe9aN9c7VIHzE/3uaxzEQrOe/I967YR6mMpEd7NtTYGyAc96oQKNxJIz/OnTsWc55pYISzDrz1rqSMGzY0qJp5CAORyB6/5zXa6PaPBt6cntxmub0GzZLqJ9rYLY4Brup7mO0gII2HBOCeldMUcNRtOxl+I5Dt24yBxjP51xl2x6k/8A163tV1ZZCVOMfzrmryVZGwDjJ9aT3NKd7aoqEF5c9ialxt6D9akgtTJcRxIctIyopPPLMAP1Ir0XVvhzpui6bC8t9PPdOrBtwXyw6kZAAGcYJ6ms3JI6krnl53F+p/OnG3ducE+pxWtd28UNyQgO1fXn600uoXpjPaoaLRl7Cvrx6GlXPPWrc0aHOGBz1xUITZ9KkB1tJtk5OB1yTXU6LfwWcgaVjzwoUZOa5NU3OMetbFlbFucZNbxTMZR5jsr/AMdSfZo4obOFFXguWJZh17jAJ49a5SfU7mWRjJKW3Ekj/wCvUz2jOOPm55pq6VNKSFQsRztHem0ZKnFBZRy3c6AMTlhgep9K9o8E2psdPjBOJid2MevY1yXgnwOJ5vNu3YLGCVjiyf8AgRI/T8a9BtrZ1lGw856t+tceImuXlOqnFp3O402cSXVvHkbC4LDvivoz7QfB37PEkyo8d5r8wtVccEI7MWznsY0YevzivBfCOhSahNaIgMksrqqgDruPBPp1Fe8/tCXyWep+HfCFpIBbadZCeRR/z1chVz9FXI/3zXBShzO56MW1dmf4Os/sHgRH/jubrgZxlQuOv1FehaJD5GnxIcggZ59yTXIw2osNF0CzBYkwLOVxg7mznP5muzB2rgHI6A16CViHrqaFmnUjnn1q7I2yM+tU7A4TnIyOc1LdNx171SMilcMT3wO9WIAfLT1wM+9UpDuYDqSfzq7HkY5zVFkepsYrWRuwU55rE0/7vzcnP0rT152WycZHzLjBNZNq+yA98rkbfWgmxi4+06nK5bgEAgnsP8mu0tk8q1HoqjjFcfpqCS5DZxltx/nXXu22EDPGMmgowHPnajkjjcBwevf+tW9UbAiXHv19qrwANfE843EnHNS3pzcDA+UAfjULUdtNBsIPGO9aMOQh7Z7k1RiwSOfrWiYtkDHPQZp7DS1MYfPdsRzzkfrWZ4j+by1H3t4JOeowT/OtiyjLMzHjv19ay9W/e3qqVPHJ59v/AK9Iq5lRQMQOKc1rlhknBPOK0/sxVemPrTDEVzTsK5lG3Kkgg4HcjrSbBnOfzrRmi3qR0zWW+kvyEmUdwCpOfbOaLBcmEYbnrjrU0ajPNZq2d7HkJcIFJOQyHB9Oc/yqSRNQRPlltyR1yjc/rVCuahQeX15qBTgnvWc02q7Noa2/BWH6mq7/ANqCQIPL56/5NKwXubTy8ehqLzc9SKyXlv4gQ4yRyTj/AD60z7ZdcERO/P3V2k49ecUgNsS84yM9akQcj361gf2jcE4FrKSOSOCRU8eqyrwbOYn1AoKRt/L1zUMjce2Kof2w4U5tJ+BknaT/AEqCXXAcHyZEz2YYJ/ChDLxz60nGe2azP7aiX7wKt7n+tNfWYF+/LGhPIDSDJp2GrM1156VJtHWsqPWLbHFxG30YVP8A2rETkSoQe+6lco0e9IXKkY5B9azm1aIYPnIQe68j86G1KLGfNQn2NCdx3Lk1wB1YKB1NYOs+NNE8PZOparaWgHUSSqD19DV5rhJY25J3AjHNeaap8OPDmlQ6lq+q2j6ikbPOrXEjOQpO7aQCoPOeuau19xbnSP8AFPQps/Y70ah/swLnPPb179KfF4ju7tg0WkajIG6bocA/iaqeA9cstR06OTTtDbSon+VSbVYVcEZDDbjI9/8A69djFLKBmUqCeymiTsVsYi3GuFg40Upg5AkmUZ/WrVtfeJZzh9Pt4FUAKPMBGPwNReIdaTQbWS7ZlSGPu3ckYA/E1t6ZqH2/SrS9TaVniEo2nIOfQ+lO4mzLR/E7Z3QWgHoGH881GbjxHEebOOQjuJVGc/jWhF4nsTrK6YZQLpwGVCQCcgt0znOB6HrWlMQyk5/Gne4zh9d8bano8iC70+KAP0ZpcgAdzg+1altdeI7mJJI7FZInUMrIy4IIyCDu6HINYviSbTtHnv5bvZfXV1GRDDNghRt+6oYYPfJ+vrXT/CuS0uPClvbQXsd5PbbvMRWy8YLEqGGeO1F76he49bjxAqKX0Y57kzJ/8VVXTfFd3F4mt9L1Sy+yJduEhbcGOduT07Zx1OeRXZyx8dvyrjfFqJbeIvDkjgBheqpJ56svepTuK56D9l2ceh5PrRsFXnUAtk9yagYVG5REq57/AK1ZhTP1qML+X1q3FgdaBokReBxmrEfbNRof1qUNyBmnYZN+fPrS8HtUdSA/SmAoPsakA56UwEA84x61IHA9agY4dutSoB6VCHBOKlVvSgosx/lmrkGapIferUEg6VNh3Lqpnt74zXnXjjwm9qxu7KMvEcmWJBkp/tAenrXoaSY71IrckjPPfNc9SnGS1O6hXlSldbHzLfvh2wcnknnPWsS5uMdK+h/Ffw60zXI3lRfsdxj70SgITnnIHrXkXif4aXulElFEysP9bGpP6duK8meGnF3PqaGOpyVtjhZbzAqnLdE9TipL6xmhkKOGAGCTt/Csouef6mueVJo9KNWMupYkm3Ec5phI7HP41W8z34/nUTy471nyMbmuha8/HU06O4Prz7mszzs98e5pq3YU/X0NTYzujfSfrj6043bY7j696yoLkMeOSe3rVnf0zxilYLotmZjk56+/Wq0pJB4zkc5HT3pysD/+umO3NTYjQpSA85yQO5NVJMYNXZ+emCD1qlMh6Dk1otRblGYck1VcHmrxibnPGKTyd1KxLM9AXOBk46077M3PBweK1rK0ijzkcY/rWg1pFsG0ckdTzVWC5zAgcA+xpFgcjJUjvg10KWOWOBnnNOezO0jHbuKVrhc5h0OPwp1vFlie+a6CDRy6E7Sfbpmp4NE2vlhgd6TRF1sZdpDI7jjOTyT3rZjswnXr15q2losOMIMgYzTmwMnqDyalozIuCuFABPQ46npzUbgAdQTnGAaZM4JGD9aiMoAOcc881AxZyGUAjp696yLnkE9AKsXFwfmGcg9azXZjkZJGeuetKw7Cbz/9eoWJJ9vzqTHQfrShCrZIBxzzzmlYTIjjuMUwnn6VNtJ7VC0PPfr0Bp2IeogHfpSPhffnoKcVbHBI/Ggrkc8n1pkNEeR/9em7vm9foakEe8d8dMU5YAg6cUDHJz145qUIfXimr1HWrK9qGXcrsCKhfd6/rV2TBwAOeAaqT54H51DZdyBnYdecfjShtw4x1HPpTHXIJP55pIhg4B4J6VElcLnSadIZU46gjJrct2xjpgdjXNaVI0UnsygEN9c10MZ+XPc9abZDL+BIMY/E1i3jAAkKMk9etaQP7sjPB61m3nJAAx65qb6iMi6ckHkFgMAGuW1fILE/ez+ddXdqqcjgnknHWuY1voz4+Q+nA+lEUQ9DhNey2453depzXGXudreua7/U4wYXcAMM4NcPfRHee3PTNdcdDGTOfuSBnI5PSsuZsZ+tbF7gA5APvWROoHP611xRw1FYpyMccVRnY55PvV2VgRx69RVK4PHJ5963irHHJlCZge1Qg5P0NPm6mmKvX+laHO9xwOT3/wAadu59MUDHrSgA+tNaieob/euk8HXHk69prB8J9qiZ/dQwz+lc2RitPQJXh1CGRBl423DPbHOaqxz1HpY+oA+XIxz3JpjNz6gdfei3JmtYXJIeSJXY+pKgmhl9elVseYiEkluvU96axyTmpdowSe3OM8moyPSmMiyec8CgHAI6896czY+tMJFMkY+fw+lMYbhn86Uk9OcelJzyDx+NO4MhOOM5/A4/z1pOMd6e+Dx6UxnC1DCyZy7XHzZ6Uj3Jxzj2INV2Yt3yD61TuZmjBOTUIqWot7cKQc/eHGaw7+cYJz+NSXFwSDz1rF1C6AGO+ema6IRMWQPOJZQCOM5+lRX92gXYCT3yfWqbsUywPB96qlzJ1rtSMpMXq3GDmtLTY/3o3D5c96TTtO80bz0HY1tR2a4Gzr6V2QiznlroX7bUnhH7tduOmO1Vry8uJVJeWSQkk/MxOcnNWra2BygUsx6gAmtCLwne3w/eQy20fDK8i43fQGuvlRyaXOGuJHYndknPpUUSlyM5611OoeG3tJdrqMnkEHOR6/pVaTRTFEsp4XPODyPeudo6FbcdoGnmS6SVziKM5JHXPatvxBrFxdiJDKSEBAUnIFOa1XSbGNAytIy7mKjHU9Tz6VhXcpZu+abiuponqULiQs348moXJJxippIyW+tNIPcY+tZuxZGgzznj370hAGeKlHHIHWmsuexqR3GxfM44Aweteh+HNHT+zUuZYEkWUkqx+8AD/wDWrjNLsBcXCIzBd/ABzycgYBHfk17B9gi0/TIYOhiXb1zn/OaJSsiGcpqWzzvljCAf3e9N0+LfMu0ZOatXabieO9WdAsWa6U8468ccDrWTmUrHe6Jb/wBn6a42ANIQd3Q/n3GK1NMhDTB35UZBVT09zXF+OfFk2hS2um2gHnCASStID8mSdqgevB/OuetfHGvsMRajPEo/giCr/IfzrilRnWfMjeL5T7n/AGbNGi1vxtp52ILeyQ3RAbOAMoox6biPyrN8Qak3j34kajqMBLpe6gEg3DBMO4LH9PlC1m/sufbvCHwh8W+Or+ST+1NSH9n2UjsQ43fIWB6ZHmKeP7hroPhJpBvfF+nAAGG1bcxA7qpI/XFdfsPZaXubqWh32sR+d4kigzgW6qm0LwBjOM/jWwDwOOlY8JE/irUpScqJpAG9cMQK2YzmYDtnP1qUraCloa8GFRcfjTbsk4GSeafH82BimXPUc89au5BTIxPHyeGz9auxglqz85uFHYDNacXTPbNMZi+Kp9kEScDc3JJ49azw22zJzjKnJ9Km8VPvu4k5ODnrwR0qC6ymmHI6KBgd6VrBuQaPbk3CAcjP3j24/wD1V0d3iOI5OMKTyeuBWPoqYZCOhANaepNn2B7CmGxl2K7rk56VLc8zH0HUn1osQd8jdhx1pXGZCeuTUouw63iLHI4GeauXJIh2f3ge9JaoQOnvmnXBzjPH9aGCuVYIiitxxnPpWSQGu2z83cn/AD9a3ZuLc4OD6/jWBbMd7HcGwxHFAy1J8oqpKQewqa4m+XHb61nySZJ96Yk7DmI65/M1SkvUSUqZFBPQZ606Wf5SBn+dc5eaRLPcStvIDL8pOTg5Pv8ASmFjdlvYlGfMUYPdh/kVVbU4tyASqSzYADA1zMuh3cdqYg4I8wsxXOTnsPaq2meHr22uXaVV27iUy3QZBHFSgR24lBxnP1pzEDvk5qlHnjrz1zU28njmhD5SU4fqM/jSNt6YFC5xk01iM8DNMdhY4gWyOPcGraxAA+/XJ61Xi+VgatB+PSiw7DdpXkdB261VlhVySQPy61bfd1B/E1Af84pBYqfZwegAx7Un2VecqpH+0AatY/L6UbD707Aip/Ztu33oI374Kg0x9JtP+faHPf5BzV45H09zSdf65pbjMt9KtychEUgcYQCoH0OCRMbCGLbiwZgT+tazABhgHNOHyqTkcnpnmgLNmG2iRLgb5lUHPEh5rlPiDpwi0C5SCed5JGCrC75VvXP4ZrvJsVyXi3b5umGThZLtYz3zuyP607hqbuleE/sWlWVubqUCCJFWPAwu0DgH8KbNocvB+1EEeqA/1rpZG5IORg4571TmBY9ff60yrHnnxA0mdvCuoK1wG8uMzAbMZwCRzng5H61s+ErXUovCuhPDLFEq2MO0OhbPyD39OOlZPxU1xNM0OaJoJpWuFMamJcqCePmOQB1/HBra+HviSw1rw3pdtBJiSG2SNgykHKqAw5HqD061S0A5LVNLvdF8faRf3LpItzeRhZAehb5QMY4H+Fei3SajBuy8BI+Zicgepx0964zxzpviDWda0+Ow0iWaGwuoroy71CzBedoJx0yfX+dehad9sv7c/wBoWn2ZsYZXdTuznsOnFBVjn5JPt8KSvFYXYAwDKqnAzyMGuaICePNMm0C1a3vY5PnW0KrC0QxuVgMD1ye4Priu+j8FaGCCNPQc8/vG/wAa27GztNNjKWsEVurdfLXBOPU9TVc1hlKW61FGybaUqM52quPr1rjvHuo3kh0lGspo2S6Vo2cr+845AweDkj869Gkk3L9f1ri/FiNN4k8KJuBH25WII7blqEtQO0Gt3ciKz6deAkZKhVI9jnNQHXpVJBtLoHPdAf5GukkBAZcnbuPB+tQiEZ+6PrUtXFfqYH9uyp9+xu8Z6iLNWo/EQDgfZLkAdQy4/WtgRAeo/Gp4xjnJ/Oi42zMGuOx/48rhAehMbHP44qUa4SQPslyMnqY8D8zWpjOerCpEAUYBIHpmlsPczBrmzj7LcMf9mMmnHWWPW0uR9V/+vWqijtwPrQUA9OffrTsNGSNcbnFpcHH+x1pf7cck/wCiTrj1XNaYjAYnuRgn1qRIh74HbNSIzI9Wl3Z+yTsB1KqTUy63ITgWV0Tnp5VaYjDEcZ/GrEVuBg+nvTuCM2PVJ2YD7HcA+6Y/rVyLULnP/HrOmO7IAD+OavKgJ6e+aspEDjjj0pFPUope3pOBATn3H+NTLNfnACEHvuxx+taCKOBgVYRQOtPcsyJF1F1wPLwf72f6VRuNI1C4ABeDAOcHcefXpXVKB6UpAI6UrFqTR5Xr3wv/ALX3EvBESckrGxP8+lefa18CGVSIr8lP4vlYH29c9a+kGjyT0NV57NHBBQc+tQ4Re6OqGIqR2Z8fXnwTvbYMRdzMOuFlK/pWTL8OdST5AS6rnHmOT+vFfYV3oUMq5C9T9KxLzwbDIM+UrHOcnisZUUdEcbUXU+SLjwjqceRsLEHoMnP45qlLol/Dw8En0P8AjX1LeeCFGf3SHd6jOPzrDvPAincfK/HpWMsOmzf69J7nzaLa9tHD7SmDkhh1rYS8DcNkGvX7zwHEefKDdzvGefYVj3ngOJif3Koc87MgH8jionh+dGtPGW1PPll9O9Kc8/yzXXSeCli6Iy56kHPP4mqcnh1l3bDkAdT6+vWuaWGa2O6GMjJ6nME5qM4Nblxosig8FvxrJexkTOVIGM89q5nRkjpjiIS6lVlDdxRsA6DvyaUoQcYPr0peeKjka3NOdPYdCADyODWjGybBgA1mbvbFSLOVHXA/nWdi9y8rKGJxj1wanUr14/GslrkA+vfNNF779ffrUhY3UIU9sEZ5pTKC2FwaxRf8/ezUn24A5Gam5JqE+tUrwsQAMgdTjv8AWoTfEsDng9qX7UOcn+vWlvqSVJtw5HrzVR2cjjn1zV5zu59agKAnAxRyhzFBgdpPYDpUeP8AZP19avPBkDB4phhUdaGgKRjyaX27VN5WM8/jmo2Qj396VjO4wqQ/+FKY+lKEbd3xmpNp7/l607WE2QmOk8rv2HpVjZuwCMYOfrRx0A6e9FiLlcR/p708IDU4XPr9aQpjOOaBXIVjw2fepdw44AA4+tJgg/8A16Np6+9IY2THBH1NULp8YI555q3K2c8ce561n3PTGOe/NZmiZGX8zoR9KSElZT7E8jvVdX2uT2JzU6TAuPr0qeW42bOm72uQPvbiByepPSuhXMfGc7T+dc9p02GGeOQcjHbmtrzDjOevOPWixF7u5cE3y9CP61nXc4L8A57k9+atISVfg8LuLY4xms25lDscA5P4VA3roUL6UsTlyw7D0rmdcnITLMBAvPJxz3JNb92uCSx471y2qsVV9xyM/L9K0SE5HO6i48lv7oGTXE6hIXctk88Zro9SuQ24Hj+tcvdzH5h0/rW8TCSMe7JJwenqayJ2HIJ5rVupC2eORWNP1PPPpXTFWOOaKcjFe5P41UnyefxqWR/m/wDr1WlcsegxXUjgkVHzu60Z7HPPWlYHdSgdzWhmw20mSuMAnJA4Gce/FBODSq2fwoMxT2rQ0yQwyhgMsOoPfNZ/XirNq4SRcDIHUGmzKUUz6Y8M3T6hodjcZDI0KgNnrj5cD8q0zjvXN/DV/wDijLJCfnjeRMDsu44zXRNyTzTVzznFLYY/XgYx+vvUTMM9MmpGPXmoG5b8fSrJuhSOahx1PQ/SpPcmmMd1MlkTEg/1xUUjccdD254qVvpmmH3/AJ0ENkZyQM/rUT5H48/WpiB71HjPX9aQ1KzOGz74H1qnfygEDPvwc02ebGQCeKzZpjzk5/GkkUyvfTbFJzgD9a5u5u/Nl68Z7mr+rXvGOSfWsBm/PNdcDnkWpJQRjPSlt49zZz0P1qovIyatWed3GcGu+Csc8jo9Kj8wqgGckZ9h6111lotujs7l34wBkAfUiqXhzTzBaK5Qea3zfNnp6V1lvaBskgIPQV2XaPPqT10LGn/Z7S0AitlRiOqqASD3J61bstVtLaQm/ldm25UFgR3AJGc9RVOedIYsLjI71ymrXDTSYB/Gom+YxguZk2ran/bGqu5ijjQMVURDC7QeOPX+dILbzyFTkA5Iqhbo0TZJ69ycfrWpbkWtsSu0kDJIbOetRY7Yqxd1GygW1TLhnH3gD/WuRuURZWA6AnrUl/qEkkjZkYqexY4H0rMaXPfgfjmk+x1RVtx7rvYAD8aJYQRgHmoQ5LDn8qk/i/zzUl2GrbtjJ/Wl8sbuxPtTmkYAgYI9BT4YzJ7VSRJ1XgaxQ6ktw6B1t/mIbpk9K7HWr5ZpSVGAf4azfBunomjGV5VyWOVHUNkgZ9iKfdKDKwJGc8ispEcxTPz5I6e9eifDzT4kLTzDbtIweeBtOefx9K4W0Aa6jRRklskDngdfwrutRuD4e8CXU8a4muCIIR6s3U/987j+FRGNzSx5ZfSXvjPX767jie4muJCyJg/KmcKucccY6+9dZ4Y+EXiDWLmAC2jgglbymnaZSByATjOf07itPwNo7RaeJEhMbzsCwOCSQcDFfQHwE8PSeJPHmlabJApgWU3UxzwI1GSDjuSo/Ou2K5dDSEE9z03xz4THw9+H3g7wQsqyvAv2qZk43soI3EehZ2H/AACus/Z98Lb7HxBqshXyrWIMSR22sxIP/AcfhWN4/W48Y/ES9WLdJ9nYWUMYUEhV4bHsWLHPXmvf9O8IJ4I+DuqaeuDdf2dcPI4GCzlGIHrxkCs62tmb3tKyPD/C8e7fcsC+WJOT1JO45/OtmIA3I9N2celU/DVrJa6XiYBXLFsDrjAxn361fs0LTk+nNce+onqbMSheaq3TDeeTkD161ajI2cjms+6Y+YTViGW/zTMTxgf1rRj6EetZ1lht5OOv1rRUfLnpxVDRzGsgy6gOQQo9O+azdRnlZoYACWY7mJ54xj+da0v77UZDg8N+Hp/Wq94mJwABkDnA/rQIt6HCVjG9gWA5xVjVG+UjB46Gl0xDtznJ5/CmajksAenPtUlMbYRjyGOD8zHPX2pNo38etTovl2o4weTioEUs/t3oEXLXo2e3rUNw370AkAVZjXEfvVFzun55wanYvYbqjiGybnqP8Kw4ZQqZxjPO3pVrxNdL5SRFtpY7c+vGf6Vlo/Awcj3oQ12JpbgHOev1qnJLuzgnFJM/zDn3puw49jQxFKa/ijJEjqhHdjiojqMG7AmRieysDVuW1jfh40lB/vqDj86h/smAMCkMcZ9UULSFdjPtsR/iBNJ9qVsHII9etJLpsRJ3AntncRUB0aBsDEi/7sjA/wA6sC6Jo3HBzj0oE6ZBz3qgNDRc7Jbj/gUxP9KBo6gnLzN7NJkZ/KpZXNY0jMOvbNJ5gJGCM1knRzuyk8+SeQzAgfQYq5/ZMmwfvmJx1K4p3C5oRtycnNWA4IrG+w3a8ecOvUr1pwhvUyPPXbnOAmc8+tLYdzXLdeePSomIz75rLT+1QcK9qB6yqx/UUEauxOTafVNwz+ZoK5jTBHrTt4HfOfwrGZ9UTOVgY54CsR+tH2jUXB/dKMc5U9fzp2C5qsf1pOBjnJIzxWZ9uu1GHtHYgZ+RlOf1qGTWpYwSbCdv93B/lU3A1iRnrTCf/wBVYya88nItbhfrHxTm1pQctFKg90IH61VyjSkXIOBXF+NI2kv/AA4uT8uqRNgd+cf1rov7fgXkuMex5qnfx2WsSWk3mqr286zIQ3OQe4pMZ2cqg7icH5jx+NU5M5JI69KqN4ht+80QwcMfMHWo21m3l4EsbH2YDNCH1J9wRuQFzyc96mjkRv7uM5wOK5XVIL7V/NVdVitI8gKyoSVAP654qrb6Fq0GzyPEkUzAEsZ4mOfyz61aQaHeeaBjP160v2gA5yBXIQ2HiS4YR/27Yxjtst2J9+oH86uDwzqk4UTeIymMgmGDBP45ppDudH5+M9SD3x/Ws+58V6XbAGTULdAOq+YGb8hzWXF8LLEspu9V1a8ZTkq04VD7Y25/Wuh07wN4csADFpcUh6Zndpcn1+Yn9KegzKl8c2EXliJJbxmJ2rEACfbmoNGttZ8SeJ7C9vNJnsrCzk8wNPgZA5X3J3Af5Fd/aJDarsgijgQcbIlAUfhVkXROQSSPdqTZEiyf3mT6nP1pg4ODTBNnIB/Wm+YCeT+FZ7lWLHU/55qZB6mqySDvz+NSiYenHpnrSeoyxTlGSev0qDzR/dAx71NFIGzz9ferHYlUfXFPP1zTA4pN/wBam4hepyD+IqRPfvTFI7nFSRFcjnj3pAWE7evWp1yfxqFGBPb8amUjI4z9KZROgqePNQLIB1HH1qZJQueM/jSGi2gHrz1qQZqqs4+mfepDL33DmmO5aB9/zp271qj9pGeXFKbtOPmFNILlst6Udapf2hHnlwPc0p1WBRzMi+xbFMfMWio98VDIi1VbWrUdJY/++hUUmuW4HUEn0NAyaS3RuwqnJpiMScimtrsOTwzZPaoZNbyPlhlP0UmnYV9SGfRI3zwOuScdazbjQYjxtHPcCtNtVmccWk59yuKiM1zNyLaQZ7FajlHzvoc9c+HY1PKgZ79c1k3fhmJsZGQRnuOfw+tdhLFdtnCMPXIGf51Saw1B9wCL7FuB9eKXKi1VscHc+FIx0HJ6A84rHvPDKIWwcnHPGea9Hn0TUTwPJ565Zv8ACs2fw1fktueAHPYMf6VDp3NVWZ5Vd+F0OTwMdODWDd+GxGSVyO5POCfxr1+68HXs3PnwqO+FPP51kXPga5yQz5GemOB9DmspUUzeGJlE8gnsJIskA4z1Iqix28nt3r1O+8BSBCDKFyeWIJz9MVzF/wDD4hlHnygjoFUDP61yTw/8p3wxr6nFvOCPUE1F5/OM/jW/P4HMWCJ5yc9JGG3+VZN1oE0IZxk4bBUjB+o9a5nhmjsjjEVlm59wadvOR6E1A9lcRNkqcE/lUiv2Yc9cVzSouJ0wrRkWVkPr+tSqzZ7H1JqqhB5xzU65H41i42NFK5NnGM/oaN3+c03k9RT9rHoakYhcAYP86jI3HqOlOZD3qIsOeT6E9KBCFc9Dmm7SM4yfapFcDrz9aGOaCXqIo9qGT0HU0A470q9f/r0GbVmMZRnjPv8AWlEYFPCjJyakABwNvPTr1pEkPl+5pCo59qmPcDscZyDUZA56n61I0RlcA4xketIQe2RmnMc9B+dBzjJ6AZxk0rhuVZB8wOeaoXSnn3rSlPsc+tUZ+BnjHTmgEZBBySeRn1pgk+fj+dTTZOQOxquqfP7ZoY7mzYyfdct06ZrZjuflUE5PWuZjfbjBIHcVeS6EYU89uvOTUivqdLDcDYwJGO/PNZVzuEmRj1NVjqe30Gaik1EMOe9YtPoFyO8bevXBzmub1JwRIrY2+oGTWlqGpY3AE8e2P1rlNQ1E/MOpPPWtIoXU5/UIDliSOSeR9a5fUP3e5Qd2O9b99dHY4JU9zXKag+Wzu/CuiCM3Iy7liN3J6dKyJpSSe/rWleNlTjrWRIMZOck9q7Is5KkiBmBOajbvxTn6k00tnPY962WpwydyuV+YjFKB14qRlJ5/Sm5I4x3qzIhbjIxioRkN17+tWmBJ61F5fVv8mgzaAev8jUkDbJPXnpUeOcZNOU7Tx2/WqvYl7Hu3wdulk0a6hAG6OUMSOo3AYGPwau6YMOSeM+9eU/BbURHqd/AZNqywg7STgsrDb7ZwWr1bzNx57007nnzVnZkT9ehz7Uzbn6/WpnwOR1HqKgb1J69qexjsIffmoyoA4/GlLHPTim7ux70xDeMdiajLcHjmn/xD61GxHb8cVVyWNLZ6/wA6j3DB9vTvQ5w3B9Sfemgj8KlbkrU8ullJJ4JI7nvWddvjJPBqV7jdxn/69Zt7MWG1eSevPSujlL3M24zO7HAxWfJH85HatBwYwQTjNVGxyTzmtERKIwYGAOa3vDOltd3BkP3FxtGR19cdxWJCjO4UDcSeAD1r0vwhp5SJS6YJXIGe9dkdzz60uWOh0mm2BKpuKrtwARwKvTyCGPA59T70xT5CAHp9azNQ1AEkdPfrXSzyVqyK8uCynJ/CsNwXlxnmrb3IkOB3qSGxL7SMbj2qHI64RvsY2pzhAiAknGTili19DpxgdAsynb5gz847fQ1Frel3NlKJZYyscn3WzwT6VhSk5z60J32Z12a0ZelcPkZ5PeoCp+tV0nO4ZGfxqz52V6c0Gi3HoCOvH45zTy3X37iow5NSRxGTnP8A9egq4kcJHQk/1rWsbYNjHUCk03Tyx55BPPtXWWfheeW0aWDaWUcKxILeoH4VaRhKaW5n2M8ti7FHYI4G5c8HHetE6ik/K7t2MEHsc/yrOuENtIY5cqw6gjBqC33eeCOQTzVSiTGbl0Ou0CxuLtw4UIxbaGJycevFdH8QXN1NpOiQkgwL5zZ7MRhfyG786n+H9pFMiE4KplpDnPrx7Vlwk+IPFF3fDcIgyhCp+6FULj36H86wStI3Tudl4asjAqIqZwBwxx25Oa+t/wBmDw8um6J4r8S3Cr/oNsYbZ+zyMC2M9+Qq/wDAq+Z/A2jz32oW8ARpDKwjVF+8STgfzr710PwYfCXwk0Dw7FGY72+dXuB1JY4LHP1213NJGsG+gz4LeCfMu5Nduk+YOWTfklmI6/QZz9a9P8bEL4V1POMGEg59yB/Wruj6XFommW9lAMJEuM9yepJ+prK8fN/xTFzH181kQZPX5gf5A151WeuhvTXU8V8j9xnvtyc96ht1JYnpitG+QRKABtA44qrAvBzzzWCRUty2PlSsuds7jjn1rVkx5XoMVkvnc3NWtSR9kPk+pq+eInHTjiqtuMBT+NWLn5bZyCchSfypj5bnPIhEznJJJzzxVebLT578DFXUHzMf8modvmTn60AtTX09NkNU7hQ03PPr71oxLtg5yOM8ms3dun55waewiabiJV984BqKL7x/xouHzj0pIm70hluWXybcng4GetZFrerM24EdeQGzVjVJC1vtGeeuOax9H0w20rbSFjPJyOc1NguZfieb/S0TJxncOcZ4/wDr022JaMYI/E1X8TYfXPlOR5KZ+pzUmnBguDnr1z1qiiy0W/3PrSsOg/M1Nj2pr+n9aVhXItoOMd6cU2r35o79MLjqKezDHU5osFykw65pu0ipmwWJNRsKZVgCdc801wAfc0vPPGKb1PrQFh0SbnJxmrQXr1GKjt1Kqc9z0qcZ/OgERuOelJj2zTz75xT1AIznGKVhEezntSeX6H3qTj1z+FLj9f1oHYgaMY5HvTBGPepnz3pn8qW5ZCYlx071E0Q7jrVvrz2qGT/OTTsMqtGucYzmhYwowBgegNSN78/Sm5WlcY3yAWyQCR+NL9kjY5KDn0XFSBqdu9cfhQOww2kTcGNW+qioZdJtn6W8YPc7RzVxW5yORTskng0WCxSTSICB+5RT0LKuCasJokHlgEyDGSdrsOp+tW4Rnr/OrI2jgfzp2FYyW0VMfI8i85+VyCfxpf7Gz/y8XC/7sp/nWoetKvX3pDsZw0Tri8vuTxumJzTk0Vgcm9uuPWTNaQb8qlHTNUVYoDSZuqahcJg9Sc5/WnCwvUzsvWfPd0B/nWghB4qeND6/rU7sdjO/s+/cD/TUPqDFjP5ULpV/nP2uIezRsf8A2atpIwO+f61OEAxRckwmtNTXAE8DY7mJh/Jqk8jVF6T2p9cxN/jW37VIE5p2GYkMOqsSC9nj1Kv/AI1ZWHU0GBLafUK2fzzWsqAVJt45/OkMxANYXOJLQj02sSaVf7X5y1pz/stk/rW6FFO2A+lMVzC26s2MG0+X+9u5q1BHqxyWNmT/ALr4H61qLHyOnNWol5pDMlLfU3b55rdfZY2/xq2LS+cDM0AI7hWH9a0lUfWp0UZ/n70IqxlJp16R/wAfMXPXMbH/ANmqRNLuSeZwef4VxWuq9etTRjBHHGaoRmQ6PLnLTsD6KP8A69P/ALFYnmab8HIrZXH4d6dx9Pxp3HYxBoKZyZ7g46/vTzUq6HCeplb1DSE1qj6Zz60v5UXEZy6NApwAcf7TGpf7HtwMGFSfUjNW8844qTPHP6Uhoo/2dAOPJT67RSixhHRFH0AFXOO+fzpp/nQMrfZ1DfdH5UjRg9h64FWD37VDzu7EUANKDHIzUeF7AVLu9v1qMnnFADMDmoyuewqRvc8Uw5PegqxAyAHoOfeoJIQc4A+uauFevFRtwf50EmZLbL1xnNVpLEMMlc1sNz/9eonXikVc5m90pDggD6AViXWiJ83yA56ZFdtIgPXGKpywA59KLFKR53eeHlYY24wc+tc1qPh0Bx8nyk5y3/1q9Xns0yTt79qyLrSV+c8k9RmoaRrGZ5DqHhkdowQ3GMZ5z2rAu9B+flAAQe/Ir2G70cjJx9PesW+0ZXySmWAzx3rGUDeNZo8hm0t4mY8qM8AnOaZzHwVJJPb+deiXmig9uRkYrA1HRAf4V3DPOK5Z0U9zspYho51ZQOe5qRZMZxzUlxpxizjjGc1UOYwSfxrhnQaPQhiFLcnYk9ufeq8g7YGfak+0bsdqcJBnr+ZrkcTpVRMYEanNGQPenhuenfPFWBggdOamxpcp7T3yPWkzg8c1caAFc5AGM9ag2hTwP1oYhgzuBIx6mpAwHXNMIGc5IxTeR1IPrjmpsQ0S9fr9ajck9O360CTHXPAoL5BIPuc0xWGgnPTNMdumfyFBcdiOOtQNKKgGNkf6Vm3IJyck57ZqxcShc8555qhJLnPTrn61LF5lWVtueeT6mq6yneSeg6Ul1IXkJHpVZJDmpZVi/wCYccnH9aVr/YADgiqDT+vX6VUluMnHYdaZFzW+3Bvx96il1BVXnPB5HrWLLebAfmyep9qzLq+bBUNyTzSsSaWoauuduRuIzwe1YVzefK5DDJBGfrVO5mOcs2Se9Z1xdAggGrUeo7kF3JvyM4GfzrDusZIzV24uevPPWs2dyepz71vFGM2Z1zyPoazpsD/9daM+OvPNULjAyfxrpicc2U5D8x9KiByTk08nJqIjFbpWOWQvT0pCc0v8qDj1zVGQw5pjEgHn6U8+tRkj3/Ogkbz1o7//AF6U5z0FMz83PSgi51ngTUzpXiDTZA3yyXMcbD+8CwAGe3WvoROU38DJxtBzivl3T7p7e7t5Yzh4pVkB64KsCD+Yr6S8PXovdHtp1dZNy4LZ5Ld8jtWiPPrLUvt82BnmomBz14FSO270B9qgkcjoT+dFjnGtnOeM9/eo3Y8c0wyAnJNZ9/q8NsHDE5wduBnmi1h2LjT8HJy2arXF0sIy7BR1yTivK9d+Jl/PM0VlH9mt9pRiyku/J+bPQZ9qwbXW7q6mIM6oD1EsmAeeev4mhux6NPBylHmbPVdZ8W2Wl7TvNxIeiJ0PrzWaPF1zfZ8qFYEYArnJbp1zgDmszSdFiuEFxLItwp+6FIK/jjv7VrmJI8YA/CkpIw9jFbM4KeYKDjg1RSUszHORSXtwHfjA6DjvVcvsTk/hXducFhLmXcfp71ACf/r0EGVuPxq3FYvjIGQfxrSKJnIZagiVSOCCD1r0fwprEblIpNySnO0no57Ae9cPZ2pLHIwa0WQxoRk8jBwcV6VOGjuefVSloei392GiIB59K5i8nJkxk5FVLbWWkCJKeR8oY8Z9z71JK/nOCDkcc+tOaRxRpuIWwdpc8+vX+tdT4bt3vJjuXEa55Y96xYUCoAOCa7Lw9EkEWPlBb5iWHX8e1eZiZ2Wh72X0uep72xF4lsYJ9NlglKZCNIisM8joRzXkt3Bsb6da9J8YXokfy1bDK20kjnFef3pBcg8c1z4WTW56eOUZS0M3HzdPxqeFTJ279cUgwxxirMPAGBxXo3ueJy2LEFuON2OfWrkcYBwD+VVQrEDGRVqBTuA61cdRM19NtiWABPJByOe9eiaafs9keSwAySe3tXK+F9OluXBRQVUncScdq6K7Q2sbrkjHUA9a6UedV1MLW7GHUbppWJRySeO/saylhEcwXOBnHNbNxgP13d80kdj543kAYIPNa2KhqdJoM7aXol+qbkmuU2K6nGOCCc9e9b3gGy3JJAkYdwnmMRjk8DA/Ksa802e1SBJAN8iCUrHnaM9ufSt3wtaSQ3ULqW3BgdobAJGev61m422OpX6nv/wU8PDUfGmjQNGFllnVcgYIJ9f+AivvN7MXWvxykfurOPaoxwGPp9Bivmv9k/w0mo3ya0ybmtUIlzziQLtUj3O5vyr6ltY/LRjjDOxZvcmsqs7Ox2U42VybP+c1ynxC3fYLPbyDP8y9cjaefwrq8+9ct46lAtok6sMsP0FcEtTsSseVaiu+Rs+vSoIY+gx0PWrF2C8x7AHmiJemBRYxlqRTrhcZrOdRnr164rSuvu9eTWcRudVHc9K0I2LMaYCj0AHWi9bEOPXNToML05H61Tvj90E9aATM9EJVz3H60tnbkybiOp71Mq/L2wasW67fTGe3FUCVh9wwWHAHbrWbCCZGPH1rRuyAmD3/AFqlHhAxxkH170rFWKtw53kZ6UW5OQB61DLIWkzjIJ7VZtB83uKm4gvgVTJ5HvxTIMCPcOhp+oyBgqEEENnIPWopG8qzJ6gcnPpSvbQ0tqcbej7TqTuev3fwBIrQtoSoGfrzVW0Xfcs5ydzMxB9zWxtC4NFybkD4X61n31w8a5VGkP8AdQZNXp2P+NVZO+e9UIy21V8jMEqj1ZSM/pQ2tLG2JEZDjPzdxV1tpwCBgds5pp8tsD5eO2KAKJ1qFs5IHPG44/Wk/teEffdU/wB5gK0FtYnJJA/DioLm0h3fNEp+q5o2KuQHWrToLiI47hgaWLUbeRxiaPrz8w4qKXT7aXgRIpxjIUA8+9WbPw/bPgmBMjuV5P41KC9i8t/CEHzAjpxzSG/ifkP9Bio5tKs0G0QKeOcsf8aonSIQzBFMaE52qxGD+fuabRPU0Uu1ckAgkdRUgukZchwCOozWZ/Y4IADuuOmGb+eaVtEbr9qnwAcAN/jQaGitwM5Bzjrk0/ziSSD+ArJ/sVg4P2u7564kwB68Ypf7JlVhtubg4OcmQ80yrmsZQeufeo3IJ4PB61mHTpw3y3Mj7u8hzj8u1OfTrxQCLmPgdNh5/WgVzT8wYxmq0mdxPb61mNFqa7gs0AAP8cZJ/PNQn+18kebbNz0CEZ/GpHc1N2T/AD5oGO9YzS6qh+aOE56lG4pBd6kp5gDDuwYYFGxV0ba474FSKATWIL676m0nb/cC4/8AQqVdYmT71ndA+hVf5g1Nw5jeC8/SpEGDzWANdf8A59Lgf8B/rmp11vH/ACyb1NVcadzfUdPapGI4rAHiGPcww3HrUh1y2xl54kPZS45qhmxnPTipEXJ6msaDXLVj/r48dzuz/KrUetWp5NzEvuXFAzROKA+Mc1mtq9s3S4jbnnawP8qkhvoWcYlDe5FK5XU1YR3PersQ5NZqXaL0cYB61dhuQdpByD6d6RNi8gxjHP1qYAZ7VWjkJOelSmUjk5H1FIom2jtipY/vDpVVJc9AWqeJwO/zZ+7VXFYs+hx+NKDmoknyT37/AEpN/P3hSC5OvXnipR/+s1Eso65zT94B4NFhk6KM5qdF6VWWYev41YWQHBzQO5ZCj/GpE7n9arCcA46n0zUiTA9x9OtFhFtR+FTAdKqrMM9eaf8AaQuMnrVFFwDHf9af2/rVL+0YkGC2PqDSjVbfvIv50CuXRx60g5B61nvrECjl1Ge5OKYdctsZ82Pj/bFArmmvWn7qx/7etzwJVPtuFNOvQhsBgxH905oBs2GODTCT9ayf7cQqTtY47Cmf25npE598HmgdzXZuCO/1qDd82aym1d25WCU/Rc0xtTuT0tLgn2TrTsJs2GbPeo2J6g/jWULu9IJ8oj2IxmkN3ft0hAHsRz+tFgvc08nnkUhbr045rJMuoHrERnueh/GmsdRccCMH/aJpDuapc+1Rk98gVkGHUsZLwj2BJzUJt9T3El4sH0Vif507CNljg9ahaUZIzWZ9jvH48xVPqwNRHTrwZzcR5/3Sf50ijRkYeoz3NV2Yf/rrPOn3PP78c+xqJ9Hnx/x8gknps6fjmnYVy3IVJOSMetVLjZ3I596ifQpT1u2+gXH65qrNoU2eLxlHPO3kUh3G3KRENz+GelZV1boBk8g5xnvViTw/PuYG8OC24kKTk+vWq914fnZQDfM+emU6fjnNA76mLeQLgsCOTzWJdWaMScDI710Vz4duEAH2tZBjsvSsu48PXO3m7UHrxGcn9az5S1LsctdaehDepHPNYF3pic4UcdM1195oF2OTcqeMcoRz69aw7rR7vYyCdN2OWIOCaxlA6FOxxk9qY8kE5B7emaotM0bEcnvya6e98P3rBtjwggc72IBP4Vz95pN2p48snvz0rknTTO+FdrYZFqAzg4HqSavR3OcDI9q5y+sL+HcklvnH3grA/wD66TSpbn7UqSpKEJxgHNcM6Vjtp129zqjOB1OfrzUBvVBOdv4dB9KSbRrie28yGRQAe5zmufvba/hYjy/MOf4Tg47HH51ySVj0EzYecbid3BOetIbscDPT9K564i1CNQUDMpJB2r0qmdTngJ3gkg4OBms3oVY6l7keoyetRG5OCBnnrisOLUi3JPfAqdbkv3AP5VFyLGl5xxgE89iahNwQMcetV/MbYDn2z61E06cgnJ64B/nQJodPIWJ6kfzqvK3yZyOe1RS3J59+9Uric44PNUKwSt8386hebDcAAAfiT3NRmRqqvI/J/ketIklnlOM5x6is6WTBJJJyc5JpZZC2T3zzz1qpK+7OfxBqtSBZZwyMeeBWZPKScg49Tmrsk4jiIAHzDBzWRczZBxmqRDdyleXGeKyLi5A79/XrVq4c5I/Wsm5Tbz/WtUtRNkclwd3XionlBUk/Wo3J61BJKQDmtUjKTIriUetZ8zbiQc4qa4fd3qsWrRHHJkROPemHBpzMOaj3c961RhclwNuKYVA70b+OlNzu9vxqjJjT6f1qM4B5qQ49T70xue31NBAmfQfrSdTzil3UHHXmgT0JbdgkgPvzXsXwt14SWk2mgn5P36gr1YkA8/QDA+teLDiuj8G6u9lqcfIQFly57DvVI56kbo97e9Crknmsq511F3YJJ7Ad65x9XkuHCIQFLZJz1H1+lSpEMnPOepHOaq5yqPcsTX9xcZwdqkdQcGsTVbKe5Vh5sm48jDdTjv61r8L7fjUc2CME9fxpc5rZR2PNNQ1mXT4ruyMSjzV2uzqdxHqDniuUuQWi80OV+bGM9a7DxTZK+oNtJZ3OMk4zz/8AXrA/4Ry7nn8rZmPdkuDwB69PStNLXGqjjodR8PDONOeV5jtdhiPd1GDziuwzx1z+tY+h6WumWUMKljsXBZjyx9a1e39Kl6kczWp5grA9f1NMY7nx2z61VM5J6GrdpEzc4JJPSu/luedKdi1BDlwB3NdRpNgHPK546Gs3TrE7gcc9eldv4estzKdgY5ztPGavZHLUnZFVvCL+QZ4wyuV3BGXGc+lcxcKyOwOVIOCCMGvV5LzZAEI2gdK4fxPapMzzIBvY5Zh1J961hK71OKM237xyhlO76d62tFm3/f6huOe2KxwpLYIrS06FpZUjTIZ2wD6e9ayqX3OyC5pcqO70KyFwpmZGKgfLjGDk9c/hWmbj7LG20H5exqxZw/YrGCHYR5aBST3I6n8Tms3WrtBGFVRv7+9eHUl7SVj6SnahC/U5bWbkyzSPtALHJI7+9czNuZycn6VtXsjPu3AbvasZuX5Wu6mlax5dWpzSuJFHu56HuKsxoQRn/wDXS26c9MCrLw8DH5ius572Hx5OO1XraMbgWwB3J4qC2HrXQ6PbQyTKHCsD/CwzmtYq5jJ3O18K2aR2ZAI68lef89aq605+0OoB2EnDMOSO1d74f061j8PAxCNSVzknLKRnjHbvXD6/s89grK2D1XmtIyu7HDKGt7mA5XdgEE10OiWX2ie2TcE3sM7u/fH1rBtrTzbkkKefmJFd74UsSLtJGTeo/h9ODz+tFR8iudeHp887HW/2RFqcKRyKxY9XB569jVrw9oDWl+Ip0HB+Uoc4Ukc5xWxpluFAAAD578iu78P6J/aXyRLmRVOVHOcnH9a4KNb3mmfS4jDLli9j6l/Zi8OLongKa4GT9tuN4DcYAUY/UmvYcj0rD8FaOugeFtMsR/yzhBbIxyeT+ROK3Pyrao7yuefTVkLkVw3jqf8A0gqeMKFHPXjP9a7j8q818Yz77yUZzhz/AIVzvUqWxyE2Gc8jOaRR1oZctnPfNKvGe/vVmRVvO3f8apQqWnyf4ecVbuWy3NRW4G9jWgmyyqetUb374yfetAcKay7lg0vripJEJCoOOtWIOgxWbNNyF6/SrlqTtyaChuot07VVL4t2560X8370DOcdQarXUuy3/A809xbFZGLSc4zmtG1Dc8VkWRaR2JweTgr6VtQ/KvAzk+tJ6jRVvctMuR+tQ6qdmnP3G1sj1qR2LXOCc9Ko+I5lS1VDkbztGOcnGaVyijp8K4JOCxOT+dWZGA79feoLTPlqcj8KdO/P09O9MNyCUkMaqXk2IHbptGc5qaRiTk8Com2SqynkEYIHemhXOWuNXuYoPOSIviRl24zxjO44PSo9R8SPZtuEQKCMSlg2cdfX6V0R0+BuAMKOozmoH0S0kJJDMeQctlSP8OaLEsq6Bq73ed4G1wHUngkH2/A1pXNx2655xmo4LCGzUBAAAxxnnAJ6D0FRXPzED8ajcolhbfIB61vRRFYhjGT1rH06Au44Bz61u42Rgf1oQ2zPdDvORgZ/Ok2cjNSyt7/lSJhqoYqJ3xxUuMn/AOvSDjvT8cZoAi2/SojyakcgtwevWo2PPQ/jQAqDJPHenEDB/rSp36etNZuSOPwoKsQyAdse+ahZBnp/9ep2GP8AGoCcH6VOxRE6dfem7AOh49xUpcfX8ajwSc9vehBuN8oH8/pUkaDORkEe9KD9fypwFIFEdjLA5P0zS+UGHzZP1pVQnnOP61IM9+aYWGrAoGAPw7UfYYv7qn2IzU6KOOTUmBn+dO4yn/Z8DPzDH/3wOalXRrR+Wt4mPqy1ZGOelSg+nQ1Vx2KDaNZE/wDHpCT7Lj9RUKeH7bkeWApbdtBIH862AM//AK6cq8/zpBqUE8O2u0f61TjGElYfyp6eG7cnO+4A9p2/xrUUfpVhB0HvSsFijH4diAP766IPT98wxSt4ai7T3Yz2M5NbKHoKlwtFh2sYEXhgKSRe3qg/wifr+OKlHhk/8/8AesSejSk1tqPm61KvSjcDCHhk9r+9GeoElSr4dIz/AKbdv7MwP9K3QOMmlA5xTHaxjx6E4YZvbsj0Mn/1qkGhMSMX12PbdnNbQU8Zp4XB6E+tAGOnh9zjOoXgx6OKlPhvd/zEL38ZAcVsgenJp6g5PpQMy4vD/wD09XB/4HU3/CPKetzcg+0n/wBatVRUgXP9aA2MqPQR/wA/NwPpKanTQY/4prh/YzHmtEY4qVF//X60CKEegwAZy59dzsc/rU39hWvHDf8AAmJrSVf/AK/vTtvJ75qhmcukW2eYkb6gt/OnHS7Yf8sYx9FrQ2+2aQqBSuOxSj02DOBEnvlR/hU32KIf8s0A9NoH9KnC+lKc+/1p3BEBtl28AU3yR0I6VORx/wDXqM9TQ2CViIxJ6DFM8lf7tT7qiPXvQMZtHpTSP/r4p796j/zxSYCN/nNMPfinH8DTW57UloBE+eKiYc1Kc1Gf896B2G1E3fNPPpULZz/9agQxu9Qt6jtUrVC/Xn1/Oge41mNQSYOc96kf9ahdvfmqCxXbvx+VVJs59BVlzVZz2/GpGUrhBjP41nzR9cDmtSTr2OaoTKcZH5VJSZkTxE54GPesa7tOpPOa6OXuT1rNnTfxU3LvZnLXVkMkgfhWNdWAO7AA5zn1rrriP5iCM4PJrMuYMk4H41lLubRkcbdWOCwABzyaxbmyKkkDkDNdrd25VsYGSM5FY1/b4GMe+a5ZRudcJ3I9C1hI2EE8DEFvlfPTOck/pXUfY7e7Xf8AeXsCcEivPp0aMkrwfX0rZ0vWnxsbhh0Pr04/nXnzXVHrU5FzW9Kg8ttiKhxghR1GQfzrgdT00BgGIY4wBgEAc/1rubq8M/U9M5HrXN6hH5rMexOc1yuzO1Kxx0trtYgdBUOJEbHPHftW1NakMSPxqtLb5BHT1zSsXcoiSQggnr3Bppz6/r1q2IAB0JOfwp32fAOQOeeKixkzNlzgf49KqlTzkk+1ar25GeOtVDb8kdSewFKxBnvkZFVpmweKvzoR259aoyIeeOM45PWrsQ2UppQvTGepFUZJcZ4qzcodxwOvWqMsbHPGOeTS6kFW5nPPcVmySnJx0+taMqALz19TWbPjBx0rRGTKMxDZ/nWbdH5iP1zV+d+GrPnIwSe3rWiMZNmZPnnniqckp6dauXBB6ck1nyitkYSZWnyxzkjFQFqlcZ/+tUJPOCM+taGTG5zzyKCvTr703OOnT60pY/l3zV3sZsQjHfNN/DijOOT0/nTN3t+tVcyHc59qD0+vWm7vam89SakgUvk9BTSef/r0je3FMz6//roExx79eafDKYpAQTnrmoGYZ6n6Um489qaMzZn8YanCkQhYRRxkHMa4L4I4bOe2a9C8O+IH1PS4JSi5xglc8nJ5PNeTeapQqVJJIwc133gmN7fTEQqNrAMrBuvvVtGEtDsnl3ryMd6hZzznpURmIGOoqB5TznJPpWVhnGeLg6akkyEquBlFOASGyCa6TS5Yrq2ilUhiy5bB6H0rn/EqiS7QAkkjkenNVtN1KTSWKADyX5YHPHuK2toYyR27lVIxUMt4IRnqfes5dWgkTcZ41zzhmGa5/wAReJ4YIjFCS85PVT8oHrmpKSuYEcQZh0PNbFjCd4yQMnpmqFhEZGBI5NdFa2w3LwOOcmvYaPFlLQ3dLtNqpkbjXYaenloDt28Z5GKxdFtTIR3A71u3B8hM54+tVKNkcVSV2Ur+ZvMfuB0rnNUuNinnPXir+o3ZBJ3g5rmb+6MkpA6A5rmtqEI3KYO6TPvXa+ArYxXxuyG3IPlHVcHqT+lcSriNweDznrW1ZeI7qxUi22puHJK5NVUu42R6+HjGEryPVbjaLdpHcbcbuD3rhtUvAZWw4P41iXHiXUrrHm3UjAc7eAD+ArPkmeXnP1rkhh3F3Z11sRGfwonurrdLgHv1qHHmHJxmod5Oc4PNPjYg9eld0FY89suwxn1FWQp9qqQy85I5rRgw5HT6V0ICW3hLYOOPXPWui0LTxPODvGV5KBv1/nWdYxGRgvHJFdnoNiRFsCquW3MxGCfxrpjoclSVi6ut3GmJtiIA2lSSM965+e4e4kJY5JOTgYya0tWBj+XGMnnNYzyojYJAYHoaFFbmN7mlYxOmHP3epNep+DNPH2B532j5gBnk/dz1/EV5xoeL1PK2Zc5OR0I4/WvUvD++G28njacHAPAIGP61w4uXuWR7uXUOapd7HT6ZjcOA3uRnvXu3wV0oap4gtraSImPeuQvJAP3jn2A/WvBdJEkl3sDBVAzkgnknAr65/Zv8OSrNe6m20KkPkpnk72PXHpgGvMpU7SPo61R8p7/FIJQWHIyRkd8HFSfn781FbQiGJVH1/HvU2BXfufPkF5MLe1lkPAVSTk15Hr93513Jg5yx5r0Pxhei204IGw0jYI9R1ryu7kLTMc//AF6lq7FJkH8VBJVD65puQxP+NLJwgH5nNWlYyM+6fBJosMspc8bj0FRXjHdx071YtRiMe/NaATucKccVkyvukYj1rUm4iY596xlP3vrz780tgKsmWuCM961Ic+X61joxaTkc555rYjJFufXHehiMu5b/AEoAZOTgmmakn7kc46j600Zkuif9rv2o1OTy0AIJA5PNN6lXsVtPTy8+5raj+6PpWXaR+YAR3PStAnanBoEU48vNnqRwfzrK8Vbv9FA/hl3ED/dx1/Gtm3U+axGfWs7VoTcX6jBZV+bA9cVJRTtSVjUd+9JMxyTmrbQ7ByMcZxVCbO7GePagkqXMjFGAGSOeOtZ4muV3HyHb5toCkHPv1Fam3k55z700gD0poZkS6lJDwbOcHuuVz/6FUX9ry85tLlR1PyqT/wChVqlAckgZzUPk9Tjr7UCM86wQxBtpwf8AaXH8s1VbVvNk5Qr1JJNbH2MNzgZqe20dC6uVB56EUWAbpV8sUe8gkEkAt26Vdn1iAZ3yKuP7xIq6tuCOVB5zyuarXNon9wflSHczZdbs2dtk0Z5J2rICR+Gc0sWrW+7iaNc9AzgZ/Wp202E8+VGD6hQM/lTP7Kt+N0MbAjcAVHehjTsTJqluT/r4ye5DAj86mN7DyPNXI6gMKij0q3jBxFHz1IUA1HLpMEozhg/AABwMfSgOaxK13Hngim+cGxgk59qqtose/PzfTexA/AmoG0RCWJmuFOeAkpANOwX7ml9oX+9SrLuJ4yB3rHOgoRxNcZPXMn6006FtyRdXDeiu+QKQ7o15J16f1qBs5JzxWU2mXKnIuPwK5pDbXy5Czxnj+Jev4jmgfMae/n1oz+lZiwakilw8TMvIXaQD60kq6nnKvASe2Gx+dJuxSaZrBh3OBmp0wawR/aKKC8cZPcI2QPzwasLd342f6MWA64PWkg5jc/KncD1rJ+33KAH7FK3qqlc/nmo/7al536fdjPAAVT/7NTuHMbampBlqwY9acHm0uce0eaeniBActBKoPygMuDnr0/OmWbikjipkzXPp4gjMnzAoD3NXotZgRCxcKMnk47etA7GxHnnP4VKoBzWSuv2bf8vMQ9TuBx+VTx69YcA3sPP+11pXGjV46ZFTR5HWshdYsmPyXUTkdlcEirUWqQEczofYMKVgbNWPJxk4qxj05/GsuPVYAQC4JPIqyNShyMuCPpmhAXQDmp1Qj/8AXVEXqEghgB6+tTreoejgnuMUIC2oNO255PWq/wBpUAknHrkVKtyuOOfcU7FXLKjofSngHtmqqzKejZx6CpFuBnG7kc0WJLaDnpUygDH8qqLdL1/XNSC6Vv8A6xpjLQxkDFSjkdKz/tSZB3cnt61ZW6XC87c55PensItIvIq3GowDms9LqP8AvjA9TTv7RiBH7wDPrSEaP4/nSbufaqK6rB/z1X86Y2rQdfMQY7FgKoq5o7sdaC9Z39qwlSRIpx1IYGmHWYB/y1j4/wBsc0rAatJvrJ/tuHrvU+mHBzTDriddpx6560wua/melNJ7/wBaxjryEng59jQdaBGQjn8OtAcxqM4Pb9KbuFZDay5+YW8pHf5aYdYn5xazHHcAH+tAkzYLZ6fzpjH/ADmsn+2Lg/8ALpcDPcqP8aDf3JODBKM+q9fyoHc0yc9+aYWPfNY73t3uA8kkde1NN1e9om9/l61IkzVZ+tR+vP1OayWuL9hxASQehxzUDT6i3H2dt391TnAoHc2N/vTHYD0rGZ9S7R7Tno2KjLann7qD13H/AANOwrmuzDnn8aiLjuM/1rJcalzlYlz2DZzUO3UyDiNSQf4W7fjRYOY13wfaq8jjPbP1rLY6sD/qogP9pv8AA1DP/aRJPlpg9kcfnzQhXNB2BP8AWoZSBn9ayG/tQ5/dRqAM8MOR+dVpX1POBErNnnaccev86ZaZqyuO/wDOqkjg5x+dUHfVOn2bJ7/MM/lVKWW/5/cOTgk8DioKuX5iMg9s8iqEpPPFU57q7BwbeUEc4xyfwqo2o3QPNrcdc42f4mpaKTLMyAZyeTzWbMMEnH4Z61Fd6m8ZGY5BkZ5Xp7VmzaxuLDB9OazkjS+otyQ5Ix0rKuodxPcfnTptVCHc4XB77qrNq8WfvKHAztLYJHrWElY6Yy1Mm9tiCfSstmaGQFCV2nJI71rX17EWPzDPpWVdzRbTyM9QRXHNXPRpzL1rI13G3JyuSRjnr/Kq1zG6dV5xnB7+9Z0Wq/ZHBQ4OckDjOO2fSuvs2S/tY3IEg25GRnH+FcEo21PSjURyEq5JwOe9V3t9w4zgjnmuwuNFRwdvyH1HNZc+jbc4lPGeq9azZ0aM537KOOelSx2qZ7kHmrslhImcuMAFiTxwKi+yuMnePoaBNDRYREA569qp3GmDeSCDk5GM8d+a1FXbjLHaOoXqaWR1IwcDIx6UdTF6HMXOlls47ZOTWdcWG1Tk8HjINdVInXHSs67tjIOlQ2JnI3Nuq5wS3ueayLlcllxxnua6S+tzG7Dj1zmsS8jzk/xd/ehEGJOmQc9Kx7jrgciti7ymRnOe1Y10x29O9WiLIzrhSOlZtw+7jn/Gr9xnPXFUnUjJJBHtWyOWSRnS8ZFUp2GD61oS45PTPvWdPg56da0MGVWYYI4qqx5PerJA9arMK1Rk2RnB68D603oac3PFJ/k1V2RcQknr2pKX5fWmE9ulMhoM4PrSM+T6U3BOeab35OaCGP8AfJ/GmH2NGfrSO2CO34U0Q9SM579PrRuHrTvvdSKQqBycY709iLE1rEtxcKp+6Tyce9elaTtgtURclVAVT7CvMbeQLKpBwc9a7fSdU3WqbmHGfrTuZ8tjoHn5x39ajebCkk9Kp/ae/XNVrzUVSNvbrzSsDVjI1e43XuM5wfrUEro6An86yrm933TuflLNkgHNMa8MigDOK1TsjlerC7+ZiE6/571TTSZ5nHUDPXPSrkMiQtuYgkmpn1yJeAOnWueVVrY7qacdjRs0CkEc11GlWwkIJ6elc3YIBID1FdbpXyqp/HrX0CkfMOJ1lj5dtbjkAAdOlZut6nuiUIc4bJP51m3upNGoUE8dQDWXNe+ZGTnBPXmplJs5uSzuyK8v3IOTz7mstZMsdxyfT1p11Nubg5xSQxeY6+9ZrU2SuCxlzwM1ZhgJYgZJHXFbNnYxKqnaCwOfm6Gt3TEiDucIpK/dAwDz2FWnqW5HLpYSsAdpPvRLYFRnofSusnClzjAHtWJdxfMee9VewlNsyPs2PX8aTZjp+NXCNvemFAeARz6UjS5UUNuPXFXbSUh8HOKFhCdec1LGke7jn2rSIm2dBpswglRwc4IPr0roU8TEKfLUJnkEEg//AFq5ayjLgDGAa0Et/nCoCzeg5zXSnYycbj7i/mmcZkdsDGCelOgtTNycZBAPNOSyJdSAQ3THY1v6XobvJD5hO12AIQEnBOPTip9oluOMG3ZHQeDNL8hDt3EZ/ir0W0iKIh2845x35rGsNIi0mOKPnzFUbjuyPw/xrrdHtRcbA4znqK8bEVOaWh9XgqXsoXZseGLEXN2nUZByD2OeD+hr77+GegL4e8I2cRQRzTgTyAf3iBjn6AfnXyb8IfAw1zxJDAYS0bypuPOB6k/QE/5FfbiRiNFRVCqAAAOgA6VpTWgV58zsSU3dRzQcgZ/rWpwWPPPHt5u1IoDkIgx+Oc1wU8pMjehNdJ4mleW8md+SWb/61cy4y568+9JM55PUeh/+vSzn5f8A69NQEEUydj0FXYRnXRy4U9quQ52qCeO9UZBumAPrgmr6A8ZNUxWG3ZIjPvWWfuufStC+f5APfnmsqdyImweo+tG4blS3YmY8HrjJrX58npn1rLtB+9HbmtS4+WDrzj0o3FsZtv8A64njk54pmo85BGTirEH3vSq9xkyn60wuPsVIUVZm4HXrTbdOAfSmX8vkhSRxnnmgrZD7dOS2cf1qCZB5pbrjrzToLsGIkHqfWoA28se2aVhple5bqB+dZ0gySK1LgDv6VnSgDNLqTcrn+VMIyetKx3Nxx60u3jPNAyPZ1/OiODcf1qTAPenoQMgd6p6i2HLEF6ipAcUzPTn8KB1z61JdycMfbFRSP82OuDjINNkeoywxnvn1p2EPPv8AzoUAnuai3ZOD61MgJHHHuKNyiXt6fjTNvf8ArU4U8Zz70hU/X6ikSQsveoXXH/66mc4OP/rVCxyT/U0DuREZ5ANMz7fjUv6im4HNAJDceuaY6/THvTmyMdaQ+/egdrDQvHNJ5a+lL1PU0YPY0rFWGeXzUoQYxSKvbrSnjHWiwWHCEe1G3DjA+pFJkntx9amQj/8AVRYLDEhG4kDkenFPMIY5I3DPOTmng546fjT930/PNFhkf2VJDgoMDsoxmpY7KIYG0Ff7vapEb1FToM49+tFyiuNMtiVPkp7jaOacukWvTyI9p6rtHNXFA9efenYz0xTG0VRotkT/AMesIJ77RUq6Ja54iUA9VUYyfXir0S9M8n61YQUrjM0aFaLki3HPqzf409NAgJ5DKOuFdh/WtMYqVEDHpTDcz08PWz4yZQAe8rVJ/wAIxaZyN+fdya1o171IACfrQSZI8Pw4+85Hpvb/ABpBoMYJIMg9xIw/rW3tHc0u3PY/hQMyRoaMB88pHp5rf41L/wAI/F2luVzyQJm4rUA6f5zUyL69TQOxkJoMY5D3H4zMc/hmpl0GLrvnJ/67N/LNaqjH55qQCgDJ/wCEfg/v3B9jMSPyq5FocOzBMvAxt80gflV0dR0+lWEAxQ9RGemgW6jo+T6uTUn9iwYxtP4savj0yakVe9UIzRosBP3MfQ4qYaRbf88k/wB4jP8AOr+B9KeAO9D1GUf7Htx/yyUeu1etB0i2z/qUz/uir1FAioNPiUYCAAei0v2SNT9xffIFWKNvA5IoAr/ZY8cIv4Cm/ZV9KskfjTDigCIxJ6cnrmgxjr39afTT9aAIdgz0A/CmMoyeKlYfjUTYyef1oeg7XGMoyajK5qQ9Tnp9aa3H1+lSFiEr6/jUZHf3qZqib8800Ve5Ey81GUHXjNSv3qKmIjI/zioW6mpmaoGPtk98UtgsQvVeQAfXrU7854NV5Tge9IaRXcDnj6mq7YyfWpic596gcZOc8dxTHYrSjn696qS47jP49auyemOfeqcpVsjHNIpFCYc+pqnKuM5we/IzV6X5Q2BzVGTOOTUsoz5kGegJ9xVC4jHOQG+ozWnL/k1RuOD061D1NLmRcwIeAi9+1ZdxZRM+Sik4xyK25hknFZ04APIrCTLRhXWmwsWJBXjGAx5rFvtJTsZec8Bhj+VdPcYzn+dZdyA+T0ArCUex1wbucbc6W4PDEr0wTz9eKn0i9uNImBaYPbAj5CpyB36dc8Vq3UefpWVPFjIxXLON9D0YNp3OxttSWdVIGQRzkg4qWWRGHTp1riLSU286uCVUdQOf0rqrS/WdMvtDDoF7j/GuGUbM9KLIZ4hyOOnTpWdOAB7dTW5LsdScH8PzrJu40AJOcelZ3NrXZmvMByDVO4n5yOmOalnjU5+b/wCvVKSLOMMAc9zSI5bAL07jn15pZZQ6+/es2VZQx5GM9V70ZkRc0GTRTv4gzkksec9a568jKMcdDXQXEy9WP1xWBqEhLMeq54PqKEZPcwL8fOD046+tYl0eTnity/yPoawrkA7gT61rEh6mdLjOOv41RuCAKszIS2BVKcEdTzWiOWaKUwOTj61RlU5zzV2bIBHp+tUmJX3rRaHPJ6lKU/McVCeevH1qzN9KrSf5xWiMSGQf59aZnAxTz9cfU9aiJ/GqROwDPNN5JNP4PbrTO+e1NkiHP19ajxz6+9S7s/1qOmSR5bP9adnPal6+1GQPrQZPUZnHpUTOcng0/ccn0+uaZ3PHX3qkguIpwwOa19PuxGR82B35rHPX/wCvRvZemasg7H+1RszuH1zWHquqmZcISc9eelY/mOSTuOPrUUk2Cf4jUk9SXzf7xprXuzIH4mqLyO7c5FKkLSdic0mxqncfNdu33T+tNjV5fUitjTfDb3kmMEL1JxXX6d4Jt41EjMd393PB/CsJzitzrhTlfQowyiPChs81vW2r+TGAq5AHUmuXslMmSc/41poCi9zz6V9G6Z8g9SxdalJJJkn8Kqm4eTIBOaZNuc52mliR0QkrwO9HKSkgzz8wrZ0Wy85gxBIBrEUmaQL712+gxhERMjg//rqJ+6hSdjXh0xZIxgY96Wa0+ygkH8a2LZEK8Y9cVBd25fOehrG9zn5rnPyXRzjt61Tlfe3OePer1zZlXI6e9ZbA+aV9+Se9aI0jEbIoftwKjxjp/OpSpximeU3Y81odMVYCyqOeSfXvT7dQ8g6U0x/Kc4JqayiDNy20Z6+laxHa+h3fhDSLe+Ej3CM8aAALyATzzn8q3rqztYhiGFIz6quCfxp2i6e2lWUcJJLBRuyc5bvRMpYnmuedRp6Hq0qK5NUUo7cLIDgcEGus8MWZnu1wVAUEnOQT7CsK0gLPjG73rrZITpPh+5uEYfaHULGNpAG7jcfpmsZT5hOCpvQtz6pAlzuBA2MwAz2/wrp/DuuwTEbFJkUkDAIz6jPrXkGnQPwcs5LfMRz1OM/rXqPgfTnkuVQkBQ2VftuxjGe/atIYe73G8XOKsj7M/Zn0k3E0+oOnliNAQoPQsCB+gavoWuE+Cujf2T4DsZGGJLz/AEggrgqCMBfwxn8TXe8e1a1FZhGTauxMnPSmyHCk9upJqSqWqziDT7hycYQ4P6f1rBqxTPLPEcqNeTleAWJArm3cbj9a0tTffJIfVmbr05rJ69cmqscrZYj61XuGG7+tWE6VSuD8x4H+NWkS9SA/61exBz9athjmqAO+U+lX4s8D9aAKV9JjrjBrMuXGzA5yavakczkZ4rLueNoJ71Q2T6Yu+5XIGB1q/fEBMDpVXSwd+QMY96sXncE/WkxFe3HysSCearOC0p69elXkXERx1NVdv7zp39aQF22TgVU1WM3ChBxg5zWjbLhMk9utVJ+Zj6D0q7juc7LpN1HueOUeUVyVOSeM+/8AStC3QiNc8nHJ960JlGwZHWoGXaMcZptuW4incsfSsyYEk8frWhcHB69feq3DMc96kDImWdWwoBz3NMee5A2iE49cjjpzx1FakuFb19KYWGDxjJzS1Ay/tLgMPIlDA8sQMH9aRdSmH3rWX8MEH8c1oMUY8gZ70ojXqAAfWmOxQTV/70EuQeQAP55pRq5yT5TJgZ5OM1daEE5IGc5J9aY1uD2FSBUOrRcE/Lk4z1po1SDJ3SKg7Fmxn2qw1qjHpSjT1k4KK3f5lzQFyAapB3lHGTnNXbbVLZsfv48n/aFNj0iDd/qk9/lAzVgaXAowIowf7wUZ/OqHzWJlvoixAkXGM7uxpJbuInAkX65qA6PA33lPTAAaoZNGhbHBGDx8xFSFyRrpN5GQxB7c0wTq5wpyD1qpLoETdJJlPU4lb+uagbQlVhie4J/66nH5VQ7mg8gGMMaTPPJ/XrWUdGfeT9puM9x5ppp0mVMbbu4J77pM/wBKkOZGqzY53UhkH1/Gsk2F0OPtG5euSv8AM0otLxOFlQ8ckqTn9RQNO5qKM+340u4D6e561keVqafdeDDezc/rRm/AIcozA9FyB+dTuF9TZDdOc/jQxHXOfashLu/JXMUe0nBZdwI/nSTX11EeYGc56ZxVF81zX8wA4x+tSI3I/l61zo1WfJxZzOeuY8Gnw6zOZcGzuI+erJx+eaCmdHnDHripQM9hz6msIauAQWguAT/EyYH55qUa4g6xyA45BXH60Anc3kXpzVlBwO1c8uuxjBJVPYsBV6PXLY4BniXPILMB/Ogu5rgVLHHk8D61mR6zZfxXcI9SXGPzqzFrNp1FzER1yrg5oC5qKNuB6VIpyaz01W2YcTJz3LCpE1ODd8sytn0INAmaKA8GraIBz3FUUvYuquD9OasJcqR978xQBcz9aeM//XqkLqM87x+VSi6B6EkewoHctrT9tVlnRRycAnvkVKJQeQSR9KBWLCr6/nT+hqqtwHY/NwOtSiYdc8evrQNllPU1IuT24qtHOvOf/wBdS7+/YfWgRPkccVNGSfaqnmDoTj61PDMOcc+pFPYdy0Bn0qTP+c1XSZSODu9hQbqMdTimSWf89acG9cfjVT7VGeh4Pemm8RT98cUAXMj2/CjcP881S/tGIn74FH9pRf31P40BoXsg560mffP1qh/aUQz84/PFMOpwrz5ij3JoGaBPv+tMPfjNVBq1vjJkTBPXcP8AGmNqlv2liI68ODQDLp6Z5qMnNVG1WHGQ67epIYGq7a3arn94hPpuFKwzQLe1REbuaoPrkH99D7BhUP8AbsGfvAnvzTA0SfeombJ4/wD11mtrSMemST25pDrCZI4OOuGFIWxpZ+tRMRxxmqJ1hcZxx7HNQvrcfock4xk5oQ0zRY59vqaiJ74/Gs069EcnB44xzTJNcjPAHP1osFy+565xxUBY8nj86zZ9cjTrxn071AddiL4yOaoLmnI36VVkbJ5qnJrcYOD0xkn0qrNrsCdSF5xycZNKwXLznPPTAqHeOR61mv4gtu7r1xksBk1B/blqzE+agI5xuFO1iro05SMN0zg4NUGwMn+tQvq8DdJVI789Kry6nA2SJkPqAwzU6Ah8zbvbn1qnOR2/SmyalDk/OM9cZqs92hPDZNS0URTN15J5qlcHIGMnjmnzXaByM4IPQ1SuLvaSOPcHvUSRomRSHGf5VnTYJ5zz71YmnBHbJOSSaoTOOoPNZM0TsVpcZweR6nvVGYADOKtzNuHX689aqSjCH88+lYux0pmdcIOfrWZNCXbP9K1pcEjOcE84qlKvzdznniueR1RdjPNvz9amtCbd84OATketT7RuHepFjHJPc55rmlG53wm0XIbkMoyfzqrclZdwIIx0OetNKEdKiZm7jp3rkcbHdCVjNuDtOCfrVOSQAZz+dWr3qepJrEunKA8nFYnVa46aYckdqqPdjkZqpNdkZyevvVGS6HY/rTMJR1LFwwfJ6isu72ngdverLTDacnn0rPum53etOxzSRnXpBQjt3rnbkHd04zW5euTwOBWPcqQeDxWqMWZU4wx9azpm2biRuyMc9veta57HrWRcnJ/GtDlloUZmHb8apy7e341anB61Tc5z/StEc7ZXlBPQ9KqyLjqc+9XHHXINVpFPOOtV1M2iq3rimdfU1M6nHSoScVpczY3PYduvHWk3c845paa3r/WmSN5+n40wk7u9KSfwpBnPXqaCRc//AK6Yx696U5/yaac+9Vcluw3Iz2pGPf8AlSnqeCaYc9fWmSN3f5xTWGf8KUjL5PrTsf5zVCsM6j/69S2GnHULlIlGCzYJwePc0wDnn+dbOhXItJ945PfnrWe50wpp7jdS8Kvp8QckOD/EvIrHQbXGPWu4vtUF5ashGDjrmuIdispx2NQz0qdBHa6HdrFGoLjHAIJxW62sWyJgyrxydvOa8y+3SBeOB61C19I38R/OvOqUXKVzphCysem6R4bMdq7zmNST8oBzke5qa4hghj6DI71aefykIJwD71k3Nz5r4zxX3rVj8rjVUndDco5zsAA61DeXUYj2KADnk0jyCJDnvWTLLvY89e1YNmqk2WLUnfkDnPWuv0Pc2Dk561yulIJJMZAJPAJrq9Nl+zkH2II9c1yyCcjpIJWg5/nUkt2XHp+PWsifUt2MAYxzVf8AtEk4z9agxL1zc56/MM9B3rFnfc3AwKtT3HHBzms+Zhnrk+mK2SNYkocg8c/WmPN2xUPmFSMCl+8MmqsbXYPKT7V03g2xN3qtuh4Q5Z27AAZ/wrmEXdknt2r0j4b2KxxnUXGY3Uou71z1A/A1UnaLN6avJI6+ZSFY5z7+tVRDu6dalmuPNlKg9T0pqSbHwR0PPvXlubZ7tzT0SwLXkQI4Y5Jx0rR8fvMZ7WwidVUL5spAyST2z26Z/Gr/AIVhSRorp0JgCl2ByMjB/l1/CuceZ9Y1++vM7opWGwEYwBwP0xRTblK7OGu0lYsaDop4Z3YZGWC8/hX0x8D/AADDrN9pypbiZyyhd5yP4WLEewzXhfhy2druKHbw2RluAfbPrX23+y34c2WtxqL5U2yC2VCOjEDLfkK9ZM8mK55WPoCCFbaCOGMbY41CqPQAYFSc+9LkUZFcsndnqpWE5965fxxe+TZLDnBdskZ5IArqcivMPGl88mqTruyiHao+lTYc5WRyt/JnPGQfSs5X+erF25I69/Wq0R3N6+9Xsc+5aDZQn2rOuCQT7mtAsEjb8/rWRNJuY9etVcQluT5h9K0Fztz6+hqhaZLE+/T1rSH3Sce9Nj3Mm8IMpz1zWZdN8wq9ck+exOetUJULy9+gGM0bhuaulJlSc9KS5Pz49+tWtOi2w+5HNVpsvOR68UxEvSGqsa7pB71JMSqjnFJANz56EGpDcufcjxVJATI27OM1ZlOIjk9vzqqpJz7frTY0MnYk4PPeq0zjHX3qWRvnIx0/WqFw5bOOn86YbkFxNn8KrNcgUk7cjvmqrnJ/HOM0E3KmtatJbRxGJAXdtoy2MHGc/wA6yI/EMz3W5wTblcBlbJLepP1yK35I0l25VWCsGAIyMj2/GoGsIX35RfmOeBjH0/OluK5zh8YTJdhFSLbI+1WcE49MjP8AKui0u+NzZh2DKSzDkYHHoc81AdEtGZcxK+05GQDj3FXEt1jAC9PbimBZDk8/1p27jNQjIyPzp7e5NSUKACRz3q2uDg4x+NVkA/L1qdWHOKdxssogxnP607H+c1WMp6YA9807zSo6/rTETNjNQtjnmo2m/Wmkkjkn1pbDsPbHT1qIgc9eaRiR7/WoyxajcEIep7+9IVB6frT/AH5/GkOB71FhpEZiz0x+NG35entT+vSg4HPPrVFWIjxkdvrUW3mpSeT/AI0zPbr+NAWGkAZwMetRSJls5znr71IT603BPbj0pNXGtAQAAAjIzk+9TCMH2H93tUa/SrKAHr1pWHuKluGB5znqM9acLRcj5enQ0+MYOfwqyB6dadhpFYWKbySoJJySRnNWU0uBiGMSNjrletTIoxyOvarEdMorf2TbMw/cIF7jaOfzqVdCsztItowRyCB096uIM8mpwPT+VAkigug2vOYFJ7k5zTT4ctufkx/wI/41rAD1NKOtNlbGfH4fth0VgeudxNWE8Pw8D97nsVkIq9GMt3596txii4GX/YiDgNIPZnJH5U3+wV5xLIMnJKuwrcAHXrSlR7e/NIVjFj0FOomnyOhMx/pTxoLZ4uZx/wBtM1sIuamC/wD66OozC/4R5m/5eZ89chyD+dTroLFf+PicY4ysp/nW0APSpBjp60PUVrmENAb/AJ+7kjuplODUo0Djm6nHsGrZ4z0FBPP/ANegZiNoAB/4+rrPXiUirVtoDjAN1cYIyTvzWkOTVqEYzQLYzToJ/wCfqc+mXxSjQF4zLMcdy5NbP1/nT1A+vvTsK1jGHh6Ich2z3+Y0/wDsGM8sWJ9ya2QMe9DEccUILGH/AMI9CeoOSeoY05dBgHGD+ZrY7+1MdqY7Gd/YUA7HHfBNL/Ylt/dJHuSa0Fb60vX/APXTWgjOGiW3/PJT9Rml/sq2HSJP++RWl0HvURHP/wBegepROlwD/lko+gFMbS7dusYP1Gavk9f8ajJ+v50hWKDaXajP7lD9Vph0636+UoJ9Fq82P/10zb9KCjPbT4Cc+UpOepAJpPscX/PNfyq+Rioz6+nvQBTNpEP4B+QpptYhn92v4irXJPSmv/nrQBSa1h5/dJ9So/wqI2kQ6Rr+Kg1cPPtUDdTnmgVipJbRZz5a/ioxVeaziODtUfSrz1A/1obCxnPaQjrEpJHJKiq8mnwHrBG+O7KDir8uVNVnPvjFJFLQzpNJtCP+PaInOc7BUB0W1PWCIe/lrkfpWmTUb+x60yWZDaPac/uVx6jI/karXGj2hXHl9umTitphjJPNUZuDk4oCxgS6Lb/3Gx6bjxVCfS4l7yenyv24roJF+ZuT1rPuh8w/WpNFc5+fR0L8SzhT1+fn+VZ8+kjn9/OSOcbuD+ldG6nn+dUJ06n+Xas5IrVHL3OnSKCQ5O1SfmbqfaqEtpcLgBlbgZJz+NdNOvBz+tZ049OR61m0UjmpPtYzkfdzwOmPrVaaW7UA7HcE8hR09q35gOmKz5MA4rKSNouxgNfy7mHlS59QvA5701rwgfMNpPdmA/StiRNxbnr196geBH4KBucnKg8/jXM9TpUigt8rc7lY55CsCR9aspcjjByTzxR9ghLcIqH/AGRileyBHDsp/wBk4rJxO1T7ki3APNX4I47ziQMVzwA2COfXFYdxZsqBAxbjGZDnp64xUmnXd5b3Pz+SyE/wBhjn3z2/WuWpFno06ncn1bQTAokjLSox53Y4Ncnq0BU4Iwx6KeM16JJdCRGB5T0J5+tcvrIGTuXI7MO/tXG2ejGVzz6+gZWx0OM4zWVcSGLIPBro9WwzMRgNjAPpXMXkbsQXI6fMR60ymrjVuh096R3D5yfwNVGYJ60zeduev1qzmlES6XK5xxWTOqnJP5VbuJHKkZ469aypm+c8/hmqWpzNFO6GVOO3WsmcqAeckVo3EpAPp61lXDLn3rVbHLOxQmkLHFUiDu5z1q3Ljd1/Woj3zWxyshbHv+JqCTg8dKnbgnJGKgbvnpTRkV5OvH86hdOamcntUbE1RDIiMH2phx61IwyajYH+tMh3IyMmjHXmlJwTSZPTn8qZAh6ikYClP0NMJzTRNrDMHdTSfXFOJOeaY386oQ044PFL+frSc568U4D3p3FYaf5VJHKVI9KQDFJu/GpeptGTTuacMrNGQefao4tGmu5eMKDzljiq8ExRxk8da2oLt3VVRsAe5qHHqetTr6WIX8JTLGWMke32JNc3dwG3lK9wcE+td0lz9lgd5ZcYBJB+lcRq98k10zAAgnPFCV2dCn3PRry/80EA5J9KpoxALHP50zYQck8ep4pruD8o/OvrZzuflEaajohs8vmnHaqbRMh9jWjb27ucY/H1q62mMyjIzmuCU9TqUGjLtyUII9eea6Kwv1kUqSAe2e9Yr25icgggCmxsUfIJGDmp0YmjqeCOufxqF1wetU7S+3DBPQ96kluQ2eefrWbTuSTGXHGenqapzuTICD0689aikkOck8VG8wK8Zz71tEdtSc3Oep/WnJck96z8nNWIwSRjJAq0jZGlav8AvOeBnmvR/Dup239mxQxko0fDIxyc5+99CTXnVrCCMng+laNuTbyLIhwwOQ1VOHMrGlOfI72PRzd56dfXNXbBvtDjGWx174rj9M1T7QFQ4U9M+tdjoaZmUJkk+h6mvKnDlPZhNTV0dlfzf2N4HZPNJmuHWFCpwcM2T+Sg03RLBLa3iTeZG2gsx9TzWR4vvzJqlrYELGkKhvL4JLf3s9xjpitLR55JXAHKkevOaumup5GKlf3Uer+AdO86YIFV/mViGGepwMe+a+8fhZ4f/wCEd8JQRFQrzM0xA7A9BXxz8D9Ie+1S2QgO0qqoGP4gwwa+8oIVghSNRhUUKAPQDFd9vdM6Cu7sfRT6K5Wj1CN2AU1494ku1n1CZhzl2z+dem+ItUTTLBmY/M52KCSMEgnOfwryDUn8yZ27Fs0zObMu4myxGOM+tMt/vHP4VHO438Hn60+2656itTBsnmbC9ay5RycdzWpN93FZ0nX19qQ9hbRSM5P8XSr5bCmqtsBgn15xVmTIRj7Zp3sLVGNOC0p570wL+8GeTUjA7j2qNcmQAdc07jNaH5YBx15zVLO6f8e9XmG2HrwR0qpCPmY4yPahjRHcj5sZz35NFsMvj3pk/MnqPrU1qPvZ9uc0IQl8cKBnkHnFQL8qFuoxUlz97JI596rXcgit8AA4H3RxSaGiu024k45zzk1Unk2n/wCvUm8bSfU+vWqUzcn6+tNAVp3+Y9hms6cy78rzzzVuVyTzUeQMZxVEsz3vJ48jymc9tuP6mom1K4/itpEP3uCDkevarsrjtjj3qAsGIJ5xQ9CSBNYOcm2nH+8AP6mp11YOQBDIMjPzDGKnG2TBYBvrTiiMCTgnFTcexW/taLkZAI65bp+NTDVoiv3xn1DDH51Hsj3/ADDIJqQwROMbFP1UGmVzBHq9vuG6ZEGcFiwAH41ZGp2wORPGQDgkMCPrVM2sXOUX/vkc0gtI+yLj0xQtQvcv/wBpQnpIv4Gnm8jC5LjGM4zWcmmKTuBIOc9aJNLR+AWGRggNjNKw0aQuEbkEAHuTThKDkhgQOuOax/7IAyTJJ1JA3cfWnDS2OAJ5Yx/sscn9aY7pmuCSCc+5pFbfkDHryayP7KmQEC7mfvl2yRS/ZbofduXzngmpFc18j6f1pjMB1wRn1rHks7x24fkD73IzTPIvxkBozjpy3NA1qbSuPU/40xmJ9TWS76jGgAERGeWPJHHYZHf61D5t8D0U5PJXPFUVY13b1NJ1/wDr1k/abvH7xDnrgDGfzpFvbnkeTJwTyADwO9SO9jY4PA7HqaceO9ZH9oyAZNvMPYqOf1py6ueN1vMik4O4DP5Zp7gmayg9jzViMjNYY1mNM5Q57DPWrK6vF9MDLE9qVyrmwnUY6VbjXjntWEuswA8OuB3q/FrFsVBE6N7g/wBaB3NVVJ9KsKgHGc5rOg1a1PW4jU57t/WrEepW3UTxuO+GBx+VBRfXI61IOveqf9owEAiRTn0OT+VOXUYs4Ljcf0oAvDPvT1GTVZLoHGPr0NWFl29T1oAtRJwCeuasKO+cc1Wicdj061YRz3IyO1AEw6U8AHp61CrZHWnhvQ0DuWFwM5wacv8AntUKynuMjvzUgbuDxTsIlWpAQahEnFKsnWkBLnn29aKZvxnrTRKd1Ow7FgdV61Zh4OTVSNuc5z9atQyA/wD66ZLLWM//AFjT1HPPNRq4/wAml8w5zkfnQMlP0ppIzTVfPpTTnrQArnPSos4z/jSlx681FnnOadySZTlhxUo45qmXKn7w/CnrPzyaLlFknpmonJ7cUeaGxgU15AKQDTn65ph9aRnzkgmozJ6c0ALnrxSMaZ5gI7fXNJvA7/rQAMaiOePTvStIvfp9ajeRT0P60DHHp0/WomJP0oLgdxULyjOMige4SH/PrUJbqT396GceoqFpAOuT6+9Owrg/eoXbinGZT061BJIB3FFgsRyEnrVRjz+NTvKPXmqshHPTB96QgprDiozIAOv4A01pwce45z60AJLx0rPuPr+FXnYbeT/9eqU5HJ7jsCOaAKEhJJ69fSqci5DdD9atXLjOCapSNwce9Sy1oVJ1K5GTk+9Zt2PlPJ564q5MeepOOuTmqc/eoLZmXDH39TVOXp161en5zxwP1qjN3zUMpaGdcc546frWfJ1btitK4x2P41mzjDAkkkjbn1rKWptF3KhbrURkwT61LLx68+tVZGBrnkrG6ZJv96dn1NVGfHH8qFkPvx2NYtHXEtsy4xjIHtWfeMEGR61Z835e3vk9aqXjK6ntWNQ7Kci5p90kkR3E7x6dxmq1+N38JbnrWFFqv2DUIy5YRtuViDwAQeT+OK6HzEmjV0YSRsMhhyD+NcUkelCVzk9S07zCSPl9q5XUrN4jg9Dzn1rv9RjYg7SAO4IzkVyd9F8xDE+xPas0je5yVxCQfX2qo77eK0bvKs3QkH161lTElqtK7IlqV7hyO5I96y5mzk8EfWtC5QkdetZzxHJHb1rU4pIz525PWs2dDzitWdDj+tZ8qEdqqKOOe5myjmoyMjn88VZmXpx1quW4OR+Nao5ypNx9M9arv7VakyfpUTZwen51aRBW/D9aayipD1b61E/t+lVczbI29P61E3P4/rUpU0w4x1/GmZtkDfSm9PXFPYHH/wBeo+Sf8iggkL57fnTW656Uc8/40HPc1Vxbkb44zj86i7+1TNimN+H1ouG40Ht7880vHtTQOaXP+c1SJHYBHSmEH8/WlycgdqWkMhY8/wA6sW2ovATjIz1PXNV2/wA+9NbPpVbg5W1Qup6jPN/ESvpWIzMx5zmtYkN1FPh0lbjJJA/rVpJGqr33O8nXylxnPoaitYTJJnsP1qecq7dc1c0xAVPy9D+delVmfMU6eupbtoRGASMe1X7NFmmUH7gOSPWoeGGOnP51p6Xp0hG4dD056158qnVm8o9EUNfsFlYvEu0KuDtH45rmHi2A8HI616xBp8IQl8Ej1Fc54m0+3KlkCoVzuwOtVTrpvlZz+zaOIRmVsgVOLjjnqPWopDg4A4pFBPbIr046nPuPZi/X+dKELH2NNWE7s5OPrViIBDzzVWLUR8dofoO+TWja26FgOpNVPMPRe9aWmKTOnsRn3ppamnKa40Rxa+amGHUgnBx61QfIfBHGa6yKVUh2uRg9c1lajaIwLJxnpitNAaM6CXYeMfX0r0zwNc+bbySFgTbruYseD1P9K8xhhffjBHPeunsr2TTbRkU48wAN79awqQ5loaU58rOlspl1G+uLt5TJOWy27k89efyrvPCez7TGxXLKwIPpgHr7V5Bpt/Nb3QdGGP4lPQ/WvTPC10blQVZA/RkBywz3/GsFDlOWp70uZH19+zLp327xfYlD8sJediV4GFwPpzX2HXy5+xxYl5Na1JuIIoYogWOAGbLHH0AH519OQajbXJxHKrN6ZxmtHLod1GNoljH1ox9aPzo/OsDsbOH+IkpPkRk4UEtz9AP8a8yuZidwOevWvQPiVdhLuNM8hQzc9Ov/ANavN7uYBSe/86a1ZhLcpu/zYz9avQAlVwPesrzPMP1PWti16L+FaGNx0/yr81ZMsg3kA1o6g/yn6VgojtPk55PTNUhrU24R8q8Gpp/9UeaZEpUA56AU26cgc9P50xmfIOvaktE33Awe+aJe/PU1JpwJn9OM5/GluFi5ckhQPzqBfkUt1zUl0dpwTkVWkk/dn3osK9iH7zdc8+tWoRgZPFUo2BPrVvI2HnGBSGtSrKSZjzkVQ1B9pUdc9av9z65rF1GfN2FA9M0blDmJ28fl61Rn3biT+VXMj61BKefxqgKL559vWqE7EZ5+grSmxg9eKoSDLZ7UEPUpyMx6A9M/Wm5IODg4OCQc5/Gr3k5API+tM+z5NMkiDHjGf8aepPHXmrCQADjH0pwt8HNTcbKMuQQMGp0J2VJJCC2O49aeIxtAyKY7FY5z3wTUkYLHj60rA5wAD2yakgUocnuelBTJoxjgjFP2jI7070PpTSc/560BccVBH0pRxTdw/wDrUpIPGaBgevGCKdtpoAJ4p49/zqRWGH6UwkbumKlP0xUbL36YoKI5cVBsPQdCc9atFCwxR5XTGfxoKK4hBzkfrTxajqMVZSLOeKkEfb+tOwrFQRYxgEZ60ojOT154OCaubB6Y9cUnl/8A66QWKos07qOec4pwtE5HGDVkKc+1TBR25z1oFYqrp0RHKr+IqePSbdusag57KOf0q0kfqKsIvcf/AK6C0rFAaNak4aEEg5ztxThoVtnIj2/Rj/jWiMfh9ak4/wA5oGkZLaDA2cA9c53Hr9c0R6DFz88vPbzWx+Wa19vPQVKigdjn1qh2Zkp4fGQS8owc/wCsbn9as/8ACPqOl1cg+z4rTTPv+NTqKA1MddCkycXdyQe5lJq7Fo8igAXEvBySzbv8K0UHT+dWY8fWpBOxk/2VcDgTyD2DYqI6bdo2VuW/Ot7IPtS7B/8AXp2GYMenXeT+/PPXI61N9ivd3M5I9OfzrbVB/jzT/wAqLCMj7JejA3ow9dpz+eaX7Je9RLGT2ByP1rZUDPvTsfSkK7MP7Lf9RLEp7hlLA0LFqhO4SwEg8gREf1rcxz6ilCjsOaEUYfl6ngHfHkHpjgVbgi1N0HMW/rgngitMAE9Kuwx8evtWm5LZlRx6kc75IgP9letSeTqAOEePB/vKSa2QtPGKVidWYZtr0DO9d30OKT7Jed5hg9gO/rW1n2/GkK5pWKuYH2O9JP71Vz2Vjz9aPsl703pjuSxz/KtwjFJjvgVVhXMI2N3x+9GSc9zilWxu+hlJJ69s1uY9hQQB2/Khuw9TISwu05E7Bs9ccYprWN2WybkE9SQK2uOOopjNj/69IZiSafdkjFyQB2GRzUTaddHkXLA9ycnNbbGmE574/rRYDD/su7P/AC8n64P9Kb/Z12OPtT5PU5P+Nbu4UxuKQ7GE+m3O5SZyxxjoRn3601tLuW4+0OP+BGtvP0pD07GgWpzzaVdbcG5YnuSOtRNpN31N1npkBa6At7VE3X2phqc5Lpd43S6K+20H+dRf2bfjreZxwAy/4V0LnqKhf9Kdxs519MvV+7Oh9CVOB9eKjfT78j55kJz/AAcD9a32/Co2FLcWxzbWN/hsyIOM8ck+gzVV7XVezx4HQEn/AD3rpnFV2Si+pW5zksWp4xiNnHYAgf1qr5mqrwYVx14U/wA8107x1AwwaCVqYDTX+wfuSCf73H9aqvNqHTyHZs8AYOfeugkx3H0qtMCcYH5UrAcrcanchvmtpc+w/nVOXWpO8Mi7VJ5XrXUTwDk44znB5rNuIR1PP1qWNeRzb6sZOdjL6hgRiqs2rAcZxuHfrg1vzRByeAOOw61nT2iP95FbocMoNSNMyG1SIj5nGPXPWqcupRkcMpxznNaM9hAeDEmB/sj86zp9OhHEaAAfSpsaqRSlvYj/ABD161TmuVbkEY/nUlxpkaEhAUXuNxPP1rNuNMPQSMoAHU5J/GoZamOlmBO4npVV5QzDHeobjTJUxtm3ZG5i5OSfSqc0d0cAKoCjqgIz9cmsXqbKRcd/f+tRmYjkHPbFZkjXMeMowBHQqc/Wq51F1JVo5M+uOD+NYNXOmMzY8/J54HWiSUOhz97sayP7R9c596U36EcsPz5NZNdzrjOxn6zH3BG4dc1e8J6sptvsLj/VDKY4zk1Q1CcOhK85/WuSuNRk0y+E6cOnINck4Xeh3053PT74YUMDuBOCM+1c1qmJMgjbgYzWjpmtxaraeapG/HzKB90n+YqnfqH3cg544rlaO6LOMvbZlzj5mA/Os50wMkYPvXRXcRGeeffvWLcoevX1plNmVcKccDk+tUJUIHTGfetObuPeqVww28datHNIyZuPqetZ1xw5P9a07knYe34VkyYJOT+tao5ZIpXL55qk7DsauSdeapSgbjjpVo45EUp6Y4xUTk4/nUzEf5FQu3bjn1qzFkDfN9ajb+VSP1/xpj4x2qjMh3H/ACaiOP8A61SE5PFMY/8A16ozZEzdRg1ESR0qUjvzTQOaBtCDIpSOhp3r3/GkKnOabJIyv69qaR+tSE8gY/GgjrzjHNIgiK4xxTT1FTHp61ERyKsAPT39ajI2mpNv1pMc9aA2GEfhTTx1xUhJ6CkP51ZLISo6/wAqek7J7fjSY688U3v3pp3MGmjtYh5pGCevWugsI/LQEYPqPWsq3ttueAD7VsWREa88n0rerUuefBFr+IcD3ro9JlMdsB371z6YYgjnPWtuxwqDcce3rXBJ3NU7k1zeOD0/Wud8Q3iFEAPzNnIHauguni2cdvU4zXAatP513KynClum7Na4eCc7nPO62K8n3+CCPWpIeMkjqc1VXIxk1djQGPJz9c17aVjmS6j3kDDgd+1NDD3poIXvn8KVWDHHANO5sTRHoMZJPWuk0W33gHqR7VgWq5cDqT7V22ixiO1XIAOc5rSOomhl2xXjO0iqguWOATnFO1O4WWZgM8Ej61UgyJAeTk96q5k3qbEMfmbSBkZ6+taFzp8skIIUkA0zRoWuruCHGBIwXpXf3cMUcaIiBEByEA4zyP61x1Kqi0h7nm6ZhJB/Ouz8H6gba/gJ+4WAb39P1rP8R6GiJDPDlWZjvQcLj1+tS+DdJm1nXtO06IEz3dxHCq49WXmtKclUE42P0o+EE+keAPhRo8GrCWFtYL3TXESkgEt8u7vgKF6ZPWuklll2fbdO1AXdoxBWWJuR7EdiPTt3qDUW0rVvCL6MIkMmjxxqqHB3x7QpK9xtxz9RzzXmdzo1/ot4b3w7fSWs+fmjLfI69SDngj2YEZ+lYVXax0wPXbXx5qenDa8jTIOPnwT+orUu/i5b6XocuoXsCxBGCcyYLMegAxz+frXknhv4k2uo3aab4ktn027Y7Uu4l/duefvA/dGO4zz2Arkv2gddt7fxNo/he0uDILZmmumjYFTIRhV47j5j/wACHWs0zTmcT1HV/Ef/AAkExu5H3NJ8wxjgdh+HSsO8kBA9+uaz9M3JaxRE8ou0+/J/xqS5kYYBPXvWyI5rq4tvhplHJ5rdh4A/rWFYjMw9K6CKP5fWqFcqXrE8HoDk+9Z8Q/fD0z0rQushiO1VYgPNB6YPWgRpL9P1qC6IxUi5/H3qrdHBAPJ60FXKMzHp/Wrlhnyy2MH1qoyFnx61oQqI4fTPJqhkFwS74zx61WuDwAeMVIxJmOD1PSqtw3zgfjQA6LG7ge55qaWXZHk4zUNtkk0y6+U4Pf8AWpGhPMzk8/WsSYme8JweFBJ9Tk1rtlUPpWbAN7MRg5OQfbNICTYFHv8AWq8vJ5GassMVUcknvg9iOasRnahI6D5ELAnkKao/a2JUfZpQMc5xk/hmtW4UkjPQZqEBc54pkmcNQOSDGy7TnBxzUwu8fMVIXuc1Z8uPPQe9BhB4AAFAir/aMQXLEJ33M2KcdSgGMTKxPYMDUhtkxjAOR0x1qP7DEDxGoOeoFGw7g19Cf+Wiq3X5mAzSC9hPJcYHU5pGsImPCAep9ahk0xOBjj0J60XHctLcoGwCD3yKnSYNzwc88VknSAWDb3GOcbsjrmpP7I+QfvHLAnvgAdsUDuai3CE9acZOfXFY40wg8O4OAMluvuaY9ndbseeT2Lbjz+NIDWMgPIPFKjg96xWtrxcEGJtvBOTg/pT44rvHJUYGc4JJNFxm4shz/X1p3m9R1/GsVXvg5yqqh5BCkE/maBcXMbEEKQf4iOaB3NvfnqeKduzWIdQlRiBGThdxz1zSrq8hIJicexWgpO5tjPYZzTwu488YGen6VjDWznmBx+PWn/215bYMbL9e9JC2NrB7UpB//XWUmtBhyuO/3qnXVoMbncRgHnewH0qbajuXcHvx9KUDkk468VQ/tqybJ+0Rgr1BbBp41a2djslUgdw3X8KYzRCDkjg96kjXn371njVIM/61TnHfpU0V/FuwJF+u7+tBSNADnnFSjP8AjVJb1MjLAZNWFnA5DDHvQFiztp6g/T+tQLMOORTvPO4AGqHZlnH0qTJ/CoVlGOuaXec0mO5YU8+xqwtVUfnqKsIwI5/nRYRYQHA5/Wp0HrUEcg9OB1yasrg9P0o3HccFB5qX8KYuP8mn/dP+NFxCr3GB+NSe/NJ25H45pN3vihjuO/Dr6U7I5yPzqLd74pQ4PU8jvTDYk7//AF6XueKYrA9c1ICPfFMRJEMnvV+PgDrVKIjI9zV9OAOR+dAnoPHHf86d26/lzTcrQT7VRI3+tJmnEj1/KmFh6/rUDuIevP60ufrTS/40nmjpVjYu760n50m/n+lKTSauSIex/nURJp5Ptmmbsdv1pFjc+tNOO9KSSfakyKQ7jGx6frTGqQ9aTIp3GMJ9qYT9c0p471GxIpAMPHJx71A7+n481Ixz7f1qBulMkjf1zUBPJOalZj36VARye/40h6DW71Ccc5NPJwSPWmP/AJzTsMiYZFRNgZH86lY4z/jVeRhjJ/Gi4rkbY9elVZCSePWrLMOaqyn60WEVpZAMZxycdepquzZz1zUsgySTVaU7T1zn0p2AhnbP0rOmwc1ckOcg/wD66oSsdxGD15OOv0qGNFKRcbuep71RmJXOME1fm/zjvWfOep71DL2KM2R1qjMMc561clkyDkd8mqUrVLNEjOuFHJ79xVGU4BPUmrtyOepyeapTAYIPHvUMsozH6fjVOXg9BVqYhTySeKqzYOD/AJNZWLRVlAOcgcVRkjUntV6Zs9qpSg9R1pWLuUZo1HBUZ9aozWyep4561funOMgc1yepajf21zuCwtAeCJA28n1GDj0/+vWUkXctXkDNwjgc/wAXIFcbrltcrkgiQfxbT0962zr0oOJbaQjGQ0fPr2J9qparfJ5XzDaSM8nHbNYSR2wnbYwvDniGbSbzyi7GF25U9jnGBXosF6t5EHRiynv0zXk1+QkhlQc9evtWx4V8TtbnypS3lEcKW4HPX3rjlDqj0oVO5297HkVh3KHd6jvWx9sSZQQ4bIzVC5KcjI5rA3UjCliJY8cc1SniGT7HpWjdhg3H41mzHqCfwphJmbdgYOMZrHmjXJOefeta8AYkKeD3rInJGeM1ojCTKUkYOTn8KozIAOuTVqSTaxz0JqrNLnpWu5xSsViCPpURU881JIxJxzn+dRNkdT+NaHOyNieRULnJ4p7E5qNz71RDREwwfamnr3pxP1/GgjgZ70zKxEw9cU3I9RUhHUGmgY74poNNyPPzdPxp5B9fwpO/WlHvSDQZ+A49aXGfxp2f/wBYpCPxP50xWImGDjPWkK08+ueaQk4xikSRkZ/+uaaV9z/jUh79ajOe3NWNjSxHakyc80Ek8H9KXJ4p3JEakK9+9KQW/wD1Ue5/OkZyR6BZqZMHJNXeUx+tS6akTREqgwOSQOKJCjS47Z6VR5JcsgzkACtRlaNMnPHaqtpsADfc+pqzPeokeCQfXmsmtTToZWrakUgIB2tnGMnkc5rlXk8xiSeevWr2t3KyyjYwOeTisg53Zrvow5Vc45ydy3FhmGc8VYZ8EDOf60kEJaMMQPyo43dhg969IhSuNkc5HGKmt4C/zd6UAdMZq3ar8wHrQapX0LemWjPJ93JFdTDFOI8YwBzUWiW7YBQL1+bPeuhnmW3gORuwpJA6nFaJ2N/ZNrc5KaA+Yc9SaWKJt49M9affTl5sgAZ61f09Q6AHB+pqJSOfls9zofDVq/8ArfuqBlWz1OcVvvO+4hucGqOkL9ntETgAZ4H19auxSLM5B6CvDxE+aRSgaFjpyas4812VMY4GeevevQPgj4GWP4qW9ygPladZyXjM5DENkKpz655rg7GUwzIECopYEnkcd69w+CMQtNJ8T64QQsjpYQyNwCNrFsfiw/IV04Oo+Z/13HUSSPVdN8ataeJLfUiT9mvJRazs2QNrHqf9kH5vwrYu9YFvdyI4JCsQCvcdj+WPzrzA4utPuYAPuruX2IORirDanPexW14ZCXmjUyMDg5AAOcdOlEnzFR00PQtZ1XTLPQ7zVtQjFxb2MJm2D724D5QM9CWwM+vrXz7oGrXHirx/Bf3x3S3t59qlAzgZOdoJ5wOAPYVa+NHiu5/s3TPD8LjFw/2u4JPO1SAin2LZPP8AdFQfB2xF/wCLt7ZIt4d6+xJP9BW0YkQfMfRNplU/rUFzMRKQcHFSRkrH16cn3rLaUvOxJrUtuxu6b80grdyVX2rE0fBORW0T8tMcincSbs+361Dbgs+ew6Y71LcMMn69M9ajg65GOvrT2C1y3gjnp9KpXDZfr061fyduT9c1nTkBmPbPrQxbiR/f/GrM3EJqnbvl/Xmrd5IFh7DHf1oRdigv3yf89aqSkmUj0OKtDozeh71VHzOxyOucUbgtS3a5GfU1Dc8uM9atR/dz0xVRzulJ560hbbEd2wFuR6jJqhbAAZHT0q1qX+rA5G4MpIOOoxVVQUUdTxyWPWgGJMeeOBVV5cf4U+U5J56+9VmU9c8fWqJuV9RuvIgZ8ZwM9elYsmpyonm+WclsBQea2rmAXcbRt0II6461SfThxz93GCOM9qVge5QuvEMFjFvkYjK7iBzgZxzU+layL+RkETKoXdvLDBqhdeF0u3cNIwVhjAGMDJ96uadppsVIHIUBVGOw9arYSZr8E5HenADklqrpuxj9KmxjnrT3HYcR14zUTdfx5qYHI7U3AyefxqTQai5qRYm7mhB+h5qUtxz0707XJImTrwfrUOzB/wDr1YZs5A5zTNuOo59KLAREdPY9KeEx170A8naOhxSgnPzfqaRQpjB54pvkhjnGPrT+TkfnTuQTzjnoM0C3IxEO46U7YHk3kDJ7inE8+tPVh/8AXFJjHfZ1cA4/DFAsUY5YCpVbp6detTJ04FMCt/ZkL8FRjqcjrSnSoP7o9yKtjk9/pQ34fnSuFih/ZMDtkoG+uaY2iwbwyIFOMHHPetD7p4/Sjqf/AK9Mq3UzToMLHJz9cmnf2DDgAPLkHP3uP5VqEetAUk8fnUj0M4aISeJ5VA4AV8Ur6Ge1xJnpl2JrYUU/bntTYrGG+kXWMLcOOc5V2x/OpE0y7IB808dzzmttI/apgvt+ZoKuYq2V6MASqSCfvDt+FIYdT83IaM5PVlP881vKn+SaeE5P+NMqzMSOLVVbcBEVB+9gmrkR1VeFELeu8Y/rWtEo/WrCKPSpsQZaT6iuMxxbsfNjJ/rUwvL5V/1Skjv/AJNaiqPT/wCvUipnmmxamYl7ecExN7jFSnUpwBmN2x2UD+prUjhHcdetPMK+g/xouNGP/a845NtKfZcU3+3pB96zn45JAFbJiXHQZoKbhgk4PUGmO5jDXyf+Xa4H1WnHXXH/AC7TH/gP/wBetX7Og6AU8QgjG0EdcUJWEZC66f8AnhIPXK/16U8eINxGYmHsCK1fs6ddgPswzR9nQkgooHcAUwK0GtIx+6wbPSrq63F0IYY654qS3tI9wwoHPPFXRbJ1CD8Kdh3Ka6zF6Fs07+2kGflbPoBV9bZDjKinGzjH8I/Ki5NzJOvwZPByOxzQ2uRHBAJrRa1j/uj8qjaziPGwflS3K3M467COMEGkGsxddrH6VoCxi7AUCxi7AfhTsPYzjrse4jawA7EYpw1pG6KfTLEdav8A2GLPKj6kUosYR/CPypMkzf7ZUHp79aZ/bSZxtI5wa0jZxZ5UVE1lFnBRSO/FO5VymNZRugDD1DZqFtbRegx65q+1nETgoAB+FRPplu5yUQ/Vcmkxblb+2kwSSBxuJLdBTRq8RzyMjk81b/s23XPyKCepC9aZ/Z0Gc7Bz7daQalZtZg5BdeP9qojrdtk/vAD1KnPSrDaVa8/ukB/3RUb6bAc/ulJPUlaqw7lWTWrXH+vjA64ZsUz+17ZslZUceqnIP41O2kW3/PMfiM1DJpUG7IXHrgmkgIJNWh4+YE9xVd9Wh67wvsTipZdHti3MY56kEjNQSaBZvu/dYJzyHb/GhEkR1SBwT5o+o5oXUYmx+8BJPQHk/hUEmgwAYCkDOeGOR/nNQnw9BnIBB3biQx5I4GfzoKuy3Jfxc5cZ9OuarNepnlh9Krz6AOSJGJIxksTgZzVVvDyJ0lZSfvFV/wDr0JXE33L5ulbGCT9O9RPcAtgH5s4I96zZvD5/hvJiD13MeKrvoLhSBMTg5LEncfxzVDTNCS4TrnINVJZk9aoz6ZcjAW5PXOCCB+NUprG7DD99kjsozz9am9yrmjJKCeDVSZx6/jWdJFqC5Aki64GQc/n0rPuDqKE5Kls4yDkH9aQkzUnlC5GQTyPWs24YH2qq7X+Msm4jk7fT86o3N5cK3+qYjpx1781EkNO5alxzgiqcwO4YI245zVV9QcMd0UgOMklTj86qT6sOhBXIz83HFS0aoddOcscDB/Ss+VyTz9aJ9TR152r/ABYLcn8KoS36kZBBGe5qGkWEwIbrVaVscnv702S9VuSRjPWq8lyG6EVmzQJH5x09c1Xc/p60jzDOeMn3qCab3pFXK9y45JH4VyWsXttNdpCJlVxyyvxwR2z9DXVykNzWXfaZa3WTJErOM4c9Rn3qGrjWhg3qINiKowVABA7YrntfiljAfBlQYLKBnAx1966x9NWEfIWIHYnOPpWPqtpKVJjwTkHB4qOU2T1OJvL2CSPC/jkc1z7Xognypxk569K2dYsZIZJZNhO5izFQPxNcffAj5yeOua55xudcKljutN15igy5zjHWtSPVy2Mkk/WvM9Pvznbu6ehxXQ2t8PlwxOOvNcTg0zthUvodbJclgTnn+dUpXzziqkd35g5OD9aWS4wCMjmpSN73K9y+M8VlXBHPOD6VemuCM9xWXcMC27PNaWIkyo45IOTVOXgnnNWJZeT0qi8p3VUTkkriOevFQPnGfzp8rHHp71D5nB44q7mDQxs9e3rUTdgfyzUjH1qNj1PU1exkNOfb86YX55NKck9/w703rjI6UIzkG7OeP0o/Cmnqe/vTs/5zTeohu3vmjnqf5U7+Kk7n396BDTk9qXj2oJ/zmm5PoapjvcVutJ+H40biDzzSk5xnipJsRnq1MK+nFObk80dOpqx2Iu/Yikxn8ac3UdPejgnIoIeg3G2jaWp+B6UuQPb3pMVjt7bVkt1YIwwevvTG1Qb9wzyc1z5cnpkClUk9TXUqXc8Ryu7nQPrsxUANjAxxxVR9RuJc5diD61RQMcAZOatR20zdI2b6A8VtGlEhyZES5POfzp6AZGeuan+zSdx0qPZ36V1QjymD1NO2u0EZTjOD1/nUMq5OQapnOPlPNIkxjb5iea2LiX4mI4P5mrtiPMnwHwB1NUI/3pGRx9a1tGm/s66WUKHxwQe9Sbx1PRNF0qW0twHOSBkkVV1iYrkfmPWpR4jg8osZwgY4Cn72Pp+PrWHqevWswxEshIb7zgDj8D3q0aSk7FVEeWXBya6PQ7AzXEcQI3E9/r1rlrfUC864HU4J9Peu28OfJdmQZYgYVjxx9K5al1E53q9Tp57EQw4BrPt8/aAAc81curosuOQaj02Ll3PPPHP5189Ko5PU2SN6PZHGX64X869/0WwTwx8ONB0vIM80f2ybC4yzFjk89gcfhXz5ocR1fxBpeloC7XF3CrEfwqXXcfyzX0Br13GdQljjJKRsYxk56cY/PNetRiqabMm7k1hcql3GTjGQD9M03w7NHZ3GrpO8cdrYzee0ko+UR85z7cLWXHMfMXtzmud+MWqDSNJhtkYPNfIGkjU/wK3JPtkj8jUQ952FVlyo851XWm8WeNL7UCd4upWmVeRsQcKvrwoFe6/AWx3jUrxlADMFBHbAI/xr5/8ADkO+eS5XI25U8cD/ADmvqT4L2ItvCNrIF2CU5wB1AJ5/Wu5KxNJLVnfSr5cDkkcDuetYFnKZmJ6gEjIrX1dgLNx3PP61nadGuzIOcn9arqb7nS6JkIwIPXO6tZ24NZ+lj90AO55q7IQAen1p7g3YoXLZbj34qW3GF/GonAZj/OrMOAAO/wBaXUCxnCH1xWZdsAv171fmyFGMism7J3c9zQK9iWxyzZHY5qS+cnqcevPWm6fwCcVFdSZl6/hTQ0xp4hIPvzVWH/WVYnb92o/OooU3E0hXL33YTis4bmk46ZzjNXpX2xH6daqxZycVRTZWu/m2g9jnmq0hxxzVm45lJ9BVKZwpPFLYmTIH+91xzVO6mEQZicKBkknAqy2Tk56/rVeSISDBAx6daGG5njU4i4AmU5PQMDS/2hGM5cAA4yTUjafFnIRVPqFApG02MqQVHPUnvRcLircqeQQe24YP6/hSpKHzyPp1qp/Y8QzwTnurEEflSNpmeBLMoJycOee9VcV7l4SL1FL9oHsPrWX/AGY68CaUjvljzS/2Y6t/rZHwcjcxPFG47mkZu+aTzfnxnP1rLlsp+drkA9eetNNre78qVYk859PY560Bc2kYqTzgdSM1KZMjA/U1iCO9UYbZwcjHP5npQsl6qkkRqRzk56Uirm2OOvShiOuRWKL28L/PGB33KDgj1ye/tTpL6fYMxnOeTQFzU80E4I47YpQef61iLqzBtvkyFz0BAwfpzSnXDxmJvU54I/Ci5RtiQCozNzkD8ayTrK7Vbawy23aSM57Uq6vHJnsAMkk+9LYVzV8zJp6ufUisc6rGG4YdfzqaPU0bnePxNGxRtRu3qcVcU8cfjWRHqMQVT5gz3X0q9FOSCegIBz6jrQCLYOD/AIUpk/Cq5uAMZ9fzpjXSetG47FhmBPB5709e5P61WSUOOv61Irn146kUbjLPXjgfjTkyCDnj61Erf5JqTzB6jimBYXvS96hE36/rTw2W60DbuTx53GpwPf8ACoEbt+tTRt2zn6d6VhEoQ+tSBSP60LjHBpwIoY07EiirK9qqKcnHSrEbf/XzTETDORVheR61Anr/ACqeP2NAEq9vWn00c0u2ge4Yz0pdv1oHXvTvzoEAXJ6U7bSA+vWl79T9KBtoSgdaH70q9ecU3oFyzAOpq4n/AOuqsfA6YqdD/wDrp2EW0H/66GNRq5px+p+tMCM9aYTj3pzE009aAE/OkB5HFGTQPrQAp/zzTWOPf3zS555NIelA7jGOajp57jNNPpmpYiOmkmnE+/5GmMcnigdhCfb86Yxyacen1qPHuaBCH35+lRNnt+tSE1E/ekAwj3qFuKmYnr6VAzZp3LI3B61BUz+magfoaoCB2A4qLI61I/Woj+VQShGxz0qB+5/WnsTz3+lROfenYogkGarSLn86sSN15qqz5PvVD2Kzqc81UmTnPbvV6U/Wqshx1oBmfMOc44qpcKpAOOR61dmG5TzyD2qlL196h6gijPH7fWs6eL7wHQ9cHrWlM3Y9j+dUpThSec56UmFjMljDcYHXOTz6j+tULmFT1CsMHnAz+daUuSD2z3FZ8wPrx71maJGNPZISSUB9yorLuNPiUEAbQeWC4GT3PFdBJ1+n61lXfX8agadznriwG4De6jOTtPJqm9gVP+tZs9cmty45x7dTVJ/vnHT61Jpa5iy2kynIY4HqTVWVZh3B5xxW5KMrxnrVR0HcZpbjMaS4nQ4aOQjP3guV/Oqr353EbenXNbEoUcdM9aozwoTnHNS9CjPe8XueD2rOupFYnng1furMMvpWTc2TKMoTn/aqWjTmMnUbdGBOAfauE1zTo38wBAhyTheK7m5WZdykbj2zxXL6oDmQOhBDFWPYn2Pept3GmecXcD6dc5BO3PB9a09Pvy23nGe5pniK3yGfuO9Y9jMVOD0zXJKJ2wnZnax3TdQ31qQ3p6E/1rAhvflAB6VL9q75+vNYNHWqhqyXG4HJxVWRweO9U2nJPWmNc496LDcrhM/zntj3qnI+G4pZpizHtVaSTrzmn1MJTFklzxUe7HSoXfn/AOvTPM9DWljFyJXYn1qMk+9NL+5prE/n7UzFskEhoPrUQ3f5FPHGMmkIPXilUf5zR96l+tDQrB/P61G7EmpCw4pp6/8A16LCGck5/HvSj360v40Y9OtMLWE203JBz2p35U0+2SPrQAM2cmmjHf8AWl9BjFMPU8UEiNjf2/Omk7expf4j/WmnPc9KqwDg2DSFie2aZUg547/WluO5txWcrcbTnqa17bROAW+pq1bRFXBA+Y1c2uByMZr0faHm+wXVlRNPSNgRjj2rVgjXZ93k96qKpVula9qnCkgE1LqXNI00tCCKxG4tj8DVDUtICI8qKfUqB0rpNvy4A+tVL8BIzirhVknch0Uzg3DK57A9jUTEluen1rXvLTe5I6ntWXLGIjgnJrqUrnnyg07FiC72/LVwXrs2FB+uKy7ZS8gA59vWt21sWbkDnqRV2RPO0J9pc43du9PRyX55qY2DZ5BzWvougpeyEl9u3nA70NpasLsNEs/tU2wAlgM8CvQtJthZxgfd471U0PThpDK/yOzjHA5H41euLuJMkssahdzMxwAOmST0FeTiKnPohpdS1PLvwOMZ61q2uwWsY+UELg7RxXD3viy0gfZFI0xXhio+UH2Pf61HD4svb5vJtgQG4AU/M2e3vXHDDzqPRGykke0/Ceya78Xy3HytBa25YE4OJCcrj8m/HFej3bNLPLITksxb865r4PaMumaE87qPtE+1QwGchcn+bGupmUKSCcGvWq2S5TOJBCjyseQqqCzMTgADrXiXxB8QHW/EV1cRSYgAEMGRhiq/xH0ycnH0r1Px7q0fhvwbKxeQ3V/IIIccYUgljn02g/mK8GuvLmuMKABwMCopxV7nPVn0Or0XfFpI2rull6qO5PAFfZHg/TVsNDs7dDhY02qR6dRXyj4As/M1bQrbaZCZlXB/iwCc19f6bGEjVB29fz/rXSdMdiHWMrEqYBycHntUMCbIxj2yKt38ZeZQeduGxTY0zIo7k80Ie7OhsAViUY96ddNyPT1zS2ylVAqO6bI4596rYTK6t83rk1fiHQ+neqEY3SAeprSTgUxobJliFHrWDqsm262DggA/mK3Wb5uOtcvK5mvizZznByc9zUj9TZsgVg759fWqbMTPyDjNX4/kgxjg81S6yEg5w3r71RD7jLlhwPTmnW3Xmq85PmcmrMPKjHJ70rAmSXTBF5PWq6fdLZou2JcA9uTzUMh2xn+EHvSNEiOSTJY8Gs6ZtzZ9easlsg9cA9fWqr4JOPxpolkWOeppHApSeTTGamIa35+9Jnj1PuaaW57+v1pd3H+NA0Nyc/zpCc9vypzU0Z/z3oHYaMEmgZOe2DTgoz0+uKkIB+tAyLZu/Cjbg4xn3NScg9P/AK9KVzyaYJEe32p64OcjpxTgMUNye1JoTRE6Z6AflTDCOMj65qfYfemnrjrSsMrGMKcAdDniozZpydq5JyTjkmrW3nmlI/Q80wSKf2ReMgdc8ikbTYv7qjHoMcVdzj/9dNz3oKMx9MiJBKjg5+tOj02LdwGBznJP9cVefA96AcYI9akViH+y0YnjaT2yTSHRkXHJJByD0xV5CT1NOc8en1oGZ/8AZh3EiZxknKsxI/ClTTnVsrKxGOdx6H2q8h5x1+lWo1x05zyaom5miwuS2El2+pORmgW94gP7wnceSTnPXtmtrb04x60vl/8A66k0sY7JqAXd5iuT/eJP86FOonl1VRnGQpGT+NbWM4x/OnbMnJ49s5poLmItxfxniLeQepXI+tTrf3iA7ohuYZ4GcH861hHz04qVYlPb86aQjK/teeDBaCTkAnOBn6e1WotaP/PFiT2BBzWoi546AcADipfswYgnn1zRoMzE18g4NtMDnqQMfzqymuK55UjHOcg1d+xxsfuL71ILJMfdX8qYalIa5ATjcBnsWGT+AqzHrVuMZdUJGfnbH9KlNjG3WND6kKP8Kb/ZkUn3kVsdiKNwJk1u1YHE0bAddrZxU8eqwZGJRz0Oc1XTR4doXZtGeqkjNSjRLY/8sgffJFIVy4mpQnGJAT6ZqYX0Q6uuTVJdCgXBUHIOepoOipzjdz15NAXL326L+8Pzp4u0I+8PzrMbQI3xlm4PAB4pToXAHmyLj+62Kdh3NVJw/v8ATmhblDkcCsr+xODiZ8jkZckmm/2I/B+0Tg9wGODQFzYEmec9KekuOTz+NYf9jy9BPKP+Btz9akg0m5VsC5ZVH+9z9aLXC50SzDjp+dTLKD3rB/s273Li4Y4PBBOBTzYX3X7STjuKdgub6y89am84Hrz75rmo7O/5/fBiTyWBzU/2K/P/AC1Tj1BGaYtDbOG5zx70x2C/xVlfZdQHR0/4ETUUlvfn+7nvknmgdzYLA/xVG0hB6isXy77oQmQM5TJz9c1EV1HJ+5z0PNAXN/zN3ce/vS5GM5rnWfUU/gDe+P8A7KjzNQAyANxHIK8UBc6Df1GaaGGevesMS6ix/wBUh/3VOT+ZqVZrzvGQQehHSpHexrNj2qInnGayZru+DAbDg85CZqI3t33RgfcYoHc2c++fxqNm9+axm1K7XJ8liM4+VSR9arvq12rc27fVef54pC5jdLUwtn29awm1ycEAQtk9eOlNbWpc/NFITjOFAPemBtE+9Mb69ax/7cfB/cyY+gzUR19Rjcjc884FOwrmwx9KgYkfWspfEKPnOevHamTa6ijnjPTJqSrl+R+Tk++aiZhzg1mHXYGzl1+gOc1Adeg3AeYqjPfvTC5qSH05zVd36mqf9uQHpKrZOMg1G+rQf3xz05qgLEnzfU1XfC496hfUUwTnj+dRNfIxUFgM8gk4H50CJXYdKrStjOe/rTmuo8kZBI4BHI/Oq8tyG6EUtCyGXkGqM+etWZ5wCOfrWdc3IJwD0pFNkMpOCf0qlLnnPftU0ku88Gq8jjnJyfWpYilL0OaoS5zgetXpGwT6Gs+4Y54OM1m0bIpXDFSRgH3rNuCMntjqKvXD4x7daz5SG5zzn1qdxlGfHJAqjJ3JNXXcfMKpTeuaRRXkORn86qFvXmp2J5GarydeDUgVp13N0qq4wTnrirTEjPeqUuc8/nQVuUpefpVaRR0x9auTAdeoqrMeKBGPdQg7uOveud1S0ypTqD+NdZKODx/9esa9tiSTnr2rNlp3PLPEumuqNjnBriuUkx05r1vX7LdC/Bzg15XeQNFMwbgg1zzWpvCRLHKRg55q0kx9/cmsoT7M4OT6k0/7SRk5Pr1rGx1KSNMy992PxqJpx/e5+tZ73hPr+JqJrknvmpsW5JmhJcjHJz+NVnmBJ/xqoXJ7/nSZPQ0+UxlPsTNITnuKbk+n5mmBvelHU1VjK+pJvFKDmmfeqVEJ+nWlcTFAwetLtye9Px3PT3p4PbipYcozkH60nfoakx1/lSMQB1/WkA35e5/OmHOeuaQk5/nTgaBxREcg8cU4E8gjr1p5H+c0gznvTsFhhU56mnBeM5zT+tIfpTFykHBJxx9e9IVPXgipMd6Q/j+NPcRF29aM9f50rUmPb8aZKGNnt/OlQHvSkc9zSZP+NMlnqVtbIjAnn9cVLcFc8dqZbzgoSSAfSmNl246U73N3FIfDHmQc8ehrWt4Dx2zVK2jBxxya2YEwMYz+NWjF2GtbOF3dayL+R+eOK3J7kohBHTvmsW4O8s2Dj3zWi03MX2Md2JJyKw9R5mOAB9K3b2TZE/HOOO1c47lpM9STXRC5x1mrGn4e0w6heJGA24nOQQMAck5NepS6TZWVokcO0YGSWHzE98muV+HunmaSa5KEBBtVh0J78/lXQayjoTtOeaupOzseXN+9YyZbUTSkKQee1dH4f0tIYxvwX7+9Y+lxM+SRg561swTGyYO2MDkj1rjlUb0RrsZ/jPV7nTrhYrWZ4VKFW2nBBOCMHHoa4u81m7ufknnln5yTIxbP1zV3xPfz6pqs8zMpBf5VVcDHQfoKo22nS3LD5cgmu6EYpXY7uRFAWcjHC969O+FnhO78Q3Nxc20LTx2K/vGOAgY8jnqce1crp3hSaR03YA3AlRzn2zX2n+yl8O4tdvLPSAi2yzL50yooxtRjnJ6cqfxJGa6ISS2NHBtHtHwy/Z11w+A9Nu2uLdXubdZ1gzjhvmXJI64PfFZPiv4J+IdIH77TjJEDgzW+1go99pyK+xra3js4IoIUWOKNQiIowFA4AA9AK4f45eNo/APwx1zUi4W5kha2th/emcEL+XLf8BNcNZczu2Xyckbn5hfGHXF1rxC1tbyK2n6Xm3iI6O38TfqFHsvvXnNmpuNRiGfl3gt7jvV7Xpws743FnyxbPByxxx61D4biE+ooTklAzEfgRz+dXHSNjzqcHOfqe1fByyOoeL7WQKDBb7mI7qRt5/I19R2S7EGcknnJGK8D/Zz08/bdWviuIgywrIf7+3cQPwxX0BHnbnr71odzdiK7cFiR19aZZDzLhOM89fSormTr0zVrSUOST0J4NV1FE3UGFxVWdvmNXB9zr+FULk4YHB5o6lMdb/e6fjVxehNVLTufU1bc4U9QTQK5XlbaJD6ev1rnIR5lyDk5LZ5rXvZCtvIQccZzn0rN05SZwOvNAXNec7YumBis+I/Mx5I/+vVy+OIxzx3qomPLLdhT3F6lWXJlbvk1dth8nUjnrVJCTIcDvV6PhDnjFMdircZaTjt1qK6b9yQQcEGnSvmX2zyM9ap30/QccnnPpipDqQNwvXNRM3bpTi/GDyaiZs9jT3KGucDPp1561XaYnrgdqJiXVgOOKzTaXJY5lyPp1OetMmxf83HvTww65rIkg1D7oeJBuyGKkEj06mlzfqwx5bHGW2qSo+nNAkzXLZ7/AK0m7njn8azDc3jjBjTH+yCP5k0faJox86SDjPCk5+lAXNZT1OPyp49elY/9oSKM7Hb/AGQOaT+2GB5ikAI43YHPfvzQPc3PypuQD16ds1lrrAXAdGGe9MGsR5OMnBwee4oC5sHt1PP5e9Ge1Zo1OM4557jOakGp275AmjyDzlx/jQXcueZzj19aax5z/Wqj3qBvvj6+tKtyjfxA+xNMLFgnrSA9jwaj+0RE4yDgZPNCyK3Qj86QyRj3phyaaZP/ANWajaXn/GkK48496FJ9Kh3nP9QakSUfX1oQ0i3GRjkUOQRgYHqfaohJxgd6QPg/WiwE8I98+55rQj6D3qpBhu/GcZq5GMYAOaY7EhB256U9FJ4NNGemcipVIA60CE247cn3p6gcHv600tk0qHmgB/J6U9Gwe1IMd6cMH0oK2Jlbnj+dW4hkfzqpF1q9F9aBXHqg6561KB+P1oGKf+dBTY0delSKnfvSD/OakQ89etAiZACADxT1H+c1HkelSKx/OgLkij1//XTwvfGaapzwetSLntQKwfhj60n+eDS8jv8ApR17j3p3GA78Cjv0FOUeppfzpBYNoyOKnjUHJqMfWrEaVVguKAOOBTttL+lJ+OaYgUYPFTr2z0qGng/WluFiQ4+tRuB1607JPpn+dByT0PNMdiDb7Cm4B7Cpyvv+tMwD1oAj8sdBQIV/GpOP/wBdGfX+dAIZsH0prgelO6//AFqae5/rQFiJkB7VC6D0z+FTN+NRMxJ9PrUAQbBzwMfSomhQnoOanYn/ABqPfjrTQETW6DsOtNMKf3Vz/Ophz/8ArprN9PzpBYrGFRngYPYdDVaW2iJyUDexGauscioHPJ9M0wsVDbxj/lmoHoFAqtJp1vIeYkP1UH+lX2P5H0qBge/607iSsZx0a0ySIY1Oc5Ax/Kq02iWh58oH3PJ/OtZv4qicjjpRcdjDfRoUJIBHoA3FVZNGgx8hkU5yfmz/ADroJAMHIzVSRBT3Haxz1xokcg/1kikZ5VutVD4bUg5urhTnPymuicDJ4561C6556D60aisc6dDdMBLuZhnpIxIqCbSblZSyTjaf4WBro2+U9zmoJCMf41JdjmLjTrwnIljGD0OeazbiC/XaxC4JIJH6cfhXXyjoc/rWfdJv4H1+tIdjlXmvYklIiLFc4B4zVGW/uUGXgkIzglAD9Otb8hLO2SWOTkk5qOSDjJ6HrSA5qTUpACTEyg92xVCfVx3U/XPXvXTz26DoBz1461k3Nsm45UflSHc5241cEM3CgdSWxVB9TVjjI4681tXVnFyWijfPZ1BB/Ose4sIyCNij3AxUl3uVZLwFjgg+4OaryXQ6VJLYIPu7h3xu4qlLp5GR5jMSc8npUFcyFeQHkHNQSSjp/k1DJYSr9xhuz/ETjFVZY7mMj7pDAHKkn8/ekUTtKG6c+1QOwYkHse1VZJp48naSRzgCqhu37qRnkg0rDTsWpWCniqUmG6Hn0pkl4COQRUHng9CCPY0WKHuOOcVRuEB5PQfrVh5xnHH0zVad1f5WIXPU0MRzniKEPbHZgNnJz3FeOeJU+z3zAElSN2T2PcV7HqS7lZc7ueteU+O7TyrhWAIVhXPKNxc9tDljJ6YNJubv+NRowBx0qQ/Xr71lY1U7i5JOc0vOeaaM/wD1qkU9ak0uABNP2k8ihSPTH41MNv096kpEG0jripUx7UpA+uafhaCtxoHPbmpxxgEfrUfQ8D8xT/51BS0H+n+NJyO345pq/KeWz+NOJzSZQ3d1JP8A9ekLZ9vxpDySAKb0JBPT3qSQ559/elUfpRzn1qTH0oegIb+po/I0o6+1P9CM0xkLZzwOvpQc9zmpNuckk8epppX1/Imgl6jajY9en5VMPlz3zTHH05ouBXOSR6UZ561Jtx1/nUTda1IasB69zTSCemR+NO3UvPtSJ9T0WIgtjI+metX0I244IrBExV85/HNXIb7aQOvNXyu9zRyubttjcBnFbEXCZ9R1rD05/OfI5xz1rZacLEfp61rGBhIp30xU4zkdxWe9xnPp1IzRcy7mJJ61RklCo3zcjmt1HUxZn6zeKTtHXvWRbqZZAMfMT1pb6UySkg7uT0rQ0CzM9ypxnb8xrqilFHm1al2ejeE2Gn2McUmdwUfxcDrnFO1TU4ZmwDkn3NY93dNDHgHnvms23kd58noDmuKcOd8xxKx1enyRx/vGHyjkgdT9Koa3rTXAJVfk+6oAIHbPOOTzVW4vHeIQjCqOwHU1iC6a5uNpJKrwASeOaUYpHRFJlq0tvNbLdTz0rqbSOF0QkMJBkE5yCB0wP51l2tiflPQHmtmztCcADOD+dQ52PSVFWOr8K6d9vv7eAbAC2ctnk/h1r74/Yv0GKHV9YuvLVTDDtQLnCbiuQpPbivin4caZvvkZ2GFyRjgjAyPzIxxX6E/sk6cv9j67qKoFjkligTHZlUs3571/KtaUtWXotEfQGfrXyZ+3j40hh0PRfDaylJjL/aM3oEXKr755bjFfTXi3xRp/gnw9fa3qs629jaRmR2Y9fQD1JOAB71+Wvxm+LNx8Q9fvNTvZi1zK5dEJz5ceflXn+HAGB/jWzjd2OOvUUVbueQa7qAmm8sYXABBXOSPervhFCn2qY5IBVc+uAT/WucuZRdTttOHY4zXceHoPL0mK3AzJM6qxPRixCg00clJ6n1X8ENIXTvA9mefNumN05PqQFx+lemFisW3jArm/CGnnSdIsrY4DRRBSFPGcnP8AOty7l+Qc4ya0UTd6lO4b5jzjNb2mQ7LdDzkjJzzXPJ+9lUdie5rqLVSFQZOABye9VYSJ2Yjr0qhO2W6gj0x0q5cN2PT1NUGI3euT0pCepct84GR1JzU8rDaeabFHgDHWo7jggc80abj2KOo4WBeOrEevGKh0yLbKzjPTAH41NqHCRjI9frkVJp4CgnjJ7GnuF+pHeHt/k1WY4t2+h/Gn3kmZsdvrVa4f5ADxn9aYbDIwQcn1qzvKxnPQ1XgPr61JcPiPPv1oJKy/fJz7/Ws+6fM5BzhSOh61ohT1rMf97O/90DGPfJqbXLuH1NRucfj2p78cVXc5Y8/jVE9RkinP/wBemhz/AHP16048d65+/wBVngnbyinlCPcSwOSfTPTpQBv7ww5A6560mc9AOf8Aarm4tck+yPM6mOXdtCnnJxnNUrfxdLcXbRBY2VY/NLjIJ+bGMZ460XEdmqD2z+dOEYz0HFU4LgNFG+d25Qxwc4yASP1qzHJk8fjSsNDmiDMSRn1JoNujc7QT6mnbucf1oZsY4HFMCCS1jP8AAufYDmmC0AyCB/OrOeSe/vSKdx54pWHuVv7Oj9Oc89OlIdNiOcIoY9TgZNXwmaQx89aoLGPPpyE4+ZMHd8pxzUA01MjO7jjg4/Wta4XJ9R7VGqflS6lGcmmlf42x7nNK2nzBiyuAMdMnnnrWpsBGB+lOC8Z70AYrW1yJC+9hk9DzimSW90O5yRuwa2WjLdKXyiTz271LQ7GJtvPLA4znpg89aIrm7QHAI6YyuP0rbMK+9M8pd/HenuIzP7RuUBzEGGM/d57+9KNTlyMwvgnnb2rU8oFumfeneQM4PQ0x3KUOskNt8iQYP3sDH161oprQCgmNtpGcgg9Klt7REwQAKsrZxs24oucY4FAkQR6yjDhTjrknFH9uQ7+XXnk5OMfiatf2bbbP9WpHdT3/AAqL+x7fcSEAzzjtQADWrZvlMqqxIGC1SLqkKE5dQB3NRHSIs/d565ySaadJTPzZAzzjvTsVzF1dRiZseYuO56gVYjvEfG1tx68Vif2CjSFlLIWPUHpU39hOwXEpXnqpIP8AOkkO5uw3AyecY61o28oPX6j3rmF0GRSMzMTnO7Jz+dWI9Mu4GylxvOCuHZsU2JM6kSemPxqQNk5OCPrXN/Zb1wCXGT33E/pUqx6kPumNgP755/mKB3OhBWn7h75+tc4v9ogkkL17Y5/WpfN1GI/PGc+pAP8AI0WE2dCrf5zUisQ1cyl/fq4zAxUNk4Xgjnoc1Yi1O534MDAjr8uB+eaHoB0itk1JvrnxqsqYPlOTnoF5qX+2XC/MjDnjdQVubu71x+dIcisUa4mRkNnqdvNO/t2HPIkyOcbaBXNtTT/1/GsZNbiOM8Z7GphrMORlwD75p7Bc1RyetWEzx9axV1m37yKp/wBpgCf1qyur2/eVM+hbBpbBc1c/5zTTz6f41n/2tb/89B+dO/tOE9GFUFi7ke9OBz6VQW+jZs7x9Kl+1x9jmgC8Mn0p2fSqa3SjuKlFyjDrigdyUk1GW5xUZmXs2RTGmX1oFYlJIppbp71EZwO4/OmGQev6VLHuWPfrn1pCfp+VQeZ7j8aDKCaBit+FRsKeWHrUR69qoVyNuT1xUZ9aHPJxk47io2Y/571Ix1MJyO4+pppb8M+poznjNC1Aa5IqFj/n1qZ/zNV5Dz9KbHcjfrUTE55qRjUTkY9qQiFjz9ahYe5qR2BJ6fjULMBT2AbITjnmq7mrBIx/9eq8nOcd6LDZUk4JP51Xcn8Ksze5461Vc496YIhkzzg/XNVmJ61O0gPUVUkfkjNK5oMc5qrNgAnPNTOeSc/rVWXuSevvSYLUo3CDBI5OapswAwQSPfvV5iM+uKpXA6fripsNqzKMwGeOlZ1zgbsnr3rQkOM+3vWZdjqckg889qk030Ma/I5IORWZJKp5yKt32V4B69c1kSMQc9fxqGwFkbLcfzqB1Gee/rUu5TTXG4Z/rUlWKUvXjn8apTYJwc1ckXBPrnmqcvfP5igNinMnOQKpTQhj0rQfjPU+xqpK3PPFSFzLmts5GMg1Sks9q8ZHPr1rWlfB471VduxqhGNNayrkqck1Su/PjAypY98AmtmVjGN3UZ6VWkkLZI4z1oFc5i6nGdxGD3Brz/4irvgglU8BirHP5f1r0rULUS5J615748tGFmzBwIkILK3ck4GPzrPYxn5nmm/n0p0cvzc1G6kE89DUeTnvzWco3HGRocf/AKqeASapxtyOauKff6msWbRY5h0pOecdqcMHqevY0/aP8io2OhMjOeO1SZOOv15pNmehp2MdaVzS4bz+H1p3mH3/ADpuM+tLUFXDJPfil3ZPrSrHnqKNgU9T+dAcwoJBznrSgbs9KUL9f507bgdaTGM53Yxx/OpFUmlUZNPHXgfjipEhmzrk0/8AlQVIoA7frQaXGnr9aYxK+1PIIPWkm5wBQSR5z3/WmOO/NPCkHNOI9RVWFvoVT7/rTSRzwPrUj4+mKYVpgyNgP/1U4ZI7/nQVP1/GnjoDigi1zpRKJFGD+OetO8w8c1j2dztyckDPar4mDYPXNd1mjkc0jpdGufnJ3dM5yetaV7qA24Bx61ylrMVzt69z0qW6u3VPnOfShasnnSL8t9k9cj61Rvr4eUQDyevNZc1+TwCc55quX3nk5x61rFMznV7EgYs+fU123hm2WG1M7YDycAn0H/164uCMnnPvWjHqL2oChjg9hXUefN3OpuXMzkZ7+tNbEKYyN5xWdYzGUb8k+vNSTzFu/wCtYSMeTzGXN6UU5OCfem6ON8xY/Mc5yKyr24Ly7Ceh/Ot/QIAU44x171z1HaJ6ODp3qWOrsRu2Z6d66PT0UsgwOT1rm7YkyALxjk11WhxebcgEgoByMcnnnnPpXnpNs9uaSPXfAWmI88CbIwMeWp2gkAcg+mScV93/AAf1L/hFPhTpdhYwC71qYTTGEAkD96wDtjnGAox1PHTIr4v+GNpHvgygchlKoOOTkKMfXFfoh4G8KW/gzw/HHMU+1bA91cdBkAnGT/CAT7dT3r04RtE86UtT4Y/aZ+LeqeIrOHSNQkvbaZJTLOlwPLzglVVY88DOTkqD7c18j69fPPM7uwZzjcw4zgY/pXq/7QPiuTx74613V2BCXF5I6L02oCAo/AZFeE398dxUnODVrY+eqTcp6jknBkwFLH/Z6mvZfAmmve3vh+ylDHM0ZZed23dkk/TOa8e8MjztUgDj5C3zMe1fQ3wNslufGckv8Mdsyhie5I/of1rQ7KUGfU2n2mIznOVdv51HfvyFHH9atWRYpz8pPOKoal/ruOwycVqaPcNNTfdLuzgNyPWuqi4xXM6OvmXHoQc5zXTopRef50thSlYiuGB/rVUf67GO/pUk7ZcikhAMi57nrRa5Jow5A/DpVe4JabGOpqwnT0xVSZsXAx7GmF7lHVJMyqM9AOP8/SprVdsWf51nXU3m3ORnGcDNaIk223+eamwLUoTsWuAOcAAk+pyf/rVXnJL4PTripEbdPk5ODzmobjJlGOh/WnsJssWwzn2pLo8Adfmz+lSW6kKD+dV7hx52Op/nVNXKUbDmO2Bj/nrWOnBbnncc/nWtdjFoSOSaycn8c9fWpQ+WwxySfX1pn1pW3A9QKjLFQTTEDKOmciq0mnxysd/zAjnPpTftKhjk077anY0x8pVuNEhl43MOdxx3IFVR4cgjmLoAsjcMyqMke571f+1h2AySc0rzBSO9AMcluAoCgKAMAAYAxU6RMG5/GoVlHB4qykoIyDTsGzH9PWmk+hJoJ9s1Hu645B96LFEgzx+tSLHuqFOuPUVOjEHmkBME464xTXHU88U4E8nNRyN8p71OwFZ/vcD60gUZpdw70H2plAMDqPwoppJ7/wA6erD86kLWFHP19aHOMYo3AZ796TII/wAKAG8k8jp600jn2p57Y5+tP25FO4ESAk9OasonTPXv701U5OaljQnvkA0hMsxL261YWOo4Rj3xVlex9fegobtp6L6/rUmPakz9eKolCbPSk2fPUo+lG3vQIRY8fj61Oid6jjU5zU65JFO49hypk89KmRR/+qmqBUg47U7jJFjz2qxHCCOR+FQpnOatxdB/jUi2BYRzgD86d5dTKp9KdgADP/66qwit5OT936mpFtwT0qYDc3pThx6fU0ihghHbIH1pVtlOflFSZJPtUyj2oJKxtEPVB+VJ9iQcYH5Vcx/nNA/L60FFA6bCTnYufXFL/ZcLYzGpA9VzV/b9Kdt544p3B6meulWxP+oT6ipf7GiZCMFSRwQelXkXnuT1qyF9fzo2EjHOiRdQGAHPLE0n9hx/7XJzyTya2yO1JtpDMJtFHQMwz79KYNDPQSuvuGP+NbzKD2/WkAAPpTYGGmhOr/612z3ZicVOukSL/wAtWP1YmtfHvSUgMU6TNk4uGH1yagfS7jOPNJI7kVv8c80lAHOnTbodJcjH3cd6DY3iqT5ik44Uk1vkDJ700rz0ptXA5zyNRzyY/wACRTlj1AED5WPf5sfrW9tBJoKgdhRcSMBzqQOFCjGOvOf1qvLPqO8DyCcnByR/SukbvgVC3rSG2c8bu/TIaElTz8vOagbUruMEvbyLzwSOvHvXQuAfqO9RtGpPIB5707g9Dn/7ZmT70Dtu+bIHT25pW1x127oHAPcEGtswD0HPrTRar12j1OKZF2Yp10dNr5PODxUUmuxk4w2e4ree2TGcD3zzmqclpF/zzT6hRUj5jJOuxA45GfUVG2vQHOHHHXnj860pLCE87Bn6Vn3Om2/A8hAe5x1qh3KZ1uDJzIvJ7GozrcD/AMf161DcaVbMzjyht3bsAkc/UfT9Kqvo0ALGMGNiOSCcmk1cnmbNBdWic4R8k9sdaeL9CcZGe/tWMNCUtwzE9yG5/Oph4YLDJuZV4z+7I/UsDVFKZpSzIyk8cenes+W6Cg8j8aUeHJFA/wBLuDg/dLDB+uAKy9U8OXqDelykYPOSCSf50FJ3LDThueaheVcnJ59M1ktaXkSfJIjMSCSy5BH5/wCcVW8rUCSSYmzzkEj+dSkyufyNt8EZDDFU5uc89+tZcz6gowEBx0KnPHAzj61Wk1C5UgFAvfOev607MOc0j161Vk6/X1qhJqjLgsoBPfNQy6sqDJzz3pMrnLMyjLdBj9ax75vvcHFTSatGw4655JrMub9WXI+6e5rGSsaXMvUGPXHXrWNIzbiMDFaF9cDORyMVlO5/z3qSyzEpJ9KlkTCk1SjuNpA96teaGHX8zRuijPuR1P581nynj8a0blxk/rzWdOw/A9eaQcyKshPrxVSQgmrLsCP8arsQTik0C1KMzNk7eMVXYknrVyVQMk1TcAfjQJ6Mhky2c4NVZV64x9M1ZcjnBwe9V3QHLEmqsK6ZmXZRUbf271xviqFn065CKSjKdxxnArs7obieOlcv4gO+1nQ52MpVgvGQetRYxloeFzsfMPA61Bjn/wCvVu+iKzuCBgMcc9qqlcdepqLBqAOGq3BLnj09+tUT+P50schDcfzrNouLNhWB/GnZH0qvbMXz6ipj1xn61ztI6YyJgfWnVEPX+tKrHualrU2JAoJ5peB0P61GrH39afnpms2XazHUuD36+5oxxk/zpRnNMAxjuTTh+dJjntT+OBnB96gq44c+1P4HTrSA++abznrS3GOOSfbr1pOfel34NG49sk0irjGB3d6Y3XnJqZsnvg1GwPOaBbkeOev50N0oJ59BRnPancTIjjPP8qb+X40rdT6+tGAf51SEM7/4UvNNP3uPWnL796oTP//Z)"
      ],
      "metadata": {
        "id": "ufYssolNeyJO"
      }
    },
    {
      "cell_type": "markdown",
      "source": [],
      "metadata": {
        "id": "RkTsFbu8fOat"
      }
    },
    {
      "cell_type": "markdown",
      "source": [
        " 1.Write a Python function that takes a list of numbers as input and returns the sum of all even numbers in\n",
        "the list."
      ],
      "metadata": {
        "id": "ef-jeI3ZfXI0"
      }
    },
    {
      "cell_type": "code",
      "source": [
        "def sum_even_numbers(numbers):\n",
        "    return sum(x for x in numbers if x % 2 == 0)"
      ],
      "metadata": {
        "id": "BoSMkGN3ftyD"
      },
      "execution_count": 26,
      "outputs": []
    },
    {
      "cell_type": "code",
      "source": [
        "numbers = [4374, 11, 42, 133]\n",
        "result = sum_even_numbers(numbers)\n",
        "print(f\"The sum of even numbers in {numbers} is: {result}\")"
      ],
      "metadata": {
        "colab": {
          "base_uri": "https://localhost:8080/"
        },
        "id": "9QlPnyGNfwCh",
        "outputId": "70bcd6e8-45a5-4158-8f37-5584a91afff1"
      },
      "execution_count": 27,
      "outputs": [
        {
          "output_type": "stream",
          "name": "stdout",
          "text": [
            "The sum of even numbers in [4374, 11, 42, 133] is: 4416\n"
          ]
        }
      ]
    },
    {
      "cell_type": "markdown",
      "source": [
        "2.Create a Python function that accepts a string and returns the reverse of that string"
      ],
      "metadata": {
        "id": "bzX9mij9gO9x"
      }
    },
    {
      "cell_type": "code",
      "source": [
        "def reverse_string(input_str):\n",
        "  return input_str[::-1]"
      ],
      "metadata": {
        "id": "22EIplp8gPwv"
      },
      "execution_count": 30,
      "outputs": []
    },
    {
      "cell_type": "code",
      "source": [
        "original = \"Silki Sharma!\"\n",
        "reversed_str = reverse_string(original)\n",
        "print(f\"Original: {original}\")\n",
        "print(f\"Reversed: {reversed_str}\")"
      ],
      "metadata": {
        "colab": {
          "base_uri": "https://localhost:8080/"
        },
        "id": "Wt7pxC9xgmlU",
        "outputId": "7ade5b38-9906-40b4-f8b2-25b66eed2169"
      },
      "execution_count": 32,
      "outputs": [
        {
          "output_type": "stream",
          "name": "stdout",
          "text": [
            "Original: Silki Sharma!\n",
            "Reversed: !amrahS ikliS\n"
          ]
        }
      ]
    },
    {
      "cell_type": "markdown",
      "source": [
        " 3.Implement a Python function that takes a list of integers and returns a new list containing the squares of\n",
        "each number"
      ],
      "metadata": {
        "id": "d_iMhy04gzaa"
      }
    },
    {
      "cell_type": "code",
      "source": [
        "def square_numbers(numbers):\n",
        "  return [x ** 2 for x in numbers]\n",
        "numbers = [1, 12, 33, 4, 5]\n",
        "squared_numbers = square_numbers(numbers)\n",
        "print(squared_numbers)\n"
      ],
      "metadata": {
        "colab": {
          "base_uri": "https://localhost:8080/"
        },
        "id": "1uSRZPP-g7rM",
        "outputId": "077dc81f-c860-424f-d093-1b4a8414c520"
      },
      "execution_count": 37,
      "outputs": [
        {
          "output_type": "stream",
          "name": "stdout",
          "text": [
            "[1, 144, 1089, 16, 25]\n"
          ]
        }
      ]
    },
    {
      "cell_type": "markdown",
      "source": [
        " Write a Python function that checks if a given number is prime or not from 1 to 20"
      ],
      "metadata": {
        "id": "lB9iioS_hU1J"
      }
    },
    {
      "cell_type": "code",
      "source": [
        "is_prime = lambda n: n > 1 and all(n % i != 0 for i in range(2, int(n ** 0.5) + 1))\n",
        "numbers = list(range(1, 21))\n",
        "\n",
        "prime_numbers = list(filter(is_prime, numbers))\n",
        "\n",
        "print(\"Prime numbers from 1 to 20:\", prime_numbers)"
      ],
      "metadata": {
        "colab": {
          "base_uri": "https://localhost:8080/"
        },
        "id": "zod8PW5IhcXM",
        "outputId": "92c45973-2f7e-4c6c-8f97-164380244aef"
      },
      "execution_count": 48,
      "outputs": [
        {
          "output_type": "stream",
          "name": "stdout",
          "text": [
            "Prime numbers from 1 to 20: [2, 3, 5, 7, 11, 13, 17, 19]\n"
          ]
        }
      ]
    },
    {
      "cell_type": "markdown",
      "source": [
        " 5.Create an iterator class in Python that generates the Fibonacci sequence up to a specified number of\n",
        "terms"
      ],
      "metadata": {
        "id": "10RH-GiokBra"
      }
    },
    {
      "cell_type": "code",
      "source": [
        "class FibonacciIterator:\n",
        "    def __init__(self, terms):\n",
        "\n",
        "        self.terms = terms\n",
        "        self.count = 0\n",
        "        self.a, self.b = 0, 1\n",
        "\n",
        "    def __iter__(self):\n",
        "        return self\n",
        "\n",
        "    def __next__(self):\n",
        "        if self.count >= self.terms:\n",
        "            raise StopIteration\n",
        "        if self.count == 0:\n",
        "            self.count += 1\n",
        "            return self.a\n",
        "        elif self.count == 1:\n",
        "            self.count += 1\n",
        "            return self.b\n",
        "        else:\n",
        "            self.count += 1\n",
        "            self.a, self.b = self.b, self.a + self.b\n",
        "            return self.b"
      ],
      "metadata": {
        "id": "u8YxURXYkD8P"
      },
      "execution_count": 50,
      "outputs": []
    },
    {
      "cell_type": "code",
      "source": [
        "fib_iterator = FibonacciIterator(10)\n",
        "print(\"Using for loop:\")\n",
        "for num in fib_iterator:\n",
        "    print(num)\n",
        "\n",
        "print(\"\\nUsing next() function:\")\n",
        "fib_iterator = FibonacciIterator(10)\n",
        "try:\n",
        "    while True:\n",
        "        print(next(fib_iterator))\n",
        "except StopIteration:\n",
        "    pass"
      ],
      "metadata": {
        "colab": {
          "base_uri": "https://localhost:8080/"
        },
        "id": "a0jkzVA9kUzC",
        "outputId": "9fa6c4f0-4b55-4513-b4ca-2bb55994be40"
      },
      "execution_count": 53,
      "outputs": [
        {
          "output_type": "stream",
          "name": "stdout",
          "text": [
            "Using for loop:\n",
            "0\n",
            "1\n",
            "1\n",
            "2\n",
            "3\n",
            "5\n",
            "8\n",
            "13\n",
            "21\n",
            "34\n",
            "\n",
            "Using next() function:\n",
            "0\n",
            "1\n",
            "1\n",
            "2\n",
            "3\n",
            "5\n",
            "8\n",
            "13\n",
            "21\n",
            "34\n"
          ]
        }
      ]
    },
    {
      "cell_type": "markdown",
      "source": [
        " Write a generator function in Python that yields the powers of 2 up to a given exponent."
      ],
      "metadata": {
        "id": "ijqqeX0ekyoy"
      }
    },
    {
      "cell_type": "code",
      "source": [
        "def powers_of_two(exponent):\n",
        "\n",
        "    for n in range(exponent + 1):\n",
        "        yield 2 ** n"
      ],
      "metadata": {
        "id": "2JGBsSkqkzeh"
      },
      "execution_count": 63,
      "outputs": []
    },
    {
      "cell_type": "code",
      "source": [
        "# Generate powers of 2 up to 2^4\n",
        "for power in powers_of_two(4):\n",
        "    print(power)"
      ],
      "metadata": {
        "colab": {
          "base_uri": "https://localhost:8080/"
        },
        "id": "jS1vPuPWmARO",
        "outputId": "00a853c7-a26a-4b6a-a482-dcd9e4a2186a"
      },
      "execution_count": 65,
      "outputs": [
        {
          "output_type": "stream",
          "name": "stdout",
          "text": [
            "1\n",
            "2\n",
            "4\n",
            "8\n",
            "16\n"
          ]
        }
      ]
    },
    {
      "cell_type": "markdown",
      "source": [
        " Create a Python program that uses `filter()` to remove all the vowels from a given string"
      ],
      "metadata": {
        "id": "kgA8-QUVmOj1"
      }
    },
    {
      "cell_type": "code",
      "source": [
        "def remove_vowels(input_string):\n",
        "    return ''.join(filter(lambda char: char.lower() not in 'aeiou', input_string))\n",
        "input_str = \"Silki Sharma!\"\n",
        "output_str = remove_vowels(input_str)\n",
        "print(\"Original String:\", input_str)\n",
        "print(\"String without vowels:\", output_str)"
      ],
      "metadata": {
        "colab": {
          "base_uri": "https://localhost:8080/"
        },
        "id": "qI0cfC9bmUdn",
        "outputId": "2fdc3b1d-71fb-41c9-9903-9627e2048ddf"
      },
      "execution_count": 66,
      "outputs": [
        {
          "output_type": "stream",
          "name": "stdout",
          "text": [
            "Original String: Silki Sharma!\n",
            "String without vowels: Slk Shrm!\n"
          ]
        }
      ]
    },
    {
      "cell_type": "markdown",
      "source": [],
      "metadata": {
        "id": "ptTiS9CsmcLB"
      }
    },
    {
      "cell_type": "markdown",
      "source": [
        " Write a Python program that uses `map()` to convert a list of temperatures from Celsius to Fahrenheit"
      ],
      "metadata": {
        "id": "1pDoif5NmhWm"
      }
    },
    {
      "cell_type": "code",
      "source": [
        "def celsius_to_fahrenheit(celsius):\n",
        "    return (celsius * 9/5) + 32\n",
        "\n",
        "# List of temperatures in Celsius\n",
        "celsius_temperatures = [0, 25.5, 40, 100]\n",
        "\n",
        "# Convert to Fahrenheit using map() and list()\n",
        "fahrenheit_temperatures = list(map(celsius_to_fahrenheit, celsius_temperatures))\n",
        "\n",
        "print(\"Celsius:\", celsius_temperatures)\n",
        "print(\"Fahrenheit:\", fahrenheit_temperatures)"
      ],
      "metadata": {
        "colab": {
          "base_uri": "https://localhost:8080/"
        },
        "id": "INUX1-cHmmXA",
        "outputId": "7b70e1b0-b260-4669-a3a9-e9f307da6e41"
      },
      "execution_count": 68,
      "outputs": [
        {
          "output_type": "stream",
          "name": "stdout",
          "text": [
            "Celsius: [0, 25.5, 40, 100]\n",
            "Fahrenheit: [32.0, 77.9, 104.0, 212.0]\n"
          ]
        }
      ]
    }
  ]
}